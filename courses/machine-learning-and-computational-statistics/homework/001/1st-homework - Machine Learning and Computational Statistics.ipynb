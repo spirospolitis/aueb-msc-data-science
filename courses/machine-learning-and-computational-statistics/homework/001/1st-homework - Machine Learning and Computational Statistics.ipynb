{
 "cells": [
  {
   "cell_type": "markdown",
   "metadata": {},
   "source": [
    "# AUEB M.Sc. in Data Science (part-time)\n",
    "\n",
    "**Course**: Machine Learning and Computational Statistics\n",
    "\n",
    "**Semester**: Winter 2018\n",
    "\n",
    "**1st homework**\n",
    "\n",
    "**Author**: Spiros Politis"
   ]
  },
  {
   "cell_type": "markdown",
   "metadata": {},
   "source": [
    "***"
   ]
  },
  {
   "cell_type": "markdown",
   "metadata": {},
   "source": [
    "## Exercise 1 (optional):"
   ]
  },
  {
   "cell_type": "markdown",
   "metadata": {},
   "source": [
    "Name a classifier whose associate f(.) is of (a) **parametric** and (b) **non parametric** nature."
   ]
  },
  {
   "cell_type": "markdown",
   "metadata": {},
   "source": [
    "### Answer"
   ]
  },
  {
   "cell_type": "markdown",
   "metadata": {},
   "source": [
    "(a) Of parametric nature would be the classifier which would be modelled so as to estimate the parameters $(\\mu_{i}, \\sigma_{i}^{2}), \\mu_{i} \\gt 0, \\sigma_{i}^{2} \\gt 0, i = 1, 2, ... , N$ of the underlying distributions of the clustered entities and use these parameters to estimate the class in which a new example $x$ belongs to. \n",
    "\n",
    "An example of such a classifier would be a <i>Logistic Regression</i> classifier."
   ]
  },
  {
   "cell_type": "markdown",
   "metadata": {},
   "source": [
    "(b) Of non-parametric nature would be the classifier of an unsupervised clustering model, in which the classifier would perform classification by estimating the class of a new example $x$ based on the estimation of its Euclidean distance from every other example $(x_{i}, y_{i})$ in the data set.\n",
    "\n",
    "Such a classifier, as an example, would be <i>K-means</i>."
   ]
  },
  {
   "cell_type": "markdown",
   "metadata": {},
   "source": [
    "***"
   ]
  },
  {
   "cell_type": "markdown",
   "metadata": {},
   "source": [
    "## Exercise 2"
   ]
  },
  {
   "cell_type": "markdown",
   "metadata": {},
   "source": [
    " "
   ]
  },
  {
   "cell_type": "markdown",
   "metadata": {},
   "source": [
    "A parametric model is defined as the set of equations $F = \\left\\{f_{\\theta}\\left(\\cdot\\right): \\theta \\in A \\subseteq R^{K} \\right\\}$, with $f_{\\theta}: \\boldsymbol{x} \\in R^{l} \\rightarrow y \\in R$, where $\\theta$ is a parameter vector and $K$ its dimensionality."
   ]
  },
  {
   "cell_type": "markdown",
   "metadata": {},
   "source": [
    " "
   ]
  },
  {
   "cell_type": "markdown",
   "metadata": {},
   "source": [
    "(a) Define the parametric set of the **quadratic** functions $f_{\\theta}:R \\rightarrow R$ and give two instances of it. What is the dimensionality of $\\boldsymbol{\\theta}$?"
   ]
  },
  {
   "cell_type": "markdown",
   "metadata": {},
   "source": [
    "$y = f_{\\theta}(\\boldsymbol{x}) = \\theta_{0} + \\theta_{1}x^{2} + \\theta_{2}x$\n",
    "\n",
    "Instance 1: $\\boldsymbol{\\theta} = [0, 1, 2]^{T}$, $f_{\\theta}(\\boldsymbol{x}) = x^{2} + 2x$\n",
    "<br/>\n",
    "Instance 2: $\\boldsymbol{\\theta} = [4, 7, 3]^{T}$, $f_{\\theta}(\\boldsymbol{x}) = 4 + 7x^{2} + 3x$\n",
    "\n",
    "The dimensionality of $\\boldsymbol{\\theta}$ is $Κ = 3$."
   ]
  },
  {
   "cell_type": "markdown",
   "metadata": {},
   "source": [
    " "
   ]
  },
  {
   "cell_type": "markdown",
   "metadata": {},
   "source": [
    "(b) Define the parametric set of the **$3^{rd}$ degree polynomials** $f_{\\theta}:R^{2} \\rightarrow R$ and give two instances of it. What is the dimensionality of $\\boldsymbol{\\theta}$?"
   ]
  },
  {
   "cell_type": "markdown",
   "metadata": {},
   "source": [
    "$y = f_{\\theta}(\\boldsymbol{x_{1}}, \\boldsymbol{x_{2}}) = \\theta_{0} + \\theta_{1}x_{1}^{3} + \\theta_{2}x_{2}^{3} + \\theta_{3}x_{1}^{2}x_{2} + \\theta_{4}x_{1}x_{2}^{2} + \\theta_{5}x_{1}^{2} + \\theta_{6}x_{2}^{2} + \\theta_{7}x_{1}x_{2} + \\theta_{8}x_{1} + \\theta_{9}x_{2}$\n",
    "\n",
    "Instance 1: $\\boldsymbol{\\theta} = [0, 1, 2, 5, 6, 1, 1, 3, 4, 8]^{T}$, $f_{\\theta}(\\boldsymbol{x_{1}}, \\boldsymbol{x_{2}}) = x_{1}^{3} + 2x_{2}^{3} + 5x_{1}^{2}x_{2} + 6x_{1}x_{2}^{2} + x_{1}^{2} + x_{2}^{2} + 3x_{1}x_{2} + 4x_{1} + 8x_{2}$\n",
    "<br/>\n",
    "Instance 2: $\\boldsymbol{\\theta} = [3, 2, 1, 1, 7, 4, 2, 1, 9, 3]^{T}$, $f_{\\theta}(\\boldsymbol{x_{1}}, \\boldsymbol{x_{2}}) = 3 + 2x_{1}^{3} + x_{2}^{3} + x_{1}^{2}x_{2} + 7x_{1}x_{2}^{2} + 4x_{1}^{2} + 2x_{2}^{2} + x_{1}x_{2} + 9x_{1} + 3x_{2}$\n",
    "\n",
    "The dimensionality of $\\boldsymbol{\\theta}$ is $Κ = 10$."
   ]
  },
  {
   "cell_type": "markdown",
   "metadata": {},
   "source": [
    " "
   ]
  },
  {
   "cell_type": "markdown",
   "metadata": {},
   "source": [
    "(c) Define the parametric set of the **$3^{rd}$ degree polynomials** $f_{\\theta}:R^{3} \\rightarrow R$ and give two instances of it. What is the dimensionality of $\\theta$?"
   ]
  },
  {
   "cell_type": "markdown",
   "metadata": {},
   "source": [
    "$y = f_{\\theta}(\\boldsymbol{x_1}, \\boldsymbol{x_2}, \\boldsymbol{x_3}) = \\theta_{0} + \\theta_{1}x_{1}^{3} + \\theta_{2}x_{2}^{3} + \\theta_{3}x_{3}^{3} + \\theta_{4}x_{1}^{2}x_{2} + \\theta_{5}x_{1}x_{2}^{2} + \\theta_{6}x_{1}^{2}x_{3} + \\theta_{7}x_{1}x_{3}^{2} + \\theta_{8}x_{2}^{2}x_{3} + \\theta_{9}x_{2}x_{3}^{2} + \\theta_{10}x_{1}x_{2}x_{3} + \\theta_{11}x_{1}^{2} + \\theta_{12}x_{2}^{2} + \\theta_{13}x_{3}^{2} + \\theta_{14}x_{1}x_{2} + \\theta_{15}x_{1}x_{3} + \\theta_{16}x_{2}x_{3} + \\theta_{17}x_{1} + \\theta_{18}x_{2} + \\theta_{19}x_{3}$\n",
    "\n",
    "Instance 1: $\\boldsymbol{\\theta} = [0, 1, 2, 5, 6, 1, 1, 3, 4, 8, 2, 2, 1, 4, 5, 2, 6, 3, 9, 2]^{T}, f_{\\theta}(\\boldsymbol{x_1}, \\boldsymbol{x_2}, \\boldsymbol{x_3}) = \\theta_{1}x_{1}^{3} + 2\\theta_{2}x_{2}^{3} + 5\\theta_{3}x_{3}^{3} + 6\\theta_{4}x_{1}^{2}x_{2} + \\theta_{5}x_{1}x_{2}^{2} + \\theta_{6}x_{1}^{2}x_{3} + 3\\theta_{7}x_{1}x_{3}^{2} + 4\\theta_{8}x_{2}^{2}x_{3} + 8\\theta_{9}x_{2}x_{3}^{2} + 2\\theta_{10}x_{1}x_{2}x_{3} + 2\\theta_{11}x_{1}^{2} + \\theta_{12}x_{2}^{2} + 4\\theta_{13}x_{3}^{2} + 5\\theta_{14}x_{1}x_{2} + 2\\theta_{15}x_{1}x_{3} + 6\\theta_{16}x_{2}x_{3} + 3\\theta_{17}x_{1} + 9\\theta_{18}x_{2} + 2\\theta_{19}x_{3}$\n",
    "\n",
    "\n",
    "Instance 2: $\\boldsymbol{\\theta} = [3, 2, 1, 7, 3, 8, 8, 2, 1, 1, 6, 5, 8, 3, 1, 0, 2, 0, 3, 3]^{T}, f_{\\theta}(\\boldsymbol{x_1}, \\boldsymbol{x_2}, \\boldsymbol{x_3}) = 3 + 2x_{1}^{3} + x_{2}^{3} + 7x_{3}^{3} + 3x_{1}^{2}x_{2} + 8x_{1}x_{2}^{2} + 8x_{1}^{2}x_{3} + 2x_{1}x_{3}^{2} + x_{2}^{2}x_{3} + x_{2}x_{3}^{2} + 6x_{1}x_{2}x_{3} + 5x_{1}^{2} + 8x_{2}^{2} + 3x_{3}^{2} + x_{1}x_{2} + 2x_{2}x_{3} + 3x_{2} + 3x_{3}$\n",
    "\n",
    "The dimensionality of $\\boldsymbol{\\theta}$ is $Κ = 20$."
   ]
  },
  {
   "cell_type": "markdown",
   "metadata": {},
   "source": [
    " "
   ]
  },
  {
   "cell_type": "markdown",
   "metadata": {},
   "source": [
    "(d) Consider the function $f_{\\theta}(\\boldsymbol{x}):R^{5} \\rightarrow R, f_{\\theta}(\\boldsymbol{x}) = \\frac{1}{1+exp(\\theta^{T}x)}$. Define the associated parametric set and give two instances of it. What is the dimensionality of $\\boldsymbol{\\theta}$?"
   ]
  },
  {
   "cell_type": "markdown",
   "metadata": {},
   "source": [
    "Since $f_{\\theta}(\\boldsymbol{x})$ maps from $R^{5} \\rightarrow R$, the function is is defined by the feature vector $\\boldsymbol{x}^{T} = \\begin{bmatrix} 1 & x_{1} & x_{2} & x_{3} & x_{4} & x_{5} \\end{bmatrix}$ and the parameter vector $\\boldsymbol{\\theta}^{T} = \\begin{bmatrix} \\theta_{0} & \\theta_{1} & \\theta_{2} & \\theta_{3} & \\theta_{4} & \\theta_{5} \\end{bmatrix}$. \n",
    "\n",
    "Therefore, the parametric form of the function is:\n",
    "\n",
    "$f_{\\theta}(x):R^{5} \\rightarrow R, f_{\\theta}(x) = \\frac{1}{1 + exp\\left( \\begin{bmatrix} \\theta_{0} & \\theta_{1} & \\theta_{2} & \\theta_{3} & \\theta_{4} & \\theta_{5} \\end{bmatrix} \\cdot \\begin{bmatrix} 1 \\\\ x_{1} \\\\ x_{2} \\\\ x_{3} \\\\ x_{4} \\\\ x_{5} \\end{bmatrix} \\right)} = $\n",
    "$\\frac{1}{1 + exp(\\theta_{0} + \\theta{1} \\cdot x_{1} + \\theta{2} \\cdot x_{2} + \\theta{3} \\cdot x_{3} + \\theta{4} \\cdot x_{4} + \\theta{5} \\cdot x_{5})}$\n",
    "\n",
    "\n",
    "Instance 1: $\\boldsymbol{\\theta} = \\begin{bmatrix} 2 & 1 & 3 & 2 & 6 & 3 \\end{bmatrix}$, $f_{\\theta}(\\boldsymbol{x}) = \\frac{1}{1 = exp(2 + x_{1} + 3 \\cdot x_{2} + 2 \\cdot x_{3} + 6 \\cdot x_{4} + 3 \\cdot x_{5})}$\n",
    "\n",
    "\n",
    "Instance 2: $\\boldsymbol{\\theta} = \\begin{bmatrix} 8 & 4 & 0 & 1 & 5 & 2 \\end{bmatrix}$, $f_{\\theta}(\\boldsymbol{x}) = \\frac{1}{1 = exp(8 + 4 \\cdot x_{1} + x_{3} + 5 \\cdot x_{4} + 2 \\cdot x_{5})}$\n",
    "\n",
    "\n",
    "The dimensionality of $\\boldsymbol{\\theta}$ is $Κ = 6$."
   ]
  },
  {
   "cell_type": "markdown",
   "metadata": {},
   "source": [
    " "
   ]
  },
  {
   "cell_type": "markdown",
   "metadata": {},
   "source": [
    "(e) In which of the above cases is $f_{\\theta}$ linear with respect to $\\boldsymbol{\\theta}$?"
   ]
  },
  {
   "cell_type": "markdown",
   "metadata": {},
   "source": [
    "For (a), (b) and (c) $f_{\\theta}$ is linear with respect to $\\boldsymbol{\\theta}$ the reason being that, considering the feature variables $\\boldsymbol{x} \\in R^{l}$ as constants with respect to $\\boldsymbol{\\theta}$, we end up with a linear representation of the function i.e. of the form $\\theta_{0} + \\theta_{i}b_{i}, i = 1 \\dots N$. \n",
    "\n",
    "For (d) it is not because $\\boldsymbol{\\theta}$ is a parameter of the exponential function."
   ]
  },
  {
   "cell_type": "markdown",
   "metadata": {},
   "source": [
    "***"
   ]
  },
  {
   "cell_type": "markdown",
   "metadata": {},
   "source": [
    "## Exercise 3"
   ]
  },
  {
   "cell_type": "markdown",
   "metadata": {},
   "source": [
    "Verify that for two l-dimensional column vectors $\\boldsymbol{\\theta}=[\\theta_{1}, \\theta_{2}, \\dots ,\\theta_{l}]^{T}$ and $\\boldsymbol{x} = [x_{1}, x_{1}, \\dots ,x_{l}]^{T}$ it holds: $(\\boldsymbol{\\theta^{T}}\\boldsymbol{x})\\boldsymbol{x} = (\\boldsymbol{x}\\boldsymbol{x^{T}})\\boldsymbol{\\theta}$."
   ]
  },
  {
   "cell_type": "markdown",
   "metadata": {},
   "source": [
    "### Answer"
   ]
  },
  {
   "cell_type": "markdown",
   "metadata": {},
   "source": [
    "Let's first make clear the dimensions of the vectors:"
   ]
  },
  {
   "cell_type": "markdown",
   "metadata": {},
   "source": [
    "- $\\boldsymbol{\\theta}$: $[l \\times 1]$ dimensional **colunm** vector\n",
    "- $\\boldsymbol{\\theta}^{T}$: $[1 \\times l]$ dimensional **row** vector\n",
    "- $\\boldsymbol{x}$: $[l \\times 1]$ dimensional **column** vector\n",
    "- $\\boldsymbol{x}^{T}$: $[1 \\times l]$ dimensional **row** vector"
   ]
  },
  {
   "cell_type": "markdown",
   "metadata": {},
   "source": [
    "For $(\\boldsymbol{\\theta^{T}}\\boldsymbol{x})\\boldsymbol{x}$ we have:"
   ]
  },
  {
   "cell_type": "markdown",
   "metadata": {},
   "source": [
    "$(\\boldsymbol{\\theta^{T}}\\boldsymbol{x})\\boldsymbol{x} = $\n",
    "$\\left( \\begin{bmatrix} {\\theta}_{1} & {\\theta}_{2} & ... & {\\theta}_{l} \\end{bmatrix} \\cdot \\begin{bmatrix} {x}_{1} \\\\ {x}_{2} \\\\ \\vdots \\\\ {x}_{l} \\end{bmatrix} \\right) \\cdot \\begin{bmatrix} {x}_{1} \\\\ {x}_{2} \\\\ \\vdots \\\\ {x}_{l} \\end{bmatrix} = $\n",
    "$\\begin{bmatrix} \\theta_{1} \\cdot x_{1} + \\theta_{2} \\cdot x_{2} + \\dots + \\theta_{l} \\cdot x_{l} \\end{bmatrix} \\cdot \\begin{bmatrix} {x}_{1} \\\\ {x}_{2} \\\\ \\vdots \\\\ {x}_{l} \\end{bmatrix} = $\n",
    "$\\begin{bmatrix} {x}_{1} \\cdot (\\theta_{1} \\cdot x_{1} + \\theta_{2} \\cdot x_{2} + \\dots + \\theta_{l} \\cdot x_{l}) \\\\ {x}_{2} \\cdot (\\theta_{1} \\cdot x_{1} + \\theta_{2} \\cdot x_{2} + \\dots + \\theta_{l} \\cdot x_{l}) \\\\ \\vdots \\\\ {x}_{l} \\cdot (\\theta_{1} \\cdot x_{1} + \\theta_{2} \\cdot x_{2} + \\dots + \\theta_{l} \\cdot x_{l}) \\end{bmatrix} = $\n",
    "\n",
    "\n",
    "$\\begin{bmatrix} \\theta_{1} \\cdot x_{1}^{2} + \\theta_{2} \\cdot x_{1} \\cdot x_{2} + \\dots + \\theta_{l} \\cdot x_{1} \\cdot x_{l} \\\\ \\theta_{1} \\cdot x_{2} \\cdot x_{1} + \\theta_{2} \\cdot x_{2}^{2} + \\dots + \\theta_{l} \\cdot x_{2} \\cdot x_{l} \\\\ \\vdots \\\\ \\theta_{1} \\cdot x_{l} \\cdot x_{1} + \\theta_{2} \\cdot x_{l} \\cdot x_{2} + \\dots + \\theta_{l} \\cdot x_{l}^{2} \\end{bmatrix}$ <mark>$\\text{(3.1)}$</mark>"
   ]
  },
  {
   "cell_type": "markdown",
   "metadata": {},
   "source": [
    "For $(\\boldsymbol{x}\\boldsymbol{x^{T}})\\boldsymbol{\\theta}$ we have:"
   ]
  },
  {
   "cell_type": "markdown",
   "metadata": {},
   "source": [
    "$(\\boldsymbol{x}\\boldsymbol{x^{T}})\\boldsymbol{\\theta} = $\n",
    "$\\left( \\begin{bmatrix} {x}_{1} \\\\ {x}_{2} \\\\ \\vdots \\\\ {x}_{l} \\end{bmatrix} \\cdot \\begin{bmatrix} {x}_{1} & {x}_{2} & \\dots & {x}_{l} \\end{bmatrix} \\right) \\cdot \\begin{bmatrix} {\\theta}_{1} & {\\theta}_{2} & \\dots & {\\theta}_{l} \\end{bmatrix} = $\n",
    "$\\begin{bmatrix} x_{1}^{2} & x_{1} \\cdot x_{2} & \\dots & x_{1} \\cdot x_{l} \\\\ x_{2} \\cdot x_{1} & x_{2}^{2} & \\dots & x_{2} \\cdot x_{l} \\\\ \\vdots & \\vdots & \\ddots & \\vdots \\\\ x_{l} \\cdot x_{1} & x_{l} \\cdot x_{2} & \\dots & x_{l}^{2} \\end{bmatrix} \\cdot \\begin{bmatrix} {\\theta}_{1} & {\\theta}_{2} & \\dots & {\\theta}_{l} \\end{bmatrix} = $\n",
    "\n",
    "\n",
    "$\\begin{bmatrix} \\theta_{1} \\cdot x_{1}^{2} + \\theta_{2} \\cdot x_{1} \\cdot x_{2} + \\dots + \\theta_{l} \\cdot x_{1} \\cdot x_{l} \\\\ \\theta_{1} \\cdot x_{2} \\cdot x_{1} + \\theta_{2} \\cdot x_{2}^{2} + \\dots + \\theta_{l} \\cdot x_{2} \\cdot x_{l} \\\\ \\vdots \\\\ \\theta_{1} \\cdot x_{l} \\cdot x_{1} + \\theta_{2} \\cdot x_{l} \\cdot x_{2} + \\dots + \\theta_{l} \\cdot x_{l}^{2} \\end{bmatrix}$ <mark>$\\text{(3.2)}$</mark>"
   ]
  },
  {
   "cell_type": "markdown",
   "metadata": {},
   "source": [
    "Therefore, from <mark>$\\text{(3.1)}$</mark> and <mark>$\\text{(3.2)}$</mark> it holds that $(\\boldsymbol{\\theta^{T}}\\boldsymbol{x})\\boldsymbol{x} = (\\boldsymbol{x}\\boldsymbol{x^{T}})\\boldsymbol{\\theta}$."
   ]
  },
  {
   "cell_type": "markdown",
   "metadata": {},
   "source": [
    "***"
   ]
  },
  {
   "cell_type": "markdown",
   "metadata": {},
   "source": [
    "## Exercise 4"
   ]
  },
  {
   "cell_type": "markdown",
   "metadata": {},
   "source": [
    "Consider the vectors $\\boldsymbol{x}_{n} = [x_{n1}, x_{n2}, \\dots , x_{nl}], n = 1, \\dots , N$. Define the $N \\times l$ matrix $X$ and N-dimensional column vector $\\boldsymbol{y}$ as follows:\n",
    "\n",
    "$$X = \\begin{bmatrix} \\boldsymbol{x}_{1}^{T} \\\\ \\boldsymbol{x}_{2}^{T} \\\\ \\vdots \\\\ \\boldsymbol{x}_{N}^{T} \\end{bmatrix} = \\begin{bmatrix} X_{11} & X_{12} & \\dots & X_{1l} \\\\ X_{21} & X_{22} & \\dots & X_{2l} \\\\ \\vdots & \\vdots & \\ddots & \\vdots \\\\ X_{N1} & X_{N2} & \\dots & X_{Nl} \\end{bmatrix}$$ and $$\\boldsymbol{y} = \\begin{bmatrix} y_{1} \\\\ y_{2} \\\\ \\vdots \\\\ y_{N} \\end{bmatrix}$$"
   ]
  },
  {
   "cell_type": "markdown",
   "metadata": {},
   "source": [
    "(Note that the rows of $X$ are the vectors $\\boldsymbol{x}_n, n = 1, \\dots, N$)."
   ]
  },
  {
   "cell_type": "markdown",
   "metadata": {},
   "source": [
    "Verify the following entities:"
   ]
  },
  {
   "cell_type": "markdown",
   "metadata": {},
   "source": [
    "$X^{T}X = \\sum_{n=1}^N \\boldsymbol{x_{n}} \\boldsymbol{x_{n}}^{T}$ and $X^{T} \\boldsymbol{y} = \\sum_{n=1}^N y_{n} \\boldsymbol{x_{n}}$."
   ]
  },
  {
   "cell_type": "markdown",
   "metadata": {},
   "source": [
    "#### Answer"
   ]
  },
  {
   "cell_type": "markdown",
   "metadata": {},
   "source": [
    "For $X^{T}X = \\sum_{n=1}^N \\boldsymbol{x_{n}} \\boldsymbol{x_{n}}^{T}$ <mark>$\\text{(4.1.1)}$</mark>:"
   ]
  },
  {
   "cell_type": "markdown",
   "metadata": {},
   "source": [
    "The transpose of $X$ is:"
   ]
  },
  {
   "cell_type": "markdown",
   "metadata": {},
   "source": [
    "$X^{T} = \\begin{bmatrix} X_{11} & X_{21} & \\dots & X_{N1} \\\\ X_{12} & X_{22} & \\dots & X_{N2} \\\\ \\vdots & \\vdots & \\ddots & \\vdots \\\\ X_{1l} & X_{2l} & \\dots & X_{Nl} \\end{bmatrix}$"
   ]
  },
  {
   "cell_type": "markdown",
   "metadata": {},
   "source": [
    " Then:"
   ]
  },
  {
   "cell_type": "markdown",
   "metadata": {},
   "source": [
    "$X^{T}X = $\n",
    "$\\begin{bmatrix} X_{11} & X_{21} & \\dots & X_{N1} \\\\ X_{12} & X_{22} & \\dots & X_{N2} \\\\ \\vdots & \\vdots & \\ddots & \\vdots \\\\ X_{1l} & X_{2l} & ... & X_{Nl} \\end{bmatrix} \\cdot \\begin{bmatrix} X_{11} & X_{12} & ... & X_{1l} \\\\ X_{21} & X_{22} & ... & X_{2l} \\\\ ... & ... & ... & ... \\\\ X_{N1} & X_{N2} & ... & X_{Nl} \\end{bmatrix} = $\n",
    "\n",
    "\n",
    "$\\begin{bmatrix} X_{11}^{2} + X_{21}^{2} + \\dots + X_{N1}^{2} & X_{11}X_{12} + X_{21}X_{22} + \\dots + X_{N1}X_{N2} & \\dots & X_{11}X_{1l} + X_{21}X_{2l} + \\dots + X_{N1}X_{N2} \\\\ X_{11}X_{12} + X_{21}X_{22} + \\dots + X_{N1}X_{N2} & X_{12}^{2} + X_{22}^{2} + \\dots + X_{N2}^{2} & \\dots & X_{12}X_{1l} + X_{22}X_{2l} + \\dots + X_{N2}X_{Nl} \\\\ \\vdots & \\vdots & \\ddots & \\vdots \\\\ X_{1l}X_{11} + X_{21}X_{2l} + \\dots + X_{N1}X_{N2} & X_{1l}X_{12} + X_{2l}X_{22} + \\dots + X_{N2} & \\dots & X_{1l}^{2} + X_{2l}^{2} + \\dots + X_{Nl}^{2} \\end{bmatrix}$ <mark>$\\text{(4.1.2)}$</mark>:"
   ]
  },
  {
   "cell_type": "markdown",
   "metadata": {},
   "source": [
    "Also:"
   ]
  },
  {
   "cell_type": "markdown",
   "metadata": {},
   "source": [
    "$x_{n}x_{n}^{T} = $\n",
    "$\\begin{bmatrix} x_{n1} \\\\ x_{n2} \\\\ \\vdots \\\\ x_{nl} \\end{bmatrix} \\cdot \\begin{bmatrix} x_{n1} & x_{n2} & \\dots & x_{nl} \\end{bmatrix} =$\n",
    "$\\begin{bmatrix} x_{n1}^{2} & x_{n1}x_{n2} & \\dots & x_{n1}x_{nl} \\\\ x_{n2}x_{n1} & x_{n2}^{2} & \\dots & x_{n2}x_{nl} \\\\ \\vdots & \\vdots & \\ddots & \\vdots \\\\ x_{nl}x_{n1} & x_{nl}x_{n2} & \\dots & x_{nl}^{2} \\end{bmatrix}$ <mark>$\\text{(4.1.3)}$</mark>:"
   ]
  },
  {
   "cell_type": "markdown",
   "metadata": {},
   "source": [
    "Then, from <mark>$\\text{(4.1.1)}$</mark> and <mark>$\\text{(4.1.3)}$</mark> we have:"
   ]
  },
  {
   "cell_type": "markdown",
   "metadata": {},
   "source": [
    "$\\sum_{n=1}^N \\begin{bmatrix} x_{n1}^{2} & x_{n1}x_{n2} & ... & x_{n1}x_{nl} \\\\ x_{n2}x_{n1} & x_{n2}^{2} & \\dots & x_{n2}x_{nl} \\\\ \\vdots & \\vdots & \\ddots & \\vdots \\\\ x_{nl}x_{n1} & x_{nl}x_{n2} & \\dots & x_{nl}^{2} \\end{bmatrix} =$\n",
    "\n",
    "$\\begin{bmatrix} x_{11}^{2} & x_{11}x_{12} & \\dots & x_{11}x_{1l} \\\\ x_{12}x_{11} & x_{12}^{2} & \\dots & x_{12}x_{1l} \\\\ \\vdots & \\vdots & \\ddots & \\vdots \\\\ x_{1l}x_{11} & x_{1l}x_{12} & \\dots & x_{1l}^{2} \\end{bmatrix} + \\begin{bmatrix} x_{21}^{2} & x_{21}x_{22} & \\dots & x_{21}x_{2l} \\\\ x_{22}x_{21} & x_{22}^{2} & \\dots & x_{22}x_{2l} \\\\ \\vdots & \\vdots & \\ddots & \\vdots \\\\ x_{2l}x_{21} & x_{2l}x_{22} & \\dots & x_{2l}^{2} \\end{bmatrix} \\dots \\begin{bmatrix} x_{N1}^{2} & x_{N1}x_{N2} & \\dots & x_{N1}x_{Nl} \\\\ x_{N2}x_{N1} & x_{N2}^{2} & \\dots & x_{N2}x_{Nl} \\\\ \\vdots & \\vdots & \\ddots & \\vdots \\\\ x_{Nl}x_{N1} & x_{Nl}x_{N2} & ... & x_{Nl}^{2} \\end{bmatrix} =$\n",
    "\n",
    "$\\begin{bmatrix} X_{11}^{2} + X_{21}^{2} + \\dots + X_{N1}^{2} & X_{11}X_{12} + X_{21}X_{22} + \\dots + X_{N1}X_{N2} & \\dots & X_{11}X_{1l} + X_{21}X_{2l} + \\dots + X_{N1}X_{N2} \\\\ X_{11}X_{12} + X_{21}X_{22} + \\dots + X_{N1}X_{N2} & X_{12}^{2} + X_{22}^{2} + \\dots + X_{N2}^{2} & \\dots & X_{12}X_{1l} + X_{22}X_{2l} + \\dots + X_{N2}X_{Nl} \\\\ \\vdots & \\vdots & \\ddots & \\vdots \\\\ X_{1l}X_{11} + X_{21}X_{2l} + \\dots + X_{N1}X_{N2} & X_{1l}X_{12} + X_{2l}X_{22} + \\dots + X_{N2} & \\dots & X_{1l}^{2} + X_{2l}^{2} + \\dots + X_{Nl}^{2} \\end{bmatrix}$ <mark>$\\text{(4.1.4)}$</mark>:"
   ]
  },
  {
   "cell_type": "markdown",
   "metadata": {},
   "source": [
    "Observe that <mark>$\\text{(4.1.2)}$</mark> and <mark>$\\text{(4.1.4)}$</mark> are equal, therefore <mark>$\\text{(4.1.1)}$</mark> holds."
   ]
  },
  {
   "cell_type": "markdown",
   "metadata": {},
   "source": [
    " "
   ]
  },
  {
   "cell_type": "markdown",
   "metadata": {},
   "source": [
    "For $X^{T} \\boldsymbol{y} = \\sum_{n=1}^N y_{n} \\boldsymbol{x_{n}}$ <mark>$\\text{(4.2.1)}$</mark>:"
   ]
  },
  {
   "cell_type": "markdown",
   "metadata": {},
   "source": [
    "We have computed the transpose of $X$ in a previous step. We now have:"
   ]
  },
  {
   "cell_type": "markdown",
   "metadata": {},
   "source": [
    "$X^{T}y = $\n",
    "$\\begin{bmatrix} X_{11} & X_{21} & \\dots & X_{N1} \\\\ X_{12} & X_{22} & \\dots & X_{N2} \\\\ \\vdots & \\vdots & \\ddots & \\vdots \\\\ X_{1l} & X_{2l} & \\dots & X_{Nl} \\end{bmatrix} \\cdot \\begin{bmatrix} y_{1} \\\\ y_{2} \\\\ \\vdots \\\\ y_{N} \\end{bmatrix} =$\n",
    "$\\begin{bmatrix} X_{11}y_{1} + X_{21}y_{2} + \\dots + X_{N1}y_{N} \\\\ X_{12}y_{1} + X_{22}y_{2} + \\dots + X_{N2}y_{N} \\\\ \\vdots \\\\ X_{1l}y_{1} + X_{2l}y_{2} + \\dots + X_{Nl}y_{N} \\end{bmatrix}$  <mark>$\\text{(4.2.2)}$</mark>"
   ]
  },
  {
   "cell_type": "markdown",
   "metadata": {},
   "source": [
    "Then:"
   ]
  },
  {
   "cell_type": "markdown",
   "metadata": {},
   "source": [
    "$\\sum_{n=1}^N y_{n} \\boldsymbol{x_{n}} =$\n",
    "$y_{1} \\cdot \\begin{bmatrix} x_{11} \\\\ x_{12} \\\\ \\vdots \\\\ x_{1l} \\end{bmatrix} + y_{2} \\cdot \\begin{bmatrix} x_{21} \\\\ x_{22} \\\\ \\vdots \\\\ x_{2l} \\end{bmatrix} + \\dots + y_{N} \\cdot \\begin{bmatrix} x_{N1} \\\\ x_{N2} \\\\ \\vdots \\\\ x_{Nl} \\end{bmatrix} = $\n",
    "$\\begin{bmatrix} x_{11}y{1} \\\\ x_{12}y{1} \\\\ \\vdots \\\\ x_{1l}y{N} \\end{bmatrix} + \\begin{bmatrix} x_{21}y{1} \\\\ x_{22}y{1} \\\\ \\vdots \\\\ x_{2l}y{N} \\end{bmatrix} + \\begin{bmatrix} x_{N1}y{N} \\\\ x_{N2}y{N} \\\\ \\vdots \\\\ x_{Nl}y{N} \\end{bmatrix} =$\n",
    "$\\begin{bmatrix} X_{11}y_{1} + X_{21}y_{2} + \\dots + X_{N1}y_{N} \\\\ X_{12}y_{1} + X_{22}y_{2} + \\dots + X_{N2}y_{N} \\\\ \\vdots \\\\ X_{1l}y_{1} + X_{2l}y_{2} + \\dots + X_{Nl}y_{N} \\end{bmatrix}$ <mark>$\\text{(4.2.3)}$</mark>"
   ]
  },
  {
   "cell_type": "markdown",
   "metadata": {},
   "source": [
    "Observe that <mark>$\\text{(4.2.2)}$</mark> =  <mark>$\\text{(4.2.3)}$</mark>, therefore <mark>$\\text{(4.2.1)}$</mark> is true."
   ]
  }
 ],
 "metadata": {
  "kernelspec": {
   "display_name": "Python 3",
   "language": "python",
   "name": "python3"
  },
  "language_info": {
   "codemirror_mode": {
    "name": "ipython",
    "version": 3
   },
   "file_extension": ".py",
   "mimetype": "text/x-python",
   "name": "python",
   "nbconvert_exporter": "python",
   "pygments_lexer": "ipython3",
   "version": "3.6.0"
  },
  "toc": {
   "base_numbering": 1,
   "nav_menu": {},
   "number_sections": true,
   "sideBar": true,
   "skip_h1_title": true,
   "title_cell": "Table of Contents",
   "title_sidebar": "Contents",
   "toc_cell": false,
   "toc_position": {},
   "toc_section_display": true,
   "toc_window_display": true
  }
 },
 "nbformat": 4,
 "nbformat_minor": 2
}
