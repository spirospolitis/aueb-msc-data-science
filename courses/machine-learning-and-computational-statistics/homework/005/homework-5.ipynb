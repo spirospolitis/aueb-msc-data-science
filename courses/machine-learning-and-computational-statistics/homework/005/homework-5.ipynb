{
 "cells": [
  {
   "cell_type": "markdown",
   "metadata": {},
   "source": [
    "# AUEB M.Sc. in Data Science (part-time)\n",
    "\n",
    "**Course**: Machine Learning and Computational Statistics\n",
    "\n",
    "**Semester**: Winter 2018\n",
    "\n",
    "**5th homework**\n",
    "\n",
    "**Author**: Spiros Politis"
   ]
  },
  {
   "cell_type": "markdown",
   "metadata": {},
   "source": [
    "---"
   ]
  },
  {
   "cell_type": "markdown",
   "metadata": {},
   "source": [
    "## Exercise 1"
   ]
  },
  {
   "cell_type": "markdown",
   "metadata": {},
   "source": [
    "### Answer (a)"
   ]
  },
  {
   "cell_type": "markdown",
   "metadata": {},
   "source": [
    "The PDF of the Erlang distribution given is:\n",
    "\n",
    "$$f(x;\\theta) =\n",
    "  \\begin{cases}\n",
    "    \\theta^{2}xe^{- \\theta x}       & x \\geq 0 \\\\\n",
    "    0                               & x \\lt 0\n",
    "  \\end{cases}$$"
   ]
  },
  {
   "cell_type": "markdown",
   "metadata": {},
   "source": [
    "The likelihood function $\\mathcal{L}(x; \\theta)$ of the distribution, assuming that $x_{i}$'s are i.i.d., is: \n",
    "\n",
    "$$\\mathcal{L}(x;\\theta) =\n",
    "\\prod_{i=1}^{N} \\theta^{2} x_{i} e^{-\\theta x_{i}} =\n",
    "\\theta^{2}x_{1}e^{- \\theta x_{1}} \\cdot \\theta^{2}x_{2}e^{- \\theta x_{2}} \\cdot \\dots \\cdot \\theta^{2}x_{n}e^{- \\theta x_{i}} =\n",
    "{(\\theta^{2})}^{N} x_{i} e^{-\\theta \\sum_{n=1}^{N} x_{i}} =\n",
    "\\theta^{2N} x_{i} e^{-\\theta \\sum_{n=1}^{N} x_{i}}$$"
   ]
  },
  {
   "cell_type": "markdown",
   "metadata": {},
   "source": [
    "The log-likelihood function of $\\mathcal{L}(\\theta; x)$ then is:\n",
    "\n",
    "$$ln(\\mathcal{L}(x;\\theta)) =\n",
    "\\sum_{i=1}^{N} ln(\\theta^{2N} x_{i} e^{-\\theta \\sum_{i=1}^{N} x_{i}}) =\n",
    "\\sum_{i=1}^{N} \\left[ ln(\\theta^{2N}) + ln(x_{i}) + ln(e^{-\\theta \\sum_{i=1}^{N} x_{i}}) \\right] =\n",
    "\\sum_{i=1}^{N} \\left[ 2N \\cdot ln(\\theta) + ln(x_{i}) - \\theta \\cdot \\sum_{i=1}^{N} x_{i} \\cdot ln(e) \\right] =$$\n",
    "$$\\sum_{i=1}^{N} 2N \\cdot ln(\\theta) + \\sum_{i=1}^{N} ln(x_{i}) - \\sum_{i=1}^{N} \\left[ \\theta \\cdot \\sum_{i=1}^{N} x_{i} \\right] =\n",
    "2N^{2}ln(\\theta) + \\sum_{i=1}^{N} ln(x_{i}) - N\\theta\\sum_{i=1}^{N} x_{i}$$"
   ]
  },
  {
   "cell_type": "markdown",
   "metadata": {},
   "source": [
    "Taking the derivative of the log-likelihood w.r.t. $\\theta$ we get:\n",
    "\n",
    "$$\\frac{\\partial ln(\\mathcal{L}(\\theta))}{\\partial \\theta} =\n",
    "\\frac{2N^{2}}{\\theta} - N\\sum_{i=1}^{N} x_{i}$$"
   ]
  },
  {
   "cell_type": "markdown",
   "metadata": {},
   "source": [
    "Setting the derivative to zero, we get:"
   ]
  },
  {
   "cell_type": "markdown",
   "metadata": {},
   "source": [
    "$$\\frac{2N^{2}}{\\theta} - N\\sum_{i=1}^{N} x_{i} = 0 \\implies\n",
    "\\frac{2N^{2}}{\\theta} = N\\sum_{i=1}^{N} x_{i} \\implies\n",
    "\\theta = \\frac{2N^{2}}{N\\sum_{i=1}^{N} x_{i}} \\implies\n",
    "\\theta = \\frac{2N}{\\sum_{i=1}^{N} x_{i}}$$"
   ]
  },
  {
   "cell_type": "markdown",
   "metadata": {},
   "source": [
    "Therefore:\n",
    "\n",
    "$$\\hat{\\theta}_{MLE} = \\frac{2N}{\\sum_{i=1}^{N} x_{i}}$$"
   ]
  },
  {
   "cell_type": "markdown",
   "metadata": {},
   "source": [
    " "
   ]
  },
  {
   "cell_type": "markdown",
   "metadata": {},
   "source": [
    "### Answer (b)"
   ]
  },
  {
   "cell_type": "markdown",
   "metadata": {},
   "source": [
    "We have a sample from the Erlang distribution of size $N = 5$ and we are looking to estimate the sample mean $\\overline{x}$."
   ]
  },
  {
   "cell_type": "markdown",
   "metadata": {},
   "source": [
    "Since the Erlang distribution sample mean is given by $\\overline{x} = \\frac{2}{\\theta}$ and $\\theta_{ML} = \\frac{2N}{\\sum_{i=1}^{N} x_{i}}$ it follows that, for $N = 5$, $x \\in \\{2, 2.2, 2.7, 2.4, 2.6\\}$, we have:"
   ]
  },
  {
   "cell_type": "markdown",
   "metadata": {},
   "source": [
    "$$\\overline{x} = \\frac{2}{\\theta_{MLE}} \\implies\n",
    "\\overline{x} = \\frac{2}{\\frac{2N}{\\sum_{i=1}^{N} x_{i}}} \\implies\n",
    "\\overline{x} = \\frac{2}{\\frac{2 \\cdot 5}{2 + 2.2 + 2.7 + 2.4 + 2.6}} \\implies\n",
    "\\overline{x} = 2.38$$"
   ]
  },
  {
   "cell_type": "markdown",
   "metadata": {},
   "source": [
    "---"
   ]
  },
  {
   "cell_type": "markdown",
   "metadata": {},
   "source": [
    "## Exercise 2"
   ]
  },
  {
   "cell_type": "markdown",
   "metadata": {},
   "source": [
    "### Answer (a)"
   ]
  },
  {
   "cell_type": "markdown",
   "metadata": {},
   "source": [
    "We need to compute\n",
    "\n",
    "$$\\hat{\\theta}_{MAP} = argmax_{\\theta}(P(\\theta) \\cdot P(x|\\theta)) \\rightarrow argmax_{\\theta} \\left[ ln(P(\\theta)) + ln(P(x|\\theta)) \\right] \\textbf{ (1)}$$"
   ]
  },
  {
   "cell_type": "markdown",
   "metadata": {},
   "source": [
    "$\\textbf{(1)}$ comprises the **prior** ($ln(\\theta)$) and the **likelihood** ($ln(P(x|\\theta))$)."
   ]
  },
  {
   "cell_type": "markdown",
   "metadata": {},
   "source": [
    "**Prior**: \n",
    "\n",
    "$$ln \\left( \\frac{1} {\\sqrt{2\\pi\\sigma_{0}^{2}} } e^{-\\frac{(\\theta - \\theta_{0})^{2}} {2\\sigma_{0}^{2}} } \\right) =$$\n",
    "\n",
    "$$ln \\left( \\frac{1} {\\sqrt{2\\pi\\sigma_{0}^{2}} } \\right) + ln \\left( e^{-\\frac{(\\theta - \\theta_{0})^{2}} {2\\sigma_{0}^{2}} } \\right) =$$\n",
    "\n",
    "$$-\\frac{1}{2} ln \\left( 2\\pi\\sigma_{0}^{2} \\right) - \\frac{(\\theta - \\theta_{0})^{2}} {2\\sigma_{0}^{2}} =$$\n",
    "\n",
    "$$-\\frac{1}{2} ln \\left( 2\\pi \\right) -\\frac{1}{2} ln \\left( \\sigma_{0}^{2} \\right) - \\frac{(\\theta - \\theta_{0})^{2}} {2\\sigma_{0}^{2}} \\textbf{ (2)}$$"
   ]
  },
  {
   "cell_type": "markdown",
   "metadata": {},
   "source": [
    "**Likelihood**: the log-likelihood has already been computed from ex. 1 and it is:\n",
    "\n",
    "$$2N^{2}ln(\\theta) + \\sum_{i=1}^{N} ln(x_{i}) - N\\theta\\sum_{i=1}^{N} x_{i} \\textbf{ (3)}$$"
   ]
  },
  {
   "cell_type": "markdown",
   "metadata": {},
   "source": [
    "Therefore, from $\\textbf{(1)}, \\textbf{(2)}, \\textbf{(3)}$ we get:\n",
    "\n",
    "$$\\hat{\\theta}_{MAP} = argmax_{\\theta} \\left( -\\frac{1}{2} ln \\left( 2\\pi \\right) -\\frac{1}{2} ln \\left( \\sigma_{0}^{2} \\right) - \\frac{(\\theta - \\theta_{0})^{2}} {2\\sigma_{0}^{2}} + 2N^{2}ln(\\theta) + \\sum_{i=1}^{N} ln(x_{i}) - N\\theta\\sum_{i=1}^{N} x_{i} \\right)$$"
   ]
  },
  {
   "cell_type": "markdown",
   "metadata": {},
   "source": [
    "Taking the derivative of the function w.r.t. $\\theta$ we get:\n",
    "\n",
    "$$\\frac{\\partial \\left( -\\frac{1}{2} ln \\left( 2\\pi \\right) -\\frac{1}{2} ln \\left( \\sigma_{0}^{2} \\right) - \\frac{(\\theta - \\theta_{0})^{2}} {2\\sigma_{0}^{2}} + 2N^{2}ln(\\theta) + \\sum_{i=1}^{N} ln(x_{i}) - N\\theta\\sum_{i=1}^{N} x_{i} \\right)}{\\partial \\theta} =\n",
    "$$\n",
    "\n",
    "$$-\\frac{1}{2\\sigma_{0}^{2}}2(\\theta-\\theta_{0}) + \\frac{2N^{2}}{\\theta} - N\\sum_{i=1}^{N} x_{i} =\n",
    "$$\n",
    "\n",
    "$$-\\frac{1}{\\sigma_{0}^{2}}(\\theta-\\theta_{0}) + \\frac{2N^{2}}{\\theta} - N\\sum_{i=1}^{N} x_{i} \\textbf{( 4)}\n",
    "$$"
   ]
  },
  {
   "cell_type": "markdown",
   "metadata": {},
   "source": [
    "Setting $\\textbf{(4)}$ to zero, we get:\n",
    "\n",
    "$$-\\frac{1}{\\sigma_{0}^{2}}(\\theta-\\theta_{0}) + \\frac{2N^{2}}{\\theta} - N\\sum_{i=1}^{N} x_{i} = 0 \\implies\n",
    "$$\n",
    "\n",
    "$$-\\frac{\\theta}{\\sigma_{0}^{2}} + \\frac{\\theta_{0}}{\\sigma_{0}^{2}} + \\frac{2N^{2}}{\\theta} - N\\sum_{i=1}^{N} x_{i} \\implies\n",
    "$$\n",
    "\n",
    "$$-\\theta + \\theta_{0} + \\frac{2N^{2}\\sigma_{0}^{2}}{\\theta} - N\\sigma_{0}^{2}\\sum_{i=1}^{N} x_{i} = 0 \\implies\n",
    "$$\n",
    "\n",
    "$$-\\theta^{2} + \\theta_{0}\\theta + 2N^{2}\\sigma_{0}^{2} - N\\theta\\sigma_{0}^{2}\\sum_{i=1}^{N} x_{i} = 0 \\implies\n",
    "$$\n",
    "\n",
    "$$\\theta^{2} -\\theta(\\theta_{0} + N\\sigma_{0}^{2}\\sum_{i=1}^{N} x_{i}) - 2N^{2}\\sigma_{0}^{2} = 0 \\textbf{ (5)}\n",
    "$$\n",
    "\n",
    "We have a quadratic polynomial w.r.t. $\\theta$."
   ]
  },
  {
   "cell_type": "markdown",
   "metadata": {},
   "source": [
    "The generic solution of a quadratic polynomial is:\n",
    "\n",
    "$$ax^{2} + bx + c = 0 \\implies\n",
    "x = \\frac{-b \\pm \\sqrt{b^{2} - 4ac}}{2a}\n",
    "$$"
   ]
  },
  {
   "cell_type": "markdown",
   "metadata": {},
   "source": [
    "Therefore, $\\textbf{(5)}$ becomes:\n",
    "\n",
    "$$\\hat{\\theta}_{MAP} = \\frac{ (\\theta_{0} + N\\sigma_{}^{2}\\sum_{i=1}^{N} x_{i}) \\pm \\sqrt{(-\\theta_{0} - N\\sigma_{}^{2}\\sum_{i=1}^{N} x_{i})^{2} - 8N^{2}\\sigma_{0}^{2}} }{2} \\implies\n",
    "$$\n",
    "\n",
    "$$\\hat{\\theta}_{MAP} =\n",
    "  \\begin{cases}\n",
    "    \\frac{\\theta_{0} + N\\sigma_{0}^{2}\\sum_{i=1}^{N} x_{i}}{2} + \\frac{\\sqrt{(-\\theta_{0} - N\\sigma_{0}^{2}\\sum_{i=1}^{N} x_{i})^{2} - 8N^{2}\\sigma_{0}^{2}}}{2} \\\\\n",
    "    \\frac{\\theta_{0} + N\\sigma_{0}^{2}\\sum_{i=1}^{N} x_{i}}{2} - \\frac{\\sqrt{(-\\theta_{0} - N\\sigma_{0}^{2}\\sum_{i=1}^{N} x_{i})^{2} - 8N^{2}\\sigma_{0}^{2}}}{2}\n",
    "  \\end{cases}\n",
    "$$"
   ]
  },
  {
   "cell_type": "markdown",
   "metadata": {},
   "source": [
    "### Answer (b)"
   ]
  },
  {
   "cell_type": "markdown",
   "metadata": {},
   "source": [
    "#### (i)"
   ]
  },
  {
   "cell_type": "markdown",
   "metadata": {},
   "source": [
    "We know from theory that for $N \\rightarrow +\\infty$, $\\hat{\\theta}_{MAP} \\approx \\hat{\\theta}_{MLE}$."
   ]
  },
  {
   "cell_type": "markdown",
   "metadata": {},
   "source": [
    "#### (ii)"
   ]
  },
  {
   "cell_type": "markdown",
   "metadata": {},
   "source": [
    "When $\\sigma_{0}^{2} \\gg$ the uncertainty of the prior, expressed as the high variance of $\\sigma_{0}^{2}$, becomes large enough that it effectively renders it useless for the purpose of estimating $\\hat{\\theta}_{MAP}$. In this case, it also holds that $\\hat{\\theta}_{MAP} \\approx \\hat{\\theta}_{MLE}$."
   ]
  },
  {
   "cell_type": "markdown",
   "metadata": {},
   "source": [
    "#### (iii)"
   ]
  },
  {
   "cell_type": "markdown",
   "metadata": {},
   "source": [
    "When $\\sigma_{0}^{2} \\ll$ the uncertainty of the prior, expressed as the low variance of $\\sigma_{0}^{2}$, is low. The effect of this is that we are pretty certain that the true population parameter is captured in the assertion we have made about its distribution. Therefore, the prior becomes significant in the calculation of $\\hat{\\theta}_{MAP}$."
   ]
  },
  {
   "cell_type": "markdown",
   "metadata": {},
   "source": [
    "---"
   ]
  },
  {
   "cell_type": "markdown",
   "metadata": {},
   "source": [
    "## Exercise 3"
   ]
  },
  {
   "cell_type": "code",
   "execution_count": 1,
   "metadata": {},
   "outputs": [],
   "source": [
    "# Imports and globals\n",
    "import math\n",
    "import numpy as np\n",
    "import pandas as pd\n",
    "import scipy.io as sio\n",
    "import matplotlib.pyplot as plt\n",
    "import matplotlib.patches as patches\n",
    "\n",
    "# Aesthetics for plots\n",
    "plot_main_title_font = {\n",
    "    \"family\": \"sans serif\",\n",
    "    \"color\":  \"black\",\n",
    "    \"weight\": \"bold\",\n",
    "    \"size\": 18,\n",
    "}\n",
    "\n",
    "plot_axis_title_font = {\n",
    "    \"family\": \"sans serif\",\n",
    "    \"color\":  \"black\",\n",
    "    \"weight\": \"bold\",\n",
    "    \"size\": 14,\n",
    "}"
   ]
  },
  {
   "cell_type": "code",
   "execution_count": 2,
   "metadata": {},
   "outputs": [],
   "source": [
    "# Load MATLAB file\n",
    "data = sio.loadmat(\"HW5.mat\")"
   ]
  },
  {
   "cell_type": "code",
   "execution_count": 3,
   "metadata": {},
   "outputs": [],
   "source": [
    "# Acquire training data\n",
    "training_data = data[\"Data\"]"
   ]
  },
  {
   "cell_type": "markdown",
   "metadata": {},
   "source": [
    "Let's visualize our training data:"
   ]
  },
  {
   "cell_type": "code",
   "execution_count": 4,
   "metadata": {},
   "outputs": [
    {
     "data": {
      "image/png": "[encoded data removed]",
      "text/plain": [
       "<Figure size 1008x432 with 1 Axes>"
      ]
     },
     "metadata": {
      "needs_background": "light"
     },
     "output_type": "display_data"
    }
   ],
   "source": [
    "# Plot\n",
    "fig, ax = plt.subplots(figsize = (14, 6))\n",
    "\n",
    "# Plot training observations\n",
    "ax.scatter(training_data[:, 0], training_data[:, 1], s = 10, marker = \"o\", alpha = 0.5, color = \"grey\")\n",
    "\n",
    "# Set plot title\n",
    "ax.set_title(r\"$\\theta$\" + \" (temperature)\" + \" vs \" + r\"$R$\" + \" (resistance)\", fontdict = plot_main_title_font, pad = 20)\n",
    "\n",
    "# Set plot axis labels\n",
    "ax.set_xlabel(r\"$\\theta$\" + \" (temperature)\", fontdict = plot_axis_title_font, labelpad = 10)\n",
    "ax.set_ylabel(r\"$R$\" + \" (resistance)\", fontdict = plot_axis_title_font, labelpad = 10)\n",
    "\n",
    "# Set plot legend\n",
    "grey_label = patches.Patch(color = \"grey\", label = \"Training data\")\n",
    "ax.legend(handles = [grey_label])\n",
    "\n",
    "pass;"
   ]
  },
  {
   "cell_type": "markdown",
   "metadata": {},
   "source": [
    "Intuitively, we observe that the relationship between temperature and resistance is linear, $R = f(\\theta) + \\eta$."
   ]
  },
  {
   "cell_type": "markdown",
   "metadata": {},
   "source": [
    " "
   ]
  },
  {
   "cell_type": "markdown",
   "metadata": {},
   "source": [
    "### Answer (a)"
   ]
  },
  {
   "cell_type": "markdown",
   "metadata": {},
   "source": [
    "We have already assumend that the joint PDF of the random variables $\\theta$ and $R$ is normal."
   ]
  },
  {
   "cell_type": "markdown",
   "metadata": {},
   "source": [
    "The known ML estimators for the parameters $\\mu$ and $\\Sigma$ are:"
   ]
  },
  {
   "cell_type": "markdown",
   "metadata": {},
   "source": [
    "$$\\mu_{MLE} = \\frac{1}{N} \\sum_{i=1}^{n} x_{i}$$"
   ]
  },
  {
   "cell_type": "markdown",
   "metadata": {},
   "source": [
    "$$\\Sigma_{MLE} = \\frac{1}{N} \\sum_{i=1}^{N} (x_{i} - \\boldsymbol{\\mu})(x_{i} - \\boldsymbol{\\mu})^{T}$$"
   ]
  },
  {
   "cell_type": "markdown",
   "metadata": {},
   "source": [
    "Using our sample data, we estimate the values of the parameters $\\boldsymbol{\\mu}$ and $\\Sigma$:"
   ]
  },
  {
   "cell_type": "code",
   "execution_count": 5,
   "metadata": {},
   "outputs": [],
   "source": [
    "# Number of training observations\n",
    "N_train = len(training_data)"
   ]
  },
  {
   "cell_type": "code",
   "execution_count": 6,
   "metadata": {},
   "outputs": [],
   "source": [
    "# Split to X, y training data\n",
    "X_train = training_data[:, 0]\n",
    "y_train = training_data[:, 1]"
   ]
  },
  {
   "cell_type": "markdown",
   "metadata": {},
   "source": [
    "The value of the means vector $\\boldsymbol{\\mu}$ is:"
   ]
  },
  {
   "cell_type": "code",
   "execution_count": 7,
   "metadata": {},
   "outputs": [
    {
     "data": {
      "text/html": [
       "<div>\n",
       "<style scoped>\n",
       "    .dataframe tbody tr th:only-of-type {\n",
       "        vertical-align: middle;\n",
       "    }\n",
       "\n",
       "    .dataframe tbody tr th {\n",
       "        vertical-align: top;\n",
       "    }\n",
       "\n",
       "    .dataframe thead th {\n",
       "        text-align: right;\n",
       "    }\n",
       "</style>\n",
       "<table border=\"1\" class=\"dataframe\">\n",
       "  <thead>\n",
       "    <tr style=\"text-align: right;\">\n",
       "      <th></th>\n",
       "      <th>$\\mu$</th>\n",
       "    </tr>\n",
       "  </thead>\n",
       "  <tbody>\n",
       "    <tr>\n",
       "      <th>$\\mu_{x}$</th>\n",
       "      <td>20.001581</td>\n",
       "    </tr>\n",
       "    <tr>\n",
       "      <th>$\\mu_{y}$</th>\n",
       "      <td>26.996744</td>\n",
       "    </tr>\n",
       "  </tbody>\n",
       "</table>\n",
       "</div>"
      ],
      "text/plain": [
       "               $\\mu$\n",
       "$\\mu_{x}$  20.001581\n",
       "$\\mu_{y}$  26.996744"
      ]
     },
     "execution_count": 7,
     "metadata": {},
     "output_type": "execute_result"
    }
   ],
   "source": [
    "# mu_MLE should be a 2x2 vector\n",
    "mu_MLE = np.sum(training_data, axis = 0) / N_train\n",
    "\n",
    "mu_MLE_names = [\"$\\mu_{x}$\", \"$\\mu_{y}$\"]\n",
    "pd.DataFrame(mu_MLE, mu_MLE_names, [\"$\\mu$\"])"
   ]
  },
  {
   "cell_type": "markdown",
   "metadata": {},
   "source": [
    "The value of the covariance matrix $\\Sigma$ is:"
   ]
  },
  {
   "cell_type": "code",
   "execution_count": 8,
   "metadata": {},
   "outputs": [],
   "source": [
    "def covariance_matrix(data):\n",
    "    N = len(data)\n",
    "    covariance = np.zeros((2, 2))\n",
    "    \n",
    "    for i in range (0, len(data)):\n",
    "        x_i_minus_mu = (data[i] - mu_MLE).reshape(data.shape[1], 1)\n",
    "        covariance += x_i_minus_mu.dot(x_i_minus_mu.T)\n",
    "    \n",
    "    covariance = covariance / N\n",
    "    \n",
    "    return covariance\n",
    "\n",
    "\n",
    "# Implementation 1 (vectorized)\n",
    "sigma_MLE = np.matmul((training_data - mu_MLE).T, training_data - mu_MLE) / N_train\n",
    "\n",
    "# Implementation 2 (for loops)\n",
    "# sigma_MLE = covariance_matrix(training_data)\n",
    "\n",
    "# Default numpy implementation\n",
    "# sigma_MLE = np.cov(X_train, y_train, bias = True)"
   ]
  },
  {
   "cell_type": "code",
   "execution_count": 9,
   "metadata": {},
   "outputs": [
    {
     "data": {
      "text/html": [
       "<div>\n",
       "<style scoped>\n",
       "    .dataframe tbody tr th:only-of-type {\n",
       "        vertical-align: middle;\n",
       "    }\n",
       "\n",
       "    .dataframe tbody tr th {\n",
       "        vertical-align: top;\n",
       "    }\n",
       "\n",
       "    .dataframe thead th {\n",
       "        text-align: right;\n",
       "    }\n",
       "</style>\n",
       "<table border=\"1\" class=\"dataframe\">\n",
       "  <thead>\n",
       "    <tr style=\"text-align: right;\">\n",
       "      <th></th>\n",
       "      <th>$\\sigma_{x}^{2}$</th>\n",
       "      <th>$\\sigma_{xy}$</th>\n",
       "      <th>$\\sigma_{xy}$</th>\n",
       "      <th>$\\sigma_{y}^{2}$</th>\n",
       "    </tr>\n",
       "  </thead>\n",
       "  <tbody>\n",
       "    <tr>\n",
       "      <th>0</th>\n",
       "      <td>300.964443</td>\n",
       "      <td>105.36108</td>\n",
       "      <td>105.36108</td>\n",
       "      <td>36.887488</td>\n",
       "    </tr>\n",
       "  </tbody>\n",
       "</table>\n",
       "</div>"
      ],
      "text/plain": [
       "   $\\sigma_{x}^{2}$  $\\sigma_{xy}$  $\\sigma_{xy}$  $\\sigma_{y}^{2}$\n",
       "0        300.964443      105.36108      105.36108         36.887488"
      ]
     },
     "execution_count": 9,
     "metadata": {},
     "output_type": "execute_result"
    }
   ],
   "source": [
    "sigma_MLE_names = np.array([\"$\\sigma_{x}^{2}$\", \"$\\sigma_{xy}$\", \"$\\sigma_{xy}$\", \"$\\sigma_{y}^{2}$\"])\n",
    "sigma_MLE_df = pd.DataFrame(sigma_MLE.reshape(1, 4), columns = sigma_MLE_names)\n",
    "sigma_MLE_df"
   ]
  },
  {
   "cell_type": "markdown",
   "metadata": {},
   "source": [
    "Since we have assumed that p(x,y) is a normal distribution, the MSE estimate is a linear function of x ($y = E[R|\\theta]$). This is computed by the function:\n",
    "\n",
    "$$E[R|\\theta] = \\mu_{y} + \\frac{\\alpha \\cdot \\sigma_{y}}{\\sigma_{x}} \\cdot (x - \\mu_{x})$$"
   ]
  },
  {
   "cell_type": "code",
   "execution_count": 10,
   "metadata": {},
   "outputs": [],
   "source": [
    "# Compute g'(x) = E[y|x]\n",
    "def g_hat(x, mu, sigma):\n",
    "    # Compute α = σxy / (σx * σy)\n",
    "    alpha = sigma[0, 1] / (np.sqrt(sigma[0, 0]) * np.sqrt(sigma[1, 1]) )\n",
    "    \n",
    "    # Compute μy + ((ασy / σx)(x - μx))\n",
    "    return mu[1] + ( (alpha * np.sqrt(sigma[1, 1]) / np.sqrt(sigma[0, 0]) * (x - mu[0])) )\n",
    "\n",
    "E_y_given_x = g_hat(X_train, mu_MLE, sigma_MLE)"
   ]
  },
  {
   "cell_type": "code",
   "execution_count": 11,
   "metadata": {},
   "outputs": [
    {
     "data": {
      "text/html": [
       "<div>\n",
       "<style scoped>\n",
       "    .dataframe tbody tr th:only-of-type {\n",
       "        vertical-align: middle;\n",
       "    }\n",
       "\n",
       "    .dataframe tbody tr th {\n",
       "        vertical-align: top;\n",
       "    }\n",
       "\n",
       "    .dataframe thead th {\n",
       "        text-align: right;\n",
       "    }\n",
       "</style>\n",
       "<table border=\"1\" class=\"dataframe\">\n",
       "  <thead>\n",
       "    <tr style=\"text-align: right;\">\n",
       "      <th></th>\n",
       "      <th>$\\alpha$</th>\n",
       "    </tr>\n",
       "  </thead>\n",
       "  <tbody>\n",
       "    <tr>\n",
       "      <th>0</th>\n",
       "      <td>0.99996</td>\n",
       "    </tr>\n",
       "  </tbody>\n",
       "</table>\n",
       "</div>"
      ],
      "text/plain": [
       "  $\\alpha$\n",
       "0  0.99996"
      ]
     },
     "execution_count": 11,
     "metadata": {},
     "output_type": "execute_result"
    }
   ],
   "source": [
    "alpha = sigma_MLE[0, 1] / (np.sqrt(sigma_MLE[0, 0]) * np.sqrt(sigma_MLE[1, 1]) )\n",
    "\n",
    "alpha_names = np.array([r\"$\\alpha$\"])\n",
    "alpha_df = pd.DataFrame([\"{0:1.5f}\".format(alpha)], columns = alpha_names)\n",
    "alpha_df"
   ]
  },
  {
   "cell_type": "markdown",
   "metadata": {},
   "source": [
    "We know that $E[R|\\theta]$ will be a linear function w.r.t. $\\theta$, whose parameters $\\theta_{0}$, $\\theta_{1}$ will be computed as:\n",
    "\n",
    "$$E[R|\\theta] = 26.99674366 + \\frac{0.99996 \\cdot \\sqrt{36.88748843}}{\\sqrt{300.96444327}}(x - 20.00158101) =$$\n",
    "\n",
    "$$26.99674366 + 0.35(x - 20.00158101) =$$\n",
    "\n",
    "$$26.99674366 + 0.35x - 7 =$$\n",
    "\n",
    "$$0.35x + 19.997$$"
   ]
  },
  {
   "cell_type": "markdown",
   "metadata": {},
   "source": [
    "Plot the training data and the optimal w.r.t. the MSE criterion estimator:"
   ]
  },
  {
   "cell_type": "code",
   "execution_count": 12,
   "metadata": {},
   "outputs": [
    {
     "data": {
      "image/png": "[encoded data removed]",
      "text/plain": [
       "<Figure size 1008x576 with 1 Axes>"
      ]
     },
     "metadata": {
      "needs_background": "light"
     },
     "output_type": "display_data"
    }
   ],
   "source": [
    "# Plot\n",
    "fig, ax = plt.subplots(figsize = (14, 8))\n",
    "\n",
    "# Plot training observations\n",
    "ax.scatter(training_data[:, 0], training_data[:, 1], s = 200, marker = \"|\", alpha = 0.5, color = \"grey\")\n",
    "\n",
    "# Plot the E[R|theta] line\n",
    "ax.plot(X_train, E_y_given_x, \"-\", alpha = 0.5, color = \"crimson\", lw = 5)\n",
    "\n",
    "# Set plot title\n",
    "ax.set_title(\"Visualization of temperature vs resistance\", fontdict = plot_main_title_font, pad = 20)\n",
    "\n",
    "# Set plot axis labels\n",
    "ax.set_xlabel(r\"$\\theta$\" + \" (temperature)\", fontdict = plot_axis_title_font, labelpad = 10)\n",
    "ax.set_ylabel(r\"$R$\" + \" (resistance)\", fontdict = plot_axis_title_font, labelpad = 10)\n",
    "\n",
    "# Set plot legend\n",
    "grey_label = patches.Patch(color = \"grey\", label = \"Training data\")\n",
    "crimson_label = patches.Patch(color = \"crimson\", label = \"Optimal estimator w.r.t. MSE criterion\")\n",
    "ax.legend(handles = [grey_label, crimson_label])\n",
    "\n",
    "pass;"
   ]
  },
  {
   "cell_type": "markdown",
   "metadata": {},
   "source": [
    " "
   ]
  },
  {
   "cell_type": "markdown",
   "metadata": {},
   "source": [
    "### Answer (b)"
   ]
  },
  {
   "cell_type": "code",
   "execution_count": 13,
   "metadata": {},
   "outputs": [],
   "source": [
    "# Acquire test data\n",
    "test_data = data[\"Data_test\"]\n",
    "\n",
    "# Split to X, y test data\n",
    "X_test = test_data[:, 0]\n",
    "y_test = test_data[:, 1]"
   ]
  },
  {
   "cell_type": "code",
   "execution_count": 14,
   "metadata": {},
   "outputs": [],
   "source": [
    "# Number of test observations\n",
    "N_test = len(test_data)"
   ]
  },
  {
   "cell_type": "code",
   "execution_count": 15,
   "metadata": {},
   "outputs": [],
   "source": [
    "# Get E[y|x] for the test x\n",
    "E_y_given_x = g_hat(X_test, mu_MLE, sigma_MLE)"
   ]
  },
  {
   "cell_type": "markdown",
   "metadata": {},
   "source": [
    "We need to quantify the deviations of our estimate from $\\theta_{0}$ via the mean square error (MSE) criterion. The MSE of the optimal solution equals to the (irreducible) noise variance."
   ]
  },
  {
   "cell_type": "markdown",
   "metadata": {},
   "source": [
    "The MSE function is:\n",
    "\n",
    "$$MSE = \\frac{1}{N} \\sum_{i=1}^{N} (y - \\hat{y})^{2}$$"
   ]
  },
  {
   "cell_type": "code",
   "execution_count": 16,
   "metadata": {},
   "outputs": [
    {
     "data": {
      "text/html": [
       "<div>\n",
       "<style scoped>\n",
       "    .dataframe tbody tr th:only-of-type {\n",
       "        vertical-align: middle;\n",
       "    }\n",
       "\n",
       "    .dataframe tbody tr th {\n",
       "        vertical-align: top;\n",
       "    }\n",
       "\n",
       "    .dataframe thead th {\n",
       "        text-align: right;\n",
       "    }\n",
       "</style>\n",
       "<table border=\"1\" class=\"dataframe\">\n",
       "  <thead>\n",
       "    <tr style=\"text-align: right;\">\n",
       "      <th></th>\n",
       "      <th>MSE</th>\n",
       "    </tr>\n",
       "  </thead>\n",
       "  <tbody>\n",
       "    <tr>\n",
       "      <th>0</th>\n",
       "      <td>0.000025144</td>\n",
       "    </tr>\n",
       "  </tbody>\n",
       "</table>\n",
       "</div>"
      ],
      "text/plain": [
       "           MSE\n",
       "0  0.000025144"
      ]
     },
     "execution_count": 16,
     "metadata": {},
     "output_type": "execute_result"
    }
   ],
   "source": [
    "# Compute the MSE\n",
    "MSE = np.sum((y_test - E_y_given_x)**2) / N_test\n",
    "\n",
    "MSE_names = np.array([\"MSE\"])\n",
    "MSE_df = pd.DataFrame([\"{0:1.9f}\".format(MSE)], columns = MSE_names)\n",
    "MSE_df"
   ]
  },
  {
   "cell_type": "code",
   "execution_count": 17,
   "metadata": {},
   "outputs": [
    {
     "data": {
      "text/html": [
       "<div>\n",
       "<style scoped>\n",
       "    .dataframe tbody tr th:only-of-type {\n",
       "        vertical-align: middle;\n",
       "    }\n",
       "\n",
       "    .dataframe tbody tr th {\n",
       "        vertical-align: top;\n",
       "    }\n",
       "\n",
       "    .dataframe thead th {\n",
       "        text-align: right;\n",
       "    }\n",
       "</style>\n",
       "<table border=\"1\" class=\"dataframe\">\n",
       "  <thead>\n",
       "    <tr style=\"text-align: right;\">\n",
       "      <th></th>\n",
       "      <th>MSE (sklearn)</th>\n",
       "    </tr>\n",
       "  </thead>\n",
       "  <tbody>\n",
       "    <tr>\n",
       "      <th>0</th>\n",
       "      <td>0.000025144</td>\n",
       "    </tr>\n",
       "  </tbody>\n",
       "</table>\n",
       "</div>"
      ],
      "text/plain": [
       "  MSE (sklearn)\n",
       "0   0.000025144"
      ]
     },
     "execution_count": 17,
     "metadata": {},
     "output_type": "execute_result"
    }
   ],
   "source": [
    "# Cross-check with sklearn\n",
    "from sklearn.metrics import mean_squared_error\n",
    "\n",
    "MSE_sklearn_names = np.array([\"MSE (sklearn)\"])\n",
    "MSE_sklearn_df = pd.DataFrame([\"{0:1.9f}\".format(mean_squared_error(y_test, E_y_given_x))], columns = MSE_sklearn_names)\n",
    "MSE_sklearn_df"
   ]
  },
  {
   "cell_type": "markdown",
   "metadata": {},
   "source": [
    "---"
   ]
  }
 ],
 "metadata": {
  "kernelspec": {
   "display_name": "Python 3",
   "language": "python",
   "name": "python3"
  },
  "language_info": {
   "codemirror_mode": {
    "name": "ipython",
    "version": 3
   },
   "file_extension": ".py",
   "mimetype": "text/x-python",
   "name": "python",
   "nbconvert_exporter": "python",
   "pygments_lexer": "ipython3",
   "version": "3.6.0"
  },
  "toc": {
   "base_numbering": 1,
   "nav_menu": {},
   "number_sections": true,
   "sideBar": true,
   "skip_h1_title": true,
   "title_cell": "Table of Contents",
   "title_sidebar": "Contents",
   "toc_cell": false,
   "toc_position": {},
   "toc_section_display": true,
   "toc_window_display": true
  }
 },
 "nbformat": 4,
 "nbformat_minor": 2
}
