{
 "cells": [
  {
   "cell_type": "markdown",
   "metadata": {},
   "source": [
    "# AUEB M.Sc. in Data Science (part-time)\n",
    "\n",
    "- Semester: Summer 2020\n",
    "\n",
    "- Course: Big Data Systems and Techniques\n",
    "\n",
    "- Instructor: Prof. D. Arkoumanis\n",
    "\n",
    "- Author: Spiros Politis (p3351814)"
   ]
  },
  {
   "cell_type": "markdown",
   "metadata": {},
   "source": [
    "# Task 2 - Create a parquet file (10%)"
   ]
  },
  {
   "cell_type": "markdown",
   "metadata": {},
   "source": [
    "Locate the categories of shoes and a create a subset of data with shoes only. Write a spark program that connects to *PostgreSQL DB*, reads the data in DataFrame and writes the *DataFrame* in *HDFS* in *parquet* format.\n",
    "\n",
    "As deliverable give the above program, the *printSchema* of the *DataFrame* and the *HDFS* *dfs ls* of the directory with the *parquet* files."
   ]
  },
  {
   "cell_type": "markdown",
   "metadata": {},
   "source": [
    "## Get data from local PostgreSQL"
   ]
  },
  {
   "cell_type": "code",
   "execution_count": 1,
   "metadata": {},
   "outputs": [
    {
     "name": "stdout",
     "output_type": "stream",
     "text": [
      "CPU times: user 0 ns, sys: 3.08 ms, total: 3.08 ms\n",
      "Wall time: 3.88 s\n"
     ]
    }
   ],
   "source": [
    "%%time\n",
    "\n",
    "query_shoes = \"(SELECT DISTINCT * FROM temp_products WHERE LOWER(category_name) LIKE '%shoes%') AS query_shoes\"\n",
    "\n",
    "df = spark.read \\\n",
    "    .format(\"jdbc\") \\\n",
    "    .option(\"url\", \"jdbc:postgresql://s01:5432/products\") \\\n",
    "    .option(\"driver\",\"org.postgresql.Driver\") \\\n",
    "    .option(\"dbtable\", query_shoes) \\\n",
    "    .option(\"user\", \"dinosar\") \\\n",
    "    .option(\"password\", \"forsharingpurposes\") \\\n",
    "    .load()"
   ]
  },
  {
   "cell_type": "code",
   "execution_count": 2,
   "metadata": {},
   "outputs": [
    {
     "name": "stdout",
     "output_type": "stream",
     "text": [
      "root\n",
      " |-- product_id: integer (nullable = true)\n",
      " |-- name: string (nullable = true)\n",
      " |-- upc_id: string (nullable = true)\n",
      " |-- descr: string (nullable = true)\n",
      " |-- vendor_catalog_url: string (nullable = true)\n",
      " |-- buy_url: string (nullable = true)\n",
      " |-- manufacturer_name: string (nullable = true)\n",
      " |-- sale_price: decimal(38,18) (nullable = true)\n",
      " |-- retail_price: decimal(38,18) (nullable = true)\n",
      " |-- manufacturer_part_no: string (nullable = true)\n",
      " |-- country: string (nullable = true)\n",
      " |-- vendor_id: integer (nullable = true)\n",
      " |-- category_name: string (nullable = true)\n",
      " |-- category_code: string (nullable = true)\n",
      " |-- category_id: integer (nullable = true)\n",
      "\n"
     ]
    }
   ],
   "source": [
    "df.printSchema()"
   ]
  },
  {
   "cell_type": "code",
   "execution_count": 3,
   "metadata": {},
   "outputs": [
    {
     "name": "stdout",
     "output_type": "stream",
     "text": [
      "DataFrame shape: (63968, 15)\n",
      "CPU times: user 4.18 ms, sys: 905 µs, total: 5.09 ms\n",
      "Wall time: 10.5 s\n"
     ]
    }
   ],
   "source": [
    "%%time\n",
    "\n",
    "print(\"DataFrame shape: ({}, {})\".format(df.count(), len(df.columns)))"
   ]
  },
  {
   "cell_type": "code",
   "execution_count": 4,
   "metadata": {},
   "outputs": [
    {
     "name": "stdout",
     "output_type": "stream",
     "text": [
      "+----------+--------------------+------+--------------------+--------------------+--------------------+-----------------+--------------------+--------------------+--------------------+-------+---------+-------------+-------------+-----------+\n",
      "|product_id|                name|upc_id|               descr|  vendor_catalog_url|             buy_url|manufacturer_name|          sale_price|        retail_price|manufacturer_part_no|country|vendor_id|category_name|category_code|category_id|\n",
      "+----------+--------------------+------+--------------------+--------------------+--------------------+-----------------+--------------------+--------------------+--------------------+-------+---------+-------------+-------------+-----------+\n",
      "|    530395|Gucci Infant's & ...|  null|Double strap desi...|http://www.shopst...|http://www.shopst...|            Gucci|195.0000000000000...|195.0000000000000...|                null|   null|     null|  Boys' Shoes|   boys-shoes|       1599|\n",
      "|    530396|Haflinger Kids Ev...|  null|Just because they...|http://www.shopst...|http://www.shopst...|        Haflinger|67.00000000000000...|67.00000000000000...|                null|   null|     null|  Boys' Shoes|   boys-shoes|       1599|\n",
      "|    530397|Jumping Jacks Oxf...|  null|A handsome lace-u...|http://www.shopst...|http://www.shopst...|    Jumping Jacks|52.95000000000000...|52.95000000000000...|                null|   null|     null|  Boys' Shoes|   boys-shoes|       1599|\n",
      "|    530398|Jumping Jacks 'Br...|  null|A sporty, versati...|http://www.shopst...|http://www.shopst...|    Jumping Jacks|40.95000000000000...|40.95000000000000...|                null|   null|     null|  Boys' Shoes|   boys-shoes|       1599|\n",
      "|    530399|Gucci Infant's & ...|  null|High-top silhouet...|http://www.shopst...|http://www.shopst...|            Gucci|265.0000000000000...|265.0000000000000...|                null|   null|     null|  Boys' Shoes|   boys-shoes|       1599|\n",
      "+----------+--------------------+------+--------------------+--------------------+--------------------+-----------------+--------------------+--------------------+--------------------+-------+---------+-------------+-------------+-----------+\n",
      "only showing top 5 rows\n",
      "\n"
     ]
    }
   ],
   "source": [
    "df.show(5)"
   ]
  },
  {
   "cell_type": "markdown",
   "metadata": {},
   "source": [
    "## Get data from Google Cloud SQL PostgreSQL"
   ]
  },
  {
   "cell_type": "code",
   "execution_count": 5,
   "metadata": {},
   "outputs": [
    {
     "name": "stdout",
     "output_type": "stream",
     "text": [
      "CPU times: user 2.04 ms, sys: 0 ns, total: 2.04 ms\n",
      "Wall time: 71.4 ms\n"
     ]
    }
   ],
   "source": [
    "%%time\n",
    "\n",
    "query_shoes = \"(SELECT DISTINCT * FROM temp_products WHERE LOWER(category_name) LIKE '%shoes%') AS query_shoes\"\n",
    "\n",
    "df = spark.read \\\n",
    "    .format(\"jdbc\") \\\n",
    "    .option(\"url\", \"jdbc:postgresql://10.120.64.3:5432/products\") \\\n",
    "    .option(\"driver\",\"org.postgresql.Driver\") \\\n",
    "    .option(\"dbtable\", query_shoes) \\\n",
    "    .option(\"user\", \"postgres\") \\\n",
    "    .option(\"password\", \"forsharingpurposes\") \\\n",
    "    .load()"
   ]
  },
  {
   "cell_type": "code",
   "execution_count": 6,
   "metadata": {},
   "outputs": [
    {
     "name": "stdout",
     "output_type": "stream",
     "text": [
      "root\n",
      " |-- product_id: integer (nullable = true)\n",
      " |-- name: string (nullable = true)\n",
      " |-- upc_id: string (nullable = true)\n",
      " |-- descr: string (nullable = true)\n",
      " |-- vendor_catalog_url: string (nullable = true)\n",
      " |-- buy_url: string (nullable = true)\n",
      " |-- manufacturer_name: string (nullable = true)\n",
      " |-- sale_price: decimal(38,18) (nullable = true)\n",
      " |-- retail_price: decimal(38,18) (nullable = true)\n",
      " |-- manufacturer_part_no: string (nullable = true)\n",
      " |-- country: string (nullable = true)\n",
      " |-- vendor_id: integer (nullable = true)\n",
      " |-- category_name: string (nullable = true)\n",
      " |-- category_code: string (nullable = true)\n",
      " |-- category_id: integer (nullable = true)\n",
      "\n"
     ]
    }
   ],
   "source": [
    "df.printSchema()"
   ]
  },
  {
   "cell_type": "code",
   "execution_count": 7,
   "metadata": {},
   "outputs": [
    {
     "name": "stdout",
     "output_type": "stream",
     "text": [
      "DataFrame shape: (63968, 15)\n",
      "CPU times: user 4.01 ms, sys: 872 µs, total: 4.88 ms\n",
      "Wall time: 13.3 s\n"
     ]
    }
   ],
   "source": [
    "%%time\n",
    "\n",
    "print(\"DataFrame shape: ({}, {})\".format(df.count(), len(df.columns)))"
   ]
  },
  {
   "cell_type": "code",
   "execution_count": 8,
   "metadata": {},
   "outputs": [
    {
     "name": "stdout",
     "output_type": "stream",
     "text": [
      "+----------+--------------------+------+--------------------+--------------------+--------------------+-----------------+--------------------+--------------------+--------------------+-------+---------+-------------+-------------+-----------+\n",
      "|product_id|                name|upc_id|               descr|  vendor_catalog_url|             buy_url|manufacturer_name|          sale_price|        retail_price|manufacturer_part_no|country|vendor_id|category_name|category_code|category_id|\n",
      "+----------+--------------------+------+--------------------+--------------------+--------------------+-----------------+--------------------+--------------------+--------------------+-------+---------+-------------+-------------+-----------+\n",
      "|    530395|Gucci Infant's & ...|  null|Double strap desi...|http://www.shopst...|http://www.shopst...|            Gucci|195.0000000000000...|195.0000000000000...|                null|   null|     null|  Boys' Shoes|   boys-shoes|       1599|\n",
      "|    530396|Haflinger Kids Ev...|  null|Just because they...|http://www.shopst...|http://www.shopst...|        Haflinger|67.00000000000000...|67.00000000000000...|                null|   null|     null|  Boys' Shoes|   boys-shoes|       1599|\n",
      "|    530397|Jumping Jacks Oxf...|  null|A handsome lace-u...|http://www.shopst...|http://www.shopst...|    Jumping Jacks|52.95000000000000...|52.95000000000000...|                null|   null|     null|  Boys' Shoes|   boys-shoes|       1599|\n",
      "|    530398|Jumping Jacks 'Br...|  null|A sporty, versati...|http://www.shopst...|http://www.shopst...|    Jumping Jacks|40.95000000000000...|40.95000000000000...|                null|   null|     null|  Boys' Shoes|   boys-shoes|       1599|\n",
      "|    530399|Gucci Infant's & ...|  null|High-top silhouet...|http://www.shopst...|http://www.shopst...|            Gucci|265.0000000000000...|265.0000000000000...|                null|   null|     null|  Boys' Shoes|   boys-shoes|       1599|\n",
      "+----------+--------------------+------+--------------------+--------------------+--------------------+-----------------+--------------------+--------------------+--------------------+-------+---------+-------------+-------------+-----------+\n",
      "only showing top 5 rows\n",
      "\n"
     ]
    }
   ],
   "source": [
    "df.show(5)"
   ]
  },
  {
   "cell_type": "markdown",
   "metadata": {},
   "source": [
    "## Write Parquet file"
   ]
  },
  {
   "cell_type": "markdown",
   "metadata": {},
   "source": [
    "Delete Parquet file if exists."
   ]
  },
  {
   "cell_type": "code",
   "execution_count": 9,
   "metadata": {},
   "outputs": [
    {
     "name": "stdout",
     "output_type": "stream",
     "text": [
      "20/07/16 11:43:52 INFO fs.TrashPolicyDefault: Namenode trash configuration: Deletion interval = 0 minutes, Emptier interval = 0 minutes.\n",
      "Deleted output/query_shoes.parquet\n",
      "CPU times: user 108 ms, sys: 22.2 ms, total: 130 ms\n",
      "Wall time: 4.33 s\n"
     ]
    }
   ],
   "source": [
    "%%time\n",
    "\n",
    "!hdfs dfs -rm -r output/query_shoes.parquet"
   ]
  },
  {
   "cell_type": "code",
   "execution_count": 10,
   "metadata": {},
   "outputs": [
    {
     "name": "stdout",
     "output_type": "stream",
     "text": [
      "CPU times: user 1.62 ms, sys: 2.65 ms, total: 4.27 ms\n",
      "Wall time: 10.5 s\n"
     ]
    }
   ],
   "source": [
    "%%time\n",
    "\n",
    "df.write.parquet(\"output/query_shoes.parquet\")"
   ]
  },
  {
   "cell_type": "markdown",
   "metadata": {},
   "source": [
    "## Read Parquet file"
   ]
  },
  {
   "cell_type": "markdown",
   "metadata": {},
   "source": [
    "For verification."
   ]
  },
  {
   "cell_type": "code",
   "execution_count": 11,
   "metadata": {},
   "outputs": [
    {
     "name": "stdout",
     "output_type": "stream",
     "text": [
      "CPU times: user 0 ns, sys: 2.43 ms, total: 2.43 ms\n",
      "Wall time: 852 ms\n"
     ]
    }
   ],
   "source": [
    "%%time\n",
    "\n",
    "df = spark.read.parquet(\"output/query_shoes.parquet\")"
   ]
  },
  {
   "cell_type": "code",
   "execution_count": 12,
   "metadata": {},
   "outputs": [
    {
     "name": "stdout",
     "output_type": "stream",
     "text": [
      "root\n",
      " |-- product_id: integer (nullable = true)\n",
      " |-- name: string (nullable = true)\n",
      " |-- upc_id: string (nullable = true)\n",
      " |-- descr: string (nullable = true)\n",
      " |-- vendor_catalog_url: string (nullable = true)\n",
      " |-- buy_url: string (nullable = true)\n",
      " |-- manufacturer_name: string (nullable = true)\n",
      " |-- sale_price: decimal(38,18) (nullable = true)\n",
      " |-- retail_price: decimal(38,18) (nullable = true)\n",
      " |-- manufacturer_part_no: string (nullable = true)\n",
      " |-- country: string (nullable = true)\n",
      " |-- vendor_id: integer (nullable = true)\n",
      " |-- category_name: string (nullable = true)\n",
      " |-- category_code: string (nullable = true)\n",
      " |-- category_id: integer (nullable = true)\n",
      "\n"
     ]
    }
   ],
   "source": [
    "df.printSchema()"
   ]
  },
  {
   "cell_type": "code",
   "execution_count": 13,
   "metadata": {},
   "outputs": [
    {
     "name": "stdout",
     "output_type": "stream",
     "text": [
      "DataFrame shape: (63968, 15)\n",
      "CPU times: user 2.49 ms, sys: 0 ns, total: 2.49 ms\n",
      "Wall time: 734 ms\n"
     ]
    }
   ],
   "source": [
    "%%time\n",
    "\n",
    "print(\"DataFrame shape: ({}, {})\".format(df.count(), len(df.columns)))"
   ]
  },
  {
   "cell_type": "code",
   "execution_count": 14,
   "metadata": {},
   "outputs": [
    {
     "name": "stdout",
     "output_type": "stream",
     "text": [
      "+----------+--------------------+------+--------------------+--------------------+--------------------+-----------------+--------------------+--------------------+--------------------+-------+---------+-------------+-------------+-----------+\n",
      "|product_id|                name|upc_id|               descr|  vendor_catalog_url|             buy_url|manufacturer_name|          sale_price|        retail_price|manufacturer_part_no|country|vendor_id|category_name|category_code|category_id|\n",
      "+----------+--------------------+------+--------------------+--------------------+--------------------+-----------------+--------------------+--------------------+--------------------+-------+---------+-------------+-------------+-----------+\n",
      "|    530395|Gucci Infant's & ...|  null|Double strap desi...|http://www.shopst...|http://www.shopst...|            Gucci|195.0000000000000...|195.0000000000000...|                null|   null|     null|  Boys' Shoes|   boys-shoes|       1599|\n",
      "|    530396|Haflinger Kids Ev...|  null|Just because they...|http://www.shopst...|http://www.shopst...|        Haflinger|67.00000000000000...|67.00000000000000...|                null|   null|     null|  Boys' Shoes|   boys-shoes|       1599|\n",
      "|    530397|Jumping Jacks Oxf...|  null|A handsome lace-u...|http://www.shopst...|http://www.shopst...|    Jumping Jacks|52.95000000000000...|52.95000000000000...|                null|   null|     null|  Boys' Shoes|   boys-shoes|       1599|\n",
      "|    530398|Jumping Jacks 'Br...|  null|A sporty, versati...|http://www.shopst...|http://www.shopst...|    Jumping Jacks|40.95000000000000...|40.95000000000000...|                null|   null|     null|  Boys' Shoes|   boys-shoes|       1599|\n",
      "|    530399|Gucci Infant's & ...|  null|High-top silhouet...|http://www.shopst...|http://www.shopst...|            Gucci|265.0000000000000...|265.0000000000000...|                null|   null|     null|  Boys' Shoes|   boys-shoes|       1599|\n",
      "+----------+--------------------+------+--------------------+--------------------+--------------------+-----------------+--------------------+--------------------+--------------------+-------+---------+-------------+-------------+-----------+\n",
      "only showing top 5 rows\n",
      "\n"
     ]
    }
   ],
   "source": [
    "df.show(5)"
   ]
  },
  {
   "cell_type": "markdown",
   "metadata": {},
   "source": [
    "---"
   ]
  }
 ],
 "metadata": {
  "kernelspec": {
   "display_name": "Python 2",
   "language": "python",
   "name": "python2"
  },
  "language_info": {
   "codemirror_mode": {
    "name": "ipython",
    "version": 2
   },
   "file_extension": ".py",
   "mimetype": "text/x-python",
   "name": "python",
   "nbconvert_exporter": "python",
   "pygments_lexer": "ipython2",
   "version": "2.7.12"
  }
 },
 "nbformat": 4,
 "nbformat_minor": 2
}
