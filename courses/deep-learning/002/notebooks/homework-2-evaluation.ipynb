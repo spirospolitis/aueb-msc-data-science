{
 "cells": [
  {
   "cell_type": "markdown",
   "metadata": {},
   "source": [
    "# AUEB M.Sc. in Data Science\n",
    "\n",
    "- Course: **Deep Learning**\n",
    "\n",
    "- Semester: Spring 2020\n",
    "\n",
    "- Instructor: Prof. P Malakasiotis\n",
    "\n",
    "- Author: S. Politis (p3351814)\n",
    "\n",
    "- Homework: 2"
   ]
  },
  {
   "cell_type": "markdown",
   "metadata": {},
   "source": [
    "# Model evaluation"
   ]
  },
  {
   "cell_type": "markdown",
   "metadata": {},
   "source": [
    "## Import required libraries and custom packages"
   ]
  },
  {
   "cell_type": "code",
   "execution_count": 1,
   "metadata": {},
   "outputs": [],
   "source": [
    "# Automagic to reload source code.\n",
    "%load_ext autoreload\n",
    "%autoreload 2"
   ]
  },
  {
   "cell_type": "code",
   "execution_count": 2,
   "metadata": {},
   "outputs": [],
   "source": [
    "import logging\n",
    "import numpy as np\n",
    "import platform\n",
    "import os\n",
    "import pandas as pd\n",
    "import pathlib\n",
    "import re\n",
    "import seaborn as sns\n",
    "import sklearn\n",
    "import sys\n",
    "import tensorflow as tf\n",
    "import tensorflow_addons as tfa\n",
    "import time"
   ]
  },
  {
   "cell_type": "code",
   "execution_count": 3,
   "metadata": {},
   "outputs": [],
   "source": [
    "sys.path.append(\"../src/\")\n",
    "\n",
    "from AUEB.DL.H002 import Env, Experiment, Logger, Metrics, Reporting, Visualization\n",
    "from AUEB.DL.H002.Data import Ingest\n",
    "from AUEB.DL.H002.Models import DenseNet"
   ]
  },
  {
   "cell_type": "code",
   "execution_count": 4,
   "metadata": {},
   "outputs": [],
   "source": [
    "log = Logger.create_logger(\n",
    "    name = \"msc-ds-dl-h-002\", \n",
    "    level = logging.INFO\n",
    ")"
   ]
  },
  {
   "cell_type": "code",
   "execution_count": 5,
   "metadata": {},
   "outputs": [
    {
     "name": "stderr",
     "output_type": "stream",
     "text": [
      "/home/sp/anaconda3/envs/msc-ds-elec-dl-homework-2/lib/python3.7/site-packages/ipykernel_launcher.py:4: FutureWarning: Passing a negative integer is deprecated in version 1.0 and will not be supported in future version. Instead, use None to not limit the column width.\n",
      "  after removing the cwd from sys.path.\n"
     ]
    }
   ],
   "source": [
    "pd.set_option(\"display.max_rows\", None)\n",
    "pd.set_option(\"display.max_columns\", None)\n",
    "pd.set_option(\"display.width\", None)\n",
    "pd.set_option(\"display.max_colwidth\", -1)"
   ]
  },
  {
   "cell_type": "markdown",
   "metadata": {},
   "source": [
    "### Evaluation report (all models without data augmentation)"
   ]
  },
  {
   "cell_type": "code",
   "execution_count": null,
   "metadata": {
    "scrolled": false
   },
   "outputs": [],
   "source": [
    "evaluation_report_df = Reporting.evaluate_to_df(architecture = None)"
   ]
  },
  {
   "cell_type": "code",
   "execution_count": null,
   "metadata": {},
   "outputs": [],
   "source": [
    "evaluation_report_df.to_csv(\n",
    "    f\"{pathlib.Path(os.path.join(pathlib.Path.cwd().parents[0], os.path.normpath(Env.OUTPUT_REPORT_SUMMARIES), os.path.normpath('CNN_DenseNet_evaluation_report.csv')))}\", \n",
    "    sep = \"\\t\"\n",
    ")"
   ]
  },
  {
   "cell_type": "markdown",
   "metadata": {},
   "source": [
    "### Predictions report (all models without data augmentation)"
   ]
  },
  {
   "cell_type": "code",
   "execution_count": null,
   "metadata": {
    "scrolled": false
   },
   "outputs": [],
   "source": [
    "predictions_report_df = Reporting.prediction_report_to_df(\n",
    "    architecture = None\n",
    ")"
   ]
  },
  {
   "cell_type": "code",
   "execution_count": null,
   "metadata": {},
   "outputs": [],
   "source": [
    "predictions_report_df.to_csv(\n",
    "    f\"{pathlib.Path(os.path.join(pathlib.Path.cwd().parents[0], os.path.normpath(Env.OUTPUT_REPORT_SUMMARIES), os.path.normpath('CNN_DenseNet_predictions_report.csv')))}\", \n",
    "    sep = \"\\t\"\n",
    ")"
   ]
  },
  {
   "cell_type": "markdown",
   "metadata": {},
   "source": [
    "### Graphs"
   ]
  },
  {
   "cell_type": "code",
   "execution_count": null,
   "metadata": {
    "scrolled": false
   },
   "outputs": [],
   "source": [
    "Reporting.generate_confusion_matrices()"
   ]
  },
  {
   "cell_type": "markdown",
   "metadata": {},
   "source": [
    "## Evaluation of best model (DenseNet201) with data augmentation"
   ]
  },
  {
   "cell_type": "code",
   "execution_count": 6,
   "metadata": {},
   "outputs": [
    {
     "name": "stdout",
     "output_type": "stream",
     "text": [
      "Found 3197 validated image filenames belonging to 2 classes.\n"
     ]
    }
   ],
   "source": [
    "# Get the test data generator.\n",
    "test_data_frame_iterator = Ingest.test_binary(\n",
    "    batch_size = 32, \n",
    "    target_size = (224, 224), \n",
    "    shuffle = False, \n",
    "    filter_classes = None\n",
    ")"
   ]
  },
  {
   "cell_type": "code",
   "execution_count": 11,
   "metadata": {},
   "outputs": [
    {
     "name": "stderr",
     "output_type": "stream",
     "text": [
      "2020-07-07 18:16:54,874\t[INFO]\tmsc-ds-dl-h-002\t<ipython-input-11-f17937db2df0>.<module>: Evaluating DenseNet201_da_1_ts_224_224_t_0_s_1_bs_4_all_classes_binary\n"
     ]
    },
    {
     "name": "stdout",
     "output_type": "stream",
     "text": [
      "100/100 [==============================] - 42s 416ms/step - loss: 0.6112 - accuracy: 0.7038 - roc_auc: 0.7482\n"
     ]
    },
    {
     "data": {
      "text/html": [
       "<div>\n",
       "<style scoped>\n",
       "    .dataframe tbody tr th:only-of-type {\n",
       "        vertical-align: middle;\n",
       "    }\n",
       "\n",
       "    .dataframe tbody tr th {\n",
       "        vertical-align: top;\n",
       "    }\n",
       "\n",
       "    .dataframe thead th {\n",
       "        text-align: right;\n",
       "    }\n",
       "</style>\n",
       "<table border=\"1\" class=\"dataframe\">\n",
       "  <thead>\n",
       "    <tr style=\"text-align: right;\">\n",
       "      <th></th>\n",
       "      <th>model_id</th>\n",
       "      <th>test_loss</th>\n",
       "      <th>test_accuracy</th>\n",
       "      <th>test_auc</th>\n",
       "    </tr>\n",
       "  </thead>\n",
       "  <tbody>\n",
       "    <tr>\n",
       "      <th>0</th>\n",
       "      <td>DenseNet201_da_1_ts_224_224_t_0_s_1_bs_4_all_classes_binary</td>\n",
       "      <td>0.6111918687820435</td>\n",
       "      <td>0.7037848234176636</td>\n",
       "      <td>0.7481727004051208</td>\n",
       "    </tr>\n",
       "  </tbody>\n",
       "</table>\n",
       "</div>"
      ],
      "text/plain": [
       "                                                      model_id  \\\n",
       "0  DenseNet201_da_1_ts_224_224_t_0_s_1_bs_4_all_classes_binary   \n",
       "\n",
       "            test_loss       test_accuracy            test_auc  \n",
       "0  0.6111918687820435  0.7037848234176636  0.7481727004051208  "
      ]
     },
     "metadata": {},
     "output_type": "display_data"
    }
   ],
   "source": [
    "model_id = \"DenseNet201_da_1_ts_224_224_t_0_s_1_bs_4_all_classes_binary\"\n",
    "\n",
    "model_checkpoints_path = pathlib.Path(os.path.join(pathlib.Path.cwd().parents[0], os.path.normpath(Env.OUTPUT_MODEL_BASE_DIR), os.path.normpath(Env.OUTPUT_MODEL_CHECKPOINT_DIR))) \n",
    "report_summaries_path = pathlib.Path(os.path.join(pathlib.Path.cwd().parents[0], os.path.normpath(Env.OUTPUT_REPORT_SUMMARIES)))\n",
    "\n",
    "model_checkpoint_path = model_checkpoints_path.rglob(f\"{model_id}.hdf5\")\n",
    "\n",
    "log.info(f\"Evaluating {model_id}\")\n",
    "\n",
    "model = tf.keras.models.load_model(\n",
    "    list(model_checkpoint_path)[0]\n",
    ")\n",
    "\n",
    "test_loss, test_accuracy, test_auc = model.evaluate(test_data_frame_iterator)\n",
    "\n",
    "evaluation_report_df = pd.DataFrame(\n",
    "    np.array(\n",
    "        [[model_id, test_loss, test_accuracy, test_auc]]\n",
    "    ),\n",
    "    columns = [\n",
    "        \"model_id\", \n",
    "        \"test_loss\", \n",
    "        \"test_accuracy\", \n",
    "        \"test_auc\"\n",
    "    ]\n",
    ")\n",
    "\n",
    "display(evaluation_report_df)"
   ]
  },
  {
   "cell_type": "code",
   "execution_count": 13,
   "metadata": {},
   "outputs": [],
   "source": [
    "evaluation_report_df.to_csv(\n",
    "    f\"{pathlib.Path(os.path.join(pathlib.Path.cwd().parents[0], os.path.normpath(Env.OUTPUT_REPORT_SUMMARIES), os.path.normpath('DenseNet_Data_Augmentation_evaluation_report.csv')))}\", \n",
    "    sep = \"\\t\"\n",
    ")"
   ]
  },
  {
   "cell_type": "markdown",
   "metadata": {},
   "source": [
    "## Predictions of best model (DenseNet201) with data augmentation"
   ]
  },
  {
   "cell_type": "code",
   "execution_count": 14,
   "metadata": {},
   "outputs": [
    {
     "name": "stderr",
     "output_type": "stream",
     "text": [
      "2020-07-07 18:18:22,966\t[INFO]\tmsc-ds-dl-h-002\t<ipython-input-14-f342087c1ca9>.<module>: Predictions for DenseNet201_da_1_ts_224_224_t_0_s_1_bs_4_all_classes_binary\n"
     ]
    },
    {
     "data": {
      "text/html": [
       "<div>\n",
       "<style scoped>\n",
       "    .dataframe tbody tr th:only-of-type {\n",
       "        vertical-align: middle;\n",
       "    }\n",
       "\n",
       "    .dataframe tbody tr th {\n",
       "        vertical-align: top;\n",
       "    }\n",
       "\n",
       "    .dataframe thead th {\n",
       "        text-align: right;\n",
       "    }\n",
       "</style>\n",
       "<table border=\"1\" class=\"dataframe\">\n",
       "  <thead>\n",
       "    <tr style=\"text-align: right;\">\n",
       "      <th></th>\n",
       "      <th>model_id</th>\n",
       "      <th>accuracy</th>\n",
       "      <th>precision</th>\n",
       "      <th>recall</th>\n",
       "      <th>f1_score</th>\n",
       "      <th>cohen_kappa</th>\n",
       "    </tr>\n",
       "  </thead>\n",
       "  <tbody>\n",
       "    <tr>\n",
       "      <th>0</th>\n",
       "      <td>DenseNet201_da_1_ts_224_224_t_0_s_1_bs_4_all_classes_binary</td>\n",
       "      <td>0.703785</td>\n",
       "      <td>0.74285</td>\n",
       "      <td>0.694551</td>\n",
       "      <td>0.684831</td>\n",
       "      <td>0.395984</td>\n",
       "    </tr>\n",
       "  </tbody>\n",
       "</table>\n",
       "</div>"
      ],
      "text/plain": [
       "                                                      model_id  accuracy  \\\n",
       "0  DenseNet201_da_1_ts_224_224_t_0_s_1_bs_4_all_classes_binary  0.703785   \n",
       "\n",
       "   precision    recall  f1_score  cohen_kappa  \n",
       "0  0.74285    0.694551  0.684831  0.395984     "
      ]
     },
     "metadata": {},
     "output_type": "display_data"
    }
   ],
   "source": [
    "model_id = \"DenseNet201_da_1_ts_224_224_t_0_s_1_bs_4_all_classes_binary\"\n",
    "\n",
    "model_checkpoints_path = pathlib.Path(os.path.join(pathlib.Path.cwd().parents[0], os.path.normpath(Env.OUTPUT_MODEL_BASE_DIR), os.path.normpath(Env.OUTPUT_MODEL_CHECKPOINT_DIR))) \n",
    "report_summaries_path = pathlib.Path(os.path.join(pathlib.Path.cwd().parents[0], os.path.normpath(Env.OUTPUT_REPORT_SUMMARIES)))\n",
    "\n",
    "model_checkpoint_path = model_checkpoints_path.rglob(f\"{model_id}.hdf5\")\n",
    "\n",
    "log.info(f\"Predictions for {model_id}\")\n",
    "\n",
    "model = tf.keras.models.load_model(\n",
    "    list(model_checkpoint_path)[0]\n",
    ")\n",
    "\n",
    "# Compute true and predicted classes.\n",
    "y_true = test_data_frame_iterator.classes\n",
    "y_pred = model.predict(test_data_frame_iterator)\n",
    "y_pred = tf.math.argmax(\n",
    "    input = y_pred, \n",
    "    axis = 1, \n",
    "    output_type = tf.dtypes.int64, \n",
    "    name = \"y_pred\"\n",
    ").numpy()\n",
    "\n",
    "# Compute classification report.\n",
    "classification_report = sklearn.metrics.classification_report(\n",
    "    y_true, \n",
    "    y_pred, \n",
    "    labels = [0, 1], \n",
    "    target_names = [\"negative\", \"positive\"], \n",
    "    output_dict = True\n",
    ")\n",
    "\n",
    "accuracy = classification_report[\"accuracy\"]\n",
    "precision = classification_report[\"macro avg\"][\"precision\"]\n",
    "recall = classification_report[\"macro avg\"][\"recall\"]\n",
    "f1_score = classification_report[\"macro avg\"][\"f1-score\"]\n",
    "\n",
    "# Compute Cohen Kappa.\n",
    "cohen_kappa = sklearn.metrics.cohen_kappa_score(\n",
    "    y_true, \n",
    "    y_pred, \n",
    "    labels = [0, 1]\n",
    ")\n",
    "\n",
    "predictions_report_df = pd.DataFrame(\n",
    "    data = [\n",
    "        [model_id, accuracy, precision, recall, f1_score, cohen_kappa]\n",
    "    ], \n",
    "    columns = [\n",
    "        \"model_id\", \"accuracy\", \"precision\", \"recall\", \"f1_score\", \"cohen_kappa\"\n",
    "    ]\n",
    ")\n",
    "\n",
    "display(predictions_report_df)"
   ]
  },
  {
   "cell_type": "code",
   "execution_count": 16,
   "metadata": {},
   "outputs": [],
   "source": [
    "predictions_report_df.to_csv(\n",
    "    f\"{pathlib.Path(os.path.join(pathlib.Path.cwd().parents[0], os.path.normpath(Env.OUTPUT_REPORT_SUMMARIES), os.path.normpath('DenseNet_Data_Augmentation_predictions_report.csv')))}\", \n",
    "    sep = \"\\t\"\n",
    ")"
   ]
  },
  {
   "cell_type": "markdown",
   "metadata": {},
   "source": [
    "---"
   ]
  }
 ],
 "metadata": {
  "kernelspec": {
   "display_name": "Python 3",
   "language": "python",
   "name": "python3"
  },
  "language_info": {
   "codemirror_mode": {
    "name": "ipython",
    "version": 3
   },
   "file_extension": ".py",
   "mimetype": "text/x-python",
   "name": "python",
   "nbconvert_exporter": "python",
   "pygments_lexer": "ipython3",
   "version": "3.7.7"
  }
 },
 "nbformat": 4,
 "nbformat_minor": 4
}
