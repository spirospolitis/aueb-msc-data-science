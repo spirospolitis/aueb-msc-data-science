{
 "cells": [
  {
   "cell_type": "markdown",
   "metadata": {},
   "source": [
    "# AUEB M.Sc. in Data Science (part-time)\n",
    "\n",
    "**Course**: Practical Data Science\n",
    "\n",
    "**Semester**: Fall 2018\n",
    "\n",
    "**3rd homework**: Deploying a ML Model\n",
    "\n",
    "**Author**: Spiros Politis"
   ]
  },
  {
   "cell_type": "markdown",
   "metadata": {},
   "source": [
    "---"
   ]
  },
  {
   "cell_type": "markdown",
   "metadata": {},
   "source": [
    "## Description"
   ]
  },
  {
   "cell_type": "markdown",
   "metadata": {},
   "source": [
    "In this homework you will deploy a ML model behind a web API. That is the typical process followed in [Microservices Architectures](https://en.wikipedia.org/wiki/Microservices).\n",
    "\n",
    "This homework - although minimal compared to the previous two - is essential.\n",
    "\n",
    "It will teach you how to deliver your models not only to business stakeholders in a presentation format (as you did in the 1st homework), to fellow analysts & data scientists in <mark>.ipynb</mark> format (as you did in the 2nd homework), but to other language-agnostic components (people or machines) of a modern tech architecture too."
   ]
  },
  {
   "cell_type": "markdown",
   "metadata": {},
   "source": [
    "## Questions"
   ]
  },
  {
   "cell_type": "markdown",
   "metadata": {},
   "source": [
    "### Model Persistence"
   ]
  },
  {
   "cell_type": "markdown",
   "metadata": {},
   "source": [
    "Refer back to the last model (the \"best one\") you ended up with in the 2nd homework.\n",
    "\n",
    "You should extend your notebook to persist this model on disk.\n",
    "\n",
    "The standard way to do object serialisation (persistence) in python is via the [pickle module](https://docs.python.org/3/library/pickle.html)\n",
    "\n",
    "For scikit-learn based models though, the recommended way is to use the <mark>joblib</mark> package - the API is identical to <mark>pickle</mark>'s one.\n",
    "\n",
    "Using the <mark>joblib</mark> package save your model in a binary file named <mark>load_forecasting_model_v010.joblib</mark>.\n",
    "\n",
    "This process is described in the official scikit-learn reference [here](https://scikit-learn.org/stable/modules/model_persistence.html)."
   ]
  },
  {
   "cell_type": "markdown",
   "metadata": {},
   "source": [
    "### Web API"
   ]
  },
  {
   "cell_type": "markdown",
   "metadata": {},
   "source": [
    "Next, you will expose a Web API that allows external users to access your model's predictions via a <mark>GET /forecast?param=1&param=2</mark> To do so you should use [Flask](http://flask.pocoo.org/docs/1.0/quickstart/).\n",
    "\n",
    "Your [Flask](http://flask.pocoo.org/docs/1.0/quickstart/) app should be in a <mark>load_forecasting_web.py</mark> file.\n",
    "\n",
    "Once a Python <mark>load_forecasting_web.py</mark> command is issued the following should happen:\n",
    "\n",
    "- A Flask app is initialized\n",
    "\n",
    "- The <mark>load_forecasting_model_v010.joblib</mark> should be loaded, deserialized and stored in a global variable (this is not best practice but it's fine for our purposes).\n",
    "\n",
    "- A <mark>GET /forecast</mark> endpoint with the \"appropriate\" parameters should be added to the Flask app.\n",
    "The response of that endpoint should be served in json format (use flask.jsonify). The response payload should contain at least the following keys: <mark>predicted_value</mark>, <mark>model_label</mark> (human readable label for your model). You should add any other metadata you think valid - a user should know about.\n",
    "\n",
    "The \"appropriate\" parameters depend on the features you used during training.\n",
    "\n",
    "When run via the the Python <mark>load_forecasting_web.py</mark> command, the server should bind to [http://127.0.0.1:9181 ](http://127.0.0.1:9181) and be accessible via a normal browser.\n",
    "\n",
    "You should include an example request URL in your README.md file."
   ]
  },
  {
   "cell_type": "markdown",
   "metadata": {},
   "source": [
    "## Submission instructions"
   ]
  },
  {
   "cell_type": "markdown",
   "metadata": {},
   "source": [
    "Your submission should include the following:\n",
    "\n",
    "- The <mark>load_forecasting_model_v010.joblib</mark> file\n",
    "- The <mark>load_forecasting_web.py</mark> file\n",
    "- A <mark>requirements.txt</mark> file\n",
    "- A <mark>README.md</mark> file\n",
    "\n",
    "**Anything not written in that README.md file, will not be taken into consideration.**"
   ]
  },
  {
   "cell_type": "markdown",
   "metadata": {},
   "source": [
    "## Honor code"
   ]
  },
  {
   "cell_type": "markdown",
   "metadata": {},
   "source": [
    "You understand that this is an individual homework, and as such you must carry it out alone. You may seek help on the Internet, by Googling or searching in StackOverflow for general questions pertaining to the use of Python and pandas libraries and idioms. However, it is not right to ask direct questions that relate to the homework and where people will actually solve your problem by answering them. You may discuss with your colleagues in order to better understand the questions, if they are not clear enough, but you should not ask them to share their answers with you, or to help you by giving specific advice.\n",
    "\n",
    "You should be able to justify **why** you wrote that particular line of code."
   ]
  },
  {
   "cell_type": "markdown",
   "metadata": {},
   "source": [
    "---"
   ]
  }
 ],
 "metadata": {
  "kernelspec": {
   "display_name": "Python 3",
   "language": "python",
   "name": "python3"
  },
  "language_info": {
   "codemirror_mode": {
    "name": "ipython",
    "version": 3
   },
   "file_extension": ".py",
   "mimetype": "text/x-python",
   "name": "python",
   "nbconvert_exporter": "python",
   "pygments_lexer": "ipython3",
   "version": "3.6.8"
  },
  "toc": {
   "base_numbering": 1,
   "nav_menu": {},
   "number_sections": true,
   "sideBar": true,
   "skip_h1_title": true,
   "title_cell": "Table of Contents",
   "title_sidebar": "Contents",
   "toc_cell": false,
   "toc_position": {},
   "toc_section_display": true,
   "toc_window_display": true
  }
 },
 "nbformat": 4,
 "nbformat_minor": 2
}
