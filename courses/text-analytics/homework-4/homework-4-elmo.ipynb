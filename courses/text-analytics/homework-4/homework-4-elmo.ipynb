{
 "cells": [
  {
   "cell_type": "markdown",
   "metadata": {},
   "source": [
    "# AUEB M.Sc. in Data Science (part-time)\n",
    "\n",
    "**Course**: Text Analytics\n",
    "\n",
    "**Semester**: Spring 2018\n",
    "\n",
    "**4th homework**: Sentiment analysis on a Twitter dataset of a large number of tweets, using RNNs with Keras (using ELMo).\n",
    "\n",
    "**Team members**:\n",
    "\n",
    "- Alexandros Kaplanis (https://github.com/AlexcapFF/)\n",
    "- Spiros Politis\n",
    "- Manos Proimakis (https://github.com/manosprom)"
   ]
  },
  {
   "cell_type": "markdown",
   "metadata": {},
   "source": [
    "---"
   ]
  },
  {
   "cell_type": "markdown",
   "metadata": {},
   "source": [
    "## Homework"
   ]
  },
  {
   "cell_type": "markdown",
   "metadata": {},
   "source": [
    "Repeat Exercise 10 of Part 3 (text classification with MLPs), now using a bi-directional stacked RNN (with GRU or LSTM cells) and a self-attention MLP , all implemented (by you) in Keras, TensorFlow, PyTorch, or DyNet. Tune the hyper-parameters (e.g. number of stacked RNNs, number of hidden layers in the self-attention MLP) on a held-out part of the training data or using a cross-validation on the training data. You may optionally add an extra RNN layer to produce word embeddings from characters, concatenating each resulting character-based word embedding with the corresponding pre-trained (e.g. via Word2Vec) word embedding. You may optionally add a pre-trained language model (e.g., ELMo) as an extra layer to obtain context-sensitive word embeddings."
   ]
  },
  {
   "cell_type": "markdown",
   "metadata": {},
   "source": [
    "---"
   ]
  },
  {
   "cell_type": "markdown",
   "metadata": {},
   "source": [
    "## Required packages and classes"
   ]
  },
  {
   "cell_type": "code",
   "execution_count": 1,
   "metadata": {},
   "outputs": [
    {
     "name": "stderr",
     "output_type": "stream",
     "text": [
      "Using TensorFlow backend.\n"
     ]
    }
   ],
   "source": [
    "import sys\n",
    "import os\n",
    "import itertools\n",
    "import collections \n",
    "import pickle\n",
    "\n",
    "import numpy as np\n",
    "\n",
    "import sklearn.model_selection\n",
    "import sklearn\n",
    "\n",
    "import keras.preprocessing.text\n",
    "import keras.preprocessing.sequence\n",
    "import keras.callbacks\n",
    "import keras.optimizers\n",
    "\n",
    "import keras_tqdm\n",
    "\n",
    "import matplotlib.pyplot as plt\n",
    "\n",
    "# Import required classes, implemented for the assignment.\n",
    "sys.path.append('src')\n",
    "\n",
    "import utilities, preprocessing\n",
    "from RNN import RNN\n",
    "\n",
    "%matplotlib inline"
   ]
  },
  {
   "cell_type": "markdown",
   "metadata": {},
   "source": [
    "## Data ingestion"
   ]
  },
  {
   "cell_type": "code",
   "execution_count": 2,
   "metadata": {},
   "outputs": [],
   "source": [
    "original_training_df = utilities.create_dataset(\n",
    "    'data/training.1600000.processed.noemoticon.csv', \n",
    "    sys.maxsize\n",
    ")\n",
    "\n",
    "original_test_df = utilities.create_dataset(\n",
    "    'data/testdata.manual.2009.06.14.csv', \n",
    "    sys.maxsize\n",
    ")"
   ]
  },
  {
   "cell_type": "markdown",
   "metadata": {},
   "source": [
    "### Inspection of our training set"
   ]
  },
  {
   "cell_type": "code",
   "execution_count": 3,
   "metadata": {},
   "outputs": [
    {
     "data": {
      "text/html": [
       "<div>\n",
       "<style scoped>\n",
       "    .dataframe tbody tr th:only-of-type {\n",
       "        vertical-align: middle;\n",
       "    }\n",
       "\n",
       "    .dataframe tbody tr th {\n",
       "        vertical-align: top;\n",
       "    }\n",
       "\n",
       "    .dataframe thead th {\n",
       "        text-align: right;\n",
       "    }\n",
       "</style>\n",
       "<table border=\"1\" class=\"dataframe\">\n",
       "  <thead>\n",
       "    <tr style=\"text-align: right;\">\n",
       "      <th></th>\n",
       "      <th>polarity</th>\n",
       "      <th>date</th>\n",
       "      <th>query</th>\n",
       "      <th>user</th>\n",
       "      <th>text</th>\n",
       "    </tr>\n",
       "    <tr>\n",
       "      <th>id</th>\n",
       "      <th></th>\n",
       "      <th></th>\n",
       "      <th></th>\n",
       "      <th></th>\n",
       "      <th></th>\n",
       "    </tr>\n",
       "  </thead>\n",
       "  <tbody>\n",
       "    <tr>\n",
       "      <th>1467810369</th>\n",
       "      <td>0</td>\n",
       "      <td>Mon Apr 06 22:19:45 PDT 2009</td>\n",
       "      <td>NO_QUERY</td>\n",
       "      <td>_TheSpecialOne_</td>\n",
       "      <td>@switchfoot http://twitpic.com/2y1zl - Awww, that's a bummer.  You shoulda got David Carr of Third Day to do it. ;D</td>\n",
       "    </tr>\n",
       "    <tr>\n",
       "      <th>1467810672</th>\n",
       "      <td>0</td>\n",
       "      <td>Mon Apr 06 22:19:49 PDT 2009</td>\n",
       "      <td>NO_QUERY</td>\n",
       "      <td>scotthamilton</td>\n",
       "      <td>is upset that he can't update his Facebook by texting it... and might cry as a result  School today also. Blah!</td>\n",
       "    </tr>\n",
       "    <tr>\n",
       "      <th>1467810917</th>\n",
       "      <td>0</td>\n",
       "      <td>Mon Apr 06 22:19:53 PDT 2009</td>\n",
       "      <td>NO_QUERY</td>\n",
       "      <td>mattycus</td>\n",
       "      <td>@Kenichan I dived many times for the ball. Managed to save 50%  The rest go out of bounds</td>\n",
       "    </tr>\n",
       "    <tr>\n",
       "      <th>1467811184</th>\n",
       "      <td>0</td>\n",
       "      <td>Mon Apr 06 22:19:57 PDT 2009</td>\n",
       "      <td>NO_QUERY</td>\n",
       "      <td>ElleCTF</td>\n",
       "      <td>my whole body feels itchy and like its on fire</td>\n",
       "    </tr>\n",
       "    <tr>\n",
       "      <th>1467811193</th>\n",
       "      <td>0</td>\n",
       "      <td>Mon Apr 06 22:19:57 PDT 2009</td>\n",
       "      <td>NO_QUERY</td>\n",
       "      <td>Karoli</td>\n",
       "      <td>@nationwideclass no, it's not behaving at all. i'm mad. why am i here? because I can't see you all over there.</td>\n",
       "    </tr>\n",
       "    <tr>\n",
       "      <th>1467811372</th>\n",
       "      <td>0</td>\n",
       "      <td>Mon Apr 06 22:20:00 PDT 2009</td>\n",
       "      <td>NO_QUERY</td>\n",
       "      <td>joy_wolf</td>\n",
       "      <td>@Kwesidei not the whole crew</td>\n",
       "    </tr>\n",
       "    <tr>\n",
       "      <th>1467811592</th>\n",
       "      <td>0</td>\n",
       "      <td>Mon Apr 06 22:20:03 PDT 2009</td>\n",
       "      <td>NO_QUERY</td>\n",
       "      <td>mybirch</td>\n",
       "      <td>Need a hug</td>\n",
       "    </tr>\n",
       "    <tr>\n",
       "      <th>1467811594</th>\n",
       "      <td>0</td>\n",
       "      <td>Mon Apr 06 22:20:03 PDT 2009</td>\n",
       "      <td>NO_QUERY</td>\n",
       "      <td>coZZ</td>\n",
       "      <td>@LOLTrish hey  long time no see! Yes.. Rains a bit ,only a bit  LOL , I'm fine thanks , how's you ?</td>\n",
       "    </tr>\n",
       "    <tr>\n",
       "      <th>1467811795</th>\n",
       "      <td>0</td>\n",
       "      <td>Mon Apr 06 22:20:05 PDT 2009</td>\n",
       "      <td>NO_QUERY</td>\n",
       "      <td>2Hood4Hollywood</td>\n",
       "      <td>@Tatiana_K nope they didn't have it</td>\n",
       "    </tr>\n",
       "    <tr>\n",
       "      <th>1467812025</th>\n",
       "      <td>0</td>\n",
       "      <td>Mon Apr 06 22:20:09 PDT 2009</td>\n",
       "      <td>NO_QUERY</td>\n",
       "      <td>mimismo</td>\n",
       "      <td>@twittera que me muera ?</td>\n",
       "    </tr>\n",
       "  </tbody>\n",
       "</table>\n",
       "</div>"
      ],
      "text/plain": [
       "            polarity                          date     query             user  \\\n",
       "id                                                                              \n",
       "1467810369  0         Mon Apr 06 22:19:45 PDT 2009  NO_QUERY  _TheSpecialOne_   \n",
       "1467810672  0         Mon Apr 06 22:19:49 PDT 2009  NO_QUERY  scotthamilton     \n",
       "1467810917  0         Mon Apr 06 22:19:53 PDT 2009  NO_QUERY  mattycus          \n",
       "1467811184  0         Mon Apr 06 22:19:57 PDT 2009  NO_QUERY  ElleCTF           \n",
       "1467811193  0         Mon Apr 06 22:19:57 PDT 2009  NO_QUERY  Karoli            \n",
       "1467811372  0         Mon Apr 06 22:20:00 PDT 2009  NO_QUERY  joy_wolf          \n",
       "1467811592  0         Mon Apr 06 22:20:03 PDT 2009  NO_QUERY  mybirch           \n",
       "1467811594  0         Mon Apr 06 22:20:03 PDT 2009  NO_QUERY  coZZ              \n",
       "1467811795  0         Mon Apr 06 22:20:05 PDT 2009  NO_QUERY  2Hood4Hollywood   \n",
       "1467812025  0         Mon Apr 06 22:20:09 PDT 2009  NO_QUERY  mimismo           \n",
       "\n",
       "                                                                                                                           text  \n",
       "id                                                                                                                               \n",
       "1467810369  @switchfoot http://twitpic.com/2y1zl - Awww, that's a bummer.  You shoulda got David Carr of Third Day to do it. ;D  \n",
       "1467810672  is upset that he can't update his Facebook by texting it... and might cry as a result  School today also. Blah!      \n",
       "1467810917  @Kenichan I dived many times for the ball. Managed to save 50%  The rest go out of bounds                            \n",
       "1467811184  my whole body feels itchy and like its on fire                                                                       \n",
       "1467811193  @nationwideclass no, it's not behaving at all. i'm mad. why am i here? because I can't see you all over there.       \n",
       "1467811372  @Kwesidei not the whole crew                                                                                         \n",
       "1467811592  Need a hug                                                                                                           \n",
       "1467811594  @LOLTrish hey  long time no see! Yes.. Rains a bit ,only a bit  LOL , I'm fine thanks , how's you ?                  \n",
       "1467811795  @Tatiana_K nope they didn't have it                                                                                  \n",
       "1467812025  @twittera que me muera ?                                                                                             "
      ]
     },
     "metadata": {},
     "output_type": "display_data"
    },
    {
     "name": "stdout",
     "output_type": "stream",
     "text": [
      "Size:  1600000\n"
     ]
    }
   ],
   "source": [
    "display(original_training_df.head(10))\n",
    "\n",
    "print(\"Size: \", len(original_training_df))"
   ]
  },
  {
   "cell_type": "markdown",
   "metadata": {},
   "source": [
    "### Inspection of our test set"
   ]
  },
  {
   "cell_type": "code",
   "execution_count": 4,
   "metadata": {},
   "outputs": [
    {
     "data": {
      "text/html": [
       "<div>\n",
       "<style scoped>\n",
       "    .dataframe tbody tr th:only-of-type {\n",
       "        vertical-align: middle;\n",
       "    }\n",
       "\n",
       "    .dataframe tbody tr th {\n",
       "        vertical-align: top;\n",
       "    }\n",
       "\n",
       "    .dataframe thead th {\n",
       "        text-align: right;\n",
       "    }\n",
       "</style>\n",
       "<table border=\"1\" class=\"dataframe\">\n",
       "  <thead>\n",
       "    <tr style=\"text-align: right;\">\n",
       "      <th></th>\n",
       "      <th>polarity</th>\n",
       "      <th>date</th>\n",
       "      <th>query</th>\n",
       "      <th>user</th>\n",
       "      <th>text</th>\n",
       "    </tr>\n",
       "    <tr>\n",
       "      <th>id</th>\n",
       "      <th></th>\n",
       "      <th></th>\n",
       "      <th></th>\n",
       "      <th></th>\n",
       "      <th></th>\n",
       "    </tr>\n",
       "  </thead>\n",
       "  <tbody>\n",
       "    <tr>\n",
       "      <th>9</th>\n",
       "      <td>0</td>\n",
       "      <td>Mon May 11 03:22:30 UTC 2009</td>\n",
       "      <td>aig</td>\n",
       "      <td>Seth937</td>\n",
       "      <td>Fuck this economy. I hate aig and their non loan given asses.</td>\n",
       "    </tr>\n",
       "    <tr>\n",
       "      <th>14</th>\n",
       "      <td>0</td>\n",
       "      <td>Mon May 11 03:32:48 UTC 2009</td>\n",
       "      <td>obama</td>\n",
       "      <td>kylesellers</td>\n",
       "      <td>@Karoli I firmly believe that Obama/Pelosi have ZERO desire to be civil.  It's a charade and a slogan, but they want to destroy conservatism</td>\n",
       "    </tr>\n",
       "    <tr>\n",
       "      <th>17</th>\n",
       "      <td>0</td>\n",
       "      <td>Mon May 11 05:06:22 UTC 2009</td>\n",
       "      <td>nike</td>\n",
       "      <td>vincentx24x</td>\n",
       "      <td>dear nike, stop with the flywire. that shit is a waste of science. and ugly. love, @vincentx24x</td>\n",
       "    </tr>\n",
       "    <tr>\n",
       "      <th>19</th>\n",
       "      <td>0</td>\n",
       "      <td>Mon May 11 05:20:28 UTC 2009</td>\n",
       "      <td>lebron</td>\n",
       "      <td>luv8242</td>\n",
       "      <td>I was talking to this guy last night and he was telling me that he is a die hard Spurs fan.  He also told me that he hates LeBron James.</td>\n",
       "    </tr>\n",
       "    <tr>\n",
       "      <th>21</th>\n",
       "      <td>0</td>\n",
       "      <td>Mon May 11 05:21:37 UTC 2009</td>\n",
       "      <td>lebron</td>\n",
       "      <td>ursecretdezire</td>\n",
       "      <td>@ludajuice Lebron is a Beast, but I'm still cheering 4 the A..til the end.</td>\n",
       "    </tr>\n",
       "    <tr>\n",
       "      <th>119</th>\n",
       "      <td>0</td>\n",
       "      <td>Sat May 16 16:19:24 UTC 2009</td>\n",
       "      <td>google</td>\n",
       "      <td>vamsmack</td>\n",
       "      <td>Played with an android google phone. The slide out screen scares me I would break that fucker so fast. Still prefer my iPhone.</td>\n",
       "    </tr>\n",
       "    <tr>\n",
       "      <th>120</th>\n",
       "      <td>0</td>\n",
       "      <td>Sat May 16 16:25:41 UTC 2009</td>\n",
       "      <td>aig</td>\n",
       "      <td>schroncd</td>\n",
       "      <td>US planning to resume the military tribunals at Guantanamo Bay... only this time those on trial will be AIG execs and Chrysler debt holders</td>\n",
       "    </tr>\n",
       "    <tr>\n",
       "      <th>121</th>\n",
       "      <td>0</td>\n",
       "      <td>Sat May 16 22:42:07 UTC 2009</td>\n",
       "      <td>itchy</td>\n",
       "      <td>MarissaLeeD</td>\n",
       "      <td>omg so bored &amp;amp; my tattoooos are so itchy!!  help! aha =)</td>\n",
       "    </tr>\n",
       "    <tr>\n",
       "      <th>122</th>\n",
       "      <td>0</td>\n",
       "      <td>Sat May 16 22:42:25 UTC 2009</td>\n",
       "      <td>itchy</td>\n",
       "      <td>robloposky</td>\n",
       "      <td>I'm itchy and miserable!</td>\n",
       "    </tr>\n",
       "    <tr>\n",
       "      <th>123</th>\n",
       "      <td>0</td>\n",
       "      <td>Sat May 16 22:42:44 UTC 2009</td>\n",
       "      <td>itchy</td>\n",
       "      <td>EdwinLValencia</td>\n",
       "      <td>@sekseemess no. I'm not itchy for now. Maybe later, lol.</td>\n",
       "    </tr>\n",
       "  </tbody>\n",
       "</table>\n",
       "</div>"
      ],
      "text/plain": [
       "     polarity                          date   query            user  \\\n",
       "id                                                                    \n",
       "9    0         Mon May 11 03:22:30 UTC 2009  aig     Seth937          \n",
       "14   0         Mon May 11 03:32:48 UTC 2009  obama   kylesellers      \n",
       "17   0         Mon May 11 05:06:22 UTC 2009  nike    vincentx24x      \n",
       "19   0         Mon May 11 05:20:28 UTC 2009  lebron  luv8242          \n",
       "21   0         Mon May 11 05:21:37 UTC 2009  lebron  ursecretdezire   \n",
       "119  0         Sat May 16 16:19:24 UTC 2009  google  vamsmack         \n",
       "120  0         Sat May 16 16:25:41 UTC 2009  aig     schroncd         \n",
       "121  0         Sat May 16 22:42:07 UTC 2009  itchy   MarissaLeeD      \n",
       "122  0         Sat May 16 22:42:25 UTC 2009  itchy   robloposky       \n",
       "123  0         Sat May 16 22:42:44 UTC 2009  itchy   EdwinLValencia   \n",
       "\n",
       "                                                                                                                                             text  \n",
       "id                                                                                                                                                 \n",
       "9    Fuck this economy. I hate aig and their non loan given asses.                                                                                 \n",
       "14   @Karoli I firmly believe that Obama/Pelosi have ZERO desire to be civil.  It's a charade and a slogan, but they want to destroy conservatism  \n",
       "17   dear nike, stop with the flywire. that shit is a waste of science. and ugly. love, @vincentx24x                                               \n",
       "19   I was talking to this guy last night and he was telling me that he is a die hard Spurs fan.  He also told me that he hates LeBron James.      \n",
       "21   @ludajuice Lebron is a Beast, but I'm still cheering 4 the A..til the end.                                                                    \n",
       "119  Played with an android google phone. The slide out screen scares me I would break that fucker so fast. Still prefer my iPhone.                \n",
       "120  US planning to resume the military tribunals at Guantanamo Bay... only this time those on trial will be AIG execs and Chrysler debt holders   \n",
       "121  omg so bored &amp; my tattoooos are so itchy!!  help! aha =)                                                                                  \n",
       "122  I'm itchy and miserable!                                                                                                                      \n",
       "123  @sekseemess no. I'm not itchy for now. Maybe later, lol.                                                                                      "
      ]
     },
     "metadata": {},
     "output_type": "display_data"
    },
    {
     "name": "stdout",
     "output_type": "stream",
     "text": [
      "Size:  359\n"
     ]
    }
   ],
   "source": [
    "display(original_test_df.head(10))\n",
    "\n",
    "print(\"Size: \", len(original_test_df))"
   ]
  },
  {
   "cell_type": "markdown",
   "metadata": {},
   "source": [
    "how are the categories of tweets distrubuted between positive and negative"
   ]
  },
  {
   "cell_type": "code",
   "execution_count": 5,
   "metadata": {},
   "outputs": [
    {
     "data": {
      "text/plain": [
       "Text(0.5,1,'Dataset labels distribuition')"
      ]
     },
     "execution_count": 5,
     "metadata": {},
     "output_type": "execute_result"
    },
    {
     "data": {
      "image/png": "[encoded data removed]",
      "text/plain": [
       "<Figure size 1152x576 with 1 Axes>"
      ]
     },
     "metadata": {
      "needs_background": "light"
     },
     "output_type": "display_data"
    }
   ],
   "source": [
    "target_cnt = collections.Counter(original_training_df['polarity'])\n",
    "\n",
    "plt.figure(figsize=(16,8))\n",
    "plt.bar(target_cnt.keys(), target_cnt.values())\n",
    "plt.xticks([0, 4], ['Negative', 'Positive'])\n",
    "plt.title(\"Dataset labels distribuition\")"
   ]
  },
  {
   "cell_type": "markdown",
   "metadata": {},
   "source": [
    "## Sampling\n",
    "\n",
    "In order to ensure that our train / dev/ test / heldout sets follow the same probability distribution, since the dataset contains many samples and because half of them is Negative(0) and the other half is Positive(4) we cannot just take N random number of rows from the whole dataset and we need to distribute it beside the positive and negative samples which will be done as below."
   ]
  },
  {
   "cell_type": "markdown",
   "metadata": {},
   "source": [
    "The dataset contains thes same size of rows for Negative and Positive tweets, here we will keep a balanced set of 50000 positive and 50000 negative tweets taken randomly."
   ]
  },
  {
   "cell_type": "code",
   "execution_count": 6,
   "metadata": {},
   "outputs": [],
   "source": [
    "training_df = utilities.take_n_samples_from_each_category(original_training_df, 50000)"
   ]
  },
  {
   "cell_type": "markdown",
   "metadata": {},
   "source": [
    "## Preprocessing"
   ]
  },
  {
   "cell_type": "code",
   "execution_count": 7,
   "metadata": {},
   "outputs": [],
   "source": [
    "df = training_df.copy()\n",
    "df['text_before_preprocess'] = df['text']\n",
    "df.drop(columns=['date', 'query'], axis=1, inplace=True)\n",
    "df['length_before_preprocess'] = df['text_before_preprocess'].str.len()\n",
    "df.reset_index(drop=True, inplace=True)"
   ]
  },
  {
   "cell_type": "code",
   "execution_count": 8,
   "metadata": {},
   "outputs": [],
   "source": [
    "df['text']= df['text'].apply(lambda row: preprocessing.preprocess_row(row))\n",
    "df['length'] = df['text'].str.len()"
   ]
  },
  {
   "cell_type": "markdown",
   "metadata": {},
   "source": [
    "### Keep only relevant data\n",
    "We keep only the list of texts to create the embeddings\n",
    "and the list of the polarity per tweet as target"
   ]
  },
  {
   "cell_type": "code",
   "execution_count": 9,
   "metadata": {},
   "outputs": [],
   "source": [
    "corpus = df['text'].values.tolist()\n",
    "target = df['polarity'].values.tolist()"
   ]
  },
  {
   "cell_type": "code",
   "execution_count": 10,
   "metadata": {},
   "outputs": [],
   "source": [
    "df = df.drop_duplicates(subset=['user','text'], keep = 'first')"
   ]
  },
  {
   "cell_type": "code",
   "execution_count": 11,
   "metadata": {},
   "outputs": [],
   "source": [
    "df.drop(columns=['user'], axis=1, inplace=True)\n",
    "df.reset_index(drop=True, inplace=True)"
   ]
  },
  {
   "cell_type": "markdown",
   "metadata": {},
   "source": [
    "## Train / Heldout / Dev sets\n",
    "\n",
    "- Τraining set: will be used for the training of our MLP\n",
    "- Heldout set: will be used for hyperparameter tuning\n",
    "- Development (validation) set: will be used to monitor the performance of our MLP during training and optimization process\n",
    "\n",
    "We have employed the established 50/25/25 rule."
   ]
  },
  {
   "cell_type": "code",
   "execution_count": 12,
   "metadata": {},
   "outputs": [],
   "source": [
    "X_train, X_heldout_dev, y_train, y_heldout_dev = sklearn.model_selection.train_test_split(\n",
    "    corpus, \n",
    "    target, \n",
    "    test_size = 0.25, \n",
    "    shuffle = True\n",
    ")\n",
    "\n",
    "X_heldout, X_dev, y_heldout, y_dev = sklearn.model_selection.train_test_split(\n",
    "    X_heldout_dev, \n",
    "    y_heldout_dev, \n",
    "    test_size = 0.5, \n",
    "    shuffle = True\n",
    ")"
   ]
  },
  {
   "cell_type": "code",
   "execution_count": 13,
   "metadata": {},
   "outputs": [
    {
     "name": "stdout",
     "output_type": "stream",
     "text": [
      "Size of X_train:  75000\n",
      "Size of X_heldout:  12500\n",
      "Size of X_dev:  12500\n",
      "Size of y_train:  75000\n",
      "Size of y_heldout:  12500\n",
      "Size of y_dev:  12500\n"
     ]
    }
   ],
   "source": [
    "print('Size of X_train: ', len(X_train))\n",
    "print('Size of X_heldout: ', len(X_heldout))\n",
    "print('Size of X_dev: ', len(X_dev))\n",
    "print('Size of y_train: ', len(y_train))\n",
    "print('Size of y_heldout: ', len(y_heldout))\n",
    "print('Size of y_dev: ', len(y_dev))"
   ]
  },
  {
   "cell_type": "code",
   "execution_count": 14,
   "metadata": {},
   "outputs": [],
   "source": [
    "df_test = original_test_df.copy()\n",
    "df_test.drop(columns=['date', 'query', 'user'], axis=1, inplace=True)\n",
    "df_test.reset_index(drop=True, inplace=True)\n",
    "df_test['text']= df_test['text'].apply(lambda row: preprocessing.preprocess_row(row))\n",
    "X_test = df_test['text'].values.tolist()\n",
    "y_test = df_test['polarity'].values.tolist()"
   ]
  },
  {
   "cell_type": "code",
   "execution_count": 15,
   "metadata": {},
   "outputs": [],
   "source": [
    "le = sklearn.preprocessing.LabelEncoder()\n",
    "le.fit(y_train)\n",
    "y_train = le.transform(y_train)\n",
    "\n",
    "le = sklearn.preprocessing.LabelEncoder()\n",
    "le.fit(y_dev)\n",
    "y_dev = le.transform(y_dev)\n",
    "\n",
    "le = sklearn.preprocessing.LabelEncoder()\n",
    "le.fit(y_heldout)\n",
    "y_heldout = le.transform(y_heldout)\n",
    "\n",
    "le = sklearn.preprocessing.LabelEncoder()\n",
    "le.fit(y_test)\n",
    "y_test = le.transform(y_test)"
   ]
  },
  {
   "cell_type": "markdown",
   "metadata": {},
   "source": [
    "## Baseline model experiments"
   ]
  },
  {
   "cell_type": "code",
   "execution_count": 16,
   "metadata": {},
   "outputs": [],
   "source": [
    "def checkpoint(name):\n",
    "    return keras.callbacks.ModelCheckpoint(\n",
    "        name, \n",
    "        monitor = 'val_f1', \n",
    "        verbose = 1, \n",
    "        save_best_only = True, \n",
    "        mode = 'max'\n",
    "    )\n",
    "\n",
    "early_stopping = keras.callbacks.EarlyStopping(\n",
    "    monitor = 'val_loss', \n",
    "    mode = 'min',\n",
    "    patience = 5,\n",
    "    verbose = 1 \n",
    ")"
   ]
  },
  {
   "cell_type": "markdown",
   "metadata": {},
   "source": [
    "## Elmo"
   ]
  },
  {
   "cell_type": "code",
   "execution_count": 17,
   "metadata": {},
   "outputs": [
    {
     "name": "stderr",
     "output_type": "stream",
     "text": [
      "WARNING: Logging before flag parsing goes to stderr.\n",
      "W0716 21:14:34.454478 140586483119936 deprecation_wrapper.py:119] From /home/manos/.conda/envs/ta_assignment4/lib/python3.6/site-packages/keras/backend/tensorflow_backend.py:74: The name tf.get_default_graph is deprecated. Please use tf.compat.v1.get_default_graph instead.\n",
      "\n",
      "W0716 21:14:34.458448 140586483119936 deprecation_wrapper.py:119] From /home/manos/.conda/envs/ta_assignment4/lib/python3.6/site-packages/keras/backend/tensorflow_backend.py:517: The name tf.placeholder is deprecated. Please use tf.compat.v1.placeholder instead.\n",
      "\n",
      "W0716 21:14:35.684434 140586483119936 deprecation_wrapper.py:119] From /home/manos/.conda/envs/ta_assignment4/lib/python3.6/site-packages/keras/backend/tensorflow_backend.py:133: The name tf.placeholder_with_default is deprecated. Please use tf.compat.v1.placeholder_with_default instead.\n",
      "\n",
      "W0716 21:14:35.692477 140586483119936 deprecation.py:506] From /home/manos/.conda/envs/ta_assignment4/lib/python3.6/site-packages/keras/backend/tensorflow_backend.py:3445: calling dropout (from tensorflow.python.ops.nn_ops) with keep_prob is deprecated and will be removed in a future version.\n",
      "Instructions for updating:\n",
      "Please use `rate` instead of `keep_prob`. Rate should be set to `rate = 1 - keep_prob`.\n",
      "W0716 21:14:35.712556 140586483119936 deprecation_wrapper.py:119] From /home/manos/.conda/envs/ta_assignment4/lib/python3.6/site-packages/keras/backend/tensorflow_backend.py:4138: The name tf.random_uniform is deprecated. Please use tf.random.uniform instead.\n",
      "\n",
      "W0716 21:14:35.757466 140586483119936 deprecation_wrapper.py:119] From /home/manos/.conda/envs/ta_assignment4/lib/python3.6/site-packages/keras/optimizers.py:790: The name tf.train.Optimizer is deprecated. Please use tf.compat.v1.train.Optimizer instead.\n",
      "\n",
      "W0716 21:14:35.763553 140586483119936 deprecation_wrapper.py:119] From /home/manos/.conda/envs/ta_assignment4/lib/python3.6/site-packages/keras/backend/tensorflow_backend.py:3376: The name tf.log is deprecated. Please use tf.math.log instead.\n",
      "\n",
      "W0716 21:14:35.768253 140586483119936 deprecation.py:323] From /home/manos/.conda/envs/ta_assignment4/lib/python3.6/site-packages/tensorflow/python/ops/nn_impl.py:180: add_dispatch_support.<locals>.wrapper (from tensorflow.python.ops.array_ops) is deprecated and will be removed in a future version.\n",
      "Instructions for updating:\n",
      "Use tf.where in 2.0, which has the same broadcast rule as np.where\n"
     ]
    }
   ],
   "source": [
    "import tensorflow as tf\n",
    "import tensorflow_hub as hub\n",
    "from keras import backend as K\n",
    "import keras.layers as layers\n",
    "from keras.models import Model, load_model\n",
    "from keras.engine import Layer\n",
    "import numpy as np\n",
    "\n",
    "from keras.models import Model, Input\n",
    "from keras.layers.merge import add\n",
    "from keras.layers import LSTM, Embedding, Dense, TimeDistributed, Dropout, Bidirectional, Lambda\n",
    "\n",
    "# Initialize session\n",
    "sess = tf.Session()\n",
    "K.set_session(sess)\n",
    "\n",
    "DENSE_NUM_NEURONS = 100\n",
    "N_CLASSES = 1\n",
    "\n",
    "class ElmoEmbeddingLayer(Layer):\n",
    "    def __init__(self, **kwargs):\n",
    "        self.dimensions = 1024\n",
    "        self.trainable=True\n",
    "        super(ElmoEmbeddingLayer, self).__init__(**kwargs)\n",
    "\n",
    "    def build(self, input_shape):\n",
    "        self.elmo = hub.Module('https://tfhub.dev/google/elmo/2', trainable=self.trainable,\n",
    "                               name=\"{}_module\".format(self.name))\n",
    "\n",
    "        self.trainable_weights += K.tf.trainable_variables(scope=\"^{}_module/.*\".format(self.name))\n",
    "        super(ElmoEmbeddingLayer, self).build(input_shape)\n",
    "\n",
    "    def call(self, x, mask=None):\n",
    "        result = self.elmo(K.squeeze(K.cast(x, tf.string), axis=1),\n",
    "                      as_dict=True,\n",
    "                      signature='default',\n",
    "                      )['default']\n",
    "        return result\n",
    "\n",
    "    def compute_mask(self, inputs, mask=None):\n",
    "        return K.not_equal(inputs, '--PAD--')\n",
    "\n",
    "    def compute_output_shape(self, input_shape):\n",
    "        return (input_shape[0], self.dimensions)\n",
    "\n",
    "input_text = layers.Input(shape=(1,), dtype=\"string\")\n",
    "embedding = ElmoEmbeddingLayer()(input_text)\n",
    "dropout = Dropout(rate=0.2)(embedding)\n",
    "dense = layers.Dense(DENSE_NUM_NEURONS, activation='relu')(dropout)\n",
    "pred = layers.Dense(N_CLASSES, activation='sigmoid')(dense)\n",
    "\n",
    "elmo_model = Model(inputs=[input_text], outputs=pred)\n",
    "elmo_model.compile(\n",
    "    loss='binary_crossentropy', \n",
    "    optimizer=keras.optimizers.Adam(lr = 0.001), \n",
    "    metrics=[utilities.precision, utilities.recall, utilities.f1, utilities.accuracy])"
   ]
  },
  {
   "cell_type": "markdown",
   "metadata": {},
   "source": [
    "Training with elmo is pretty slow since we have used batches of 50 tweets. We had to do that since the elmob embeddings has 1024 size and we get many OOM expcetions using GPU."
   ]
  },
  {
   "cell_type": "code",
   "execution_count": 18,
   "metadata": {},
   "outputs": [
    {
     "name": "stdout",
     "output_type": "stream",
     "text": [
      "Train on 75000 samples, validate on 12500 samples\n"
     ]
    },
    {
     "data": {
      "application/vnd.jupyter.widget-view+json": {
       "model_id": "eebccd2b1e6141bdb73693115c012f6e",
       "version_major": 2,
       "version_minor": 0
      },
      "text/plain": [
       "HBox(children=(IntProgress(value=0, description='Training', max=50, style=ProgressStyle(description_width='ini…"
      ]
     },
     "metadata": {},
     "output_type": "display_data"
    },
    {
     "name": "stdout",
     "output_type": "stream",
     "text": [
      "Epoch 1/50\n"
     ]
    },
    {
     "data": {
      "application/vnd.jupyter.widget-view+json": {
       "model_id": "1be6a85286c040fe841bb3f1294554ac",
       "version_major": 2,
       "version_minor": 0
      },
      "text/plain": [
       "HBox(children=(IntProgress(value=0, description='Epoch 0', max=75000, style=ProgressStyle(description_width='i…"
      ]
     },
     "metadata": {},
     "output_type": "display_data"
    },
    {
     "name": "stdout",
     "output_type": "stream",
     "text": [
      " - 420s - loss: 0.5260 - precision: 0.7426 - recall: 0.7314 - f1: 0.7287 - accuracy: 0.7353 - val_loss: 0.5079 - val_precision: 0.7860 - val_recall: 0.6923 - val_f1: 0.7318 - val_accuracy: 0.7541\n",
      "\n",
      "Epoch 00001: val_f1 improved from -inf to 0.73181, saving model to models/elmo\n",
      "Epoch 2/50\n"
     ]
    },
    {
     "data": {
      "application/vnd.jupyter.widget-view+json": {
       "model_id": "323b3f6bbda4437f80b6ad00f8d42810",
       "version_major": 2,
       "version_minor": 0
      },
      "text/plain": [
       "HBox(children=(IntProgress(value=0, description='Epoch 1', max=75000, style=ProgressStyle(description_width='i…"
      ]
     },
     "metadata": {},
     "output_type": "display_data"
    },
    {
     "name": "stdout",
     "output_type": "stream",
     "text": [
      " - 409s - loss: 0.4942 - precision: 0.7626 - recall: 0.7518 - f1: 0.7519 - accuracy: 0.7572 - val_loss: 0.4934 - val_precision: 0.7345 - val_recall: 0.8178 - val_f1: 0.7707 - val_accuracy: 0.7634\n",
      "\n",
      "Epoch 00002: val_f1 improved from 0.73181 to 0.77067, saving model to models/elmo\n",
      "Epoch 3/50\n"
     ]
    },
    {
     "data": {
      "application/vnd.jupyter.widget-view+json": {
       "model_id": "343019f4c19a4bb987322f212bd1e4a5",
       "version_major": 2,
       "version_minor": 0
      },
      "text/plain": [
       "HBox(children=(IntProgress(value=0, description='Epoch 2', max=75000, style=ProgressStyle(description_width='i…"
      ]
     },
     "metadata": {},
     "output_type": "display_data"
    },
    {
     "name": "stdout",
     "output_type": "stream",
     "text": [
      " - 413s - loss: 0.4777 - precision: 0.7741 - recall: 0.7616 - f1: 0.7630 - accuracy: 0.7685 - val_loss: 0.4817 - val_precision: 0.7562 - val_recall: 0.7874 - val_f1: 0.7682 - val_accuracy: 0.7688\n",
      "\n",
      "Epoch 00003: val_f1 did not improve from 0.77067\n",
      "Epoch 4/50\n"
     ]
    },
    {
     "data": {
      "application/vnd.jupyter.widget-view+json": {
       "model_id": "badb6541ddbd461ab5b5e8a2912d96c3",
       "version_major": 2,
       "version_minor": 0
      },
      "text/plain": [
       "HBox(children=(IntProgress(value=0, description='Epoch 3', max=75000, style=ProgressStyle(description_width='i…"
      ]
     },
     "metadata": {},
     "output_type": "display_data"
    },
    {
     "name": "stdout",
     "output_type": "stream",
     "text": [
      " - 412s - loss: 0.4655 - precision: 0.7814 - recall: 0.7719 - f1: 0.7718 - accuracy: 0.7766 - val_loss: 0.4866 - val_precision: 0.8108 - val_recall: 0.6887 - val_f1: 0.7401 - val_accuracy: 0.7664\n",
      "\n",
      "Epoch 00004: val_f1 did not improve from 0.77067\n",
      "Epoch 5/50\n"
     ]
    },
    {
     "data": {
      "application/vnd.jupyter.widget-view+json": {
       "model_id": "21ad3b9e82a04ac3adaf5f52d07c73ba",
       "version_major": 2,
       "version_minor": 0
      },
      "text/plain": [
       "HBox(children=(IntProgress(value=0, description='Epoch 4', max=75000, style=ProgressStyle(description_width='i…"
      ]
     },
     "metadata": {},
     "output_type": "display_data"
    },
    {
     "name": "stdout",
     "output_type": "stream",
     "text": [
      " - 425s - loss: 0.4540 - precision: 0.7895 - recall: 0.7798 - f1: 0.7805 - accuracy: 0.7849 - val_loss: 0.4729 - val_precision: 0.7850 - val_recall: 0.7565 - val_f1: 0.7667 - val_accuracy: 0.7769\n",
      "\n",
      "Epoch 00005: val_f1 did not improve from 0.77067\n",
      "Epoch 6/50\n"
     ]
    },
    {
     "data": {
      "application/vnd.jupyter.widget-view+json": {
       "model_id": "57762c8627df44c084f35845ce585265",
       "version_major": 2,
       "version_minor": 0
      },
      "text/plain": [
       "HBox(children=(IntProgress(value=0, description='Epoch 5', max=75000, style=ProgressStyle(description_width='i…"
      ]
     },
     "metadata": {},
     "output_type": "display_data"
    },
    {
     "name": "stdout",
     "output_type": "stream",
     "text": [
      " - 441s - loss: 0.4458 - precision: 0.7952 - recall: 0.7843 - f1: 0.7854 - accuracy: 0.7902 - val_loss: 0.4803 - val_precision: 0.7421 - val_recall: 0.8250 - val_f1: 0.7778 - val_accuracy: 0.7710\n",
      "\n",
      "Epoch 00006: val_f1 improved from 0.77067 to 0.77782, saving model to models/elmo\n",
      "Epoch 7/50\n"
     ]
    },
    {
     "data": {
      "application/vnd.jupyter.widget-view+json": {
       "model_id": "69b44311dff14a6a8a0c4c43b4d6bef0",
       "version_major": 2,
       "version_minor": 0
      },
      "text/plain": [
       "HBox(children=(IntProgress(value=0, description='Epoch 6', max=75000, style=ProgressStyle(description_width='i…"
      ]
     },
     "metadata": {},
     "output_type": "display_data"
    },
    {
     "name": "stdout",
     "output_type": "stream",
     "text": [
      " - 464s - loss: 0.4355 - precision: 0.7990 - recall: 0.7902 - f1: 0.7905 - accuracy: 0.7950 - val_loss: 0.4746 - val_precision: 0.7622 - val_recall: 0.7897 - val_f1: 0.7721 - val_accuracy: 0.7738\n",
      "\n",
      "Epoch 00007: val_f1 did not improve from 0.77782\n",
      "Epoch 8/50\n"
     ]
    },
    {
     "data": {
      "application/vnd.jupyter.widget-view+json": {
       "model_id": "be4c9fc3bfc24bef8aebb3a77997710a",
       "version_major": 2,
       "version_minor": 0
      },
      "text/plain": [
       "HBox(children=(IntProgress(value=0, description='Epoch 7', max=75000, style=ProgressStyle(description_width='i…"
      ]
     },
     "metadata": {},
     "output_type": "display_data"
    },
    {
     "name": "stdout",
     "output_type": "stream",
     "text": [
      " - 465s - loss: 0.4254 - precision: 0.8049 - recall: 0.7968 - f1: 0.7968 - accuracy: 0.8011 - val_loss: 0.4800 - val_precision: 0.7472 - val_recall: 0.8063 - val_f1: 0.7723 - val_accuracy: 0.7686\n",
      "\n",
      "Epoch 00008: val_f1 did not improve from 0.77782\n",
      "Epoch 9/50\n"
     ]
    },
    {
     "data": {
      "application/vnd.jupyter.widget-view+json": {
       "model_id": "83034091f22148c0bb24cd7517b32b68",
       "version_major": 2,
       "version_minor": 0
      },
      "text/plain": [
       "HBox(children=(IntProgress(value=0, description='Epoch 8', max=75000, style=ProgressStyle(description_width='i…"
      ]
     },
     "metadata": {},
     "output_type": "display_data"
    },
    {
     "name": "stdout",
     "output_type": "stream",
     "text": [
      " - 456s - loss: 0.4164 - precision: 0.8117 - recall: 0.8026 - f1: 0.8032 - accuracy: 0.8073 - val_loss: 0.4771 - val_precision: 0.7821 - val_recall: 0.7547 - val_f1: 0.7642 - val_accuracy: 0.7745\n",
      "\n",
      "Epoch 00009: val_f1 did not improve from 0.77782\n",
      "Epoch 10/50\n"
     ]
    },
    {
     "data": {
      "application/vnd.jupyter.widget-view+json": {
       "model_id": "f7a771844fd94721a2d1b10b8f438ee1",
       "version_major": 2,
       "version_minor": 0
      },
      "text/plain": [
       "HBox(children=(IntProgress(value=0, description='Epoch 9', max=75000, style=ProgressStyle(description_width='i…"
      ]
     },
     "metadata": {},
     "output_type": "display_data"
    },
    {
     "name": "stdout",
     "output_type": "stream",
     "text": [
      " - 423s - loss: 0.4049 - precision: 0.8184 - recall: 0.8083 - f1: 0.8095 - accuracy: 0.8136 - val_loss: 0.4852 - val_precision: 0.7486 - val_recall: 0.8190 - val_f1: 0.7790 - val_accuracy: 0.7740\n",
      "\n",
      "Epoch 00010: val_f1 improved from 0.77782 to 0.77902, saving model to models/elmo\n",
      "Epoch 00010: early stopping\n",
      "\n"
     ]
    },
    {
     "data": {
      "text/plain": [
       "<keras.callbacks.History at 0x7fdcd64ddba8>"
      ]
     },
     "execution_count": 18,
     "metadata": {},
     "output_type": "execute_result"
    }
   ],
   "source": [
    "\n",
    "\n",
    "X_train_1 = np.array(X_train, dtype=object)[:, np.newaxis]\n",
    "X_heldout_1 = np.array(X_heldout, dtype=object)[:, np.newaxis]\n",
    "\n",
    "elmo_model.fit(\n",
    "    X_train_1, \n",
    "    y_train,\n",
    "    validation_data=(X_heldout_1, y_heldout),\n",
    "    batch_size = 50,\n",
    "    epochs = 50,\n",
    "    verbose = 2,\n",
    "    callbacks = [checkpoint('models/elmo'), early_stopping, keras_tqdm.TQDMNotebookCallback(leave_inner = True, leave_outer = True)],\n",
    "    shuffle = True\n",
    ")"
   ]
  },
  {
   "cell_type": "code",
   "execution_count": 20,
   "metadata": {},
   "outputs": [],
   "source": [
    "X_dev_1 = np.array(X_dev, dtype=object)[:, np.newaxis]"
   ]
  },
  {
   "cell_type": "code",
   "execution_count": 21,
   "metadata": {},
   "outputs": [
    {
     "name": "stdout",
     "output_type": "stream",
     "text": [
      "_________________________________________________________________\n",
      "Layer (type)                 Output Shape              Param #   \n",
      "=================================================================\n",
      "input_1 (InputLayer)         (None, 1)                 0         \n",
      "_________________________________________________________________\n",
      "elmo_embedding_layer_1 (Elmo (None, 1024)              4         \n",
      "_________________________________________________________________\n",
      "dropout_1 (Dropout)          (None, 1024)              0         \n",
      "_________________________________________________________________\n",
      "dense_1 (Dense)              (None, 100)               102500    \n",
      "_________________________________________________________________\n",
      "dense_2 (Dense)              (None, 1)                 101       \n",
      "=================================================================\n",
      "Total params: 102,605\n",
      "Trainable params: 102,605\n",
      "Non-trainable params: 0\n",
      "_________________________________________________________________\n",
      "None\n",
      "12500/12500 [==============================] - 64s 5ms/step\n",
      "\n",
      "Test binary cross entropy: 0.4629\n",
      "\n",
      "Test precision: 0.7640\n",
      "\n",
      "Test recall: 0.8315\n",
      "\n",
      "Test f1: 0.7942\n",
      "\n",
      "Test accuracy: 0.7857\n"
     ]
    },
    {
     "data": {
      "image/png": "[encoded data removed]",
      "text/plain": [
       "<Figure size 1440x360 with 3 Axes>"
      ]
     },
     "metadata": {
      "needs_background": "light"
     },
     "output_type": "display_data"
    }
   ],
   "source": [
    "print(elmo_model.summary())\n",
    "\n",
    "utilities.plot_history(elmo_model.history)\n",
    "\n",
    "utilities.print_evaluation(elmo_model, X_dev_1, y_dev)"
   ]
  },
  {
   "cell_type": "markdown",
   "metadata": {},
   "source": [
    "---"
   ]
  }
 ],
 "metadata": {
  "kernelspec": {
   "display_name": "Python 3",
   "language": "python",
   "name": "python3"
  },
  "language_info": {
   "codemirror_mode": {
    "name": "ipython",
    "version": 3
   },
   "file_extension": ".py",
   "mimetype": "text/x-python",
   "name": "python",
   "nbconvert_exporter": "python",
   "pygments_lexer": "ipython3",
   "version": "3.6.8"
  },
  "toc": {
   "base_numbering": 1,
   "nav_menu": {
    "height": "327px",
    "width": "452px"
   },
   "number_sections": true,
   "sideBar": true,
   "skip_h1_title": true,
   "title_cell": "Table of Contents",
   "title_sidebar": "Contents",
   "toc_cell": false,
   "toc_position": {
    "height": "calc(100% - 180px)",
    "left": "10px",
    "top": "150px",
    "width": "468px"
   },
   "toc_section_display": true,
   "toc_window_display": true
  },
  "toc-autonumbering": true,
  "toc-showcode": false,
  "toc-showtags": false,
  "widgets": {
   "application/vnd.jupyter.widget-state+json": {
    "state": {
     "061edf328082448ba64819726c2b2a14": {
      "model_module": "@jupyter-widgets/base",
      "model_module_version": "1.2.0",
      "model_name": "LayoutModel",
      "state": {}
     },
     "096361971d904d5c875205aed722d118": {
      "model_module": "@jupyter-widgets/controls",
      "model_module_version": "1.5.0",
      "model_name": "ProgressStyleModel",
      "state": {
       "description_width": "initial"
      }
     },
     "0d25ca3f12724d3f9f338e239ec29080": {
      "model_module": "@jupyter-widgets/controls",
      "model_module_version": "1.5.0",
      "model_name": "ProgressStyleModel",
      "state": {
       "description_width": "initial"
      }
     },
     "1047904d7abc4a83be4b27d626b68a2e": {
      "model_module": "@jupyter-widgets/controls",
      "model_module_version": "1.5.0",
      "model_name": "ProgressStyleModel",
      "state": {
       "description_width": "initial"
      }
     },
     "110cdb660f324179a214bf3232ced99d": {
      "model_module": "@jupyter-widgets/base",
      "model_module_version": "1.2.0",
      "model_name": "LayoutModel",
      "state": {}
     },
     "12121e38268a4affa647c22257cd9166": {
      "model_module": "@jupyter-widgets/base",
      "model_module_version": "1.2.0",
      "model_name": "LayoutModel",
      "state": {}
     },
     "144675a24ca74e49bf0e281ec31ac168": {
      "model_module": "@jupyter-widgets/controls",
      "model_module_version": "1.5.0",
      "model_name": "ProgressStyleModel",
      "state": {
       "description_width": "initial"
      }
     },
     "1b3a191895874938a42220f8c652b204": {
      "model_module": "@jupyter-widgets/base",
      "model_module_version": "1.2.0",
      "model_name": "LayoutModel",
      "state": {}
     },
     "1be6a85286c040fe841bb3f1294554ac": {
      "model_module": "@jupyter-widgets/controls",
      "model_module_version": "1.5.0",
      "model_name": "HBoxModel",
      "state": {
       "children": [
        "IPY_MODEL_bd0a439f147d48ad8b62a4cf76fb41d9",
        "IPY_MODEL_248a2255b22a4715ad973dce7a88707f"
       ],
       "layout": "IPY_MODEL_cc57fe3b738a4fffb026ab6b329b63b4"
      }
     },
     "1e8ad6a322d84b96a3ee2970df332de0": {
      "model_module": "@jupyter-widgets/controls",
      "model_module_version": "1.5.0",
      "model_name": "DescriptionStyleModel",
      "state": {
       "description_width": ""
      }
     },
     "1f57f45da3834b2c9ec28e99c4108b52": {
      "model_module": "@jupyter-widgets/controls",
      "model_module_version": "1.5.0",
      "model_name": "HTMLModel",
      "state": {
       "layout": "IPY_MODEL_46174729d0144c4d9134cc860a8d697f",
       "style": "IPY_MODEL_6625f5030aa24629b6dc9ba572cf5f90",
       "value": "[loss: 0.405, precision: 0.818, recall: 0.808, f1: 0.810, accuracy: 0.814, val_loss: 0.485, val_precision: 0.749, val_recall: 0.819, val_f1: 0.779, val_accuracy: 0.774] : 100% 75000/75000 [07:02&lt;00:00,  2.94it/s]"
      }
     },
     "21ad3b9e82a04ac3adaf5f52d07c73ba": {
      "model_module": "@jupyter-widgets/controls",
      "model_module_version": "1.5.0",
      "model_name": "HBoxModel",
      "state": {
       "children": [
        "IPY_MODEL_cee085e14035432e8c711c8d972058ce",
        "IPY_MODEL_47595ebfdc144fe0a0005a22b86ad0f3"
       ],
       "layout": "IPY_MODEL_7ef941fc324d489b9e0e7db1c2d1fa84"
      }
     },
     "22d764293f154c4b81c8d27568f91d1c": {
      "model_module": "@jupyter-widgets/controls",
      "model_module_version": "1.5.0",
      "model_name": "ProgressStyleModel",
      "state": {
       "description_width": "initial"
      }
     },
     "246e59a4b0a04ee19bb3dd0dc428f9e0": {
      "model_module": "@jupyter-widgets/controls",
      "model_module_version": "1.5.0",
      "model_name": "DescriptionStyleModel",
      "state": {
       "description_width": ""
      }
     },
     "248a2255b22a4715ad973dce7a88707f": {
      "model_module": "@jupyter-widgets/controls",
      "model_module_version": "1.5.0",
      "model_name": "HTMLModel",
      "state": {
       "layout": "IPY_MODEL_64e53ea664fc4a81a7b588ec94de2508",
       "style": "IPY_MODEL_94527ba70ac24e0f831fc88a2c26e146",
       "value": "[loss: 0.526, precision: 0.743, recall: 0.731, f1: 0.729, accuracy: 0.735, val_loss: 0.508, val_precision: 0.786, val_recall: 0.692, val_f1: 0.732, val_accuracy: 0.754] : 100% 75000/75000 [07:00&lt;00:00,  2.88it/s]"
      }
     },
     "286be514bc71461fa201c7de25bf5b31": {
      "model_module": "@jupyter-widgets/controls",
      "model_module_version": "1.5.0",
      "model_name": "ProgressStyleModel",
      "state": {
       "description_width": "initial"
      }
     },
     "288cf92a3db64aa89cddd91dba3a7421": {
      "model_module": "@jupyter-widgets/base",
      "model_module_version": "1.2.0",
      "model_name": "LayoutModel",
      "state": {}
     },
     "30e7164824494c6f866d4f6e2bafaa12": {
      "model_module": "@jupyter-widgets/controls",
      "model_module_version": "1.5.0",
      "model_name": "DescriptionStyleModel",
      "state": {
       "description_width": ""
      }
     },
     "323b3f6bbda4437f80b6ad00f8d42810": {
      "model_module": "@jupyter-widgets/controls",
      "model_module_version": "1.5.0",
      "model_name": "HBoxModel",
      "state": {
       "children": [
        "IPY_MODEL_bded886e17fd407d80f4308d83873ba2",
        "IPY_MODEL_38ffd47507b24de7ab3afe9561ffa3df"
       ],
       "layout": "IPY_MODEL_533919bc0c0b4f1f9016575cbd5f5c60"
      }
     },
     "32531d905db942b288a32483aa967690": {
      "model_module": "@jupyter-widgets/base",
      "model_module_version": "1.2.0",
      "model_name": "LayoutModel",
      "state": {}
     },
     "3311cf27bdea4ade819319b736fc4a50": {
      "model_module": "@jupyter-widgets/controls",
      "model_module_version": "1.5.0",
      "model_name": "IntProgressModel",
      "state": {
       "bar_style": "success",
       "description": "Epoch 6",
       "layout": "IPY_MODEL_810017576a1f45e9bbadd37cc2ede4cb",
       "max": 75000,
       "style": "IPY_MODEL_e421039a0fed41e3ab9789a3a5ebc5ec",
       "value": 75000
      }
     },
     "343019f4c19a4bb987322f212bd1e4a5": {
      "model_module": "@jupyter-widgets/controls",
      "model_module_version": "1.5.0",
      "model_name": "HBoxModel",
      "state": {
       "children": [
        "IPY_MODEL_d56dcd03e85644158b3cd2e0b4819213",
        "IPY_MODEL_e1f5c0fe8d1040dc80ef0b490508888f"
       ],
       "layout": "IPY_MODEL_7f6d41fa103643569ed74ff9f7a41f54"
      }
     },
     "360adc230fce4807ab9eb6e4e20e8797": {
      "model_module": "@jupyter-widgets/controls",
      "model_module_version": "1.5.0",
      "model_name": "DescriptionStyleModel",
      "state": {
       "description_width": ""
      }
     },
     "38ffd47507b24de7ab3afe9561ffa3df": {
      "model_module": "@jupyter-widgets/controls",
      "model_module_version": "1.5.0",
      "model_name": "HTMLModel",
      "state": {
       "layout": "IPY_MODEL_634b3cf3acb04f5cb1169220e0bb4d59",
       "style": "IPY_MODEL_360adc230fce4807ab9eb6e4e20e8797",
       "value": "[loss: 0.494, precision: 0.763, recall: 0.752, f1: 0.752, accuracy: 0.757, val_loss: 0.493, val_precision: 0.735, val_recall: 0.818, val_f1: 0.771, val_accuracy: 0.763] : 100% 75000/75000 [06:49&lt;00:00,  2.96it/s]"
      }
     },
     "3a48e5eb20864681a8839dfab3d429c1": {
      "model_module": "@jupyter-widgets/controls",
      "model_module_version": "1.5.0",
      "model_name": "HTMLModel",
      "state": {
       "layout": "IPY_MODEL_288cf92a3db64aa89cddd91dba3a7421",
       "style": "IPY_MODEL_1e8ad6a322d84b96a3ee2970df332de0",
       "value": "[loss: 0.436, precision: 0.799, recall: 0.790, f1: 0.791, accuracy: 0.795, val_loss: 0.475, val_precision: 0.762, val_recall: 0.790, val_f1: 0.772, val_accuracy: 0.774] : 100% 75000/75000 [07:43&lt;00:00,  2.64it/s]"
      }
     },
     "431855a51ff84e748c2573ccaca15264": {
      "model_module": "@jupyter-widgets/base",
      "model_module_version": "1.2.0",
      "model_name": "LayoutModel",
      "state": {}
     },
     "46174729d0144c4d9134cc860a8d697f": {
      "model_module": "@jupyter-widgets/base",
      "model_module_version": "1.2.0",
      "model_name": "LayoutModel",
      "state": {}
     },
     "47595ebfdc144fe0a0005a22b86ad0f3": {
      "model_module": "@jupyter-widgets/controls",
      "model_module_version": "1.5.0",
      "model_name": "HTMLModel",
      "state": {
       "layout": "IPY_MODEL_7de4733ec5824b8cbe33c0fd63d46f1b",
       "style": "IPY_MODEL_e75f039bc308402fb96ffb2e11b68e57",
       "value": "[loss: 0.454, precision: 0.790, recall: 0.780, f1: 0.781, accuracy: 0.785, val_loss: 0.473, val_precision: 0.785, val_recall: 0.756, val_f1: 0.767, val_accuracy: 0.777] : 100% 75000/75000 [07:04&lt;00:00,  2.88it/s]"
      }
     },
     "533919bc0c0b4f1f9016575cbd5f5c60": {
      "model_module": "@jupyter-widgets/base",
      "model_module_version": "1.2.0",
      "model_name": "LayoutModel",
      "state": {}
     },
     "5483ecda8fee4d598b8688a0c7221b85": {
      "model_module": "@jupyter-widgets/base",
      "model_module_version": "1.2.0",
      "model_name": "LayoutModel",
      "state": {}
     },
     "55306ae14e76427f9cd0a764859aea2b": {
      "model_module": "@jupyter-widgets/controls",
      "model_module_version": "1.5.0",
      "model_name": "IntProgressModel",
      "state": {
       "bar_style": "success",
       "description": "Epoch 9",
       "layout": "IPY_MODEL_f7d709080a194c8093da3621c9d5bbb4",
       "max": 75000,
       "style": "IPY_MODEL_1047904d7abc4a83be4b27d626b68a2e",
       "value": 75000
      }
     },
     "55754428ddaa48b19f16d4e90a3d7416": {
      "model_module": "@jupyter-widgets/controls",
      "model_module_version": "1.5.0",
      "model_name": "HTMLModel",
      "state": {
       "layout": "IPY_MODEL_12121e38268a4affa647c22257cd9166",
       "style": "IPY_MODEL_a63308febc78433f96936caf8000258a",
       "value": "[loss: 0.446, precision: 0.795, recall: 0.784, f1: 0.785, accuracy: 0.790, val_loss: 0.480, val_precision: 0.742, val_recall: 0.825, val_f1: 0.778, val_accuracy: 0.771] : 100% 75000/75000 [07:21&lt;00:00,  2.56it/s]"
      }
     },
     "57762c8627df44c084f35845ce585265": {
      "model_module": "@jupyter-widgets/controls",
      "model_module_version": "1.5.0",
      "model_name": "HBoxModel",
      "state": {
       "children": [
        "IPY_MODEL_827eaa4812a742d9b10e50116f8bbcae",
        "IPY_MODEL_55754428ddaa48b19f16d4e90a3d7416"
       ],
       "layout": "IPY_MODEL_c1504452305a40ceb334264443313594"
      }
     },
     "5db3001cdc3b4e6e8e9c473c803151de": {
      "model_module": "@jupyter-widgets/base",
      "model_module_version": "1.2.0",
      "model_name": "LayoutModel",
      "state": {}
     },
     "634b3cf3acb04f5cb1169220e0bb4d59": {
      "model_module": "@jupyter-widgets/base",
      "model_module_version": "1.2.0",
      "model_name": "LayoutModel",
      "state": {}
     },
     "64a36bbfb9f445d0863ad13007ef9bc3": {
      "model_module": "@jupyter-widgets/controls",
      "model_module_version": "1.5.0",
      "model_name": "IntProgressModel",
      "state": {
       "bar_style": "success",
       "description": "Epoch 3",
       "layout": "IPY_MODEL_fe59f6d2ff95421c9d0fc7d3e2582721",
       "max": 75000,
       "style": "IPY_MODEL_cfea5f74212f4b03bac916d86e93667f",
       "value": 75000
      }
     },
     "64e53ea664fc4a81a7b588ec94de2508": {
      "model_module": "@jupyter-widgets/base",
      "model_module_version": "1.2.0",
      "model_name": "LayoutModel",
      "state": {}
     },
     "6625f5030aa24629b6dc9ba572cf5f90": {
      "model_module": "@jupyter-widgets/controls",
      "model_module_version": "1.5.0",
      "model_name": "DescriptionStyleModel",
      "state": {
       "description_width": ""
      }
     },
     "69b44311dff14a6a8a0c4c43b4d6bef0": {
      "model_module": "@jupyter-widgets/controls",
      "model_module_version": "1.5.0",
      "model_name": "HBoxModel",
      "state": {
       "children": [
        "IPY_MODEL_3311cf27bdea4ade819319b736fc4a50",
        "IPY_MODEL_3a48e5eb20864681a8839dfab3d429c1"
       ],
       "layout": "IPY_MODEL_6f109f1c08b94a74868cef1ed5d79d2e"
      }
     },
     "6b4fc0df4dfc47c9afdb12c97a770141": {
      "model_module": "@jupyter-widgets/base",
      "model_module_version": "1.2.0",
      "model_name": "LayoutModel",
      "state": {}
     },
     "6ecb691ed1544c2ebdc213a8a36feafd": {
      "model_module": "@jupyter-widgets/controls",
      "model_module_version": "1.5.0",
      "model_name": "DescriptionStyleModel",
      "state": {
       "description_width": ""
      }
     },
     "6f109f1c08b94a74868cef1ed5d79d2e": {
      "model_module": "@jupyter-widgets/base",
      "model_module_version": "1.2.0",
      "model_name": "LayoutModel",
      "state": {}
     },
     "72d6173b364f408483ab355c5747b743": {
      "model_module": "@jupyter-widgets/base",
      "model_module_version": "1.2.0",
      "model_name": "LayoutModel",
      "state": {}
     },
     "7515837300b84ee69aa3c00caab60942": {
      "model_module": "@jupyter-widgets/base",
      "model_module_version": "1.2.0",
      "model_name": "LayoutModel",
      "state": {}
     },
     "7de4733ec5824b8cbe33c0fd63d46f1b": {
      "model_module": "@jupyter-widgets/base",
      "model_module_version": "1.2.0",
      "model_name": "LayoutModel",
      "state": {}
     },
     "7ef941fc324d489b9e0e7db1c2d1fa84": {
      "model_module": "@jupyter-widgets/base",
      "model_module_version": "1.2.0",
      "model_name": "LayoutModel",
      "state": {}
     },
     "7f6d41fa103643569ed74ff9f7a41f54": {
      "model_module": "@jupyter-widgets/base",
      "model_module_version": "1.2.0",
      "model_name": "LayoutModel",
      "state": {}
     },
     "810017576a1f45e9bbadd37cc2ede4cb": {
      "model_module": "@jupyter-widgets/base",
      "model_module_version": "1.2.0",
      "model_name": "LayoutModel",
      "state": {}
     },
     "81b9c43fc0a64a95a860a09bfb43a9ef": {
      "model_module": "@jupyter-widgets/base",
      "model_module_version": "1.2.0",
      "model_name": "LayoutModel",
      "state": {}
     },
     "827eaa4812a742d9b10e50116f8bbcae": {
      "model_module": "@jupyter-widgets/controls",
      "model_module_version": "1.5.0",
      "model_name": "IntProgressModel",
      "state": {
       "bar_style": "success",
       "description": "Epoch 5",
       "layout": "IPY_MODEL_1b3a191895874938a42220f8c652b204",
       "max": 75000,
       "style": "IPY_MODEL_22d764293f154c4b81c8d27568f91d1c",
       "value": 75000
      }
     },
     "83034091f22148c0bb24cd7517b32b68": {
      "model_module": "@jupyter-widgets/controls",
      "model_module_version": "1.5.0",
      "model_name": "HBoxModel",
      "state": {
       "children": [
        "IPY_MODEL_efc6c70060b54001b900cda8a6b2829f",
        "IPY_MODEL_daf4473861204116834b360e4f1f16cd"
       ],
       "layout": "IPY_MODEL_7515837300b84ee69aa3c00caab60942"
      }
     },
     "8429c76d9d084dabb3498b7891e1e523": {
      "model_module": "@jupyter-widgets/base",
      "model_module_version": "1.2.0",
      "model_name": "LayoutModel",
      "state": {}
     },
     "94527ba70ac24e0f831fc88a2c26e146": {
      "model_module": "@jupyter-widgets/controls",
      "model_module_version": "1.5.0",
      "model_name": "DescriptionStyleModel",
      "state": {
       "description_width": ""
      }
     },
     "981c23bfc7194bc4b3ba644e793f9e67": {
      "model_module": "@jupyter-widgets/base",
      "model_module_version": "1.2.0",
      "model_name": "LayoutModel",
      "state": {}
     },
     "984ef1ea2eb442538a3fcb1bd9bc943d": {
      "model_module": "@jupyter-widgets/base",
      "model_module_version": "1.2.0",
      "model_name": "LayoutModel",
      "state": {}
     },
     "9e872e6adf174f519d75f0948b76dafb": {
      "model_module": "@jupyter-widgets/base",
      "model_module_version": "1.2.0",
      "model_name": "LayoutModel",
      "state": {}
     },
     "a63308febc78433f96936caf8000258a": {
      "model_module": "@jupyter-widgets/controls",
      "model_module_version": "1.5.0",
      "model_name": "DescriptionStyleModel",
      "state": {
       "description_width": ""
      }
     },
     "b04f6fe5f11e4c8a967de30c16057270": {
      "model_module": "@jupyter-widgets/base",
      "model_module_version": "1.2.0",
      "model_name": "LayoutModel",
      "state": {}
     },
     "badb6541ddbd461ab5b5e8a2912d96c3": {
      "model_module": "@jupyter-widgets/controls",
      "model_module_version": "1.5.0",
      "model_name": "HBoxModel",
      "state": {
       "children": [
        "IPY_MODEL_64a36bbfb9f445d0863ad13007ef9bc3",
        "IPY_MODEL_ef237d8c74b5452093c09be35fb3cb28"
       ],
       "layout": "IPY_MODEL_b04f6fe5f11e4c8a967de30c16057270"
      }
     },
     "bd0a439f147d48ad8b62a4cf76fb41d9": {
      "model_module": "@jupyter-widgets/controls",
      "model_module_version": "1.5.0",
      "model_name": "IntProgressModel",
      "state": {
       "bar_style": "success",
       "description": "Epoch 0",
       "layout": "IPY_MODEL_c25dc60030af4bcc92e31f2898e4ef5c",
       "max": 75000,
       "style": "IPY_MODEL_d116663ee61c429d963ba5cde9dc2382",
       "value": 75000
      }
     },
     "bded886e17fd407d80f4308d83873ba2": {
      "model_module": "@jupyter-widgets/controls",
      "model_module_version": "1.5.0",
      "model_name": "IntProgressModel",
      "state": {
       "bar_style": "success",
       "description": "Epoch 1",
       "layout": "IPY_MODEL_72d6173b364f408483ab355c5747b743",
       "max": 75000,
       "style": "IPY_MODEL_ecbf4f23e5314eb3931e1b7797181d55",
       "value": 75000
      }
     },
     "be4c9fc3bfc24bef8aebb3a77997710a": {
      "model_module": "@jupyter-widgets/controls",
      "model_module_version": "1.5.0",
      "model_name": "HBoxModel",
      "state": {
       "children": [
        "IPY_MODEL_caf39b114d4e45e19c10daeacef5a6bb",
        "IPY_MODEL_e779a6cc90be41419d2c4c913628a2b5"
       ],
       "layout": "IPY_MODEL_9e872e6adf174f519d75f0948b76dafb"
      }
     },
     "be59eb4ea75f4e498f3f6b1a9ceeb1a8": {
      "model_module": "@jupyter-widgets/controls",
      "model_module_version": "1.5.0",
      "model_name": "ProgressStyleModel",
      "state": {
       "description_width": "initial"
      }
     },
     "bfb18030129a42ceb39553689a301889": {
      "model_module": "@jupyter-widgets/base",
      "model_module_version": "1.2.0",
      "model_name": "LayoutModel",
      "state": {}
     },
     "c1504452305a40ceb334264443313594": {
      "model_module": "@jupyter-widgets/base",
      "model_module_version": "1.2.0",
      "model_name": "LayoutModel",
      "state": {}
     },
     "c1bf42496ba24008b9ea86bac0176d35": {
      "model_module": "@jupyter-widgets/controls",
      "model_module_version": "1.5.0",
      "model_name": "DescriptionStyleModel",
      "state": {
       "description_width": ""
      }
     },
     "c25dc60030af4bcc92e31f2898e4ef5c": {
      "model_module": "@jupyter-widgets/base",
      "model_module_version": "1.2.0",
      "model_name": "LayoutModel",
      "state": {}
     },
     "caf39b114d4e45e19c10daeacef5a6bb": {
      "model_module": "@jupyter-widgets/controls",
      "model_module_version": "1.5.0",
      "model_name": "IntProgressModel",
      "state": {
       "bar_style": "success",
       "description": "Epoch 7",
       "layout": "IPY_MODEL_32531d905db942b288a32483aa967690",
       "max": 75000,
       "style": "IPY_MODEL_096361971d904d5c875205aed722d118",
       "value": 75000
      }
     },
     "cc57fe3b738a4fffb026ab6b329b63b4": {
      "model_module": "@jupyter-widgets/base",
      "model_module_version": "1.2.0",
      "model_name": "LayoutModel",
      "state": {}
     },
     "cee085e14035432e8c711c8d972058ce": {
      "model_module": "@jupyter-widgets/controls",
      "model_module_version": "1.5.0",
      "model_name": "IntProgressModel",
      "state": {
       "bar_style": "success",
       "description": "Epoch 4",
       "layout": "IPY_MODEL_bfb18030129a42ceb39553689a301889",
       "max": 75000,
       "style": "IPY_MODEL_286be514bc71461fa201c7de25bf5b31",
       "value": 75000
      }
     },
     "cfea5f74212f4b03bac916d86e93667f": {
      "model_module": "@jupyter-widgets/controls",
      "model_module_version": "1.5.0",
      "model_name": "ProgressStyleModel",
      "state": {
       "description_width": "initial"
      }
     },
     "d116663ee61c429d963ba5cde9dc2382": {
      "model_module": "@jupyter-widgets/controls",
      "model_module_version": "1.5.0",
      "model_name": "ProgressStyleModel",
      "state": {
       "description_width": "initial"
      }
     },
     "d56dcd03e85644158b3cd2e0b4819213": {
      "model_module": "@jupyter-widgets/controls",
      "model_module_version": "1.5.0",
      "model_name": "IntProgressModel",
      "state": {
       "bar_style": "success",
       "description": "Epoch 2",
       "layout": "IPY_MODEL_061edf328082448ba64819726c2b2a14",
       "max": 75000,
       "style": "IPY_MODEL_be59eb4ea75f4e498f3f6b1a9ceeb1a8",
       "value": 75000
      }
     },
     "daf4473861204116834b360e4f1f16cd": {
      "model_module": "@jupyter-widgets/controls",
      "model_module_version": "1.5.0",
      "model_name": "HTMLModel",
      "state": {
       "layout": "IPY_MODEL_5483ecda8fee4d598b8688a0c7221b85",
       "style": "IPY_MODEL_f33f07bb928e4e1e914a5584ffd147ab",
       "value": "[loss: 0.416, precision: 0.812, recall: 0.803, f1: 0.803, accuracy: 0.807, val_loss: 0.477, val_precision: 0.782, val_recall: 0.755, val_f1: 0.764, val_accuracy: 0.774] : 100% 75000/75000 [07:36&lt;00:00,  2.93it/s]"
      }
     },
     "e1f5c0fe8d1040dc80ef0b490508888f": {
      "model_module": "@jupyter-widgets/controls",
      "model_module_version": "1.5.0",
      "model_name": "HTMLModel",
      "state": {
       "layout": "IPY_MODEL_8429c76d9d084dabb3498b7891e1e523",
       "style": "IPY_MODEL_c1bf42496ba24008b9ea86bac0176d35",
       "value": "[loss: 0.478, precision: 0.774, recall: 0.762, f1: 0.763, accuracy: 0.768, val_loss: 0.482, val_precision: 0.756, val_recall: 0.787, val_f1: 0.768, val_accuracy: 0.769] : 100% 75000/75000 [06:52&lt;00:00,  2.92it/s]"
      }
     },
     "e421039a0fed41e3ab9789a3a5ebc5ec": {
      "model_module": "@jupyter-widgets/controls",
      "model_module_version": "1.5.0",
      "model_name": "ProgressStyleModel",
      "state": {
       "description_width": "initial"
      }
     },
     "e75f039bc308402fb96ffb2e11b68e57": {
      "model_module": "@jupyter-widgets/controls",
      "model_module_version": "1.5.0",
      "model_name": "DescriptionStyleModel",
      "state": {
       "description_width": ""
      }
     },
     "e779a6cc90be41419d2c4c913628a2b5": {
      "model_module": "@jupyter-widgets/controls",
      "model_module_version": "1.5.0",
      "model_name": "HTMLModel",
      "state": {
       "layout": "IPY_MODEL_81b9c43fc0a64a95a860a09bfb43a9ef",
       "style": "IPY_MODEL_246e59a4b0a04ee19bb3dd0dc428f9e0",
       "value": "[loss: 0.425, precision: 0.805, recall: 0.797, f1: 0.797, accuracy: 0.801, val_loss: 0.480, val_precision: 0.747, val_recall: 0.806, val_f1: 0.772, val_accuracy: 0.769] : 100% 75000/75000 [07:44&lt;00:00,  2.57it/s]"
      }
     },
     "ea50dbebced34570aa748797cf3f110a": {
      "model_module": "@jupyter-widgets/controls",
      "model_module_version": "1.5.0",
      "model_name": "IntProgressModel",
      "state": {
       "bar_style": "danger",
       "description": "Training",
       "layout": "IPY_MODEL_431855a51ff84e748c2573ccaca15264",
       "max": 50,
       "style": "IPY_MODEL_144675a24ca74e49bf0e281ec31ac168",
       "value": 10
      }
     },
     "ec17ae9dac1e4f4b80249cf9bf3f7f4e": {
      "model_module": "@jupyter-widgets/controls",
      "model_module_version": "1.5.0",
      "model_name": "HTMLModel",
      "state": {
       "layout": "IPY_MODEL_110cdb660f324179a214bf3232ced99d",
       "style": "IPY_MODEL_6ecb691ed1544c2ebdc213a8a36feafd",
       "value": " 20% 10/50 [1:12:08&lt;4:53:48, 440.72s/it]"
      }
     },
     "ecbf4f23e5314eb3931e1b7797181d55": {
      "model_module": "@jupyter-widgets/controls",
      "model_module_version": "1.5.0",
      "model_name": "ProgressStyleModel",
      "state": {
       "description_width": "initial"
      }
     },
     "eebccd2b1e6141bdb73693115c012f6e": {
      "model_module": "@jupyter-widgets/controls",
      "model_module_version": "1.5.0",
      "model_name": "HBoxModel",
      "state": {
       "children": [
        "IPY_MODEL_ea50dbebced34570aa748797cf3f110a",
        "IPY_MODEL_ec17ae9dac1e4f4b80249cf9bf3f7f4e"
       ],
       "layout": "IPY_MODEL_6b4fc0df4dfc47c9afdb12c97a770141"
      }
     },
     "ef237d8c74b5452093c09be35fb3cb28": {
      "model_module": "@jupyter-widgets/controls",
      "model_module_version": "1.5.0",
      "model_name": "HTMLModel",
      "state": {
       "layout": "IPY_MODEL_981c23bfc7194bc4b3ba644e793f9e67",
       "style": "IPY_MODEL_30e7164824494c6f866d4f6e2bafaa12",
       "value": "[loss: 0.466, precision: 0.781, recall: 0.772, f1: 0.772, accuracy: 0.777, val_loss: 0.487, val_precision: 0.811, val_recall: 0.689, val_f1: 0.740, val_accuracy: 0.766] : 100% 75000/75000 [06:51&lt;00:00,  2.92it/s]"
      }
     },
     "efc6c70060b54001b900cda8a6b2829f": {
      "model_module": "@jupyter-widgets/controls",
      "model_module_version": "1.5.0",
      "model_name": "IntProgressModel",
      "state": {
       "bar_style": "success",
       "description": "Epoch 8",
       "layout": "IPY_MODEL_5db3001cdc3b4e6e8e9c473c803151de",
       "max": 75000,
       "style": "IPY_MODEL_0d25ca3f12724d3f9f338e239ec29080",
       "value": 75000
      }
     },
     "f33f07bb928e4e1e914a5584ffd147ab": {
      "model_module": "@jupyter-widgets/controls",
      "model_module_version": "1.5.0",
      "model_name": "DescriptionStyleModel",
      "state": {
       "description_width": ""
      }
     },
     "f7a771844fd94721a2d1b10b8f438ee1": {
      "model_module": "@jupyter-widgets/controls",
      "model_module_version": "1.5.0",
      "model_name": "HBoxModel",
      "state": {
       "children": [
        "IPY_MODEL_55306ae14e76427f9cd0a764859aea2b",
        "IPY_MODEL_1f57f45da3834b2c9ec28e99c4108b52"
       ],
       "layout": "IPY_MODEL_984ef1ea2eb442538a3fcb1bd9bc943d"
      }
     },
     "f7d709080a194c8093da3621c9d5bbb4": {
      "model_module": "@jupyter-widgets/base",
      "model_module_version": "1.2.0",
      "model_name": "LayoutModel",
      "state": {}
     },
     "fe59f6d2ff95421c9d0fc7d3e2582721": {
      "model_module": "@jupyter-widgets/base",
      "model_module_version": "1.2.0",
      "model_name": "LayoutModel",
      "state": {}
     }
    },
    "version_major": 2,
    "version_minor": 0
   }
  }
 },
 "nbformat": 4,
 "nbformat_minor": 4
}
