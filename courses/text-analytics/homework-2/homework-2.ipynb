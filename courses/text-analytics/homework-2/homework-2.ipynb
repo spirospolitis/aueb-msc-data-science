{
 "cells": [
  {
   "cell_type": "markdown",
   "metadata": {},
   "source": [
    "# AUEB M.Sc. in Data Science (part-time)\n",
    "\n",
    "**Course**: Text Analytics\n",
    "\n",
    "**Semester**: Spring 2018\n",
    "\n",
    "**2nd homework**: Text classification using (mostly) linear classifiers.\n",
    "\n",
    "**Team members**:\n",
    "\n",
    "- Alexandros Kaplanis (https://github.com/AlexcapFF/)\n",
    "- Spiros Politis\n",
    "- Manos Proimakis (https://github.com/manosprom)"
   ]
  },
  {
   "cell_type": "markdown",
   "metadata": {},
   "source": [
    "---"
   ]
  },
  {
   "cell_type": "markdown",
   "metadata": {},
   "source": [
    "## Homework"
   ]
  },
  {
   "cell_type": "markdown",
   "metadata": {},
   "source": [
    "Develop a text classifier for a kind of texts of your choice (e.g. e-mail messages, tweets, customer reviews) and at least two classes (e.g. spam/ham, positive/negative/neutral)[2] You may use Boolean, TF, or TF-IDF features corresponding to words or n-grams, to which you can also add other features (e.g. length of the text). You may apply any feature selection (or dimensionality reduction) method you consider appropriate. You may also want to try using centroids of pre-trained word embeddings [3]. You can write your own code to produce feature vectors, perform feature selection (or dimensionality reduction) and train the classifier (e.g. using SGD, in the case of logistic regression), or you can use existing implementations and software libraries [4]. You should experiment with at least logistic regression, and optionally other learning algorithms (e.g. Naive Bayes, k-NN, SVM). Draw learning curves with appropriate measures (e.g. accuracy, F1) and precision-recall curves. Include experimental results of appropriate baselines (e.g., classifiers that always assign the most frequent class). Make sure that you use separate training and test data. Tune the feature set and hyper-parameters (e.g., regularization weight λ) on a held-out part of the training data or using a cross-validation on the training data. Document clearly in a short report (max. 5 pages) how your system works (e.g., what algorithms it uses, examples of input/output) and its experimental results (e.g., learning curves, precision-recall curves).\n",
    "\n",
    "[2] For e-mail spam filtering, you may want to use the Ling-Spam or Enron-Spam datasets (available from http://nlp.cs.aueb.gr/software.html). For tweets, you may want to use datasets from http://alt.qcri.org/semeval2016/task4/. For customer reviews, you may want to use datasets from http://alt.qcri.org/semeval2016/task5/. Consult the instructor for further details.\n",
    "\n",
    "[3] Pre-trained word embeddings are available, for example, from http://nlp.stanford.edu/projects/glove/. See also word2vec (https://code.google.com/archive/p/word2vec/).\n",
    "\n",
    "[4] E.g., scikit-learn (http://scikit-learn.org/stable/), Weka (http://www.cs.waikato.ac.nz/ml/weka/), LIBSVM (http://www.csie.ntu.edu.tw/~cjlin/libsvm/)."
   ]
  },
  {
   "cell_type": "markdown",
   "metadata": {},
   "source": [
    "---"
   ]
  },
  {
   "cell_type": "markdown",
   "metadata": {},
   "source": [
    "## Ingest data"
   ]
  },
  {
   "cell_type": "code",
   "execution_count": 1,
   "metadata": {},
   "outputs": [],
   "source": [
    "import pandas as pd\n",
    "\n",
    "pd.set_option('display.width', None)\n",
    "pd.set_option('display.max_colwidth', -1)\n",
    "\n",
    "'''\n",
    "    Ingests a dataset.\n",
    "    \n",
    "    :param file_path: Path from which to load a dataset.\n",
    "    :param num_lines: Maximum number of lines to ingest.\n",
    "    \n",
    "    :returns: Pandas dataframe.\n",
    "'''\n",
    "def create_dataset(file_path:str, num_lines:int):\n",
    "    df = pd.read_csv(\n",
    "        file_path, \\\n",
    "        engine='python', \\\n",
    "        names=[\n",
    "            'polarity',\n",
    "            'id',\n",
    "            'date',\n",
    "            'query',\n",
    "            'user',\n",
    "            'text'\n",
    "        ],\n",
    "        index_col='id',\n",
    "        sep=',', \n",
    "        header=None,\n",
    "        nrows=num_lines,\n",
    "        encoding = 'latin_1'\n",
    "    )\n",
    "    return df"
   ]
  },
  {
   "cell_type": "code",
   "execution_count": 2,
   "metadata": {},
   "outputs": [],
   "source": [
    "import sys\n",
    "\n",
    "original_training_df = create_dataset(\n",
    "    'data/training.1600000.processed.noemoticon.csv', \n",
    "    sys.maxsize\n",
    ")"
   ]
  },
  {
   "cell_type": "code",
   "execution_count": 3,
   "metadata": {},
   "outputs": [
    {
     "data": {
      "text/html": [
       "<div>\n",
       "<style scoped>\n",
       "    .dataframe tbody tr th:only-of-type {\n",
       "        vertical-align: middle;\n",
       "    }\n",
       "\n",
       "    .dataframe tbody tr th {\n",
       "        vertical-align: top;\n",
       "    }\n",
       "\n",
       "    .dataframe thead th {\n",
       "        text-align: right;\n",
       "    }\n",
       "</style>\n",
       "<table border=\"1\" class=\"dataframe\">\n",
       "  <thead>\n",
       "    <tr style=\"text-align: right;\">\n",
       "      <th></th>\n",
       "      <th>polarity</th>\n",
       "      <th>date</th>\n",
       "      <th>query</th>\n",
       "      <th>user</th>\n",
       "      <th>text</th>\n",
       "    </tr>\n",
       "    <tr>\n",
       "      <th>id</th>\n",
       "      <th></th>\n",
       "      <th></th>\n",
       "      <th></th>\n",
       "      <th></th>\n",
       "      <th></th>\n",
       "    </tr>\n",
       "  </thead>\n",
       "  <tbody>\n",
       "    <tr>\n",
       "      <th>2193579249</th>\n",
       "      <td>4</td>\n",
       "      <td>Tue Jun 16 08:38:59 PDT 2009</td>\n",
       "      <td>NO_QUERY</td>\n",
       "      <td>razzberry5594</td>\n",
       "      <td>WOOOOO! Xbox is back</td>\n",
       "    </tr>\n",
       "    <tr>\n",
       "      <th>2193579284</th>\n",
       "      <td>4</td>\n",
       "      <td>Tue Jun 16 08:38:59 PDT 2009</td>\n",
       "      <td>NO_QUERY</td>\n",
       "      <td>AgustinaP</td>\n",
       "      <td>@rmedina @LaTati Mmmm  That sounds absolutely perfect... but my schedule is full. I won't have time to lay in bed until Sunday. Ugh!!</td>\n",
       "    </tr>\n",
       "    <tr>\n",
       "      <th>2193579434</th>\n",
       "      <td>4</td>\n",
       "      <td>Tue Jun 16 08:39:00 PDT 2009</td>\n",
       "      <td>NO_QUERY</td>\n",
       "      <td>sdancingsteph</td>\n",
       "      <td>ReCoVeRiNg FrOm ThE lOnG wEeKeNd</td>\n",
       "    </tr>\n",
       "    <tr>\n",
       "      <th>2193579477</th>\n",
       "      <td>4</td>\n",
       "      <td>Tue Jun 16 08:39:00 PDT 2009</td>\n",
       "      <td>NO_QUERY</td>\n",
       "      <td>ChloeAmisha</td>\n",
       "      <td>@SCOOBY_GRITBOYS</td>\n",
       "    </tr>\n",
       "    <tr>\n",
       "      <th>2193579489</th>\n",
       "      <td>4</td>\n",
       "      <td>Tue Jun 16 08:39:00 PDT 2009</td>\n",
       "      <td>NO_QUERY</td>\n",
       "      <td>EvolveTom</td>\n",
       "      <td>@Cliff_Forster Yeah, that does work better than just waiting for it  In the end I just wonder if I have time to keep up a good blog.</td>\n",
       "    </tr>\n",
       "    <tr>\n",
       "      <th>2193601966</th>\n",
       "      <td>4</td>\n",
       "      <td>Tue Jun 16 08:40:49 PDT 2009</td>\n",
       "      <td>NO_QUERY</td>\n",
       "      <td>AmandaMarie1028</td>\n",
       "      <td>Just woke up. Having no school is the best feeling ever</td>\n",
       "    </tr>\n",
       "    <tr>\n",
       "      <th>2193601969</th>\n",
       "      <td>4</td>\n",
       "      <td>Tue Jun 16 08:40:49 PDT 2009</td>\n",
       "      <td>NO_QUERY</td>\n",
       "      <td>TheWDBoards</td>\n",
       "      <td>TheWDB.com - Very cool to hear old Walt interviews!  â« http://blip.fm/~8bmta</td>\n",
       "    </tr>\n",
       "    <tr>\n",
       "      <th>2193601991</th>\n",
       "      <td>4</td>\n",
       "      <td>Tue Jun 16 08:40:49 PDT 2009</td>\n",
       "      <td>NO_QUERY</td>\n",
       "      <td>bpbabe</td>\n",
       "      <td>Are you ready for your MoJo Makeover? Ask me for details</td>\n",
       "    </tr>\n",
       "    <tr>\n",
       "      <th>2193602064</th>\n",
       "      <td>4</td>\n",
       "      <td>Tue Jun 16 08:40:49 PDT 2009</td>\n",
       "      <td>NO_QUERY</td>\n",
       "      <td>tinydiamondz</td>\n",
       "      <td>Happy 38th Birthday to my boo of alll time!!! Tupac Amaru Shakur</td>\n",
       "    </tr>\n",
       "    <tr>\n",
       "      <th>2193602129</th>\n",
       "      <td>4</td>\n",
       "      <td>Tue Jun 16 08:40:50 PDT 2009</td>\n",
       "      <td>NO_QUERY</td>\n",
       "      <td>RyanTrevMorris</td>\n",
       "      <td>happy #charitytuesday @theNSPCC @SparksCharity @SpeakingUpH4H</td>\n",
       "    </tr>\n",
       "  </tbody>\n",
       "</table>\n",
       "</div>"
      ],
      "text/plain": [
       "            polarity                          date     query             user  \\\n",
       "id                                                                              \n",
       "2193579249  4         Tue Jun 16 08:38:59 PDT 2009  NO_QUERY  razzberry5594     \n",
       "2193579284  4         Tue Jun 16 08:38:59 PDT 2009  NO_QUERY  AgustinaP         \n",
       "2193579434  4         Tue Jun 16 08:39:00 PDT 2009  NO_QUERY  sdancingsteph     \n",
       "2193579477  4         Tue Jun 16 08:39:00 PDT 2009  NO_QUERY  ChloeAmisha       \n",
       "2193579489  4         Tue Jun 16 08:39:00 PDT 2009  NO_QUERY  EvolveTom         \n",
       "2193601966  4         Tue Jun 16 08:40:49 PDT 2009  NO_QUERY  AmandaMarie1028   \n",
       "2193601969  4         Tue Jun 16 08:40:49 PDT 2009  NO_QUERY  TheWDBoards       \n",
       "2193601991  4         Tue Jun 16 08:40:49 PDT 2009  NO_QUERY  bpbabe            \n",
       "2193602064  4         Tue Jun 16 08:40:49 PDT 2009  NO_QUERY  tinydiamondz      \n",
       "2193602129  4         Tue Jun 16 08:40:50 PDT 2009  NO_QUERY  RyanTrevMorris    \n",
       "\n",
       "                                                                                                                                             text  \n",
       "id                                                                                                                                                 \n",
       "2193579249  WOOOOO! Xbox is back                                                                                                                   \n",
       "2193579284  @rmedina @LaTati Mmmm  That sounds absolutely perfect... but my schedule is full. I won't have time to lay in bed until Sunday. Ugh!!  \n",
       "2193579434  ReCoVeRiNg FrOm ThE lOnG wEeKeNd                                                                                                       \n",
       "2193579477  @SCOOBY_GRITBOYS                                                                                                                       \n",
       "2193579489  @Cliff_Forster Yeah, that does work better than just waiting for it  In the end I just wonder if I have time to keep up a good blog.   \n",
       "2193601966  Just woke up. Having no school is the best feeling ever                                                                                \n",
       "2193601969  TheWDB.com - Very cool to hear old Walt interviews!  â« http://blip.fm/~8bmta                                                         \n",
       "2193601991  Are you ready for your MoJo Makeover? Ask me for details                                                                               \n",
       "2193602064  Happy 38th Birthday to my boo of alll time!!! Tupac Amaru Shakur                                                                       \n",
       "2193602129  happy #charitytuesday @theNSPCC @SparksCharity @SpeakingUpH4H                                                                          "
      ]
     },
     "metadata": {},
     "output_type": "display_data"
    }
   ],
   "source": [
    "display(original_training_df.tail(10))"
   ]
  },
  {
   "cell_type": "markdown",
   "metadata": {},
   "source": [
    "## Model save / load"
   ]
  },
  {
   "cell_type": "markdown",
   "metadata": {},
   "source": [
    "We have implemented the following functions so as to be able to save and retrieve frozen models to and from disk."
   ]
  },
  {
   "cell_type": "code",
   "execution_count": 4,
   "metadata": {},
   "outputs": [],
   "source": [
    "from sklearn.base import BaseEstimator\n",
    "\n",
    "'''\n",
    "    Save a SciKit Learn model to binary format.\n",
    "    \n",
    "    :param filepath: Path to which the model is to be saved, including its file name.\n",
    "    :param model: The model to serialize.\n",
    "'''\n",
    "def save_model(filepath:str, model:BaseEstimator):\n",
    "    import joblib\n",
    "\n",
    "    joblib.dump(model, filepath) \n",
    "    \n",
    "\n",
    "'''\n",
    "    Load a SciKit Learn model from binary format.\n",
    "    \n",
    "    :param filepath: Path to which the model has been saved, including its file name.\n",
    "    \n",
    "    :returns: Deserialized model or None if not found.\n",
    "'''\n",
    "def load_model(filepath:str):\n",
    "    import os\n",
    "    import joblib\n",
    "    \n",
    "    if os.path.exists(filepath):\n",
    "        return joblib.load(filepath)\n",
    "    else:\n",
    "        return None"
   ]
  },
  {
   "cell_type": "markdown",
   "metadata": {},
   "source": [
    "## Sampling"
   ]
  },
  {
   "cell_type": "markdown",
   "metadata": {},
   "source": [
    "We have come upon performance problems training SVM and k-NN models, as their complexity increases quadratically with respect to the dataset size.\n",
    "\n",
    "Since we require that we test these classifiers, we shall sample from the entire dataset.\n",
    "\n",
    "The dataset contains many observations, half of which are negative (0) and the rest positive (4). Hence, we cannot just take N random number of rows from the dataset, we are required to distribute our sampling with respect to the observations distribution."
   ]
  },
  {
   "cell_type": "code",
   "execution_count": 5,
   "metadata": {},
   "outputs": [
    {
     "data": {
      "text/plain": [
       "Text(0.5, 1.0, 'Dataset labels distribuition')"
      ]
     },
     "execution_count": 5,
     "metadata": {},
     "output_type": "execute_result"
    },
    {
     "data": {
      "image/png": "[encoded data removed]",
      "text/plain": [
       "<Figure size 1152x576 with 1 Axes>"
      ]
     },
     "metadata": {
      "needs_background": "light"
     },
     "output_type": "display_data"
    }
   ],
   "source": [
    "from collections import Counter\n",
    "import matplotlib.pyplot as plt\n",
    "\n",
    "%matplotlib inline\n",
    "\n",
    "target_cnt = Counter(original_training_df['polarity'])\n",
    "\n",
    "plt.figure(figsize = (16, 8))\n",
    "plt.xticks([0,4], ['Negative', 'Positive'])\n",
    "plt.bar(target_cnt.keys(), target_cnt.values())\n",
    "plt.title(\"Dataset labels distribuition\")"
   ]
  },
  {
   "cell_type": "markdown",
   "metadata": {},
   "source": [
    "The dataset contains thes same size of rows for Negative and Positive tweets, here we will keep a balanced set of 25000 positive and 25000 negative tweets taken randomly"
   ]
  },
  {
   "cell_type": "code",
   "execution_count": 6,
   "metadata": {},
   "outputs": [
    {
     "data": {
      "text/plain": [
       "array([0, 4])"
      ]
     },
     "metadata": {},
     "output_type": "display_data"
    }
   ],
   "source": [
    "num_rows_from_each_class = 25000\n",
    "some_negative = original_training_df[original_training_df['polarity'] == 0].sample(num_rows_from_each_class)\n",
    "some_positive = original_training_df[original_training_df['polarity'] == 4].sample(num_rows_from_each_class)\n",
    "\n",
    "display(original_training_df.polarity.unique())\n",
    "original_training_df = pd.concat([some_negative, some_positive])"
   ]
  },
  {
   "cell_type": "markdown",
   "metadata": {},
   "source": [
    "## Preprocessing"
   ]
  },
  {
   "cell_type": "code",
   "execution_count": 7,
   "metadata": {},
   "outputs": [],
   "source": [
    "import re\n",
    "\n",
    "class Preprocess:\n",
    "    # Remove person tags e.g. @person some other text\n",
    "    @staticmethod\n",
    "    def remove_tags(sentence):\n",
    "        return re.sub(r'@[A-Za-z0-9]+', ' ', sentence)\n",
    "\n",
    "    @staticmethod\n",
    "    def remove_urls(sentence):\n",
    "        return re.sub('https?://[A-Za-z0-9./]+', ' ', sentence)\n",
    "\n",
    "    @staticmethod\n",
    "    def remove_underscores(sentence):\n",
    "        return re.sub(r'_[A-Za-z0-9]+', ' ', sentence)\n",
    "    \n",
    "    @staticmethod\n",
    "    def remove_special_characters(sentence):\n",
    "        return re.sub(r'\\W', ' ', sentence)\n",
    "\n",
    "    @staticmethod\n",
    "    def remove_rem_tags(sentence):\n",
    "        return re.sub(r'^@\\s+', ' ', sentence)\n",
    "\n",
    "    @staticmethod\n",
    "    def remove_rem_underscores(sentence):\n",
    "        return re.sub(r'^ _\\s+', ' ', sentence)\n",
    "    \n",
    "    @staticmethod\n",
    "    def remove_multiple_spaces(sentence):\n",
    "        return re.sub(r' +', ' ', sentence)\n",
    "\n",
    "    @staticmethod\n",
    "    def remove_trailing_spaces(sentence):\n",
    "        return sentence.strip()"
   ]
  },
  {
   "cell_type": "code",
   "execution_count": 8,
   "metadata": {},
   "outputs": [],
   "source": [
    "def preprocess_row(row):\n",
    "    row = Preprocess.remove_tags(row)\n",
    "    row = Preprocess.remove_urls(row)\n",
    "    row = Preprocess.remove_underscores(row)\n",
    "    row = Preprocess.remove_special_characters(row)\n",
    "    row = Preprocess.remove_rem_tags(row)\n",
    "    row = Preprocess.remove_rem_underscores(row)\n",
    "    row = Preprocess.remove_multiple_spaces(row)\n",
    "    row = Preprocess.remove_trailing_spaces(row)\n",
    "    row = row.lower()\n",
    "    \n",
    "    return row"
   ]
  },
  {
   "cell_type": "code",
   "execution_count": 9,
   "metadata": {},
   "outputs": [],
   "source": [
    "df = original_training_df.copy()\n",
    "df['text_before_preprocess'] = df['text']\n",
    "df.drop(columns=['date', 'query'], axis = 1, inplace = True)\n",
    "df['length_before_preprocess'] = df['text_before_preprocess'].str.len()\n",
    "df.reset_index(drop = True, inplace = True)"
   ]
  },
  {
   "cell_type": "code",
   "execution_count": 10,
   "metadata": {},
   "outputs": [],
   "source": [
    "df['text']= df['text'].apply(lambda row: preprocess_row(row))\n",
    "df['length'] = df['text'].str.len()"
   ]
  },
  {
   "cell_type": "code",
   "execution_count": 11,
   "metadata": {},
   "outputs": [
    {
     "data": {
      "text/html": [
       "<div>\n",
       "<style scoped>\n",
       "    .dataframe tbody tr th:only-of-type {\n",
       "        vertical-align: middle;\n",
       "    }\n",
       "\n",
       "    .dataframe tbody tr th {\n",
       "        vertical-align: top;\n",
       "    }\n",
       "\n",
       "    .dataframe thead th {\n",
       "        text-align: right;\n",
       "    }\n",
       "</style>\n",
       "<table border=\"1\" class=\"dataframe\">\n",
       "  <thead>\n",
       "    <tr style=\"text-align: right;\">\n",
       "      <th></th>\n",
       "      <th>polarity</th>\n",
       "      <th>user</th>\n",
       "      <th>text</th>\n",
       "      <th>text_before_preprocess</th>\n",
       "      <th>length_before_preprocess</th>\n",
       "      <th>length</th>\n",
       "    </tr>\n",
       "  </thead>\n",
       "  <tbody>\n",
       "    <tr>\n",
       "      <th>0</th>\n",
       "      <td>0</td>\n",
       "      <td>katezoe</td>\n",
       "      <td>who i am hates who i ve been reliant k pull yo self together mate love</td>\n",
       "      <td>@JackAllTimeLow  who I am hates who I've been - reliant k ?  PULL YO'SELF TOGETHER MATE. Love.</td>\n",
       "      <td>94</td>\n",
       "      <td>70</td>\n",
       "    </tr>\n",
       "    <tr>\n",
       "      <th>1</th>\n",
       "      <td>0</td>\n",
       "      <td>kenzineill</td>\n",
       "      <td>laying out then a five hour drive home i m ready for nice weather though</td>\n",
       "      <td>Laying out! Then a five hour drive home  I'm ready for nice weather though.</td>\n",
       "      <td>75</td>\n",
       "      <td>72</td>\n",
       "    </tr>\n",
       "    <tr>\n",
       "      <th>2</th>\n",
       "      <td>0</td>\n",
       "      <td>Paralexis</td>\n",
       "      <td>i should go to bed but i am hungry and i can t sleep when i m hungry</td>\n",
       "      <td>I should go to bed but i am hungry and i can't sleep when I'm hungry.</td>\n",
       "      <td>70</td>\n",
       "      <td>68</td>\n",
       "    </tr>\n",
       "    <tr>\n",
       "      <th>3</th>\n",
       "      <td>0</td>\n",
       "      <td>Wonder_Wheel</td>\n",
       "      <td>poor dead josh please leave your messages of condolences there boy rip that s sad</td>\n",
       "      <td>@Flash_Forward Poor dead Josh.  http://bit.ly/JKpHn Please leave your messages of condolences there. #boy #rip ||| That's sad.</td>\n",
       "      <td>126</td>\n",
       "      <td>81</td>\n",
       "    </tr>\n",
       "    <tr>\n",
       "      <th>4</th>\n",
       "      <td>0</td>\n",
       "      <td>julienoodle</td>\n",
       "      <td>if you re talking about the logo contest i didnt enter 4 it so no</td>\n",
       "      <td>@Lacey0108 if you're talking about the logo contest, I didnt enter 4 it, so no..</td>\n",
       "      <td>81</td>\n",
       "      <td>65</td>\n",
       "    </tr>\n",
       "    <tr>\n",
       "      <th>5</th>\n",
       "      <td>0</td>\n",
       "      <td>JessicaaLintonn</td>\n",
       "      <td>noowaaay without me</td>\n",
       "      <td>@pepsiballin NOOWAAAY ...  ... without me ?</td>\n",
       "      <td>43</td>\n",
       "      <td>19</td>\n",
       "    </tr>\n",
       "    <tr>\n",
       "      <th>6</th>\n",
       "      <td>0</td>\n",
       "      <td>GoogleMeBabe</td>\n",
       "      <td>mayn this whole thing is frustrating i want to go home</td>\n",
       "      <td>Mayn this whole thing is frustrating...I want to go home!</td>\n",
       "      <td>58</td>\n",
       "      <td>54</td>\n",
       "    </tr>\n",
       "    <tr>\n",
       "      <th>7</th>\n",
       "      <td>0</td>\n",
       "      <td>sparcd</td>\n",
       "      <td>that s annoying working from home today</td>\n",
       "      <td>@se1 That's annoying. Working from home today</td>\n",
       "      <td>46</td>\n",
       "      <td>39</td>\n",
       "    </tr>\n",
       "    <tr>\n",
       "      <th>8</th>\n",
       "      <td>0</td>\n",
       "      <td>akosijaycee</td>\n",
       "      <td>says done reviewing but still not feeling well</td>\n",
       "      <td>says done reviewing...but still not feeling well...  http://plurk.com/p/13vn9x</td>\n",
       "      <td>78</td>\n",
       "      <td>46</td>\n",
       "    </tr>\n",
       "    <tr>\n",
       "      <th>9</th>\n",
       "      <td>0</td>\n",
       "      <td>nsyncs</td>\n",
       "      <td>stealing spmeones internet on my ipod no real internet till tomorrow what am i supposed to do all night i wish i had a book to read</td>\n",
       "      <td>Stealing spmeones Internet on my iPod. No real Internet till tomorrow  what am I supposed to do all night! I wish I had a book to read</td>\n",
       "      <td>134</td>\n",
       "      <td>131</td>\n",
       "    </tr>\n",
       "  </tbody>\n",
       "</table>\n",
       "</div>"
      ],
      "text/plain": [
       "   polarity             user  \\\n",
       "0  0         katezoe           \n",
       "1  0         kenzineill        \n",
       "2  0         Paralexis         \n",
       "3  0         Wonder_Wheel      \n",
       "4  0         julienoodle       \n",
       "5  0         JessicaaLintonn   \n",
       "6  0         GoogleMeBabe      \n",
       "7  0         sparcd            \n",
       "8  0         akosijaycee       \n",
       "9  0         nsyncs            \n",
       "\n",
       "                                                                                                                                  text  \\\n",
       "0  who i am hates who i ve been reliant k pull yo self together mate love                                                                \n",
       "1  laying out then a five hour drive home i m ready for nice weather though                                                              \n",
       "2  i should go to bed but i am hungry and i can t sleep when i m hungry                                                                  \n",
       "3  poor dead josh please leave your messages of condolences there boy rip that s sad                                                     \n",
       "4  if you re talking about the logo contest i didnt enter 4 it so no                                                                     \n",
       "5  noowaaay without me                                                                                                                   \n",
       "6  mayn this whole thing is frustrating i want to go home                                                                                \n",
       "7  that s annoying working from home today                                                                                               \n",
       "8  says done reviewing but still not feeling well                                                                                        \n",
       "9  stealing spmeones internet on my ipod no real internet till tomorrow what am i supposed to do all night i wish i had a book to read   \n",
       "\n",
       "                                                                                                                   text_before_preprocess  \\\n",
       "0  @JackAllTimeLow  who I am hates who I've been - reliant k ?  PULL YO'SELF TOGETHER MATE. Love.                                           \n",
       "1  Laying out! Then a five hour drive home  I'm ready for nice weather though.                                                              \n",
       "2  I should go to bed but i am hungry and i can't sleep when I'm hungry.                                                                    \n",
       "3  @Flash_Forward Poor dead Josh.  http://bit.ly/JKpHn Please leave your messages of condolences there. #boy #rip ||| That's sad.           \n",
       "4  @Lacey0108 if you're talking about the logo contest, I didnt enter 4 it, so no..                                                         \n",
       "5  @pepsiballin NOOWAAAY ...  ... without me ?                                                                                              \n",
       "6  Mayn this whole thing is frustrating...I want to go home!                                                                                \n",
       "7  @se1 That's annoying. Working from home today                                                                                            \n",
       "8  says done reviewing...but still not feeling well...  http://plurk.com/p/13vn9x                                                           \n",
       "9  Stealing spmeones Internet on my iPod. No real Internet till tomorrow  what am I supposed to do all night! I wish I had a book to read   \n",
       "\n",
       "   length_before_preprocess  length  \n",
       "0  94                        70      \n",
       "1  75                        72      \n",
       "2  70                        68      \n",
       "3  126                       81      \n",
       "4  81                        65      \n",
       "5  43                        19      \n",
       "6  58                        54      \n",
       "7  46                        39      \n",
       "8  78                        46      \n",
       "9  134                       131     "
      ]
     },
     "execution_count": 11,
     "metadata": {},
     "output_type": "execute_result"
    }
   ],
   "source": [
    "df.head(10)"
   ]
  },
  {
   "cell_type": "markdown",
   "metadata": {},
   "source": [
    "## Keep only relevant data"
   ]
  },
  {
   "cell_type": "markdown",
   "metadata": {},
   "source": [
    "We shall drop columns not required for our purposes and keep the rest, namely the Tweet text and the polarity, as the target variable."
   ]
  },
  {
   "cell_type": "code",
   "execution_count": 12,
   "metadata": {},
   "outputs": [],
   "source": [
    "corpus = df['text'].values.tolist()\n",
    "target = df['polarity'].values.tolist()"
   ]
  },
  {
   "cell_type": "code",
   "execution_count": 13,
   "metadata": {},
   "outputs": [],
   "source": [
    "# Drop duplicate tweets\n",
    "df = df.drop_duplicates(subset=['user', 'text'], keep = 'first')"
   ]
  },
  {
   "cell_type": "code",
   "execution_count": 14,
   "metadata": {},
   "outputs": [],
   "source": [
    "df.drop(columns = ['user'], axis = 1, inplace = True)\n",
    "df.reset_index(drop = True, inplace = True)"
   ]
  },
  {
   "cell_type": "markdown",
   "metadata": {},
   "source": [
    "## Train-test split"
   ]
  },
  {
   "cell_type": "markdown",
   "metadata": {},
   "source": [
    "Split the dataset to a train / dev sets."
   ]
  },
  {
   "cell_type": "code",
   "execution_count": 15,
   "metadata": {},
   "outputs": [],
   "source": [
    "import sklearn.model_selection\n",
    "\n",
    "X_train, X_dev, y_train, y_dev = sklearn.model_selection.train_test_split(\n",
    "    corpus, \n",
    "    target, \n",
    "    test_size = 0.25, \n",
    "    shuffle = True\n",
    ")"
   ]
  },
  {
   "cell_type": "code",
   "execution_count": 16,
   "metadata": {},
   "outputs": [
    {
     "name": "stdout",
     "output_type": "stream",
     "text": [
      "Size of X_train:  37500\n",
      "Size of X_dev:  12500\n",
      "Size of y_train:  37500\n",
      "Size of y_dev:  12500\n"
     ]
    }
   ],
   "source": [
    "print('Size of X_train: ', len(X_train))\n",
    "print('Size of X_dev: ', len(X_dev))\n",
    "print('Size of y_train: ', len(y_train))\n",
    "print('Size of y_dev: ', len(y_dev))"
   ]
  },
  {
   "cell_type": "code",
   "execution_count": 17,
   "metadata": {},
   "outputs": [],
   "source": [
    "import itertools\n",
    "from sklearn import preprocessing\n",
    "\n",
    "le = preprocessing.LabelEncoder()\n",
    "le.fit(y_train)\n",
    "\n",
    "y_train = le.transform(y_train)\n",
    "y_dev = le.transform(y_dev)"
   ]
  },
  {
   "cell_type": "markdown",
   "metadata": {},
   "source": [
    "## Creating word embeddings"
   ]
  },
  {
   "cell_type": "markdown",
   "metadata": {},
   "source": [
    "### TF/IDF vectorizer"
   ]
  },
  {
   "cell_type": "code",
   "execution_count": 18,
   "metadata": {},
   "outputs": [],
   "source": [
    "from sklearn.feature_extraction.text import TfidfVectorizer\n",
    "from nltk.corpus import stopwords"
   ]
  },
  {
   "cell_type": "code",
   "execution_count": 19,
   "metadata": {},
   "outputs": [],
   "source": [
    "tf_idf_vectorizer = TfidfVectorizer(\n",
    "        ngram_range = (1, 2),\n",
    "        max_features = 15000,\n",
    "        sublinear_tf = True,\n",
    "        lowercase = True,\n",
    "        stop_words = stopwords.words('english')\n",
    "    )\n",
    "\n",
    "vectorized_x_train = tf_idf_vectorizer.fit_transform(X_train)\n",
    "vectorized_x_dev = tf_idf_vectorizer.transform(X_dev)"
   ]
  },
  {
   "cell_type": "code",
   "execution_count": 20,
   "metadata": {},
   "outputs": [
    {
     "data": {
      "text/html": [
       "<div>\n",
       "<style scoped>\n",
       "    .dataframe tbody tr th:only-of-type {\n",
       "        vertical-align: middle;\n",
       "    }\n",
       "\n",
       "    .dataframe tbody tr th {\n",
       "        vertical-align: top;\n",
       "    }\n",
       "\n",
       "    .dataframe thead th {\n",
       "        text-align: right;\n",
       "    }\n",
       "</style>\n",
       "<table border=\"1\" class=\"dataframe\">\n",
       "  <thead>\n",
       "    <tr style=\"text-align: right;\">\n",
       "      <th></th>\n",
       "      <th>00</th>\n",
       "      <th>00 morning</th>\n",
       "      <th>00 pm</th>\n",
       "      <th>000</th>\n",
       "      <th>000 contacts</th>\n",
       "      <th>000 followers</th>\n",
       "      <th>00am</th>\n",
       "      <th>00pm</th>\n",
       "      <th>01</th>\n",
       "      <th>02</th>\n",
       "      <th>...</th>\n",
       "      <th>ðµð</th>\n",
       "      <th>ðµñ</th>\n",
       "      <th>ð¹</th>\n",
       "      <th>ð¼ð</th>\n",
       "      <th>ð¼ð¾ð</th>\n",
       "      <th>ð½ð</th>\n",
       "      <th>ð½ðµ</th>\n",
       "      <th>ð¾</th>\n",
       "      <th>ð¾ð</th>\n",
       "      <th>ð¾ñ</th>\n",
       "    </tr>\n",
       "  </thead>\n",
       "  <tbody>\n",
       "    <tr>\n",
       "      <th>oh yeah mornin karate today x</th>\n",
       "      <td>0.0</td>\n",
       "      <td>0.0</td>\n",
       "      <td>0.0</td>\n",
       "      <td>0.0</td>\n",
       "      <td>0.0</td>\n",
       "      <td>0.0</td>\n",
       "      <td>0.0</td>\n",
       "      <td>0.0</td>\n",
       "      <td>0.0</td>\n",
       "      <td>0.0</td>\n",
       "      <td>...</td>\n",
       "      <td>0.0</td>\n",
       "      <td>0.0</td>\n",
       "      <td>0.0</td>\n",
       "      <td>0.0</td>\n",
       "      <td>0.0</td>\n",
       "      <td>0.0</td>\n",
       "      <td>0.0</td>\n",
       "      <td>0.0</td>\n",
       "      <td>0.0</td>\n",
       "      <td>0.0</td>\n",
       "    </tr>\n",
       "    <tr>\n",
       "      <th>poor guy</th>\n",
       "      <td>0.0</td>\n",
       "      <td>0.0</td>\n",
       "      <td>0.0</td>\n",
       "      <td>0.0</td>\n",
       "      <td>0.0</td>\n",
       "      <td>0.0</td>\n",
       "      <td>0.0</td>\n",
       "      <td>0.0</td>\n",
       "      <td>0.0</td>\n",
       "      <td>0.0</td>\n",
       "      <td>...</td>\n",
       "      <td>0.0</td>\n",
       "      <td>0.0</td>\n",
       "      <td>0.0</td>\n",
       "      <td>0.0</td>\n",
       "      <td>0.0</td>\n",
       "      <td>0.0</td>\n",
       "      <td>0.0</td>\n",
       "      <td>0.0</td>\n",
       "      <td>0.0</td>\n",
       "      <td>0.0</td>\n",
       "    </tr>\n",
       "    <tr>\n",
       "      <th>i wish today was better oh well next weekend will be awesome</th>\n",
       "      <td>0.0</td>\n",
       "      <td>0.0</td>\n",
       "      <td>0.0</td>\n",
       "      <td>0.0</td>\n",
       "      <td>0.0</td>\n",
       "      <td>0.0</td>\n",
       "      <td>0.0</td>\n",
       "      <td>0.0</td>\n",
       "      <td>0.0</td>\n",
       "      <td>0.0</td>\n",
       "      <td>...</td>\n",
       "      <td>0.0</td>\n",
       "      <td>0.0</td>\n",
       "      <td>0.0</td>\n",
       "      <td>0.0</td>\n",
       "      <td>0.0</td>\n",
       "      <td>0.0</td>\n",
       "      <td>0.0</td>\n",
       "      <td>0.0</td>\n",
       "      <td>0.0</td>\n",
       "      <td>0.0</td>\n",
       "    </tr>\n",
       "    <tr>\n",
       "      <th>is work opened the 8 just had some white rice and curry shrimp 4 breakfast lol nd yup just as predicted the bf woke me up lastnite</th>\n",
       "      <td>0.0</td>\n",
       "      <td>0.0</td>\n",
       "      <td>0.0</td>\n",
       "      <td>0.0</td>\n",
       "      <td>0.0</td>\n",
       "      <td>0.0</td>\n",
       "      <td>0.0</td>\n",
       "      <td>0.0</td>\n",
       "      <td>0.0</td>\n",
       "      <td>0.0</td>\n",
       "      <td>...</td>\n",
       "      <td>0.0</td>\n",
       "      <td>0.0</td>\n",
       "      <td>0.0</td>\n",
       "      <td>0.0</td>\n",
       "      <td>0.0</td>\n",
       "      <td>0.0</td>\n",
       "      <td>0.0</td>\n",
       "      <td>0.0</td>\n",
       "      <td>0.0</td>\n",
       "      <td>0.0</td>\n",
       "    </tr>\n",
       "    <tr>\n",
       "      <th>i m so nervous for you are brave my thoughts are with you</th>\n",
       "      <td>0.0</td>\n",
       "      <td>0.0</td>\n",
       "      <td>0.0</td>\n",
       "      <td>0.0</td>\n",
       "      <td>0.0</td>\n",
       "      <td>0.0</td>\n",
       "      <td>0.0</td>\n",
       "      <td>0.0</td>\n",
       "      <td>0.0</td>\n",
       "      <td>0.0</td>\n",
       "      <td>...</td>\n",
       "      <td>0.0</td>\n",
       "      <td>0.0</td>\n",
       "      <td>0.0</td>\n",
       "      <td>0.0</td>\n",
       "      <td>0.0</td>\n",
       "      <td>0.0</td>\n",
       "      <td>0.0</td>\n",
       "      <td>0.0</td>\n",
       "      <td>0.0</td>\n",
       "      <td>0.0</td>\n",
       "    </tr>\n",
       "  </tbody>\n",
       "</table>\n",
       "<p>5 rows × 15000 columns</p>\n",
       "</div>"
      ],
      "text/plain": [
       "                                                                                                                                     00  \\\n",
       "oh yeah mornin karate today x                                                                                                       0.0   \n",
       "poor guy                                                                                                                            0.0   \n",
       "i wish today was better oh well next weekend will be awesome                                                                        0.0   \n",
       "is work opened the 8 just had some white rice and curry shrimp 4 breakfast lol nd yup just as predicted the bf woke me up lastnite  0.0   \n",
       "i m so nervous for you are brave my thoughts are with you                                                                           0.0   \n",
       "\n",
       "                                                                                                                                    00 morning  \\\n",
       "oh yeah mornin karate today x                                                                                                       0.0          \n",
       "poor guy                                                                                                                            0.0          \n",
       "i wish today was better oh well next weekend will be awesome                                                                        0.0          \n",
       "is work opened the 8 just had some white rice and curry shrimp 4 breakfast lol nd yup just as predicted the bf woke me up lastnite  0.0          \n",
       "i m so nervous for you are brave my thoughts are with you                                                                           0.0          \n",
       "\n",
       "                                                                                                                                    00 pm  \\\n",
       "oh yeah mornin karate today x                                                                                                       0.0     \n",
       "poor guy                                                                                                                            0.0     \n",
       "i wish today was better oh well next weekend will be awesome                                                                        0.0     \n",
       "is work opened the 8 just had some white rice and curry shrimp 4 breakfast lol nd yup just as predicted the bf woke me up lastnite  0.0     \n",
       "i m so nervous for you are brave my thoughts are with you                                                                           0.0     \n",
       "\n",
       "                                                                                                                                    000  \\\n",
       "oh yeah mornin karate today x                                                                                                       0.0   \n",
       "poor guy                                                                                                                            0.0   \n",
       "i wish today was better oh well next weekend will be awesome                                                                        0.0   \n",
       "is work opened the 8 just had some white rice and curry shrimp 4 breakfast lol nd yup just as predicted the bf woke me up lastnite  0.0   \n",
       "i m so nervous for you are brave my thoughts are with you                                                                           0.0   \n",
       "\n",
       "                                                                                                                                    000 contacts  \\\n",
       "oh yeah mornin karate today x                                                                                                       0.0            \n",
       "poor guy                                                                                                                            0.0            \n",
       "i wish today was better oh well next weekend will be awesome                                                                        0.0            \n",
       "is work opened the 8 just had some white rice and curry shrimp 4 breakfast lol nd yup just as predicted the bf woke me up lastnite  0.0            \n",
       "i m so nervous for you are brave my thoughts are with you                                                                           0.0            \n",
       "\n",
       "                                                                                                                                    000 followers  \\\n",
       "oh yeah mornin karate today x                                                                                                       0.0             \n",
       "poor guy                                                                                                                            0.0             \n",
       "i wish today was better oh well next weekend will be awesome                                                                        0.0             \n",
       "is work opened the 8 just had some white rice and curry shrimp 4 breakfast lol nd yup just as predicted the bf woke me up lastnite  0.0             \n",
       "i m so nervous for you are brave my thoughts are with you                                                                           0.0             \n",
       "\n",
       "                                                                                                                                    00am  \\\n",
       "oh yeah mornin karate today x                                                                                                       0.0    \n",
       "poor guy                                                                                                                            0.0    \n",
       "i wish today was better oh well next weekend will be awesome                                                                        0.0    \n",
       "is work opened the 8 just had some white rice and curry shrimp 4 breakfast lol nd yup just as predicted the bf woke me up lastnite  0.0    \n",
       "i m so nervous for you are brave my thoughts are with you                                                                           0.0    \n",
       "\n",
       "                                                                                                                                    00pm  \\\n",
       "oh yeah mornin karate today x                                                                                                       0.0    \n",
       "poor guy                                                                                                                            0.0    \n",
       "i wish today was better oh well next weekend will be awesome                                                                        0.0    \n",
       "is work opened the 8 just had some white rice and curry shrimp 4 breakfast lol nd yup just as predicted the bf woke me up lastnite  0.0    \n",
       "i m so nervous for you are brave my thoughts are with you                                                                           0.0    \n",
       "\n",
       "                                                                                                                                     01  \\\n",
       "oh yeah mornin karate today x                                                                                                       0.0   \n",
       "poor guy                                                                                                                            0.0   \n",
       "i wish today was better oh well next weekend will be awesome                                                                        0.0   \n",
       "is work opened the 8 just had some white rice and curry shrimp 4 breakfast lol nd yup just as predicted the bf woke me up lastnite  0.0   \n",
       "i m so nervous for you are brave my thoughts are with you                                                                           0.0   \n",
       "\n",
       "                                                                                                                                     02  \\\n",
       "oh yeah mornin karate today x                                                                                                       0.0   \n",
       "poor guy                                                                                                                            0.0   \n",
       "i wish today was better oh well next weekend will be awesome                                                                        0.0   \n",
       "is work opened the 8 just had some white rice and curry shrimp 4 breakfast lol nd yup just as predicted the bf woke me up lastnite  0.0   \n",
       "i m so nervous for you are brave my thoughts are with you                                                                           0.0   \n",
       "\n",
       "                                                                                                                                    ...  \\\n",
       "oh yeah mornin karate today x                                                                                                       ...   \n",
       "poor guy                                                                                                                            ...   \n",
       "i wish today was better oh well next weekend will be awesome                                                                        ...   \n",
       "is work opened the 8 just had some white rice and curry shrimp 4 breakfast lol nd yup just as predicted the bf woke me up lastnite  ...   \n",
       "i m so nervous for you are brave my thoughts are with you                                                                           ...   \n",
       "\n",
       "                                                                                                                                    ðµð  \\\n",
       "oh yeah mornin karate today x                                                                                                       0.0   \n",
       "poor guy                                                                                                                            0.0   \n",
       "i wish today was better oh well next weekend will be awesome                                                                        0.0   \n",
       "is work opened the 8 just had some white rice and curry shrimp 4 breakfast lol nd yup just as predicted the bf woke me up lastnite  0.0   \n",
       "i m so nervous for you are brave my thoughts are with you                                                                           0.0   \n",
       "\n",
       "                                                                                                                                    ðµñ  \\\n",
       "oh yeah mornin karate today x                                                                                                       0.0   \n",
       "poor guy                                                                                                                            0.0   \n",
       "i wish today was better oh well next weekend will be awesome                                                                        0.0   \n",
       "is work opened the 8 just had some white rice and curry shrimp 4 breakfast lol nd yup just as predicted the bf woke me up lastnite  0.0   \n",
       "i m so nervous for you are brave my thoughts are with you                                                                           0.0   \n",
       "\n",
       "                                                                                                                                     ð¹  \\\n",
       "oh yeah mornin karate today x                                                                                                       0.0   \n",
       "poor guy                                                                                                                            0.0   \n",
       "i wish today was better oh well next weekend will be awesome                                                                        0.0   \n",
       "is work opened the 8 just had some white rice and curry shrimp 4 breakfast lol nd yup just as predicted the bf woke me up lastnite  0.0   \n",
       "i m so nervous for you are brave my thoughts are with you                                                                           0.0   \n",
       "\n",
       "                                                                                                                                    ð¼ð  \\\n",
       "oh yeah mornin karate today x                                                                                                       0.0   \n",
       "poor guy                                                                                                                            0.0   \n",
       "i wish today was better oh well next weekend will be awesome                                                                        0.0   \n",
       "is work opened the 8 just had some white rice and curry shrimp 4 breakfast lol nd yup just as predicted the bf woke me up lastnite  0.0   \n",
       "i m so nervous for you are brave my thoughts are with you                                                                           0.0   \n",
       "\n",
       "                                                                                                                                    ð¼ð¾ð  \\\n",
       "oh yeah mornin karate today x                                                                                                       0.0     \n",
       "poor guy                                                                                                                            0.0     \n",
       "i wish today was better oh well next weekend will be awesome                                                                        0.0     \n",
       "is work opened the 8 just had some white rice and curry shrimp 4 breakfast lol nd yup just as predicted the bf woke me up lastnite  0.0     \n",
       "i m so nervous for you are brave my thoughts are with you                                                                           0.0     \n",
       "\n",
       "                                                                                                                                    ð½ð  \\\n",
       "oh yeah mornin karate today x                                                                                                       0.0   \n",
       "poor guy                                                                                                                            0.0   \n",
       "i wish today was better oh well next weekend will be awesome                                                                        0.0   \n",
       "is work opened the 8 just had some white rice and curry shrimp 4 breakfast lol nd yup just as predicted the bf woke me up lastnite  0.0   \n",
       "i m so nervous for you are brave my thoughts are with you                                                                           0.0   \n",
       "\n",
       "                                                                                                                                    ð½ðµ  \\\n",
       "oh yeah mornin karate today x                                                                                                       0.0    \n",
       "poor guy                                                                                                                            0.0    \n",
       "i wish today was better oh well next weekend will be awesome                                                                        0.0    \n",
       "is work opened the 8 just had some white rice and curry shrimp 4 breakfast lol nd yup just as predicted the bf woke me up lastnite  0.0    \n",
       "i m so nervous for you are brave my thoughts are with you                                                                           0.0    \n",
       "\n",
       "                                                                                                                                     ð¾  \\\n",
       "oh yeah mornin karate today x                                                                                                       0.0   \n",
       "poor guy                                                                                                                            0.0   \n",
       "i wish today was better oh well next weekend will be awesome                                                                        0.0   \n",
       "is work opened the 8 just had some white rice and curry shrimp 4 breakfast lol nd yup just as predicted the bf woke me up lastnite  0.0   \n",
       "i m so nervous for you are brave my thoughts are with you                                                                           0.0   \n",
       "\n",
       "                                                                                                                                    ð¾ð  \\\n",
       "oh yeah mornin karate today x                                                                                                       0.0   \n",
       "poor guy                                                                                                                            0.0   \n",
       "i wish today was better oh well next weekend will be awesome                                                                        0.0   \n",
       "is work opened the 8 just had some white rice and curry shrimp 4 breakfast lol nd yup just as predicted the bf woke me up lastnite  0.0   \n",
       "i m so nervous for you are brave my thoughts are with you                                                                           0.0   \n",
       "\n",
       "                                                                                                                                    ð¾ñ  \n",
       "oh yeah mornin karate today x                                                                                                       0.0  \n",
       "poor guy                                                                                                                            0.0  \n",
       "i wish today was better oh well next weekend will be awesome                                                                        0.0  \n",
       "is work opened the 8 just had some white rice and curry shrimp 4 breakfast lol nd yup just as predicted the bf woke me up lastnite  0.0  \n",
       "i m so nervous for you are brave my thoughts are with you                                                                           0.0  \n",
       "\n",
       "[5 rows x 15000 columns]"
      ]
     },
     "execution_count": 20,
     "metadata": {},
     "output_type": "execute_result"
    }
   ],
   "source": [
    "# Preview of TF/IDF embeddings.\n",
    "feature_names = tf_idf_vectorizer.get_feature_names()\n",
    "corpus_index = [n for n in X_train]\n",
    "pd.DataFrame(vectorized_x_train.todense(), index = corpus_index, columns = feature_names).head(5)"
   ]
  },
  {
   "cell_type": "code",
   "execution_count": 21,
   "metadata": {},
   "outputs": [],
   "source": [
    "# Dictionary with TF/IDF score of each word\n",
    "tf_idf_vectorizer_words = dict(zip(tf_idf_vectorizer.get_feature_names(), tf_idf_vectorizer.idf_))"
   ]
  },
  {
   "cell_type": "code",
   "execution_count": 30,
   "metadata": {},
   "outputs": [
    {
     "data": {
      "text/plain": [
       "7.357735608373982"
      ]
     },
     "execution_count": 30,
     "metadata": {},
     "output_type": "execute_result"
    }
   ],
   "source": [
    "tf_idf_vectorizer_words['test']"
   ]
  },
  {
   "cell_type": "markdown",
   "metadata": {},
   "source": [
    "### Pre-trained Word2Vec model on Twitter data"
   ]
  },
  {
   "cell_type": "markdown",
   "metadata": {},
   "source": [
    "Using GenSim to load 200-dim pre-trained Twitter word embeddings."
   ]
  },
  {
   "cell_type": "code",
   "execution_count": 22,
   "metadata": {},
   "outputs": [],
   "source": [
    "import gensim.downloader as GensimDownloader\n",
    "from gensim.models import Word2Vec, KeyedVectors"
   ]
  },
  {
   "cell_type": "code",
   "execution_count": 23,
   "metadata": {},
   "outputs": [],
   "source": [
    "w2v_model = GensimDownloader.load(\"glove-twitter-200\")"
   ]
  },
  {
   "cell_type": "code",
   "execution_count": 31,
   "metadata": {},
   "outputs": [],
   "source": [
    "import numpy as np\n",
    "\n",
    "'''\n",
    "    Computes the mean vector of all Word2Vec embeddings of a given sentence.\n",
    "    \n",
    "    :param sentence: Input sentence.\n",
    "    :param w2v_model: Word2Vec binary model.\n",
    "    \n",
    "    :returns: mean vector (Numpy 200-dim row vector).\n",
    "'''\n",
    "def word2vec_embed_sentence(sentence:str, w2v_model:Word2Vec):\n",
    "    import numpy as np\n",
    "    from nltk.corpus import stopwords\n",
    "    \n",
    "    # Split and remove stopwords (too slow).\n",
    "    # words = [word for word in sentence.split() if word not in stopwords.words('english')]\n",
    "    \n",
    "    words = sentence.split()\n",
    "    \n",
    "    # Create a mxn matrix to store a single sentence's word embeddings.\n",
    "    word_embeddings = np.zeros((len(words), 200))\n",
    "    \n",
    "    # Create an m-vector to hold TF/IDF scores of each word.\n",
    "    tfidf_embeddings = np.zeros((len(words), 1))\n",
    "    \n",
    "    for i, word in enumerate(words):\n",
    "        if word in w2v_model.vocab and word in tf_idf_vectorizer_words:\n",
    "            word_embeddings[i, :] = w2v_model[word]\n",
    "            tfidf_embeddings[i, 0] = tf_idf_vectorizer_words[word]\n",
    "            \n",
    "    # Compute the centroid of the sentence.\n",
    "    t_centroid = np.sum(word_embeddings * tfidf_embeddings, axis = 0) / np.sum(tfidf_embeddings)\n",
    "    \n",
    "    return t_centroid\n",
    "\n",
    "'''\n",
    "    Computes Word2Vec embeddings for an entire input set.\n",
    "    \n",
    "    :param X: Input set.\n",
    "    :param w2v_model: Word2Vec binary model.\n",
    "    \n",
    "    :returns: Matrix of Word2Vec embeddings (len(X)x200 matrix).\n",
    "'''\n",
    "def word2vec_embed_X(X:np.ndarray, w2v_model:Word2Vec):\n",
    "    import numpy as np\n",
    "    \n",
    "    # Create a len(X)x200 matrix to store the entire set word embeddings.\n",
    "    sentence_embeddings = np.zeros((len(X), 200))\n",
    "    \n",
    "    for i, x in enumerate(X):\n",
    "        sentence_embeddings[i, :] = word2vec_embed_sentence(x, w2v_model)\n",
    "    \n",
    "    return sentence_embeddings"
   ]
  },
  {
   "cell_type": "code",
   "execution_count": 32,
   "metadata": {},
   "outputs": [
    {
     "name": "stderr",
     "output_type": "stream",
     "text": [
      "/home/sp/anaconda3/envs/msc-ds-core-ta-homework-2/lib/python3.6/site-packages/ipykernel_launcher.py:34: RuntimeWarning: invalid value encountered in true_divide\n"
     ]
    }
   ],
   "source": [
    "# Create Word2Vec vectorized data sets.\n",
    "w2v_vectorized_x_train = word2vec_embed_X(X_train, w2v_model)\n",
    "w2v_vectorized_x_dev = word2vec_embed_X(X_dev, w2v_model)"
   ]
  },
  {
   "cell_type": "code",
   "execution_count": 33,
   "metadata": {},
   "outputs": [],
   "source": [
    "# Impute missing or inappropriate numerical values.\n",
    "from sklearn.impute import SimpleImputer\n",
    "\n",
    "w2v_vectorized_x_train = SimpleImputer(strategy = \"mean\").fit_transform(w2v_vectorized_x_train)\n",
    "w2v_vectorized_x_dev = SimpleImputer(strategy = \"mean\").fit_transform(w2v_vectorized_x_dev)"
   ]
  },
  {
   "cell_type": "code",
   "execution_count": 34,
   "metadata": {},
   "outputs": [
    {
     "name": "stdout",
     "output_type": "stream",
     "text": [
      "np.inf= (array([], dtype=int64), array([], dtype=int64))\n",
      "is.inf= (array([], dtype=int64), array([], dtype=int64))\n",
      "np.max= 6.2743000984191895\n",
      "np.inf= (array([], dtype=int64), array([], dtype=int64))\n",
      "is.inf= (array([], dtype=int64), array([], dtype=int64))\n",
      "np.max= 6.2743000984191895\n"
     ]
    }
   ],
   "source": [
    "# Check for missing or inappropriate numerical values.\n",
    "import numpy as np\n",
    "\n",
    "print(\"np.inf=\", np.where(np.isnan(w2v_vectorized_x_train)))\n",
    "print(\"is.inf=\", np.where(np.isinf(w2v_vectorized_x_train)))\n",
    "print(\"np.max=\", np.max(abs(w2v_vectorized_x_train)))\n",
    "\n",
    "print(\"np.inf=\", np.where(np.isnan(w2v_vectorized_x_dev)))\n",
    "print(\"is.inf=\", np.where(np.isinf(w2v_vectorized_x_dev)))\n",
    "print(\"np.max=\", np.max(abs(w2v_vectorized_x_dev)))"
   ]
  },
  {
   "cell_type": "markdown",
   "metadata": {},
   "source": [
    "# Classifiers"
   ]
  },
  {
   "cell_type": "code",
   "execution_count": 35,
   "metadata": {},
   "outputs": [],
   "source": [
    "import numpy as np\n",
    "from sklearn.base import BaseEstimator\n",
    "from sklearn.metrics import classification_report\n",
    "from sklearn.metrics import f1_score\n",
    "\n",
    "def get_mismatched_tweets(x, y_true, y_pred):\n",
    "    if( not (len(x) == len(y_true) == len(y_pred))):\n",
    "        raise 'Invalid Sizes'\n",
    "    return pd.DataFrame.from_dict([{'text': x[i], 'actual': y_true[i], 'predicted': y_pred[i]} for i in range(len(y_true)) if y_true[i]!=y_pred[i]])\n",
    "\n",
    "'''\n",
    "    Performs classification using the 'clf' estimator parameter.\n",
    "    \n",
    "    If the model has been previously fitted and saved, it is loaded and used for classification.\n",
    "    Otherwise, the estimator is fitted.\n",
    "    \n",
    "    :param file_path: The file path of the saved model. Also used for saving the model, if not previsouly saved.\n",
    "    :param clf: The estimator to use. \n",
    "    :param X_train: Features training set.\n",
    "    :param X_dev: Features dev set.\n",
    "    :param y_train: Target training set.\n",
    "    :param y_dev: Target dev set.\n",
    "    :param retrain: Indicates whether we desire that our model is retrained (True), \n",
    "                    regardless of the presence of a previously saved model.\n",
    "'''\n",
    "def classify(file_path:str, clf:BaseEstimator, X_train:np.ndarray, X_dev:np.ndarray, y_train:np.ndarray, y_dev:np.ndarray, retrain:bool = False):\n",
    "    clf_saved = load_model(file_path)\n",
    "    \n",
    "    # Model has not been saved\n",
    "    if (clf_saved == None) or (retrain == True):\n",
    "        clf.fit(X_train, y_train)\n",
    "        \n",
    "        # Save fitted model\n",
    "        save_model(file_path, clf)\n",
    "        \n",
    "        # Apply model for prediction on training set\n",
    "        y_train_pred = clf.predict(X_train)\n",
    "        \n",
    "        score = f1_score(y_train, y_train_pred, average = 'micro')\n",
    "        print(\"train f1-score:\", score)\n",
    "\n",
    "        # Apply model for prediction on training set\n",
    "        y_test_pred = clf.predict(X_dev)\n",
    "        \n",
    "        score = f1_score(y_dev, y_test_pred, average = 'micro')\n",
    "        print(\"test f1-score:\", score)\n",
    "        print()\n",
    "        print(\"test data confusion matrix\")\n",
    "        \n",
    "        y_pred = pd.Series(y_test_pred, name = 'Predicted')\n",
    "        y_true = pd.Series(y_dev, name = 'True')\n",
    "        display(pd.crosstab(y_true, y_pred))\n",
    "        \n",
    "        print(\"test data metrics\")\n",
    "        print(classification_report(y_true, y_pred))\n",
    "        \n",
    "        return y_test_pred\n",
    "    # Use saved model\n",
    "    else:\n",
    "        # Apply model for prediction on training set\n",
    "        y_train_pred = clf_saved.predict(X_train)\n",
    "        \n",
    "        score = f1_score(y_train, y_train_pred, average = 'micro')\n",
    "        print(\"train f1-score:\", score)\n",
    "\n",
    "        # Apply model for prediction on training set\n",
    "        y_test_pred = clf_saved.predict(X_dev)\n",
    "        \n",
    "        score = f1_score(y_dev, y_test_pred, average = 'micro')\n",
    "        print(\"test f1-score:\", score)\n",
    "        print()\n",
    "        print(\"test data confusion matrix\")\n",
    "        \n",
    "        y_pred = pd.Series(y_test_pred, name = 'Predicted')\n",
    "        y_true = pd.Series(y_dev, name = 'True')\n",
    "        display(pd.crosstab(y_true, y_pred))\n",
    "        \n",
    "        print(\"test data metrics\")\n",
    "        print(classification_report(y_true, y_pred))\n",
    "        return y_test_pred"
   ]
  },
  {
   "cell_type": "markdown",
   "metadata": {},
   "source": [
    "We will try to get a soft estimate of how each of the classifiers perform without paramter tuning"
   ]
  },
  {
   "cell_type": "markdown",
   "metadata": {},
   "source": [
    "## Dummy Classifier"
   ]
  },
  {
   "cell_type": "markdown",
   "metadata": {},
   "source": [
    "We use this as the base classifier, the Dummy classifier does not have any logic on classification and its expected to classify all as a specific class. the f1 score is expected to be around 50%"
   ]
  },
  {
   "cell_type": "code",
   "execution_count": 27,
   "metadata": {},
   "outputs": [
    {
     "name": "stdout",
     "output_type": "stream",
     "text": [
      "train f1-score: 0.5044533333333333\n",
      "test f1-score: 0.48664\n",
      "\n",
      "test data confusion matrix\n"
     ]
    },
    {
     "data": {
      "text/html": [
       "<div>\n",
       "<style scoped>\n",
       "    .dataframe tbody tr th:only-of-type {\n",
       "        vertical-align: middle;\n",
       "    }\n",
       "\n",
       "    .dataframe tbody tr th {\n",
       "        vertical-align: top;\n",
       "    }\n",
       "\n",
       "    .dataframe thead th {\n",
       "        text-align: right;\n",
       "    }\n",
       "</style>\n",
       "<table border=\"1\" class=\"dataframe\">\n",
       "  <thead>\n",
       "    <tr style=\"text-align: right;\">\n",
       "      <th>Predicted</th>\n",
       "      <th>0</th>\n",
       "    </tr>\n",
       "    <tr>\n",
       "      <th>True</th>\n",
       "      <th></th>\n",
       "    </tr>\n",
       "  </thead>\n",
       "  <tbody>\n",
       "    <tr>\n",
       "      <th>0</th>\n",
       "      <td>6083</td>\n",
       "    </tr>\n",
       "    <tr>\n",
       "      <th>1</th>\n",
       "      <td>6417</td>\n",
       "    </tr>\n",
       "  </tbody>\n",
       "</table>\n",
       "</div>"
      ],
      "text/plain": [
       "Predicted     0\n",
       "True           \n",
       "0          6083\n",
       "1          6417"
      ]
     },
     "metadata": {},
     "output_type": "display_data"
    },
    {
     "name": "stdout",
     "output_type": "stream",
     "text": [
      "test data metrics\n",
      "              precision    recall  f1-score   support\n",
      "\n",
      "           0       0.49      1.00      0.65      6083\n",
      "           1       0.00      0.00      0.00      6417\n",
      "\n",
      "    accuracy                           0.49     12500\n",
      "   macro avg       0.24      0.50      0.33     12500\n",
      "weighted avg       0.24      0.49      0.32     12500\n",
      "\n"
     ]
    },
    {
     "name": "stderr",
     "output_type": "stream",
     "text": [
      "/home/manos/.conda/envs/ta_assignment2_1/lib/python3.7/site-packages/sklearn/metrics/classification.py:1437: UndefinedMetricWarning: Precision and F-score are ill-defined and being set to 0.0 in labels with no predicted samples.\n",
      "  'precision', 'predicted', average, warn_for)\n"
     ]
    },
    {
     "data": {
      "text/plain": [
       "array([0, 0, 0, ..., 0, 0, 0])"
      ]
     },
     "execution_count": 27,
     "metadata": {},
     "output_type": "execute_result"
    }
   ],
   "source": [
    "from sklearn.dummy import DummyClassifier\n",
    "\n",
    "clf = DummyClassifier(strategy = 'most_frequent')\n",
    "\n",
    "classify(\"models/frozen/dummy_tfidf.model\", clf, vectorized_x_train, vectorized_x_dev, y_train, y_dev, retrain = True)"
   ]
  },
  {
   "cell_type": "markdown",
   "metadata": {},
   "source": [
    "## Naive-Bayes Classifier"
   ]
  },
  {
   "cell_type": "markdown",
   "metadata": {},
   "source": [
    "#### With TF/IDF vectors"
   ]
  },
  {
   "cell_type": "code",
   "execution_count": 28,
   "metadata": {},
   "outputs": [
    {
     "name": "stdout",
     "output_type": "stream",
     "text": [
      "train f1-score: 0.82704\n",
      "test f1-score: 0.7348\n",
      "\n",
      "test data confusion matrix\n"
     ]
    },
    {
     "data": {
      "text/html": [
       "<div>\n",
       "<style scoped>\n",
       "    .dataframe tbody tr th:only-of-type {\n",
       "        vertical-align: middle;\n",
       "    }\n",
       "\n",
       "    .dataframe tbody tr th {\n",
       "        vertical-align: top;\n",
       "    }\n",
       "\n",
       "    .dataframe thead th {\n",
       "        text-align: right;\n",
       "    }\n",
       "</style>\n",
       "<table border=\"1\" class=\"dataframe\">\n",
       "  <thead>\n",
       "    <tr style=\"text-align: right;\">\n",
       "      <th>Predicted</th>\n",
       "      <th>0</th>\n",
       "      <th>1</th>\n",
       "    </tr>\n",
       "    <tr>\n",
       "      <th>True</th>\n",
       "      <th></th>\n",
       "      <th></th>\n",
       "    </tr>\n",
       "  </thead>\n",
       "  <tbody>\n",
       "    <tr>\n",
       "      <th>0</th>\n",
       "      <td>4634</td>\n",
       "      <td>1449</td>\n",
       "    </tr>\n",
       "    <tr>\n",
       "      <th>1</th>\n",
       "      <td>1866</td>\n",
       "      <td>4551</td>\n",
       "    </tr>\n",
       "  </tbody>\n",
       "</table>\n",
       "</div>"
      ],
      "text/plain": [
       "Predicted     0     1\n",
       "True                 \n",
       "0          4634  1449\n",
       "1          1866  4551"
      ]
     },
     "metadata": {},
     "output_type": "display_data"
    },
    {
     "name": "stdout",
     "output_type": "stream",
     "text": [
      "test data metrics\n",
      "              precision    recall  f1-score   support\n",
      "\n",
      "           0       0.71      0.76      0.74      6083\n",
      "           1       0.76      0.71      0.73      6417\n",
      "\n",
      "    accuracy                           0.73     12500\n",
      "   macro avg       0.74      0.74      0.73     12500\n",
      "weighted avg       0.74      0.73      0.73     12500\n",
      "\n"
     ]
    },
    {
     "data": {
      "text/plain": [
       "array([1, 1, 1, ..., 1, 0, 0])"
      ]
     },
     "execution_count": 28,
     "metadata": {},
     "output_type": "execute_result"
    }
   ],
   "source": [
    "from sklearn.naive_bayes import MultinomialNB\n",
    "\n",
    "clf = MultinomialNB()\n",
    "\n",
    "classify(\"models/frozen/multinomial_NB_tfidf.model\", clf, vectorized_x_train, vectorized_x_dev, y_train, y_dev, retrain = True)"
   ]
  },
  {
   "cell_type": "markdown",
   "metadata": {},
   "source": [
    "#### With Word2Vec vectors\n",
    "Since this is a model based on a multinomial Gaussian distribution, we cannot use the Word2Vec vectors because they contain negative values."
   ]
  },
  {
   "cell_type": "markdown",
   "metadata": {},
   "source": [
    "## Logistic Regression"
   ]
  },
  {
   "cell_type": "markdown",
   "metadata": {},
   "source": [
    "#### With TF/IDF vectors"
   ]
  },
  {
   "cell_type": "code",
   "execution_count": 29,
   "metadata": {},
   "outputs": [
    {
     "name": "stdout",
     "output_type": "stream",
     "text": [
      "train f1-score: 0.8278666666666666\n",
      "test f1-score: 0.74816\n",
      "\n",
      "test data confusion matrix\n"
     ]
    },
    {
     "data": {
      "text/html": [
       "<div>\n",
       "<style scoped>\n",
       "    .dataframe tbody tr th:only-of-type {\n",
       "        vertical-align: middle;\n",
       "    }\n",
       "\n",
       "    .dataframe tbody tr th {\n",
       "        vertical-align: top;\n",
       "    }\n",
       "\n",
       "    .dataframe thead th {\n",
       "        text-align: right;\n",
       "    }\n",
       "</style>\n",
       "<table border=\"1\" class=\"dataframe\">\n",
       "  <thead>\n",
       "    <tr style=\"text-align: right;\">\n",
       "      <th>Predicted</th>\n",
       "      <th>0</th>\n",
       "      <th>1</th>\n",
       "    </tr>\n",
       "    <tr>\n",
       "      <th>True</th>\n",
       "      <th></th>\n",
       "      <th></th>\n",
       "    </tr>\n",
       "  </thead>\n",
       "  <tbody>\n",
       "    <tr>\n",
       "      <th>0</th>\n",
       "      <td>4517</td>\n",
       "      <td>1566</td>\n",
       "    </tr>\n",
       "    <tr>\n",
       "      <th>1</th>\n",
       "      <td>1582</td>\n",
       "      <td>4835</td>\n",
       "    </tr>\n",
       "  </tbody>\n",
       "</table>\n",
       "</div>"
      ],
      "text/plain": [
       "Predicted     0     1\n",
       "True                 \n",
       "0          4517  1566\n",
       "1          1582  4835"
      ]
     },
     "metadata": {},
     "output_type": "display_data"
    },
    {
     "name": "stdout",
     "output_type": "stream",
     "text": [
      "test data metrics\n",
      "              precision    recall  f1-score   support\n",
      "\n",
      "           0       0.74      0.74      0.74      6083\n",
      "           1       0.76      0.75      0.75      6417\n",
      "\n",
      "    accuracy                           0.75     12500\n",
      "   macro avg       0.75      0.75      0.75     12500\n",
      "weighted avg       0.75      0.75      0.75     12500\n",
      "\n"
     ]
    },
    {
     "data": {
      "text/plain": [
       "array([1, 1, 1, ..., 1, 0, 0])"
      ]
     },
     "execution_count": 29,
     "metadata": {},
     "output_type": "execute_result"
    }
   ],
   "source": [
    "from sklearn.linear_model import LogisticRegression\n",
    "\n",
    "clf = LogisticRegression(solver = \"liblinear\")\n",
    "\n",
    "classify(\"models/frozen/logistic_regression_tfidf.model\", clf, vectorized_x_train, vectorized_x_dev, y_train, y_dev, retrain = False)"
   ]
  },
  {
   "cell_type": "markdown",
   "metadata": {},
   "source": [
    "#### With Word2Vec vectors"
   ]
  },
  {
   "cell_type": "code",
   "execution_count": 36,
   "metadata": {},
   "outputs": [
    {
     "name": "stderr",
     "output_type": "stream",
     "text": [
      "/home/sp/anaconda3/envs/msc-ds-core-ta-homework-2/lib/python3.6/site-packages/sklearn/base.py:306: UserWarning: Trying to unpickle estimator LogisticRegression from version 0.21.1 when using version 0.21.0. This might lead to breaking code or invalid results. Use at your own risk.\n",
      "  UserWarning)\n"
     ]
    },
    {
     "name": "stdout",
     "output_type": "stream",
     "text": [
      "train f1-score: 0.73776\n",
      "test f1-score: 0.7309599999999999\n",
      "\n",
      "test data confusion matrix\n"
     ]
    },
    {
     "data": {
      "text/html": [
       "<div>\n",
       "<style scoped>\n",
       "    .dataframe tbody tr th:only-of-type {\n",
       "        vertical-align: middle;\n",
       "    }\n",
       "\n",
       "    .dataframe tbody tr th {\n",
       "        vertical-align: top;\n",
       "    }\n",
       "\n",
       "    .dataframe thead th {\n",
       "        text-align: right;\n",
       "    }\n",
       "</style>\n",
       "<table border=\"1\" class=\"dataframe\">\n",
       "  <thead>\n",
       "    <tr style=\"text-align: right;\">\n",
       "      <th>Predicted</th>\n",
       "      <th>0</th>\n",
       "      <th>1</th>\n",
       "    </tr>\n",
       "    <tr>\n",
       "      <th>True</th>\n",
       "      <th></th>\n",
       "      <th></th>\n",
       "    </tr>\n",
       "  </thead>\n",
       "  <tbody>\n",
       "    <tr>\n",
       "      <th>0</th>\n",
       "      <td>4576</td>\n",
       "      <td>1657</td>\n",
       "    </tr>\n",
       "    <tr>\n",
       "      <th>1</th>\n",
       "      <td>1706</td>\n",
       "      <td>4561</td>\n",
       "    </tr>\n",
       "  </tbody>\n",
       "</table>\n",
       "</div>"
      ],
      "text/plain": [
       "Predicted     0     1\n",
       "True                 \n",
       "0          4576  1657\n",
       "1          1706  4561"
      ]
     },
     "metadata": {},
     "output_type": "display_data"
    },
    {
     "name": "stdout",
     "output_type": "stream",
     "text": [
      "test data metrics\n",
      "              precision    recall  f1-score   support\n",
      "\n",
      "           0       0.73      0.73      0.73      6233\n",
      "           1       0.73      0.73      0.73      6267\n",
      "\n",
      "    accuracy                           0.73     12500\n",
      "   macro avg       0.73      0.73      0.73     12500\n",
      "weighted avg       0.73      0.73      0.73     12500\n",
      "\n"
     ]
    },
    {
     "data": {
      "text/plain": [
       "array([1, 0, 0, ..., 1, 1, 0])"
      ]
     },
     "execution_count": 36,
     "metadata": {},
     "output_type": "execute_result"
    }
   ],
   "source": [
    "from sklearn.linear_model import LogisticRegression\n",
    "\n",
    "clf = LogisticRegression(solver=\"liblinear\")\n",
    "\n",
    "classify(\"models/frozen/logistic_regression_w2v.model\", clf, w2v_vectorized_x_train, w2v_vectorized_x_dev, y_train, y_dev, retrain = False)"
   ]
  },
  {
   "cell_type": "markdown",
   "metadata": {},
   "source": [
    "## SVM classifier"
   ]
  },
  {
   "cell_type": "markdown",
   "metadata": {},
   "source": [
    "#### Without dimensionality reduction"
   ]
  },
  {
   "cell_type": "markdown",
   "metadata": {},
   "source": [
    "#### With TF/IDF vectors"
   ]
  },
  {
   "cell_type": "code",
   "execution_count": 37,
   "metadata": {},
   "outputs": [
    {
     "name": "stderr",
     "output_type": "stream",
     "text": [
      "/home/sp/anaconda3/envs/msc-ds-core-ta-homework-2/lib/python3.6/site-packages/sklearn/base.py:306: UserWarning: Trying to unpickle estimator SVC from version 0.21.1 when using version 0.21.0. This might lead to breaking code or invalid results. Use at your own risk.\n",
      "  UserWarning)\n"
     ]
    },
    {
     "name": "stdout",
     "output_type": "stream",
     "text": [
      "train f1-score: 0.84824\n",
      "test f1-score: 0.74496\n",
      "\n",
      "test data confusion matrix\n"
     ]
    },
    {
     "data": {
      "text/html": [
       "<div>\n",
       "<style scoped>\n",
       "    .dataframe tbody tr th:only-of-type {\n",
       "        vertical-align: middle;\n",
       "    }\n",
       "\n",
       "    .dataframe tbody tr th {\n",
       "        vertical-align: top;\n",
       "    }\n",
       "\n",
       "    .dataframe thead th {\n",
       "        text-align: right;\n",
       "    }\n",
       "</style>\n",
       "<table border=\"1\" class=\"dataframe\">\n",
       "  <thead>\n",
       "    <tr style=\"text-align: right;\">\n",
       "      <th>Predicted</th>\n",
       "      <th>0</th>\n",
       "      <th>1</th>\n",
       "    </tr>\n",
       "    <tr>\n",
       "      <th>True</th>\n",
       "      <th></th>\n",
       "      <th></th>\n",
       "    </tr>\n",
       "  </thead>\n",
       "  <tbody>\n",
       "    <tr>\n",
       "      <th>0</th>\n",
       "      <td>4565</td>\n",
       "      <td>1668</td>\n",
       "    </tr>\n",
       "    <tr>\n",
       "      <th>1</th>\n",
       "      <td>1520</td>\n",
       "      <td>4747</td>\n",
       "    </tr>\n",
       "  </tbody>\n",
       "</table>\n",
       "</div>"
      ],
      "text/plain": [
       "Predicted     0     1\n",
       "True                 \n",
       "0          4565  1668\n",
       "1          1520  4747"
      ]
     },
     "metadata": {},
     "output_type": "display_data"
    },
    {
     "name": "stdout",
     "output_type": "stream",
     "text": [
      "test data metrics\n",
      "              precision    recall  f1-score   support\n",
      "\n",
      "           0       0.75      0.73      0.74      6233\n",
      "           1       0.74      0.76      0.75      6267\n",
      "\n",
      "    accuracy                           0.74     12500\n",
      "   macro avg       0.75      0.74      0.74     12500\n",
      "weighted avg       0.75      0.74      0.74     12500\n",
      "\n"
     ]
    },
    {
     "data": {
      "text/plain": [
       "array([1, 0, 0, ..., 1, 1, 0])"
      ]
     },
     "execution_count": 37,
     "metadata": {},
     "output_type": "execute_result"
    }
   ],
   "source": [
    "from sklearn import svm\n",
    "\n",
    "clf = svm.SVC(kernel = 'linear')\n",
    "\n",
    "classify(\"models/frozen/SVM_tfidf.model\", clf, vectorized_x_train, vectorized_x_dev, y_train, y_dev, retrain = False)"
   ]
  },
  {
   "cell_type": "markdown",
   "metadata": {},
   "source": [
    "#### With Word2Vec vectors"
   ]
  },
  {
   "cell_type": "code",
   "execution_count": 38,
   "metadata": {},
   "outputs": [
    {
     "name": "stderr",
     "output_type": "stream",
     "text": [
      "/home/sp/anaconda3/envs/msc-ds-core-ta-homework-2/lib/python3.6/site-packages/sklearn/base.py:306: UserWarning: Trying to unpickle estimator SVC from version 0.21.1 when using version 0.21.0. This might lead to breaking code or invalid results. Use at your own risk.\n",
      "  UserWarning)\n"
     ]
    },
    {
     "name": "stdout",
     "output_type": "stream",
     "text": [
      "train f1-score: 0.7371466666666666\n",
      "test f1-score: 0.73128\n",
      "\n",
      "test data confusion matrix\n"
     ]
    },
    {
     "data": {
      "text/html": [
       "<div>\n",
       "<style scoped>\n",
       "    .dataframe tbody tr th:only-of-type {\n",
       "        vertical-align: middle;\n",
       "    }\n",
       "\n",
       "    .dataframe tbody tr th {\n",
       "        vertical-align: top;\n",
       "    }\n",
       "\n",
       "    .dataframe thead th {\n",
       "        text-align: right;\n",
       "    }\n",
       "</style>\n",
       "<table border=\"1\" class=\"dataframe\">\n",
       "  <thead>\n",
       "    <tr style=\"text-align: right;\">\n",
       "      <th>Predicted</th>\n",
       "      <th>0</th>\n",
       "      <th>1</th>\n",
       "    </tr>\n",
       "    <tr>\n",
       "      <th>True</th>\n",
       "      <th></th>\n",
       "      <th></th>\n",
       "    </tr>\n",
       "  </thead>\n",
       "  <tbody>\n",
       "    <tr>\n",
       "      <th>0</th>\n",
       "      <td>4554</td>\n",
       "      <td>1679</td>\n",
       "    </tr>\n",
       "    <tr>\n",
       "      <th>1</th>\n",
       "      <td>1680</td>\n",
       "      <td>4587</td>\n",
       "    </tr>\n",
       "  </tbody>\n",
       "</table>\n",
       "</div>"
      ],
      "text/plain": [
       "Predicted     0     1\n",
       "True                 \n",
       "0          4554  1679\n",
       "1          1680  4587"
      ]
     },
     "metadata": {},
     "output_type": "display_data"
    },
    {
     "name": "stdout",
     "output_type": "stream",
     "text": [
      "test data metrics\n",
      "              precision    recall  f1-score   support\n",
      "\n",
      "           0       0.73      0.73      0.73      6233\n",
      "           1       0.73      0.73      0.73      6267\n",
      "\n",
      "    accuracy                           0.73     12500\n",
      "   macro avg       0.73      0.73      0.73     12500\n",
      "weighted avg       0.73      0.73      0.73     12500\n",
      "\n"
     ]
    },
    {
     "data": {
      "text/plain": [
       "array([1, 0, 1, ..., 1, 1, 0])"
      ]
     },
     "execution_count": 38,
     "metadata": {},
     "output_type": "execute_result"
    }
   ],
   "source": [
    "from sklearn import svm\n",
    "\n",
    "clf = svm.SVC(kernel = 'linear')\n",
    "\n",
    "classify(\"models/frozen/SVM_w2v.model\", clf, w2v_vectorized_x_train, w2v_vectorized_x_dev, y_train, y_dev, retrain = True)"
   ]
  },
  {
   "cell_type": "markdown",
   "metadata": {},
   "source": [
    "#### With dimensionality reduction (SVD)"
   ]
  },
  {
   "cell_type": "markdown",
   "metadata": {},
   "source": [
    "#### With TF/IDF vectors"
   ]
  },
  {
   "cell_type": "code",
   "execution_count": 40,
   "metadata": {},
   "outputs": [],
   "source": [
    "from sklearn.decomposition import TruncatedSVD\n",
    "\n",
    "svd = TruncatedSVD(n_components = 100, random_state = 4321)"
   ]
  },
  {
   "cell_type": "code",
   "execution_count": 34,
   "metadata": {},
   "outputs": [],
   "source": [
    "# Create TF/IDF vectorized data sets.\n",
    "vectorized_x_train_svd = svd.fit_transform(vectorized_x_train)\n",
    "vectorized_x_dev_svd = svd.transform(vectorized_x_dev)"
   ]
  },
  {
   "cell_type": "code",
   "execution_count": 35,
   "metadata": {},
   "outputs": [
    {
     "name": "stdout",
     "output_type": "stream",
     "text": [
      "train f1-score: 0.6926933333333334\n",
      "test f1-score: 0.68264\n",
      "\n",
      "test data confusion matrix\n"
     ]
    },
    {
     "data": {
      "text/html": [
       "<div>\n",
       "<style scoped>\n",
       "    .dataframe tbody tr th:only-of-type {\n",
       "        vertical-align: middle;\n",
       "    }\n",
       "\n",
       "    .dataframe tbody tr th {\n",
       "        vertical-align: top;\n",
       "    }\n",
       "\n",
       "    .dataframe thead th {\n",
       "        text-align: right;\n",
       "    }\n",
       "</style>\n",
       "<table border=\"1\" class=\"dataframe\">\n",
       "  <thead>\n",
       "    <tr style=\"text-align: right;\">\n",
       "      <th>Predicted</th>\n",
       "      <th>0</th>\n",
       "      <th>1</th>\n",
       "    </tr>\n",
       "    <tr>\n",
       "      <th>True</th>\n",
       "      <th></th>\n",
       "      <th></th>\n",
       "    </tr>\n",
       "  </thead>\n",
       "  <tbody>\n",
       "    <tr>\n",
       "      <th>0</th>\n",
       "      <td>4114</td>\n",
       "      <td>1969</td>\n",
       "    </tr>\n",
       "    <tr>\n",
       "      <th>1</th>\n",
       "      <td>1998</td>\n",
       "      <td>4419</td>\n",
       "    </tr>\n",
       "  </tbody>\n",
       "</table>\n",
       "</div>"
      ],
      "text/plain": [
       "Predicted     0     1\n",
       "True                 \n",
       "0          4114  1969\n",
       "1          1998  4419"
      ]
     },
     "metadata": {},
     "output_type": "display_data"
    },
    {
     "name": "stdout",
     "output_type": "stream",
     "text": [
      "test data metrics\n",
      "              precision    recall  f1-score   support\n",
      "\n",
      "           0       0.67      0.68      0.67      6083\n",
      "           1       0.69      0.69      0.69      6417\n",
      "\n",
      "    accuracy                           0.68     12500\n",
      "   macro avg       0.68      0.68      0.68     12500\n",
      "weighted avg       0.68      0.68      0.68     12500\n",
      "\n"
     ]
    },
    {
     "data": {
      "text/plain": [
       "array([0, 1, 1, ..., 1, 1, 0])"
      ]
     },
     "execution_count": 35,
     "metadata": {},
     "output_type": "execute_result"
    }
   ],
   "source": [
    "from sklearn import svm\n",
    "\n",
    "clf = svm.SVC(kernel = 'linear')\n",
    "\n",
    "classify(\"models/frozen/SVM_tfidf_svd.model\", clf, vectorized_x_train_svd, vectorized_x_dev_svd, y_train, y_dev, retrain = False)"
   ]
  },
  {
   "cell_type": "markdown",
   "metadata": {},
   "source": [
    "#### With Word2Vec vectors"
   ]
  },
  {
   "cell_type": "code",
   "execution_count": 41,
   "metadata": {},
   "outputs": [],
   "source": [
    "# Create TF/IDF vectorized data sets.\n",
    "w2v_vectorized_x_train_svd = svd.fit_transform(w2v_vectorized_x_train)\n",
    "w2v_vectorized_x_dev_svd = svd.transform(w2v_vectorized_x_dev)"
   ]
  },
  {
   "cell_type": "code",
   "execution_count": 42,
   "metadata": {},
   "outputs": [
    {
     "name": "stderr",
     "output_type": "stream",
     "text": [
      "/home/sp/anaconda3/envs/msc-ds-core-ta-homework-2/lib/python3.6/site-packages/sklearn/base.py:306: UserWarning: Trying to unpickle estimator SVC from version 0.21.1 when using version 0.21.0. This might lead to breaking code or invalid results. Use at your own risk.\n",
      "  UserWarning)\n"
     ]
    },
    {
     "name": "stdout",
     "output_type": "stream",
     "text": [
      "train f1-score: 0.7319733333333334\n",
      "test f1-score: 0.7272\n",
      "\n",
      "test data confusion matrix\n"
     ]
    },
    {
     "data": {
      "text/html": [
       "<div>\n",
       "<style scoped>\n",
       "    .dataframe tbody tr th:only-of-type {\n",
       "        vertical-align: middle;\n",
       "    }\n",
       "\n",
       "    .dataframe tbody tr th {\n",
       "        vertical-align: top;\n",
       "    }\n",
       "\n",
       "    .dataframe thead th {\n",
       "        text-align: right;\n",
       "    }\n",
       "</style>\n",
       "<table border=\"1\" class=\"dataframe\">\n",
       "  <thead>\n",
       "    <tr style=\"text-align: right;\">\n",
       "      <th>Predicted</th>\n",
       "      <th>0</th>\n",
       "      <th>1</th>\n",
       "    </tr>\n",
       "    <tr>\n",
       "      <th>True</th>\n",
       "      <th></th>\n",
       "      <th></th>\n",
       "    </tr>\n",
       "  </thead>\n",
       "  <tbody>\n",
       "    <tr>\n",
       "      <th>0</th>\n",
       "      <td>4555</td>\n",
       "      <td>1678</td>\n",
       "    </tr>\n",
       "    <tr>\n",
       "      <th>1</th>\n",
       "      <td>1732</td>\n",
       "      <td>4535</td>\n",
       "    </tr>\n",
       "  </tbody>\n",
       "</table>\n",
       "</div>"
      ],
      "text/plain": [
       "Predicted     0     1\n",
       "True                 \n",
       "0          4555  1678\n",
       "1          1732  4535"
      ]
     },
     "metadata": {},
     "output_type": "display_data"
    },
    {
     "name": "stdout",
     "output_type": "stream",
     "text": [
      "test data metrics\n",
      "              precision    recall  f1-score   support\n",
      "\n",
      "           0       0.72      0.73      0.73      6233\n",
      "           1       0.73      0.72      0.73      6267\n",
      "\n",
      "    accuracy                           0.73     12500\n",
      "   macro avg       0.73      0.73      0.73     12500\n",
      "weighted avg       0.73      0.73      0.73     12500\n",
      "\n"
     ]
    },
    {
     "data": {
      "text/plain": [
       "array([1, 0, 1, ..., 1, 1, 0])"
      ]
     },
     "execution_count": 42,
     "metadata": {},
     "output_type": "execute_result"
    }
   ],
   "source": [
    "from sklearn import svm\n",
    "\n",
    "clf = svm.SVC(kernel = 'linear')\n",
    "\n",
    "classify(\"models/frozen/SVM_w2v_svd.model\", clf, w2v_vectorized_x_train_svd, w2v_vectorized_x_dev_svd, y_train, y_dev, retrain = True)"
   ]
  },
  {
   "cell_type": "markdown",
   "metadata": {},
   "source": [
    "## KNN classifier"
   ]
  },
  {
   "cell_type": "markdown",
   "metadata": {},
   "source": [
    "#### With TF/IDF vectors"
   ]
  },
  {
   "cell_type": "code",
   "execution_count": 38,
   "metadata": {},
   "outputs": [
    {
     "name": "stdout",
     "output_type": "stream",
     "text": [
      "train f1-score: 0.7300266666666667\n",
      "test f1-score: 0.57752\n",
      "\n",
      "test data confusion matrix\n"
     ]
    },
    {
     "data": {
      "text/html": [
       "<div>\n",
       "<style scoped>\n",
       "    .dataframe tbody tr th:only-of-type {\n",
       "        vertical-align: middle;\n",
       "    }\n",
       "\n",
       "    .dataframe tbody tr th {\n",
       "        vertical-align: top;\n",
       "    }\n",
       "\n",
       "    .dataframe thead th {\n",
       "        text-align: right;\n",
       "    }\n",
       "</style>\n",
       "<table border=\"1\" class=\"dataframe\">\n",
       "  <thead>\n",
       "    <tr style=\"text-align: right;\">\n",
       "      <th>Predicted</th>\n",
       "      <th>0</th>\n",
       "      <th>1</th>\n",
       "    </tr>\n",
       "    <tr>\n",
       "      <th>True</th>\n",
       "      <th></th>\n",
       "      <th></th>\n",
       "    </tr>\n",
       "  </thead>\n",
       "  <tbody>\n",
       "    <tr>\n",
       "      <th>0</th>\n",
       "      <td>2901</td>\n",
       "      <td>3182</td>\n",
       "    </tr>\n",
       "    <tr>\n",
       "      <th>1</th>\n",
       "      <td>2099</td>\n",
       "      <td>4318</td>\n",
       "    </tr>\n",
       "  </tbody>\n",
       "</table>\n",
       "</div>"
      ],
      "text/plain": [
       "Predicted     0     1\n",
       "True                 \n",
       "0          2901  3182\n",
       "1          2099  4318"
      ]
     },
     "metadata": {},
     "output_type": "display_data"
    },
    {
     "name": "stdout",
     "output_type": "stream",
     "text": [
      "test data metrics\n",
      "              precision    recall  f1-score   support\n",
      "\n",
      "           0       0.58      0.48      0.52      6083\n",
      "           1       0.58      0.67      0.62      6417\n",
      "\n",
      "    accuracy                           0.58     12500\n",
      "   macro avg       0.58      0.57      0.57     12500\n",
      "weighted avg       0.58      0.58      0.57     12500\n",
      "\n"
     ]
    },
    {
     "data": {
      "text/plain": [
       "array([0, 1, 1, ..., 0, 1, 0])"
      ]
     },
     "execution_count": 38,
     "metadata": {},
     "output_type": "execute_result"
    }
   ],
   "source": [
    "from sklearn.neighbors import KNeighborsClassifier\n",
    "\n",
    "clf = KNeighborsClassifier(n_neighbors = 5)\n",
    "\n",
    "classify(\"models/frozen/KNN_tfidf.model\", clf, vectorized_x_train, vectorized_x_dev, y_train, y_dev, retrain = False)"
   ]
  },
  {
   "cell_type": "markdown",
   "metadata": {},
   "source": [
    "#### With Word2Vec vectors"
   ]
  },
  {
   "cell_type": "code",
   "execution_count": 44,
   "metadata": {},
   "outputs": [
    {
     "name": "stderr",
     "output_type": "stream",
     "text": [
      "/home/sp/anaconda3/envs/msc-ds-core-ta-homework-2/lib/python3.6/site-packages/sklearn/base.py:306: UserWarning: Trying to unpickle estimator KNeighborsClassifier from version 0.21.1 when using version 0.21.0. This might lead to breaking code or invalid results. Use at your own risk.\n",
      "  UserWarning)\n"
     ]
    },
    {
     "name": "stdout",
     "output_type": "stream",
     "text": [
      "train f1-score: 0.7642666666666666\n",
      "test f1-score: 0.64688\n",
      "\n",
      "test data confusion matrix\n"
     ]
    },
    {
     "data": {
      "text/html": [
       "<div>\n",
       "<style scoped>\n",
       "    .dataframe tbody tr th:only-of-type {\n",
       "        vertical-align: middle;\n",
       "    }\n",
       "\n",
       "    .dataframe tbody tr th {\n",
       "        vertical-align: top;\n",
       "    }\n",
       "\n",
       "    .dataframe thead th {\n",
       "        text-align: right;\n",
       "    }\n",
       "</style>\n",
       "<table border=\"1\" class=\"dataframe\">\n",
       "  <thead>\n",
       "    <tr style=\"text-align: right;\">\n",
       "      <th>Predicted</th>\n",
       "      <th>0</th>\n",
       "      <th>1</th>\n",
       "    </tr>\n",
       "    <tr>\n",
       "      <th>True</th>\n",
       "      <th></th>\n",
       "      <th></th>\n",
       "    </tr>\n",
       "  </thead>\n",
       "  <tbody>\n",
       "    <tr>\n",
       "      <th>0</th>\n",
       "      <td>3930</td>\n",
       "      <td>2303</td>\n",
       "    </tr>\n",
       "    <tr>\n",
       "      <th>1</th>\n",
       "      <td>2111</td>\n",
       "      <td>4156</td>\n",
       "    </tr>\n",
       "  </tbody>\n",
       "</table>\n",
       "</div>"
      ],
      "text/plain": [
       "Predicted     0     1\n",
       "True                 \n",
       "0          3930  2303\n",
       "1          2111  4156"
      ]
     },
     "metadata": {},
     "output_type": "display_data"
    },
    {
     "name": "stdout",
     "output_type": "stream",
     "text": [
      "test data metrics\n",
      "              precision    recall  f1-score   support\n",
      "\n",
      "           0       0.65      0.63      0.64      6233\n",
      "           1       0.64      0.66      0.65      6267\n",
      "\n",
      "    accuracy                           0.65     12500\n",
      "   macro avg       0.65      0.65      0.65     12500\n",
      "weighted avg       0.65      0.65      0.65     12500\n",
      "\n"
     ]
    },
    {
     "data": {
      "text/plain": [
       "array([1, 0, 0, ..., 0, 1, 0])"
      ]
     },
     "execution_count": 44,
     "metadata": {},
     "output_type": "execute_result"
    }
   ],
   "source": [
    "from sklearn.neighbors import KNeighborsClassifier\n",
    "\n",
    "clf = KNeighborsClassifier(n_neighbors = 5)\n",
    "\n",
    "classify(\"models/frozen/KNN_w2v.model\", clf, w2v_vectorized_x_train, w2v_vectorized_x_dev, y_train, y_dev, retrain = False)"
   ]
  },
  {
   "cell_type": "markdown",
   "metadata": {},
   "source": [
    "## Parameter Optimization"
   ]
  },
  {
   "cell_type": "code",
   "execution_count": 61,
   "metadata": {},
   "outputs": [],
   "source": [
    "import os\n",
    "from pprint import pprint\n",
    "from time import time\n",
    "from sklearn.model_selection import GridSearchCV, StratifiedKFold\n",
    "\n",
    "X = corpus\n",
    "y = target"
   ]
  },
  {
   "cell_type": "markdown",
   "metadata": {},
   "source": [
    "### Grid Search for NBayes Classifier"
   ]
  },
  {
   "cell_type": "code",
   "execution_count": 62,
   "metadata": {},
   "outputs": [
    {
     "name": "stdout",
     "output_type": "stream",
     "text": [
      "Performing grid search...\n",
      "pipeline: ['vect', 'clf']\n",
      "parameters:\n",
      "{'clf__alpha': (0.001, 1e-05, 1e-07),\n",
      " 'vect__max_features': [None, 5000, 10000, 15000, 25000],\n",
      " 'vect__ngram_range': [(1, 1), (1, 2), (2, 3)]}\n",
      "Fitting 5 folds for each of 45 candidates, totalling 225 fits\n"
     ]
    },
    {
     "name": "stderr",
     "output_type": "stream",
     "text": [
      "[Parallel(n_jobs=7)]: Using backend LokyBackend with 7 concurrent workers.\n",
      "[Parallel(n_jobs=7)]: Done  36 tasks      | elapsed:   13.9s\n",
      "[Parallel(n_jobs=7)]: Done 186 tasks      | elapsed:  1.1min\n",
      "[Parallel(n_jobs=7)]: Done 225 out of 225 | elapsed:  1.3min finished\n"
     ]
    },
    {
     "name": "stdout",
     "output_type": "stream",
     "text": [
      "done in 81.656s\n",
      "\n",
      "Best score: 0.763\n",
      "Best parameters set:\n",
      "\tclf__alpha: 0.001\n",
      "\tvect__max_features: 10000\n",
      "\tvect__ngram_range: (1, 2)\n"
     ]
    }
   ],
   "source": [
    "from sklearn.pipeline import Pipeline\n",
    "\n",
    "pipeline = Pipeline([\n",
    "    ('vect', TfidfVectorizer()),\n",
    "    ('clf', MultinomialNB())\n",
    "])\n",
    "\n",
    "parameters = {\n",
    "    'vect__max_features': [None, 5000, 10000, 15000, 25000],\n",
    "    'vect__ngram_range': [(1, 1), (1, 2), (2, 3)],\n",
    "    'clf__alpha': (0.001, 0.00001, 0.0000001)\n",
    "}\n",
    "\n",
    "print(\"Performing grid search...\")\n",
    "print(\"pipeline:\", [name for name, _ in pipeline.steps])\n",
    "print(\"parameters:\")\n",
    "pprint(parameters)\n",
    "t0 = time()\n",
    "\n",
    "cv = StratifiedKFold(n_splits=5, random_state = 3143113413, shuffle = True)\n",
    "\n",
    "grid_search = GridSearchCV(pipeline, parameters, cv = cv, n_jobs = os.cpu_count() - 1, verbose = 1, error_score = 'raise')\n",
    "grid_search.fit(X, y)\n",
    "\n",
    "print(\"done in %0.3fs\" % (time() - t0))\n",
    "print()\n",
    "\n",
    "print(\"Best score: %0.3f\" % grid_search.best_score_)\n",
    "print(\"Best parameters set:\")\n",
    "best_parameters = grid_search.best_estimator_.get_params()\n",
    "for param_name in sorted(parameters.keys()):\n",
    "    print(\"\\t%s: %r\" % (param_name, best_parameters[param_name]))\n",
    "    \n",
    "bestNaiveBayesEstimator = grid_search.best_estimator_\n",
    "\n",
    "save_model(\"models/frozen/naive_bayes_best.model\", bestNaiveBayesEstimator)"
   ]
  },
  {
   "cell_type": "markdown",
   "metadata": {},
   "source": [
    "We have already used grid_search to find best number of features for training tf-idf vectorizer which is 25000 features\n",
    "and the ngram range which is (1,2) using N-Bayes classifier. Given that we want to find best parameter set for the below classifiers and since a feature set of more than 5000 is highly unpropable to give us a better score. We chose to not grid-search on the tfidf vectorizer and keep the same best parameters that we found above. And instead take more time to optimize each classifier's configuration parameters."
   ]
  },
  {
   "cell_type": "markdown",
   "metadata": {},
   "source": [
    "### Grid Search for Logistic Regression"
   ]
  },
  {
   "cell_type": "code",
   "execution_count": 63,
   "metadata": {},
   "outputs": [
    {
     "name": "stdout",
     "output_type": "stream",
     "text": [
      "Performing grid search...\n",
      "pipeline: ['vect', 'clf']\n",
      "parameters:\n",
      "{'clf__C': [1, 10, 100, 1000],\n",
      " 'clf__solver': ['liblinear'],\n",
      " 'vect__max_features': [10000],\n",
      " 'vect__ngram_range': [(1, 2)]}\n",
      "Fitting 5 folds for each of 4 candidates, totalling 20 fits\n"
     ]
    },
    {
     "name": "stderr",
     "output_type": "stream",
     "text": [
      "[Parallel(n_jobs=7)]: Using backend LokyBackend with 7 concurrent workers.\n",
      "[Parallel(n_jobs=7)]: Done  20 out of  20 | elapsed:   10.4s finished\n"
     ]
    },
    {
     "name": "stdout",
     "output_type": "stream",
     "text": [
      "done in 12.119s\n",
      "\n",
      "Best score: 0.779\n",
      "Best parameters set:\n",
      "\tclf__C: 1\n",
      "\tclf__solver: 'liblinear'\n",
      "\tvect__max_features: 10000\n",
      "\tvect__ngram_range: (1, 2)\n"
     ]
    }
   ],
   "source": [
    "pipeline = Pipeline([\n",
    "    ('vect', TfidfVectorizer()),\n",
    "    ('clf', LogisticRegression())\n",
    "])\n",
    "\n",
    "parameters = {\n",
    "    'vect__max_features': [10000],\n",
    "    'vect__ngram_range': [(1, 2)],\n",
    "    'clf__solver': ['liblinear'],\n",
    "    'clf__C': [1, 10, 100, 1000]\n",
    "}\n",
    "\n",
    "print(\"Performing grid search...\")\n",
    "print(\"pipeline:\", [name for name, _ in pipeline.steps])\n",
    "print(\"parameters:\")\n",
    "pprint(parameters)\n",
    "t0 = time()\n",
    "\n",
    "cv = StratifiedKFold(n_splits = 5, random_state = 3143113413, shuffle = True)\n",
    "\n",
    "grid_search = GridSearchCV(pipeline, parameters, cv = cv, n_jobs = os.cpu_count() - 1, verbose = 1, error_score = 'raise')\n",
    "grid_search.fit(X, y)\n",
    "\n",
    "print(\"done in %0.3fs\" % (time() - t0))\n",
    "print()\n",
    "\n",
    "print(\"Best score: %0.3f\" % grid_search.best_score_)\n",
    "print(\"Best parameters set:\")\n",
    "best_parameters = grid_search.best_estimator_.get_params()\n",
    "for param_name in sorted(parameters.keys()):\n",
    "    print(\"\\t%s: %r\" % (param_name, best_parameters[param_name]))\n",
    "\n",
    "bestLogisticRgressionEstimator = grid_search.best_estimator_\n",
    "\n",
    "save_model(\"models/frozen/logistic_regression_best.model\", bestLogisticRgressionEstimator)"
   ]
  },
  {
   "cell_type": "markdown",
   "metadata": {},
   "source": [
    "### Grid Search for k-NN Classifier"
   ]
  },
  {
   "cell_type": "code",
   "execution_count": 64,
   "metadata": {},
   "outputs": [
    {
     "name": "stdout",
     "output_type": "stream",
     "text": [
      "Performing grid search...\n",
      "pipeline: ['vect', 'clf']\n",
      "parameters:\n",
      "{'clf__metric': ['euclidean'],\n",
      " 'clf__n_neighbors': [5, 7],\n",
      " 'clf__weights': ['distance'],\n",
      " 'vect__max_features': [10000],\n",
      " 'vect__ngram_range': [(1, 2)]}\n",
      "Fitting 5 folds for each of 2 candidates, totalling 10 fits\n"
     ]
    },
    {
     "name": "stderr",
     "output_type": "stream",
     "text": [
      "[Parallel(n_jobs=7)]: Using backend LokyBackend with 7 concurrent workers.\n",
      "[Parallel(n_jobs=7)]: Done   8 out of  10 | elapsed:   29.3s remaining:    7.3s\n",
      "[Parallel(n_jobs=7)]: Done  10 out of  10 | elapsed:   29.6s finished\n"
     ]
    },
    {
     "name": "stdout",
     "output_type": "stream",
     "text": [
      "done in 31.000s\n",
      "\n",
      "Best score: 0.562\n",
      "Best parameters set:\n",
      "\tclf__metric: 'euclidean'\n",
      "\tclf__n_neighbors: 5\n",
      "\tclf__weights: 'distance'\n",
      "\tvect__max_features: 10000\n",
      "\tvect__ngram_range: (1, 2)\n"
     ]
    }
   ],
   "source": [
    "# pipeline = Pipeline([\n",
    "#             ('vect', TfidfVectorizer()),\n",
    "#             ('clf', KNeighborsClassifier())\n",
    "#         ])\n",
    "\n",
    "# parameters = {\n",
    "#     'vect__max_features': [10000],\n",
    "#     'vect__ngram_range': [(1, 2)],\n",
    "#     'clf__n_neighbors': [5, 7],\n",
    "#     'clf__weights': ['distance'],\n",
    "#     'clf__metric': ['euclidean']\n",
    "# }\n",
    "\n",
    "# print(\"Performing grid search...\")\n",
    "# print(\"pipeline:\", [name for name, _ in pipeline.steps])\n",
    "# print(\"parameters:\")\n",
    "# pprint(parameters)\n",
    "# t0 = time()\n",
    "\n",
    "# cv = StratifiedKFold(n_splits=5, random_state=3143113413, shuffle=True)\n",
    "\n",
    "# grid_search = GridSearchCV(pipeline, parameters, cv=cv, n_jobs=os.cpu_count() - 1, verbose=1, error_score='raise')\n",
    "# grid_search.fit(X, y)\n",
    "\n",
    "# print(\"done in %0.3fs\" % (time() - t0))\n",
    "# print()\n",
    "\n",
    "# print(\"Best score: %0.3f\" % grid_search.best_score_)\n",
    "# print(\"Best parameters set:\")\n",
    "# best_parameters = grid_search.best_estimator_.get_params()\n",
    "# for param_name in sorted(parameters.keys()):\n",
    "#     print(\"\\t%s: %r\" % (param_name, best_parameters[param_name]))\n",
    "\n",
    "# bestKNNClassifierEstimator = grid_search.best_estimator_\n",
    "\n",
    "# save_model(\"models/frozen/knn_classifier_best.model\", bestKNNClassifierEstimator)"
   ]
  },
  {
   "cell_type": "markdown",
   "metadata": {},
   "source": [
    "Parameter tuning for KNN classifier took more than 8 hours. we can't tune it.\n",
    "We could not tune parameters on SVM because it required much time but we can see thatn kNN with parameter tuning couldn't score better than \n",
    "Logistic regression which hold our best score until now."
   ]
  },
  {
   "cell_type": "markdown",
   "metadata": {},
   "source": [
    "## Plot Learning Curves"
   ]
  },
  {
   "cell_type": "markdown",
   "metadata": {},
   "source": [
    "For the best estimators we found above."
   ]
  },
  {
   "cell_type": "code",
   "execution_count": 65,
   "metadata": {},
   "outputs": [],
   "source": [
    "import numpy as np\n",
    "def plot_learning_curve(estimator, title, X, y, ylim = None, cv = None, n_jobs = 1, train_sizes = np.linspace(.1, 1.0, 5)):\n",
    "   \n",
    "    plt.figure()\n",
    "    plt.title(title)\n",
    "    \n",
    "    if ylim is not None:\n",
    "        plt.ylim(*ylim)\n",
    "        \n",
    "    plt.xlabel(\"Training examples\")\n",
    "    plt.ylabel(\"F1-score\")\n",
    "    \n",
    "    train_sizes, train_scores, test_scores = learning_curve(estimator, X, y, cv = cv, n_jobs = n_jobs,scoring = 'f1', train_sizes = train_sizes)\n",
    "    train_scores_mean = np.mean(train_scores, axis = 1)\n",
    "    train_scores_std = np.std(train_scores, axis = 1)\n",
    "    test_scores_mean = np.mean(test_scores, axis = 1)\n",
    "    test_scores_std = np.std(test_scores, axis = 1)\n",
    "    plt.grid()\n",
    "\n",
    "    plt.fill_between(\n",
    "        train_sizes, \n",
    "        train_scores_mean - train_scores_std,\n",
    "        train_scores_mean + train_scores_std, \n",
    "        alpha = 0.1,\n",
    "        color=\"b\"\n",
    "    )\n",
    "    \n",
    "    plt.fill_between(\n",
    "        train_sizes, \n",
    "        test_scores_mean - test_scores_std,\n",
    "        test_scores_mean + test_scores_std, \n",
    "        alpha = 0.1, color = \"orange\"\n",
    "    )\n",
    "    \n",
    "    plt.plot(train_sizes, train_scores_mean, 'o-', color=\"b\", label = \"Training score\")\n",
    "    plt.plot(train_sizes, test_scores_mean, 'o-', color = \"orange\", label = \"Cross-validation score\")\n",
    "\n",
    "    plt.legend(loc = \"lower right\")\n",
    "    \n",
    "    return plt"
   ]
  },
  {
   "cell_type": "code",
   "execution_count": 66,
   "metadata": {},
   "outputs": [],
   "source": [
    "X, y = vectorized_x_train, y_train"
   ]
  },
  {
   "cell_type": "code",
   "execution_count": 67,
   "metadata": {},
   "outputs": [
    {
     "data": {
      "image/png": "[encoded data removed]",
      "text/plain": [
       "<Figure size 432x288 with 1 Axes>"
      ]
     },
     "metadata": {
      "needs_background": "light"
     },
     "output_type": "display_data"
    },
    {
     "data": {
      "image/png": "[encoded data removed]",
      "text/plain": [
       "<Figure size 432x288 with 1 Axes>"
      ]
     },
     "metadata": {
      "needs_background": "light"
     },
     "output_type": "display_data"
    }
   ],
   "source": [
    "import matplotlib.pyplot as plt\n",
    "%matplotlib inline\n",
    "\n",
    "from sklearn.model_selection import learning_curve\n",
    "from sklearn.model_selection import ShuffleSplit\n",
    "from sklearn.base import clone\n",
    "\n",
    "title = \"Learning Curves (Naive Bayes)\"\n",
    "cv = ShuffleSplit(n_splits = 5, test_size = 0.2, random_state = 123123123)\n",
    "estimator = clone(bestNaiveBayesEstimator['clf'])\n",
    "plot_learning_curve(estimator, title, X, y, ylim = (0.3, 1.01), cv = cv, n_jobs = 2)\n",
    "plt.show()\n",
    "\n",
    "title = \"Learning Curves (Logistic Regression)\"\n",
    "cv = ShuffleSplit(n_splits = 5, test_size = 0.2, random_state = 0)\n",
    "estimator = clone(bestLogisticRgressionEstimator['clf'])\n",
    "plot_learning_curve(estimator, title, X, y, (0.3, 1.01), cv = cv, n_jobs = 2)\n",
    "plt.show()"
   ]
  },
  {
   "cell_type": "markdown",
   "metadata": {},
   "source": [
    "## Pressision Recall curves"
   ]
  },
  {
   "cell_type": "code",
   "execution_count": 68,
   "metadata": {},
   "outputs": [
    {
     "data": {
      "image/png": "[encoded data removed]",
      "text/plain": [
       "<Figure size 432x288 with 1 Axes>"
      ]
     },
     "metadata": {
      "needs_background": "light"
     },
     "output_type": "display_data"
    },
    {
     "data": {
      "image/png": "[encoded data removed]",
      "text/plain": [
       "<Figure size 432x288 with 1 Axes>"
      ]
     },
     "metadata": {
      "needs_background": "light"
     },
     "output_type": "display_data"
    }
   ],
   "source": [
    "from sklearn.metrics import precision_recall_curve\n",
    "from sklearn.linear_model import LogisticRegression\n",
    "from sklearn.metrics import auc\n",
    "import matplotlib.pyplot as plt\n",
    "from sklearn.naive_bayes import MultinomialNB\n",
    "from sklearn.base import clone\n",
    "\n",
    "#disable warnings for large float numbers of estimated probabilities\n",
    "np.seterr(all = 'ignore')\n",
    "estimators = {\n",
    "    'Naive Bayes ': clone(bestNaiveBayesEstimator['clf']),\n",
    "    'Logistic Regression': clone(bestLogisticRgressionEstimator['clf'])\n",
    "}\n",
    "\n",
    "for (name,estimator) in estimators.items():\n",
    "    \n",
    "    model = estimator\n",
    "    model.fit(X, y)\n",
    "    pred = model.predict_proba(vectorized_x_dev)\n",
    "    precision, recall, thresholds = precision_recall_curve(y_dev, pred[:, 1])\n",
    "    area = auc(recall, precision)\n",
    "\n",
    "    plt.plot(recall, precision, label = 'Precision-Recall curve')\n",
    "    plt.xlabel('Recall')\n",
    "    plt.ylabel('Precision')\n",
    "    plt.ylim([0.0, 1.05])\n",
    "    plt.xlim([0.0, 1.0])\n",
    "    plt.title('Precision-Recall %s: AUC=%0.2f' % (name, area))\n",
    "    plt.legend(loc = \"lower left\")\n",
    "    plt.show()"
   ]
  },
  {
   "cell_type": "markdown",
   "metadata": {},
   "source": [
    "# Validation on the test Set"
   ]
  },
  {
   "cell_type": "code",
   "execution_count": 69,
   "metadata": {},
   "outputs": [],
   "source": [
    "original_test_df = create_dataset(\n",
    "    'data/testdata.manual.2009.06.14.csv', \n",
    "    sys.maxsize\n",
    ")"
   ]
  },
  {
   "cell_type": "code",
   "execution_count": 70,
   "metadata": {},
   "outputs": [
    {
     "data": {
      "text/html": [
       "<div>\n",
       "<style scoped>\n",
       "    .dataframe tbody tr th:only-of-type {\n",
       "        vertical-align: middle;\n",
       "    }\n",
       "\n",
       "    .dataframe tbody tr th {\n",
       "        vertical-align: top;\n",
       "    }\n",
       "\n",
       "    .dataframe thead th {\n",
       "        text-align: right;\n",
       "    }\n",
       "</style>\n",
       "<table border=\"1\" class=\"dataframe\">\n",
       "  <thead>\n",
       "    <tr style=\"text-align: right;\">\n",
       "      <th></th>\n",
       "      <th>polarity</th>\n",
       "      <th>date</th>\n",
       "      <th>query</th>\n",
       "      <th>user</th>\n",
       "      <th>text</th>\n",
       "    </tr>\n",
       "    <tr>\n",
       "      <th>id</th>\n",
       "      <th></th>\n",
       "      <th></th>\n",
       "      <th></th>\n",
       "      <th></th>\n",
       "      <th></th>\n",
       "    </tr>\n",
       "  </thead>\n",
       "  <tbody>\n",
       "    <tr>\n",
       "      <th>9</th>\n",
       "      <td>0</td>\n",
       "      <td>Mon May 11 03:22:30 UTC 2009</td>\n",
       "      <td>aig</td>\n",
       "      <td>Seth937</td>\n",
       "      <td>Fuck this economy. I hate aig and their non loan given asses.</td>\n",
       "    </tr>\n",
       "    <tr>\n",
       "      <th>14</th>\n",
       "      <td>0</td>\n",
       "      <td>Mon May 11 03:32:48 UTC 2009</td>\n",
       "      <td>obama</td>\n",
       "      <td>kylesellers</td>\n",
       "      <td>@Karoli I firmly believe that Obama/Pelosi have ZERO desire to be civil.  It's a charade and a slogan, but they want to destroy conservatism</td>\n",
       "    </tr>\n",
       "    <tr>\n",
       "      <th>17</th>\n",
       "      <td>0</td>\n",
       "      <td>Mon May 11 05:06:22 UTC 2009</td>\n",
       "      <td>nike</td>\n",
       "      <td>vincentx24x</td>\n",
       "      <td>dear nike, stop with the flywire. that shit is a waste of science. and ugly. love, @vincentx24x</td>\n",
       "    </tr>\n",
       "    <tr>\n",
       "      <th>19</th>\n",
       "      <td>0</td>\n",
       "      <td>Mon May 11 05:20:28 UTC 2009</td>\n",
       "      <td>lebron</td>\n",
       "      <td>luv8242</td>\n",
       "      <td>I was talking to this guy last night and he was telling me that he is a die hard Spurs fan.  He also told me that he hates LeBron James.</td>\n",
       "    </tr>\n",
       "    <tr>\n",
       "      <th>21</th>\n",
       "      <td>0</td>\n",
       "      <td>Mon May 11 05:21:37 UTC 2009</td>\n",
       "      <td>lebron</td>\n",
       "      <td>ursecretdezire</td>\n",
       "      <td>@ludajuice Lebron is a Beast, but I'm still cheering 4 the A..til the end.</td>\n",
       "    </tr>\n",
       "    <tr>\n",
       "      <th>119</th>\n",
       "      <td>0</td>\n",
       "      <td>Sat May 16 16:19:24 UTC 2009</td>\n",
       "      <td>google</td>\n",
       "      <td>vamsmack</td>\n",
       "      <td>Played with an android google phone. The slide out screen scares me I would break that fucker so fast. Still prefer my iPhone.</td>\n",
       "    </tr>\n",
       "    <tr>\n",
       "      <th>120</th>\n",
       "      <td>0</td>\n",
       "      <td>Sat May 16 16:25:41 UTC 2009</td>\n",
       "      <td>aig</td>\n",
       "      <td>schroncd</td>\n",
       "      <td>US planning to resume the military tribunals at Guantanamo Bay... only this time those on trial will be AIG execs and Chrysler debt holders</td>\n",
       "    </tr>\n",
       "    <tr>\n",
       "      <th>121</th>\n",
       "      <td>0</td>\n",
       "      <td>Sat May 16 22:42:07 UTC 2009</td>\n",
       "      <td>itchy</td>\n",
       "      <td>MarissaLeeD</td>\n",
       "      <td>omg so bored &amp;amp; my tattoooos are so itchy!!  help! aha =)</td>\n",
       "    </tr>\n",
       "    <tr>\n",
       "      <th>122</th>\n",
       "      <td>0</td>\n",
       "      <td>Sat May 16 22:42:25 UTC 2009</td>\n",
       "      <td>itchy</td>\n",
       "      <td>robloposky</td>\n",
       "      <td>I'm itchy and miserable!</td>\n",
       "    </tr>\n",
       "    <tr>\n",
       "      <th>123</th>\n",
       "      <td>0</td>\n",
       "      <td>Sat May 16 22:42:44 UTC 2009</td>\n",
       "      <td>itchy</td>\n",
       "      <td>EdwinLValencia</td>\n",
       "      <td>@sekseemess no. I'm not itchy for now. Maybe later, lol.</td>\n",
       "    </tr>\n",
       "  </tbody>\n",
       "</table>\n",
       "</div>"
      ],
      "text/plain": [
       "     polarity                          date   query            user  \\\n",
       "id                                                                    \n",
       "9    0         Mon May 11 03:22:30 UTC 2009  aig     Seth937          \n",
       "14   0         Mon May 11 03:32:48 UTC 2009  obama   kylesellers      \n",
       "17   0         Mon May 11 05:06:22 UTC 2009  nike    vincentx24x      \n",
       "19   0         Mon May 11 05:20:28 UTC 2009  lebron  luv8242          \n",
       "21   0         Mon May 11 05:21:37 UTC 2009  lebron  ursecretdezire   \n",
       "119  0         Sat May 16 16:19:24 UTC 2009  google  vamsmack         \n",
       "120  0         Sat May 16 16:25:41 UTC 2009  aig     schroncd         \n",
       "121  0         Sat May 16 22:42:07 UTC 2009  itchy   MarissaLeeD      \n",
       "122  0         Sat May 16 22:42:25 UTC 2009  itchy   robloposky       \n",
       "123  0         Sat May 16 22:42:44 UTC 2009  itchy   EdwinLValencia   \n",
       "\n",
       "                                                                                                                                             text  \n",
       "id                                                                                                                                                 \n",
       "9    Fuck this economy. I hate aig and their non loan given asses.                                                                                 \n",
       "14   @Karoli I firmly believe that Obama/Pelosi have ZERO desire to be civil.  It's a charade and a slogan, but they want to destroy conservatism  \n",
       "17   dear nike, stop with the flywire. that shit is a waste of science. and ugly. love, @vincentx24x                                               \n",
       "19   I was talking to this guy last night and he was telling me that he is a die hard Spurs fan.  He also told me that he hates LeBron James.      \n",
       "21   @ludajuice Lebron is a Beast, but I'm still cheering 4 the A..til the end.                                                                    \n",
       "119  Played with an android google phone. The slide out screen scares me I would break that fucker so fast. Still prefer my iPhone.                \n",
       "120  US planning to resume the military tribunals at Guantanamo Bay... only this time those on trial will be AIG execs and Chrysler debt holders   \n",
       "121  omg so bored &amp; my tattoooos are so itchy!!  help! aha =)                                                                                  \n",
       "122  I'm itchy and miserable!                                                                                                                      \n",
       "123  @sekseemess no. I'm not itchy for now. Maybe later, lol.                                                                                      "
      ]
     },
     "metadata": {},
     "output_type": "display_data"
    },
    {
     "data": {
      "text/plain": [
       "1795"
      ]
     },
     "metadata": {},
     "output_type": "display_data"
    }
   ],
   "source": [
    "display(original_test_df.head(10))\n",
    "display(original_test_df.size)"
   ]
  },
  {
   "cell_type": "markdown",
   "metadata": {},
   "source": [
    "## Normalize data"
   ]
  },
  {
   "cell_type": "markdown",
   "metadata": {},
   "source": [
    "Before using the test set to perform classification, we should apply the same preprocessing rules tat we employed in oprder to train the model, so as to establish the a baseline."
   ]
  },
  {
   "cell_type": "code",
   "execution_count": 71,
   "metadata": {},
   "outputs": [],
   "source": [
    "df_test = original_test_df.copy()\n",
    "df_test.drop(columns = ['date', 'query', 'user'], axis = 1, inplace = True)\n",
    "df_test.reset_index(drop=True, inplace = True)"
   ]
  },
  {
   "cell_type": "code",
   "execution_count": 72,
   "metadata": {},
   "outputs": [],
   "source": [
    "df_test['text'] = df_test['text'].apply(lambda row: preprocess_row(row))"
   ]
  },
  {
   "cell_type": "code",
   "execution_count": 73,
   "metadata": {},
   "outputs": [
    {
     "data": {
      "text/html": [
       "<div>\n",
       "<style scoped>\n",
       "    .dataframe tbody tr th:only-of-type {\n",
       "        vertical-align: middle;\n",
       "    }\n",
       "\n",
       "    .dataframe tbody tr th {\n",
       "        vertical-align: top;\n",
       "    }\n",
       "\n",
       "    .dataframe thead th {\n",
       "        text-align: right;\n",
       "    }\n",
       "</style>\n",
       "<table border=\"1\" class=\"dataframe\">\n",
       "  <thead>\n",
       "    <tr style=\"text-align: right;\">\n",
       "      <th></th>\n",
       "      <th>polarity</th>\n",
       "      <th>text</th>\n",
       "    </tr>\n",
       "  </thead>\n",
       "  <tbody>\n",
       "    <tr>\n",
       "      <th>0</th>\n",
       "      <td>0</td>\n",
       "      <td>fuck this economy i hate aig and their non loan given asses</td>\n",
       "    </tr>\n",
       "    <tr>\n",
       "      <th>1</th>\n",
       "      <td>0</td>\n",
       "      <td>i firmly believe that obama pelosi have zero desire to be civil it s a charade and a slogan but they want to destroy conservatism</td>\n",
       "    </tr>\n",
       "    <tr>\n",
       "      <th>2</th>\n",
       "      <td>0</td>\n",
       "      <td>dear nike stop with the flywire that shit is a waste of science and ugly love</td>\n",
       "    </tr>\n",
       "    <tr>\n",
       "      <th>3</th>\n",
       "      <td>0</td>\n",
       "      <td>i was talking to this guy last night and he was telling me that he is a die hard spurs fan he also told me that he hates lebron james</td>\n",
       "    </tr>\n",
       "    <tr>\n",
       "      <th>4</th>\n",
       "      <td>0</td>\n",
       "      <td>lebron is a beast but i m still cheering 4 the a til the end</td>\n",
       "    </tr>\n",
       "  </tbody>\n",
       "</table>\n",
       "</div>"
      ],
      "text/plain": [
       "   polarity  \\\n",
       "0  0          \n",
       "1  0          \n",
       "2  0          \n",
       "3  0          \n",
       "4  0          \n",
       "\n",
       "                                                                                                                                    text  \n",
       "0  fuck this economy i hate aig and their non loan given asses                                                                            \n",
       "1  i firmly believe that obama pelosi have zero desire to be civil it s a charade and a slogan but they want to destroy conservatism      \n",
       "2  dear nike stop with the flywire that shit is a waste of science and ugly love                                                          \n",
       "3  i was talking to this guy last night and he was telling me that he is a die hard spurs fan he also told me that he hates lebron james  \n",
       "4  lebron is a beast but i m still cheering 4 the a til the end                                                                           "
      ]
     },
     "metadata": {},
     "output_type": "display_data"
    }
   ],
   "source": [
    "display(df_test.head())"
   ]
  },
  {
   "cell_type": "code",
   "execution_count": 74,
   "metadata": {},
   "outputs": [],
   "source": [
    "X_test = df_test['text'].values.tolist()\n",
    "y_test = df_test['polarity'].values.tolist()"
   ]
  },
  {
   "cell_type": "code",
   "execution_count": 75,
   "metadata": {},
   "outputs": [
    {
     "data": {
      "text/plain": [
       "Text(0.5, 1.0, 'Dataset labels distribuition')"
      ]
     },
     "execution_count": 75,
     "metadata": {},
     "output_type": "execute_result"
    },
    {
     "data": {
      "image/png": "[encoded data removed]",
      "text/plain": [
       "<Figure size 1152x576 with 1 Axes>"
      ]
     },
     "metadata": {
      "needs_background": "light"
     },
     "output_type": "display_data"
    }
   ],
   "source": [
    "from collections import Counter\n",
    "import matplotlib.pyplot as plt\n",
    "%matplotlib inline\n",
    "\n",
    "target_cnt = Counter(y_test)\n",
    "\n",
    "plt.figure(figsize = (16, 8))\n",
    "plt.bar(target_cnt.keys(), target_cnt.values())\n",
    "plt.title(\"Dataset labels distribuition\")"
   ]
  },
  {
   "cell_type": "code",
   "execution_count": 76,
   "metadata": {},
   "outputs": [
    {
     "name": "stdout",
     "output_type": "stream",
     "text": [
      "test f1-score: 0.7715877437325905\n",
      "\n"
     ]
    },
    {
     "data": {
      "text/html": [
       "<div>\n",
       "<style scoped>\n",
       "    .dataframe tbody tr th:only-of-type {\n",
       "        vertical-align: middle;\n",
       "    }\n",
       "\n",
       "    .dataframe tbody tr th {\n",
       "        vertical-align: top;\n",
       "    }\n",
       "\n",
       "    .dataframe thead th {\n",
       "        text-align: right;\n",
       "    }\n",
       "</style>\n",
       "<table border=\"1\" class=\"dataframe\">\n",
       "  <thead>\n",
       "    <tr style=\"text-align: right;\">\n",
       "      <th>Predicted</th>\n",
       "      <th>0</th>\n",
       "      <th>4</th>\n",
       "    </tr>\n",
       "    <tr>\n",
       "      <th>True</th>\n",
       "      <th></th>\n",
       "      <th></th>\n",
       "    </tr>\n",
       "  </thead>\n",
       "  <tbody>\n",
       "    <tr>\n",
       "      <th>0</th>\n",
       "      <td>122</td>\n",
       "      <td>55</td>\n",
       "    </tr>\n",
       "    <tr>\n",
       "      <th>4</th>\n",
       "      <td>27</td>\n",
       "      <td>155</td>\n",
       "    </tr>\n",
       "  </tbody>\n",
       "</table>\n",
       "</div>"
      ],
      "text/plain": [
       "Predicted    0    4\n",
       "True               \n",
       "0          122  55 \n",
       "4          27   155"
      ]
     },
     "metadata": {},
     "output_type": "display_data"
    }
   ],
   "source": [
    "import pandas as pd\n",
    "\n",
    "y_pred = bestLogisticRgressionEstimator.predict(X_test)\n",
    "score = f1_score(y_test, y_pred, average = 'micro')\n",
    "print(\"test f1-score:\", score)\n",
    "print()\n",
    "\n",
    "y_true = pd.Series(y_test, name = 'True')\n",
    "y_pred = pd.Series(y_pred, name = 'Predicted')\n",
    "display(pd.crosstab(y_true, y_pred))"
   ]
  },
  {
   "cell_type": "code",
   "execution_count": 77,
   "metadata": {},
   "outputs": [
    {
     "name": "stdout",
     "output_type": "stream",
     "text": [
      "              precision    recall  f1-score   support\n",
      "\n",
      "           0       0.82      0.69      0.75       177\n",
      "           4       0.74      0.85      0.79       182\n",
      "\n",
      "    accuracy                           0.77       359\n",
      "   macro avg       0.78      0.77      0.77       359\n",
      "weighted avg       0.78      0.77      0.77       359\n",
      "\n"
     ]
    }
   ],
   "source": [
    "print(classification_report(y_true, y_pred))"
   ]
  },
  {
   "cell_type": "code",
   "execution_count": 78,
   "metadata": {},
   "outputs": [
    {
     "data": {
      "text/html": [
       "<div>\n",
       "<style scoped>\n",
       "    .dataframe tbody tr th:only-of-type {\n",
       "        vertical-align: middle;\n",
       "    }\n",
       "\n",
       "    .dataframe tbody tr th {\n",
       "        vertical-align: top;\n",
       "    }\n",
       "\n",
       "    .dataframe thead th {\n",
       "        text-align: right;\n",
       "    }\n",
       "</style>\n",
       "<table border=\"1\" class=\"dataframe\">\n",
       "  <thead>\n",
       "    <tr style=\"text-align: right;\">\n",
       "      <th></th>\n",
       "      <th>actual</th>\n",
       "      <th>predicted</th>\n",
       "      <th>text</th>\n",
       "    </tr>\n",
       "  </thead>\n",
       "  <tbody>\n",
       "    <tr>\n",
       "      <th>0</th>\n",
       "      <td>0</td>\n",
       "      <td>4</td>\n",
       "      <td>dear nike stop with the flywire that shit is a waste of science and ugly love</td>\n",
       "    </tr>\n",
       "    <tr>\n",
       "      <th>1</th>\n",
       "      <td>0</td>\n",
       "      <td>4</td>\n",
       "      <td>us planning to resume the military tribunals at guantanamo bay only this time those on trial will be aig execs and chrysler debt holders</td>\n",
       "    </tr>\n",
       "    <tr>\n",
       "      <th>2</th>\n",
       "      <td>0</td>\n",
       "      <td>4</td>\n",
       "      <td>no i m not itchy for now maybe later lol</td>\n",
       "    </tr>\n",
       "    <tr>\n",
       "      <th>3</th>\n",
       "      <td>0</td>\n",
       "      <td>4</td>\n",
       "      <td>obama administration must stop bonuses to aig ponzi schemers</td>\n",
       "    </tr>\n",
       "    <tr>\n",
       "      <th>4</th>\n",
       "      <td>0</td>\n",
       "      <td>4</td>\n",
       "      <td>started to think that citi is in really deep s amp t are they gonna survive the turmoil or are they gonna be the next aig</td>\n",
       "    </tr>\n",
       "    <tr>\n",
       "      <th>5</th>\n",
       "      <td>0</td>\n",
       "      <td>4</td>\n",
       "      <td>because the twitter api is slow and most client s aren t good</td>\n",
       "    </tr>\n",
       "    <tr>\n",
       "      <th>6</th>\n",
       "      <td>0</td>\n",
       "      <td>4</td>\n",
       "      <td>yahoo answers can be a butt sometimes</td>\n",
       "    </tr>\n",
       "    <tr>\n",
       "      <th>7</th>\n",
       "      <td>0</td>\n",
       "      <td>4</td>\n",
       "      <td>rt was just told that nike layoffs started today</td>\n",
       "    </tr>\n",
       "    <tr>\n",
       "      <th>8</th>\n",
       "      <td>0</td>\n",
       "      <td>4</td>\n",
       "      <td>can we just go ahead and blow north korea off the map already</td>\n",
       "    </tr>\n",
       "    <tr>\n",
       "      <th>9</th>\n",
       "      <td>0</td>\n",
       "      <td>4</td>\n",
       "      <td>insects have infected my spinach plant</td>\n",
       "    </tr>\n",
       "    <tr>\n",
       "      <th>10</th>\n",
       "      <td>0</td>\n",
       "      <td>4</td>\n",
       "      <td>cheney and bush are the real culprits</td>\n",
       "    </tr>\n",
       "    <tr>\n",
       "      <th>11</th>\n",
       "      <td>0</td>\n",
       "      <td>4</td>\n",
       "      <td>life s a bitch and so is dick cheney p2 bipart tlot tcot hhrs gop dnc</td>\n",
       "    </tr>\n",
       "    <tr>\n",
       "      <th>12</th>\n",
       "      <td>0</td>\n",
       "      <td>4</td>\n",
       "      <td>dick cheney s dishonest speech about torture terror and obama fred kaplan slate</td>\n",
       "    </tr>\n",
       "    <tr>\n",
       "      <th>13</th>\n",
       "      <td>0</td>\n",
       "      <td>4</td>\n",
       "      <td>night at the museum tonite instead of up oh well that 4 yr old better enjoy it lol</td>\n",
       "    </tr>\n",
       "    <tr>\n",
       "      <th>14</th>\n",
       "      <td>0</td>\n",
       "      <td>4</td>\n",
       "      <td>tell me again why we are giving more to gm we should use that for all the programs that support the unemployed</td>\n",
       "    </tr>\n",
       "    <tr>\n",
       "      <th>15</th>\n",
       "      <td>0</td>\n",
       "      <td>4</td>\n",
       "      <td>oh yes but if gm dies it will only be worth more boo hahaha</td>\n",
       "    </tr>\n",
       "    <tr>\n",
       "      <th>16</th>\n",
       "      <td>0</td>\n",
       "      <td>4</td>\n",
       "      <td>i would rather pay reasonable yearly taxes for free fast internet than get gouged by time warner for a slow connection</td>\n",
       "    </tr>\n",
       "    <tr>\n",
       "      <th>17</th>\n",
       "      <td>0</td>\n",
       "      <td>4</td>\n",
       "      <td>ahh got rid of stupid time warner today amp now taking a nap while the roomies cook for me pretty good end for a monday</td>\n",
       "    </tr>\n",
       "    <tr>\n",
       "      <th>18</th>\n",
       "      <td>0</td>\n",
       "      <td>4</td>\n",
       "      <td>luke and i got stopped walking out of safeway and asked to empty our pockets and lift our shirts how jacked up is that</td>\n",
       "    </tr>\n",
       "    <tr>\n",
       "      <th>19</th>\n",
       "      <td>0</td>\n",
       "      <td>4</td>\n",
       "      <td>found nothing at nike factory off to banana republic outlet</td>\n",
       "    </tr>\n",
       "    <tr>\n",
       "      <th>20</th>\n",
       "      <td>0</td>\n",
       "      <td>4</td>\n",
       "      <td>impatiently awaiting the arrival of the time warner guy it s way too pretty to be inside all afternoon</td>\n",
       "    </tr>\n",
       "    <tr>\n",
       "      <th>21</th>\n",
       "      <td>0</td>\n",
       "      <td>4</td>\n",
       "      <td>naive bayes using em for text classification really frustrating</td>\n",
       "    </tr>\n",
       "    <tr>\n",
       "      <th>22</th>\n",
       "      <td>0</td>\n",
       "      <td>4</td>\n",
       "      <td>if you re being harassed by calls about your car warranty changing your number won t fix that they call every number d bags</td>\n",
       "    </tr>\n",
       "    <tr>\n",
       "      <th>23</th>\n",
       "      <td>0</td>\n",
       "      <td>4</td>\n",
       "      <td>just blocked united blood services using google voice they call more than those car warranty guys</td>\n",
       "    </tr>\n",
       "    <tr>\n",
       "      <th>24</th>\n",
       "      <td>0</td>\n",
       "      <td>4</td>\n",
       "      <td>i say we just cut out the small talk at amp t s new slogan f_ you give us your money apologies to bob geldof</td>\n",
       "    </tr>\n",
       "    <tr>\n",
       "      <th>25</th>\n",
       "      <td>0</td>\n",
       "      <td>4</td>\n",
       "      <td>yay glad you got the phone still damn you at amp t</td>\n",
       "    </tr>\n",
       "    <tr>\n",
       "      <th>26</th>\n",
       "      <td>0</td>\n",
       "      <td>4</td>\n",
       "      <td>talk is cheap bing that i ll stick with google</td>\n",
       "    </tr>\n",
       "    <tr>\n",
       "      <th>27</th>\n",
       "      <td>0</td>\n",
       "      <td>4</td>\n",
       "      <td>wtf is the point of deleting tweets if they can still be found in summize and searches twitter please fix that thanks and bye</td>\n",
       "    </tr>\n",
       "    <tr>\n",
       "      <th>28</th>\n",
       "      <td>0</td>\n",
       "      <td>4</td>\n",
       "      <td>the real aig scandal</td>\n",
       "    </tr>\n",
       "    <tr>\n",
       "      <th>29</th>\n",
       "      <td>0</td>\n",
       "      <td>4</td>\n",
       "      <td>kobe is the best in the world not lebron</td>\n",
       "    </tr>\n",
       "    <tr>\n",
       "      <th>...</th>\n",
       "      <td>...</td>\n",
       "      <td>...</td>\n",
       "      <td>...</td>\n",
       "    </tr>\n",
       "    <tr>\n",
       "      <th>52</th>\n",
       "      <td>0</td>\n",
       "      <td>4</td>\n",
       "      <td>7 hours 7 hours of inkscape crashing normally solid as a rock 7 hours of latex complaining at the slightest thing i can t take any more</td>\n",
       "    </tr>\n",
       "    <tr>\n",
       "      <th>53</th>\n",
       "      <td>0</td>\n",
       "      <td>4</td>\n",
       "      <td>monday already iran may implode kitchen is a disaster seems happy had a nice weekend and is great whoop</td>\n",
       "    </tr>\n",
       "    <tr>\n",
       "      <th>54</th>\n",
       "      <td>0</td>\n",
       "      <td>4</td>\n",
       "      <td>i just created my first latex file from scratch that didn t work out very well see it s a great time waster</td>\n",
       "    </tr>\n",
       "    <tr>\n",
       "      <th>55</th>\n",
       "      <td>4</td>\n",
       "      <td>0</td>\n",
       "      <td>house correspondents dinner was last night whoopi barbara amp sherri went obama got a standing ovation</td>\n",
       "    </tr>\n",
       "    <tr>\n",
       "      <th>56</th>\n",
       "      <td>4</td>\n",
       "      <td>0</td>\n",
       "      <td>lebron best athlete of our generation if not all time basketball related i don t want to get into inter sport debates about _ 2</td>\n",
       "    </tr>\n",
       "    <tr>\n",
       "      <th>57</th>\n",
       "      <td>4</td>\n",
       "      <td>0</td>\n",
       "      <td>lebron is a beast nobody in the nba comes even close</td>\n",
       "    </tr>\n",
       "    <tr>\n",
       "      <th>58</th>\n",
       "      <td>4</td>\n",
       "      <td>0</td>\n",
       "      <td>good news just had a call from the visa office saying everything is fine what a relief i am sick of scams out there stealing</td>\n",
       "    </tr>\n",
       "    <tr>\n",
       "      <th>59</th>\n",
       "      <td>4</td>\n",
       "      <td>0</td>\n",
       "      <td>booz allen hamilton has a bad ass homegrown social collaboration platform way cool ttiv</td>\n",
       "    </tr>\n",
       "    <tr>\n",
       "      <th>60</th>\n",
       "      <td>4</td>\n",
       "      <td>0</td>\n",
       "      <td>class the 50d is supposed to come today</td>\n",
       "    </tr>\n",
       "    <tr>\n",
       "      <th>61</th>\n",
       "      <td>4</td>\n",
       "      <td>0</td>\n",
       "      <td>omgg i ohhdee want mcdonalds damn i wonder if its open lol</td>\n",
       "    </tr>\n",
       "    <tr>\n",
       "      <th>62</th>\n",
       "      <td>4</td>\n",
       "      <td>0</td>\n",
       "      <td>zomg i have a g2</td>\n",
       "    </tr>\n",
       "    <tr>\n",
       "      <th>63</th>\n",
       "      <td>4</td>\n",
       "      <td>0</td>\n",
       "      <td>my wrist still hurts i have to get it looked at i hate the dr dentist scary places time to watch eagle eye if you want to join txt</td>\n",
       "    </tr>\n",
       "    <tr>\n",
       "      <th>64</th>\n",
       "      <td>4</td>\n",
       "      <td>0</td>\n",
       "      <td>is studing math tomorrow exam and dentist</td>\n",
       "    </tr>\n",
       "    <tr>\n",
       "      <th>65</th>\n",
       "      <td>4</td>\n",
       "      <td>0</td>\n",
       "      <td>i love dwight howard s vitamin water commercial now i wish he was with nike and not adidas lol</td>\n",
       "    </tr>\n",
       "    <tr>\n",
       "      <th>66</th>\n",
       "      <td>4</td>\n",
       "      <td>0</td>\n",
       "      <td>warren buffet became for a time the richest man in the united states not by working but investing in 1 big idea which lead to the fortune</td>\n",
       "    </tr>\n",
       "    <tr>\n",
       "      <th>67</th>\n",
       "      <td>4</td>\n",
       "      <td>0</td>\n",
       "      <td>we went to stanford university today got a tour made me want to go back to college it s also decided all of our kids will go there</td>\n",
       "    </tr>\n",
       "    <tr>\n",
       "      <th>68</th>\n",
       "      <td>4</td>\n",
       "      <td>0</td>\n",
       "      <td>reading bill clinton fail obama win</td>\n",
       "    </tr>\n",
       "    <tr>\n",
       "      <th>69</th>\n",
       "      <td>4</td>\n",
       "      <td>0</td>\n",
       "      <td>is it me or is this the best the playoffs have been in years oh yea lebron and melo in the finals</td>\n",
       "    </tr>\n",
       "    <tr>\n",
       "      <th>70</th>\n",
       "      <td>4</td>\n",
       "      <td>0</td>\n",
       "      <td>lebron is murdering shit</td>\n",
       "    </tr>\n",
       "    <tr>\n",
       "      <th>71</th>\n",
       "      <td>4</td>\n",
       "      <td>0</td>\n",
       "      <td>i seriously underestimated malcolm gladwell i want to meet this dude</td>\n",
       "    </tr>\n",
       "    <tr>\n",
       "      <th>72</th>\n",
       "      <td>4</td>\n",
       "      <td>0</td>\n",
       "      <td>just got us a 50d for the office d</td>\n",
       "    </tr>\n",
       "    <tr>\n",
       "      <th>73</th>\n",
       "      <td>4</td>\n",
       "      <td>0</td>\n",
       "      <td>could go for a lot of mcdonalds i mean a lot</td>\n",
       "    </tr>\n",
       "    <tr>\n",
       "      <th>74</th>\n",
       "      <td>4</td>\n",
       "      <td>0</td>\n",
       "      <td>my exam went good your prayers worked</td>\n",
       "    </tr>\n",
       "    <tr>\n",
       "      <th>75</th>\n",
       "      <td>4</td>\n",
       "      <td>0</td>\n",
       "      <td>yankees won mets lost its a good day</td>\n",
       "    </tr>\n",
       "    <tr>\n",
       "      <th>76</th>\n",
       "      <td>4</td>\n",
       "      <td>0</td>\n",
       "      <td>my dentist appt today was actually quite enjoyable</td>\n",
       "    </tr>\n",
       "    <tr>\n",
       "      <th>77</th>\n",
       "      <td>4</td>\n",
       "      <td>0</td>\n",
       "      <td>have you tried nike v addictive</td>\n",
       "    </tr>\n",
       "    <tr>\n",
       "      <th>78</th>\n",
       "      <td>4</td>\n",
       "      <td>0</td>\n",
       "      <td>i love my kindle2 no more stacks of books to trip over on the way to the loo</td>\n",
       "    </tr>\n",
       "    <tr>\n",
       "      <th>79</th>\n",
       "      <td>4</td>\n",
       "      <td>0</td>\n",
       "      <td>got my wave sandbox invite extra excited too bad i have class now but i ll play with it soon enough io2009 wave</td>\n",
       "    </tr>\n",
       "    <tr>\n",
       "      <th>80</th>\n",
       "      <td>4</td>\n",
       "      <td>0</td>\n",
       "      <td>the kindle2 seems the best ereader but will it work in the uk and where can i get one</td>\n",
       "    </tr>\n",
       "    <tr>\n",
       "      <th>81</th>\n",
       "      <td>4</td>\n",
       "      <td>0</td>\n",
       "      <td>my dad was in ny for a day we ate at mesa grill last night and met bobby flay so much fun except i completely lost my voice today</td>\n",
       "    </tr>\n",
       "  </tbody>\n",
       "</table>\n",
       "<p>82 rows × 3 columns</p>\n",
       "</div>"
      ],
      "text/plain": [
       "    actual  predicted  \\\n",
       "0   0       4           \n",
       "1   0       4           \n",
       "2   0       4           \n",
       "3   0       4           \n",
       "4   0       4           \n",
       "5   0       4           \n",
       "6   0       4           \n",
       "7   0       4           \n",
       "8   0       4           \n",
       "9   0       4           \n",
       "10  0       4           \n",
       "11  0       4           \n",
       "12  0       4           \n",
       "13  0       4           \n",
       "14  0       4           \n",
       "15  0       4           \n",
       "16  0       4           \n",
       "17  0       4           \n",
       "18  0       4           \n",
       "19  0       4           \n",
       "20  0       4           \n",
       "21  0       4           \n",
       "22  0       4           \n",
       "23  0       4           \n",
       "24  0       4           \n",
       "25  0       4           \n",
       "26  0       4           \n",
       "27  0       4           \n",
       "28  0       4           \n",
       "29  0       4           \n",
       ".. ..      ..           \n",
       "52  0       4           \n",
       "53  0       4           \n",
       "54  0       4           \n",
       "55  4       0           \n",
       "56  4       0           \n",
       "57  4       0           \n",
       "58  4       0           \n",
       "59  4       0           \n",
       "60  4       0           \n",
       "61  4       0           \n",
       "62  4       0           \n",
       "63  4       0           \n",
       "64  4       0           \n",
       "65  4       0           \n",
       "66  4       0           \n",
       "67  4       0           \n",
       "68  4       0           \n",
       "69  4       0           \n",
       "70  4       0           \n",
       "71  4       0           \n",
       "72  4       0           \n",
       "73  4       0           \n",
       "74  4       0           \n",
       "75  4       0           \n",
       "76  4       0           \n",
       "77  4       0           \n",
       "78  4       0           \n",
       "79  4       0           \n",
       "80  4       0           \n",
       "81  4       0           \n",
       "\n",
       "                                                                                                                                         text  \n",
       "0   dear nike stop with the flywire that shit is a waste of science and ugly love                                                              \n",
       "1   us planning to resume the military tribunals at guantanamo bay only this time those on trial will be aig execs and chrysler debt holders   \n",
       "2   no i m not itchy for now maybe later lol                                                                                                   \n",
       "3   obama administration must stop bonuses to aig ponzi schemers                                                                               \n",
       "4   started to think that citi is in really deep s amp t are they gonna survive the turmoil or are they gonna be the next aig                  \n",
       "5   because the twitter api is slow and most client s aren t good                                                                              \n",
       "6   yahoo answers can be a butt sometimes                                                                                                      \n",
       "7   rt was just told that nike layoffs started today                                                                                           \n",
       "8   can we just go ahead and blow north korea off the map already                                                                              \n",
       "9   insects have infected my spinach plant                                                                                                     \n",
       "10  cheney and bush are the real culprits                                                                                                      \n",
       "11  life s a bitch and so is dick cheney p2 bipart tlot tcot hhrs gop dnc                                                                      \n",
       "12  dick cheney s dishonest speech about torture terror and obama fred kaplan slate                                                            \n",
       "13  night at the museum tonite instead of up oh well that 4 yr old better enjoy it lol                                                         \n",
       "14  tell me again why we are giving more to gm we should use that for all the programs that support the unemployed                             \n",
       "15  oh yes but if gm dies it will only be worth more boo hahaha                                                                                \n",
       "16  i would rather pay reasonable yearly taxes for free fast internet than get gouged by time warner for a slow connection                     \n",
       "17  ahh got rid of stupid time warner today amp now taking a nap while the roomies cook for me pretty good end for a monday                    \n",
       "18  luke and i got stopped walking out of safeway and asked to empty our pockets and lift our shirts how jacked up is that                     \n",
       "19  found nothing at nike factory off to banana republic outlet                                                                                \n",
       "20  impatiently awaiting the arrival of the time warner guy it s way too pretty to be inside all afternoon                                     \n",
       "21  naive bayes using em for text classification really frustrating                                                                            \n",
       "22  if you re being harassed by calls about your car warranty changing your number won t fix that they call every number d bags                \n",
       "23  just blocked united blood services using google voice they call more than those car warranty guys                                          \n",
       "24  i say we just cut out the small talk at amp t s new slogan f_ you give us your money apologies to bob geldof                               \n",
       "25  yay glad you got the phone still damn you at amp t                                                                                         \n",
       "26  talk is cheap bing that i ll stick with google                                                                                             \n",
       "27  wtf is the point of deleting tweets if they can still be found in summize and searches twitter please fix that thanks and bye              \n",
       "28  the real aig scandal                                                                                                                       \n",
       "29  kobe is the best in the world not lebron                                                                                                   \n",
       "..                                       ...                                                                                                   \n",
       "52  7 hours 7 hours of inkscape crashing normally solid as a rock 7 hours of latex complaining at the slightest thing i can t take any more    \n",
       "53  monday already iran may implode kitchen is a disaster seems happy had a nice weekend and is great whoop                                    \n",
       "54  i just created my first latex file from scratch that didn t work out very well see it s a great time waster                                \n",
       "55  house correspondents dinner was last night whoopi barbara amp sherri went obama got a standing ovation                                     \n",
       "56  lebron best athlete of our generation if not all time basketball related i don t want to get into inter sport debates about _ 2            \n",
       "57  lebron is a beast nobody in the nba comes even close                                                                                       \n",
       "58  good news just had a call from the visa office saying everything is fine what a relief i am sick of scams out there stealing               \n",
       "59  booz allen hamilton has a bad ass homegrown social collaboration platform way cool ttiv                                                    \n",
       "60  class the 50d is supposed to come today                                                                                                    \n",
       "61  omgg i ohhdee want mcdonalds damn i wonder if its open lol                                                                                 \n",
       "62  zomg i have a g2                                                                                                                           \n",
       "63  my wrist still hurts i have to get it looked at i hate the dr dentist scary places time to watch eagle eye if you want to join txt         \n",
       "64  is studing math tomorrow exam and dentist                                                                                                  \n",
       "65  i love dwight howard s vitamin water commercial now i wish he was with nike and not adidas lol                                             \n",
       "66  warren buffet became for a time the richest man in the united states not by working but investing in 1 big idea which lead to the fortune  \n",
       "67  we went to stanford university today got a tour made me want to go back to college it s also decided all of our kids will go there         \n",
       "68  reading bill clinton fail obama win                                                                                                        \n",
       "69  is it me or is this the best the playoffs have been in years oh yea lebron and melo in the finals                                          \n",
       "70  lebron is murdering shit                                                                                                                   \n",
       "71  i seriously underestimated malcolm gladwell i want to meet this dude                                                                       \n",
       "72  just got us a 50d for the office d                                                                                                         \n",
       "73  could go for a lot of mcdonalds i mean a lot                                                                                               \n",
       "74  my exam went good your prayers worked                                                                                                      \n",
       "75  yankees won mets lost its a good day                                                                                                       \n",
       "76  my dentist appt today was actually quite enjoyable                                                                                         \n",
       "77  have you tried nike v addictive                                                                                                            \n",
       "78  i love my kindle2 no more stacks of books to trip over on the way to the loo                                                               \n",
       "79  got my wave sandbox invite extra excited too bad i have class now but i ll play with it soon enough io2009 wave                            \n",
       "80  the kindle2 seems the best ereader but will it work in the uk and where can i get one                                                      \n",
       "81  my dad was in ny for a day we ate at mesa grill last night and met bobby flay so much fun except i completely lost my voice today          \n",
       "\n",
       "[82 rows x 3 columns]"
      ]
     },
     "execution_count": 78,
     "metadata": {},
     "output_type": "execute_result"
    }
   ],
   "source": [
    "get_mismatched_tweets(X_test, y_true, y_pred)"
   ]
  },
  {
   "cell_type": "markdown",
   "metadata": {},
   "source": [
    "---"
   ]
  }
 ],
 "metadata": {
  "kernelspec": {
   "display_name": "Python 3",
   "language": "python",
   "name": "python3"
  },
  "language_info": {
   "codemirror_mode": {
    "name": "ipython",
    "version": 3
   },
   "file_extension": ".py",
   "mimetype": "text/x-python",
   "name": "python",
   "nbconvert_exporter": "python",
   "pygments_lexer": "ipython3",
   "version": "3.6.8"
  },
  "toc": {
   "base_numbering": 1,
   "nav_menu": {},
   "number_sections": true,
   "sideBar": true,
   "skip_h1_title": true,
   "title_cell": "Table of Contents",
   "title_sidebar": "Contents",
   "toc_cell": false,
   "toc_position": {},
   "toc_section_display": true,
   "toc_window_display": true
  }
 },
 "nbformat": 4,
 "nbformat_minor": 2
}
