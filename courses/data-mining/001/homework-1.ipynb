{
 "cells": [
  {
   "cell_type": "markdown",
   "metadata": {},
   "source": [
    "# Athens University of Economics and Business\n",
    "# M.Sc. in Data Science\n",
    "# Course: Data Mining\n",
    "# Author:  Spiros Politis\n",
    "# Homework: 1"
   ]
  },
  {
   "cell_type": "markdown",
   "metadata": {},
   "source": [
    "---"
   ]
  },
  {
   "cell_type": "markdown",
   "metadata": {},
   "source": [
    "The goal of this assignment is to implement a simple workflow that will assess the similarity between bank customers and suggest for any input customer a list of his/her 10 most similar other customers. In order to calculate the similarity between customers you will first have to compute the dissimilarity for every given attribute as discussed in lecture “Measuring Data Similarity”. In order to fulfill this assignment, you will have to perform the following tasks:"
   ]
  },
  {
   "cell_type": "markdown",
   "metadata": {},
   "source": [
    "## Import required packages and custom libraries"
   ]
  },
  {
   "cell_type": "code",
   "execution_count": 1,
   "metadata": {},
   "outputs": [],
   "source": [
    "from IPython.display import Markdown as md\n",
    "import numpy as np\n",
    "import pandas as pd\n",
    "import sys"
   ]
  },
  {
   "cell_type": "code",
   "execution_count": 2,
   "metadata": {},
   "outputs": [],
   "source": [
    "sys.path.append(\"./code/\")\n",
    "\n",
    "from DmHomework1 import UtilHelper, ConverterHelper, MeasuresHelper"
   ]
  },
  {
   "cell_type": "markdown",
   "metadata": {},
   "source": [
    "## Import and pre-process the dataset with bank customers"
   ]
  },
  {
   "cell_type": "markdown",
   "metadata": {},
   "source": [
    "### Question"
   ]
  },
  {
   "cell_type": "markdown",
   "metadata": {},
   "source": [
    "You will download the bank.csv dataset from e-class. This dataset is related with direct marketing campaigns of a Portuguese banking institution. The marketing campaigns were based on phone calls in order to access if the product (bank term deposit) would be (or not) subscribed. The dataset includes 43192 bank customer profiles with 10 attributes each. The class attribute should be ignored. The last attribute is an array containing the bank products (1-20) each customer has. Full description for the dataset and the attributes is provided in the bank-names.txt file. For any numerical missing values, you should replace them with the average value of the attribute (keeping the integer part of the average)."
   ]
  },
  {
   "cell_type": "markdown",
   "metadata": {},
   "source": [
    "### Answer"
   ]
  },
  {
   "cell_type": "code",
   "execution_count": 3,
   "metadata": {},
   "outputs": [],
   "source": [
    "util_helper = UtilHelper.UtilHelper()\n",
    "converter_helper = ConverterHelper.ConverterHelper()"
   ]
  },
  {
   "cell_type": "markdown",
   "metadata": {},
   "source": [
    "#### Ingest data"
   ]
  },
  {
   "cell_type": "code",
   "execution_count": 4,
   "metadata": {},
   "outputs": [],
   "source": [
    "df = pd.read_csv(\n",
    "    \"data/bank.csv\", \n",
    "    sep = \";\", \n",
    "    header = 0, \n",
    "    names = [\n",
    "        \"age\", \n",
    "        \"job\", \n",
    "        \"marital\", \n",
    "        \"education\", \n",
    "        \"default\", \n",
    "        \"balance\", \n",
    "        \"housing\", \n",
    "        \"loan\", \n",
    "        \"class\", \n",
    "        \"products\"\n",
    "    ], \n",
    "    converters = {\n",
    "        \"age\": np.float64,\n",
    "        \"job\": str, \n",
    "        \"marital\": str, \n",
    "        \"education\": str, \n",
    "        \"default\": str, \n",
    "        \"balance\": np.float64, \n",
    "        \"housing\": str, \n",
    "        \"loan\": str, \n",
    "        \"class\": str, \n",
    "        \"products\": str\n",
    "    }, \n",
    "    na_values = [\" \"], \n",
    "    keep_default_na = False, \n",
    "    engine = \"python\"\n",
    ")"
   ]
  },
  {
   "cell_type": "markdown",
   "metadata": {},
   "source": [
    "#### Inspect data"
   ]
  },
  {
   "cell_type": "markdown",
   "metadata": {},
   "source": [
    "A brief, visual inspection of the data set, its length and column data types so as to get an idea about our data and identify changes that should be made."
   ]
  },
  {
   "cell_type": "code",
   "execution_count": 5,
   "metadata": {},
   "outputs": [
    {
     "data": {
      "text/html": [
       "<div>\n",
       "<style scoped>\n",
       "    .dataframe tbody tr th:only-of-type {\n",
       "        vertical-align: middle;\n",
       "    }\n",
       "\n",
       "    .dataframe tbody tr th {\n",
       "        vertical-align: top;\n",
       "    }\n",
       "\n",
       "    .dataframe thead th {\n",
       "        text-align: right;\n",
       "    }\n",
       "</style>\n",
       "<table border=\"1\" class=\"dataframe\">\n",
       "  <thead>\n",
       "    <tr style=\"text-align: right;\">\n",
       "      <th></th>\n",
       "      <th>age</th>\n",
       "      <th>job</th>\n",
       "      <th>marital</th>\n",
       "      <th>education</th>\n",
       "      <th>default</th>\n",
       "      <th>balance</th>\n",
       "      <th>housing</th>\n",
       "      <th>loan</th>\n",
       "      <th>class</th>\n",
       "      <th>products</th>\n",
       "    </tr>\n",
       "  </thead>\n",
       "  <tbody>\n",
       "    <tr>\n",
       "      <th>0</th>\n",
       "      <td>33</td>\n",
       "      <td>entrepreneur</td>\n",
       "      <td>married</td>\n",
       "      <td>secondary</td>\n",
       "      <td>no</td>\n",
       "      <td>2.0</td>\n",
       "      <td>yes</td>\n",
       "      <td>yes</td>\n",
       "      <td>no</td>\n",
       "      <td>1,3,16,17,19</td>\n",
       "    </tr>\n",
       "    <tr>\n",
       "      <th>1</th>\n",
       "      <td>35</td>\n",
       "      <td>management</td>\n",
       "      <td>married</td>\n",
       "      <td>tertiary</td>\n",
       "      <td>no</td>\n",
       "      <td>231.0</td>\n",
       "      <td>yes</td>\n",
       "      <td>no</td>\n",
       "      <td>no</td>\n",
       "      <td>4,8,16</td>\n",
       "    </tr>\n",
       "    <tr>\n",
       "      <th>2</th>\n",
       "      <td>NaN</td>\n",
       "      <td>management</td>\n",
       "      <td>single</td>\n",
       "      <td>tertiary</td>\n",
       "      <td>no</td>\n",
       "      <td>447.0</td>\n",
       "      <td>yes</td>\n",
       "      <td>yes</td>\n",
       "      <td>no</td>\n",
       "      <td>7,16</td>\n",
       "    </tr>\n",
       "    <tr>\n",
       "      <th>3</th>\n",
       "      <td>42</td>\n",
       "      <td>entrepreneur</td>\n",
       "      <td>divorced</td>\n",
       "      <td>tertiary</td>\n",
       "      <td>yes</td>\n",
       "      <td>2.0</td>\n",
       "      <td>yes</td>\n",
       "      <td>no</td>\n",
       "      <td>no</td>\n",
       "      <td>1,3,8,10,11,12,18,19</td>\n",
       "    </tr>\n",
       "    <tr>\n",
       "      <th>4</th>\n",
       "      <td>58</td>\n",
       "      <td>retired</td>\n",
       "      <td>married</td>\n",
       "      <td>primary</td>\n",
       "      <td>no</td>\n",
       "      <td>121.0</td>\n",
       "      <td>yes</td>\n",
       "      <td>no</td>\n",
       "      <td>no</td>\n",
       "      <td>4,5,6,7,11,18,19</td>\n",
       "    </tr>\n",
       "  </tbody>\n",
       "</table>\n",
       "</div>"
      ],
      "text/plain": [
       "   age           job   marital  education default  balance housing loan class  \\\n",
       "0   33  entrepreneur   married  secondary      no      2.0     yes  yes    no   \n",
       "1   35    management   married   tertiary      no    231.0     yes   no    no   \n",
       "2  NaN    management    single   tertiary      no    447.0     yes  yes    no   \n",
       "3   42  entrepreneur  divorced   tertiary     yes      2.0     yes   no    no   \n",
       "4   58       retired   married    primary      no    121.0     yes   no    no   \n",
       "\n",
       "               products  \n",
       "0          1,3,16,17,19  \n",
       "1                4,8,16  \n",
       "2                  7,16  \n",
       "3  1,3,8,10,11,12,18,19  \n",
       "4      4,5,6,7,11,18,19  "
      ]
     },
     "execution_count": 5,
     "metadata": {},
     "output_type": "execute_result"
    }
   ],
   "source": [
    "df.head(5)"
   ]
  },
  {
   "cell_type": "code",
   "execution_count": 6,
   "metadata": {},
   "outputs": [
    {
     "name": "stderr",
     "output_type": "stream",
     "text": [
      "INFO: Data set length: 43191\n"
     ]
    }
   ],
   "source": [
    "util_helper.log.info(\"Data set length: {}\".format(len(df)))"
   ]
  },
  {
   "cell_type": "code",
   "execution_count": 7,
   "metadata": {},
   "outputs": [
    {
     "name": "stderr",
     "output_type": "stream",
     "text": [
      "INFO: Data set types:\n",
      "age           object\n",
      "job           object\n",
      "marital       object\n",
      "education     object\n",
      "default       object\n",
      "balance      float64\n",
      "housing       object\n",
      "loan          object\n",
      "class         object\n",
      "products      object\n",
      "dtype: object\n"
     ]
    }
   ],
   "source": [
    "util_helper.log.info(\"Data set types:\\n{}\".format(df.dtypes))"
   ]
  },
  {
   "cell_type": "markdown",
   "metadata": {},
   "source": [
    "#### Drop unused columns"
   ]
  },
  {
   "cell_type": "markdown",
   "metadata": {},
   "source": [
    "##### Column '*class*'"
   ]
  },
  {
   "cell_type": "code",
   "execution_count": 8,
   "metadata": {},
   "outputs": [],
   "source": [
    "df = df.drop([\"class\"], axis = 1)"
   ]
  },
  {
   "cell_type": "markdown",
   "metadata": {},
   "source": [
    "#### Handle NAs"
   ]
  },
  {
   "cell_type": "markdown",
   "metadata": {},
   "source": [
    "We are required to impute misssing values for numerical columns in the data set. We shall check for NAs for the following columns:\n",
    "\n",
    "- '*age*'\n",
    "- '*balance*'"
   ]
  },
  {
   "cell_type": "markdown",
   "metadata": {},
   "source": [
    "Checking for missing values on *age*:"
   ]
  },
  {
   "cell_type": "code",
   "execution_count": 9,
   "metadata": {},
   "outputs": [
    {
     "name": "stderr",
     "output_type": "stream",
     "text": [
      "WARNING: age contains NA values.\n"
     ]
    }
   ],
   "source": [
    "util_helper.check_na(df, \"age\")"
   ]
  },
  {
   "cell_type": "markdown",
   "metadata": {},
   "source": [
    "Column *age* contains NA values, we should replace them with the age mean:"
   ]
  },
  {
   "cell_type": "code",
   "execution_count": 10,
   "metadata": {},
   "outputs": [
    {
     "name": "stderr",
     "output_type": "stream",
     "text": [
      "INFO: age does not contain NA values.\n"
     ]
    }
   ],
   "source": [
    "# Replace NAs with mean.\n",
    "df[\"age\"] = df[\"age\"].fillna(np.int32(df[\"age\"].mean()))\n",
    "\n",
    "# Sanity check.\n",
    "util_helper.check_na(df, \"age\")"
   ]
  },
  {
   "cell_type": "markdown",
   "metadata": {},
   "source": [
    "Checking for missing values on *balance*:"
   ]
  },
  {
   "cell_type": "code",
   "execution_count": 11,
   "metadata": {},
   "outputs": [
    {
     "name": "stderr",
     "output_type": "stream",
     "text": [
      "INFO: balance does not contain NA values.\n"
     ]
    }
   ],
   "source": [
    "util_helper.check_na(df, \"balance\")"
   ]
  },
  {
   "cell_type": "markdown",
   "metadata": {},
   "source": [
    "No action required for column *balance*."
   ]
  },
  {
   "cell_type": "markdown",
   "metadata": {},
   "source": [
    "#### Convert data types"
   ]
  },
  {
   "cell_type": "markdown",
   "metadata": {},
   "source": [
    "Creating a copy of the original DataFrame which will be used for performing dissimilarity petric calculations, after having converted its column data types to appropriate ones. The original DataFrame will be used fir displaying the original column data types for displaying purposes."
   ]
  },
  {
   "cell_type": "code",
   "execution_count": 12,
   "metadata": {},
   "outputs": [],
   "source": [
    "df_t = df.copy(deep = True)"
   ]
  },
  {
   "cell_type": "markdown",
   "metadata": {},
   "source": [
    "##### Conversion of numeric types"
   ]
  },
  {
   "cell_type": "code",
   "execution_count": 13,
   "metadata": {},
   "outputs": [],
   "source": [
    "# Converting age to np.int32.\n",
    "df_t[\"age\"] = np.int32(df_t[\"age\"])"
   ]
  },
  {
   "cell_type": "markdown",
   "metadata": {},
   "source": [
    "##### Conversion of nominal types"
   ]
  },
  {
   "cell_type": "code",
   "execution_count": 14,
   "metadata": {},
   "outputs": [],
   "source": [
    "# Converting nominal variables to numeric.\n",
    "df_t = converter_helper.nominal_to_numeric(df = df_t, column = \"job\")\n",
    "df_t = converter_helper.nominal_to_numeric(df = df_t, column = \"marital\")\n",
    "df_t = converter_helper.nominal_to_numeric(df = df_t, column = \"default\")\n",
    "df_t = converter_helper.nominal_to_numeric(df = df_t, column = \"housing\")\n",
    "df_t = converter_helper.nominal_to_numeric(df = df_t, column = \"loan\")"
   ]
  },
  {
   "cell_type": "markdown",
   "metadata": {},
   "source": [
    "##### Conversion of ordinal types"
   ]
  },
  {
   "cell_type": "markdown",
   "metadata": {},
   "source": [
    "Converting ordinal variables requires knowledge about the order of their values. Let's identify the distinct values the variable can take."
   ]
  },
  {
   "cell_type": "code",
   "execution_count": 15,
   "metadata": {},
   "outputs": [
    {
     "data": {
      "text/plain": [
       "array(['secondary', 'tertiary', 'primary'], dtype=object)"
      ]
     },
     "execution_count": 15,
     "metadata": {},
     "output_type": "execute_result"
    }
   ],
   "source": [
    "pd.unique(df_t[\"education\"])"
   ]
  },
  {
   "cell_type": "markdown",
   "metadata": {},
   "source": [
    "Order should be $primary \\lt secondary \\lt tertiary$."
   ]
  },
  {
   "cell_type": "code",
   "execution_count": 16,
   "metadata": {},
   "outputs": [],
   "source": [
    "# Converting ordinal variables to numeric.\n",
    "df_t = converter_helper.ordinal_to_numeric(\n",
    "    df = df_t, \n",
    "    column = \"education\", \n",
    "    categories = [\n",
    "        \"primary\", \n",
    "        \"secondary\", \n",
    "        \"tertiary\"\n",
    "    ]\n",
    ")"
   ]
  },
  {
   "cell_type": "markdown",
   "metadata": {},
   "source": [
    "##### Conversion of set variable types"
   ]
  },
  {
   "cell_type": "markdown",
   "metadata": {},
   "source": [
    "We shall proceed with converting column *products* from a comma-separated list of values to a list object. The reason for doing so is to be able to perform set operations more efficiently."
   ]
  },
  {
   "cell_type": "code",
   "execution_count": 17,
   "metadata": {},
   "outputs": [],
   "source": [
    "# Converting comma-separated values to List.\n",
    "df_t = converter_helper.comma_separated_to_list(df = df_t, column = \"products\")"
   ]
  },
  {
   "cell_type": "markdown",
   "metadata": {},
   "source": [
    "##### Remarks and sanity check"
   ]
  },
  {
   "cell_type": "markdown",
   "metadata": {},
   "source": [
    "We have converted the DataFrame types as follows:"
   ]
  },
  {
   "cell_type": "code",
   "execution_count": 18,
   "metadata": {},
   "outputs": [
    {
     "name": "stderr",
     "output_type": "stream",
     "text": [
      "INFO: Data set types\n",
      "age            int32\n",
      "job             int8\n",
      "marital         int8\n",
      "education       int8\n",
      "default         int8\n",
      "balance      float64\n",
      "housing         int8\n",
      "loan            int8\n",
      "products      object\n",
      "dtype: object\n"
     ]
    }
   ],
   "source": [
    "util_helper.log.info(\"Data set types\\n{}\".format(df_t.dtypes))"
   ]
  },
  {
   "cell_type": "markdown",
   "metadata": {},
   "source": [
    "Note that for nominal, ordinal and set variables we have created **new** DataFrame columns to accommodate the converted types (e.g. '*job*' -> '*job_numeric*', '*education*' -> '*education_numeric*' etc.). It is these columns that we will be using for our computation, while leaving the original columns intact fot consistency / display purposes."
   ]
  },
  {
   "cell_type": "markdown",
   "metadata": {},
   "source": [
    "##  Compute data (dis-)similarity"
   ]
  },
  {
   "cell_type": "markdown",
   "metadata": {},
   "source": [
    "### Question"
   ]
  },
  {
   "cell_type": "markdown",
   "metadata": {},
   "source": [
    "In order to measure the similarity between the bank customers you could form the dissimilarity matrix for all given attributes. As described in lecture \"Measuring Data Similarity\", for every given attribute you first distinguish its type (categorical, ordinal, numerical or set) and then compute the dissimilarity of its values accordingly. For set similarity use the Jaccard similarity between sets. Then, you can calculate the average of the computed dissimilarities in order to form the dissimilarity over all attributes. Depending of the machine used to implement this assignment you should decide whether is feasible to compute the dissimilarity matrices or have the computations performed on-the-fly for a pair of customers."
   ]
  },
  {
   "cell_type": "markdown",
   "metadata": {},
   "source": [
    "### Answer"
   ]
  },
  {
   "cell_type": "markdown",
   "metadata": {},
   "source": [
    "#### Determining feasibility of batch computation"
   ]
  },
  {
   "cell_type": "markdown",
   "metadata": {},
   "source": [
    "Our inital thought is to create dissimilarity matrices for every variable in the data set. To do this, we need to create a $m \\times n \\times n$ matrix, where $m=9$ (number of variables), $n=43190$ (length of dataset). Also, the data type of the NumPy matrix should be at least *np.float32*, so as to acommodate for measures that require float precision (e.g. Jaccard dissimilarity).\n",
    "\n",
    "Proceeding with experimenting on the memory requirements:"
   ]
  },
  {
   "cell_type": "code",
   "execution_count": 19,
   "metadata": {},
   "outputs": [
    {
     "name": "stderr",
     "output_type": "stream",
     "text": [
      "ERROR: Memory error: Unable to allocate 62.5 GiB for an array with shape (9, 43190, 43190) and data type float32.\n"
     ]
    }
   ],
   "source": [
    "m = 9\n",
    "n = 43190\n",
    "\n",
    "try:\n",
    "    mat = np.zeros((m, n, n), dtype = np.float32)\n",
    "except MemoryError as me:\n",
    "    util_helper.log.error(\"Memory error: {}.\".format(me))"
   ]
  },
  {
   "cell_type": "markdown",
   "metadata": {},
   "source": [
    "Although the dissimilarity matrix is, effectively, a lower triangular matrix, memory representation requires that we treat it - inefficiently - as a , $m \\times n \\times n$ matrix as previously mentioned. To circumvent this, we could proceed with using *SciPy* sparse matrix representations.\n",
    "\n",
    "However, this is rather an overkill in the scope of the assignment."
   ]
  },
  {
   "cell_type": "markdown",
   "metadata": {},
   "source": [
    "We conclude that it is infeasible to batch produce the measures and we shall proceed with on-th-fly computation, meaning that we will be computing a dissimilarity column vector for every variable. Note that in our effort to keep computation as efficient as possible, we have forbade for loops in favor of vectorized Pandas / NumPy computations."
   ]
  },
  {
   "cell_type": "markdown",
   "metadata": {},
   "source": [
    "#### Performing dissimilarity computations"
   ]
  },
  {
   "cell_type": "markdown",
   "metadata": {},
   "source": [
    "The code for producing dissimilarity metrics has been developed in the Python class '*MeasuresHelper*'. The calculating functions are descibed below:\n",
    "\n",
    "- '*numeric_dissimilarity*': produces the dissimilarity vector for **numeric** variables. Numeric dissimilarity is defined as \n",
    "\n",
    "<br />\n",
    "\n",
    "$$d(a, b) = \\frac{\\mid a − b \\mid}{max(value) − min(value)}$$\n",
    "\n",
    "<br />\n",
    "\n",
    "- '*nominal_dissimilarity*': produces the dissimilarity vector for **nominal** variables. Nominal dissimilarity is defined as\n",
    "\n",
    "<br />\n",
    "\n",
    "$$d(a, b) = 1 \\text{if a } \\neq \\text{ b, 0 otherwise}$$\n",
    "\n",
    "<br />\n",
    "\n",
    "- '*ordinal_dissimilarity*': produces the dissimilarity vector for **ordinal** variables. Ordinal dissimilarity is defined as \n",
    "\n",
    "<br />\n",
    "\n",
    "$$d(a, b) = \\frac{\\mid rank(a) − rank(b) \\mid}{max(rank) − min(rank)}$$\n",
    "\n",
    "<br />\n",
    "\n",
    "- '*set_dissimilarity*': produces the dissimilarity vector for **set** type variables. Set dissimilarity is defined as \n",
    "\n",
    "<br />\n",
    "\n",
    "$$d(S_{1}, S_{2}) = 1 - (\\mid S_{1} \\cap S_{2} \\mid  / \\mid S_{1} \\cup S_{2} \\mid)$$\n",
    "\n",
    "<br />\n",
    "\n",
    "The interface for all function is uniform and requires:\n",
    "\n",
    "- The **source data set** as a Pandas DataFrame.\n",
    "- The **column (variable)** for which to perform the computation.\n",
    "- The **index of the data set entry** against which the computation is to be performed.\n",
    "\n",
    "All functions return the dissimilarity vector of the entry under examination against every other variable value.\n",
    "\n",
    "Finally, function '*dissimilarity*' computes a $m \\times n$ matrix of dissimilarity measures for all 9 variables we need to examine."
   ]
  },
  {
   "cell_type": "markdown",
   "metadata": {},
   "source": [
    "Let's proceed with testing our dissimilarity measures against customer_id = 1."
   ]
  },
  {
   "cell_type": "code",
   "execution_count": 20,
   "metadata": {},
   "outputs": [],
   "source": [
    "measures_helper_dis = MeasuresHelper.MeasuresHelper()"
   ]
  },
  {
   "cell_type": "code",
   "execution_count": 21,
   "metadata": {},
   "outputs": [],
   "source": [
    "index_to_compare = util_helper.customer_id_to_index(1)"
   ]
  },
  {
   "cell_type": "markdown",
   "metadata": {},
   "source": [
    "##### Testing numeric dissimilarity"
   ]
  },
  {
   "cell_type": "code",
   "execution_count": 22,
   "metadata": {
    "scrolled": true
   },
   "outputs": [
    {
     "name": "stderr",
     "output_type": "stream",
     "text": [
      "DEBUG: computing numeric dissimilarity for age\n"
     ]
    },
    {
     "data": {
      "text/plain": [
       "0        0.000000\n",
       "1        0.025974\n",
       "2        0.090909\n",
       "3        0.116883\n",
       "4        0.324675\n",
       "           ...   \n",
       "43186    0.233766\n",
       "43187    0.493506\n",
       "43188    0.506494\n",
       "43189    0.311688\n",
       "43190    0.051948\n",
       "Name: age, Length: 43191, dtype: float64"
      ]
     },
     "execution_count": 22,
     "metadata": {},
     "output_type": "execute_result"
    }
   ],
   "source": [
    "measures_helper_dis.numeric_dissimilarity(df = df_t, column = \"age\", index_to_compare = index_to_compare)"
   ]
  },
  {
   "cell_type": "markdown",
   "metadata": {},
   "source": [
    "##### Testing nominal dissimilarity"
   ]
  },
  {
   "cell_type": "code",
   "execution_count": 23,
   "metadata": {},
   "outputs": [
    {
     "name": "stderr",
     "output_type": "stream",
     "text": [
      "DEBUG: computing nominal dissimilarity for job\n"
     ]
    },
    {
     "data": {
      "text/plain": [
       "0        0.0\n",
       "1        1.0\n",
       "2        1.0\n",
       "3        0.0\n",
       "4        1.0\n",
       "        ... \n",
       "43186    1.0\n",
       "43187    1.0\n",
       "43188    1.0\n",
       "43189    1.0\n",
       "43190    0.0\n",
       "Length: 43191, dtype: float64"
      ]
     },
     "execution_count": 23,
     "metadata": {},
     "output_type": "execute_result"
    }
   ],
   "source": [
    "measures_helper_dis.nominal_dissimilarity(df = df_t, column = \"job\", index_to_compare = index_to_compare)"
   ]
  },
  {
   "cell_type": "markdown",
   "metadata": {},
   "source": [
    "##### Testing ordinal dissimilarity"
   ]
  },
  {
   "cell_type": "code",
   "execution_count": 24,
   "metadata": {},
   "outputs": [
    {
     "name": "stderr",
     "output_type": "stream",
     "text": [
      "DEBUG: computing ordinal dissimilarity for education\n"
     ]
    },
    {
     "data": {
      "text/plain": [
       "0        0.0\n",
       "1        0.5\n",
       "2        0.5\n",
       "3        0.5\n",
       "4        0.5\n",
       "        ... \n",
       "43186    0.5\n",
       "43187    0.5\n",
       "43188    0.0\n",
       "43189    0.0\n",
       "43190    0.0\n",
       "Name: education, Length: 43191, dtype: float64"
      ]
     },
     "execution_count": 24,
     "metadata": {},
     "output_type": "execute_result"
    }
   ],
   "source": [
    "measures_helper_dis.ordinal_dissimilarity(df = df_t, column = \"education\", index_to_compare = index_to_compare)"
   ]
  },
  {
   "cell_type": "markdown",
   "metadata": {},
   "source": [
    "##### Testing set dissimilarity"
   ]
  },
  {
   "cell_type": "code",
   "execution_count": 25,
   "metadata": {
    "scrolled": true
   },
   "outputs": [
    {
     "name": "stderr",
     "output_type": "stream",
     "text": [
      "DEBUG: computing set dissimilarity for products\n"
     ]
    },
    {
     "data": {
      "text/plain": [
       "0        0.000000\n",
       "1        0.857143\n",
       "2        0.833333\n",
       "3        0.700000\n",
       "4        0.909091\n",
       "           ...   \n",
       "43186    1.000000\n",
       "43187    0.666667\n",
       "43188    0.846154\n",
       "43189    0.857143\n",
       "43190    0.909091\n",
       "Length: 43191, dtype: float64"
      ]
     },
     "execution_count": 25,
     "metadata": {},
     "output_type": "execute_result"
    }
   ],
   "source": [
    "measures_helper_dis.set_dissimilarity(df = df_t, column = \"products\", index_to_compare = index_to_compare)"
   ]
  },
  {
   "cell_type": "markdown",
   "metadata": {},
   "source": [
    "##### Testing all dissimilarity measures"
   ]
  },
  {
   "cell_type": "code",
   "execution_count": 26,
   "metadata": {},
   "outputs": [
    {
     "name": "stderr",
     "output_type": "stream",
     "text": [
      "DEBUG: computing all dissimilarity measures\n",
      "DEBUG: computing numeric dissimilarity for age\n",
      "DEBUG: computing nominal dissimilarity for job\n",
      "DEBUG: computing nominal dissimilarity for marital\n",
      "DEBUG: computing ordinal dissimilarity for education\n",
      "DEBUG: computing nominal dissimilarity for default\n",
      "DEBUG: computing numeric dissimilarity for balance\n",
      "DEBUG: computing nominal dissimilarity for housing\n",
      "DEBUG: computing nominal dissimilarity for loan\n",
      "DEBUG: computing set dissimilarity for products\n"
     ]
    }
   ],
   "source": [
    "dissimilarity_matrix = measures_helper_dis.all(df = df_t, index_to_compare = index_to_compare)"
   ]
  },
  {
   "cell_type": "markdown",
   "metadata": {},
   "source": [
    "Reference customer:"
   ]
  },
  {
   "cell_type": "code",
   "execution_count": 27,
   "metadata": {},
   "outputs": [
    {
     "data": {
      "text/html": [
       "<div>\n",
       "<style scoped>\n",
       "    .dataframe tbody tr th:only-of-type {\n",
       "        vertical-align: middle;\n",
       "    }\n",
       "\n",
       "    .dataframe tbody tr th {\n",
       "        vertical-align: top;\n",
       "    }\n",
       "\n",
       "    .dataframe thead th {\n",
       "        text-align: right;\n",
       "    }\n",
       "</style>\n",
       "<table border=\"1\" class=\"dataframe\">\n",
       "  <thead>\n",
       "    <tr style=\"text-align: right;\">\n",
       "      <th></th>\n",
       "      <th>age</th>\n",
       "      <th>job</th>\n",
       "      <th>marital</th>\n",
       "      <th>education</th>\n",
       "      <th>default</th>\n",
       "      <th>balance</th>\n",
       "      <th>housing</th>\n",
       "      <th>loan</th>\n",
       "      <th>products</th>\n",
       "    </tr>\n",
       "  </thead>\n",
       "  <tbody>\n",
       "    <tr>\n",
       "      <th>0</th>\n",
       "      <td>33</td>\n",
       "      <td>entrepreneur</td>\n",
       "      <td>married</td>\n",
       "      <td>secondary</td>\n",
       "      <td>no</td>\n",
       "      <td>2</td>\n",
       "      <td>yes</td>\n",
       "      <td>yes</td>\n",
       "      <td>1,3,16,17,19</td>\n",
       "    </tr>\n",
       "  </tbody>\n",
       "</table>\n",
       "</div>"
      ],
      "text/plain": [
       "  age           job  marital  education default balance housing loan  \\\n",
       "0  33  entrepreneur  married  secondary      no       2     yes  yes   \n",
       "\n",
       "       products  \n",
       "0  1,3,16,17,19  "
      ]
     },
     "execution_count": 27,
     "metadata": {},
     "output_type": "execute_result"
    }
   ],
   "source": [
    "pd.DataFrame(df.loc[0, :]).transpose()"
   ]
  },
  {
   "cell_type": "markdown",
   "metadata": {},
   "source": [
    "Top-10 most **similar** customers to 1:"
   ]
  },
  {
   "cell_type": "code",
   "execution_count": 28,
   "metadata": {},
   "outputs": [],
   "source": [
    "# Sort by mean dissimilarity, ascending, get top-10 excluding first (own)\n",
    "top_10_most_similar = dissimilarity_matrix[:, 9].argsort()[1:11]"
   ]
  },
  {
   "cell_type": "code",
   "execution_count": 29,
   "metadata": {},
   "outputs": [
    {
     "data": {
      "text/html": [
       "<div>\n",
       "<style scoped>\n",
       "    .dataframe tbody tr th:only-of-type {\n",
       "        vertical-align: middle;\n",
       "    }\n",
       "\n",
       "    .dataframe tbody tr th {\n",
       "        vertical-align: top;\n",
       "    }\n",
       "\n",
       "    .dataframe thead th {\n",
       "        text-align: right;\n",
       "    }\n",
       "</style>\n",
       "<table border=\"1\" class=\"dataframe\">\n",
       "  <thead>\n",
       "    <tr style=\"text-align: right;\">\n",
       "      <th></th>\n",
       "      <th>age</th>\n",
       "      <th>job</th>\n",
       "      <th>marital</th>\n",
       "      <th>education</th>\n",
       "      <th>default</th>\n",
       "      <th>balance</th>\n",
       "      <th>housing</th>\n",
       "      <th>loan</th>\n",
       "      <th>products</th>\n",
       "    </tr>\n",
       "  </thead>\n",
       "  <tbody>\n",
       "    <tr>\n",
       "      <th>25848</th>\n",
       "      <td>42.0</td>\n",
       "      <td>entrepreneur</td>\n",
       "      <td>married</td>\n",
       "      <td>secondary</td>\n",
       "      <td>no</td>\n",
       "      <td>215.0</td>\n",
       "      <td>yes</td>\n",
       "      <td>yes</td>\n",
       "      <td>1,3,5,16,17,20</td>\n",
       "    </tr>\n",
       "    <tr>\n",
       "      <th>16640</th>\n",
       "      <td>46.0</td>\n",
       "      <td>entrepreneur</td>\n",
       "      <td>married</td>\n",
       "      <td>secondary</td>\n",
       "      <td>no</td>\n",
       "      <td>0.0</td>\n",
       "      <td>yes</td>\n",
       "      <td>yes</td>\n",
       "      <td>3,7,16,17,19,20</td>\n",
       "    </tr>\n",
       "    <tr>\n",
       "      <th>12328</th>\n",
       "      <td>33.0</td>\n",
       "      <td>entrepreneur</td>\n",
       "      <td>married</td>\n",
       "      <td>secondary</td>\n",
       "      <td>no</td>\n",
       "      <td>-627.0</td>\n",
       "      <td>yes</td>\n",
       "      <td>yes</td>\n",
       "      <td>2,3,4,7,9,12,16,17,18,19</td>\n",
       "    </tr>\n",
       "    <tr>\n",
       "      <th>1246</th>\n",
       "      <td>33.0</td>\n",
       "      <td>entrepreneur</td>\n",
       "      <td>married</td>\n",
       "      <td>secondary</td>\n",
       "      <td>no</td>\n",
       "      <td>0.0</td>\n",
       "      <td>yes</td>\n",
       "      <td>yes</td>\n",
       "      <td>3,5,6,7,12,16,17</td>\n",
       "    </tr>\n",
       "    <tr>\n",
       "      <th>24632</th>\n",
       "      <td>33.0</td>\n",
       "      <td>entrepreneur</td>\n",
       "      <td>married</td>\n",
       "      <td>secondary</td>\n",
       "      <td>no</td>\n",
       "      <td>2.0</td>\n",
       "      <td>yes</td>\n",
       "      <td>yes</td>\n",
       "      <td>2,3,5,6,7,9,11,12,16,17</td>\n",
       "    </tr>\n",
       "    <tr>\n",
       "      <th>33281</th>\n",
       "      <td>37.0</td>\n",
       "      <td>entrepreneur</td>\n",
       "      <td>married</td>\n",
       "      <td>secondary</td>\n",
       "      <td>no</td>\n",
       "      <td>0.0</td>\n",
       "      <td>yes</td>\n",
       "      <td>yes</td>\n",
       "      <td>5,9,16,17</td>\n",
       "    </tr>\n",
       "    <tr>\n",
       "      <th>34864</th>\n",
       "      <td>31.0</td>\n",
       "      <td>entrepreneur</td>\n",
       "      <td>married</td>\n",
       "      <td>secondary</td>\n",
       "      <td>no</td>\n",
       "      <td>162.0</td>\n",
       "      <td>yes</td>\n",
       "      <td>yes</td>\n",
       "      <td>5,8,9,10,12,13,16,17,18,19</td>\n",
       "    </tr>\n",
       "    <tr>\n",
       "      <th>32931</th>\n",
       "      <td>34.0</td>\n",
       "      <td>entrepreneur</td>\n",
       "      <td>married</td>\n",
       "      <td>secondary</td>\n",
       "      <td>no</td>\n",
       "      <td>2.0</td>\n",
       "      <td>yes</td>\n",
       "      <td>yes</td>\n",
       "      <td>8,11,12,13,17,19</td>\n",
       "    </tr>\n",
       "    <tr>\n",
       "      <th>24714</th>\n",
       "      <td>38.0</td>\n",
       "      <td>entrepreneur</td>\n",
       "      <td>married</td>\n",
       "      <td>secondary</td>\n",
       "      <td>no</td>\n",
       "      <td>0.0</td>\n",
       "      <td>yes</td>\n",
       "      <td>yes</td>\n",
       "      <td>2,3,5,14,16</td>\n",
       "    </tr>\n",
       "    <tr>\n",
       "      <th>12950</th>\n",
       "      <td>37.0</td>\n",
       "      <td>entrepreneur</td>\n",
       "      <td>married</td>\n",
       "      <td>secondary</td>\n",
       "      <td>no</td>\n",
       "      <td>2055.0</td>\n",
       "      <td>yes</td>\n",
       "      <td>yes</td>\n",
       "      <td>1,4,5,8,9,15,16,18,19,20</td>\n",
       "    </tr>\n",
       "  </tbody>\n",
       "</table>\n",
       "</div>"
      ],
      "text/plain": [
       "        age           job  marital  education default  balance housing loan  \\\n",
       "25848  42.0  entrepreneur  married  secondary      no    215.0     yes  yes   \n",
       "16640  46.0  entrepreneur  married  secondary      no      0.0     yes  yes   \n",
       "12328  33.0  entrepreneur  married  secondary      no   -627.0     yes  yes   \n",
       "1246   33.0  entrepreneur  married  secondary      no      0.0     yes  yes   \n",
       "24632  33.0  entrepreneur  married  secondary      no      2.0     yes  yes   \n",
       "33281  37.0  entrepreneur  married  secondary      no      0.0     yes  yes   \n",
       "34864  31.0  entrepreneur  married  secondary      no    162.0     yes  yes   \n",
       "32931  34.0  entrepreneur  married  secondary      no      2.0     yes  yes   \n",
       "24714  38.0  entrepreneur  married  secondary      no      0.0     yes  yes   \n",
       "12950  37.0  entrepreneur  married  secondary      no   2055.0     yes  yes   \n",
       "\n",
       "                         products  \n",
       "25848              1,3,5,16,17,20  \n",
       "16640             3,7,16,17,19,20  \n",
       "12328    2,3,4,7,9,12,16,17,18,19  \n",
       "1246             3,5,6,7,12,16,17  \n",
       "24632     2,3,5,6,7,9,11,12,16,17  \n",
       "33281                   5,9,16,17  \n",
       "34864  5,8,9,10,12,13,16,17,18,19  \n",
       "32931            8,11,12,13,17,19  \n",
       "24714                 2,3,5,14,16  \n",
       "12950    1,4,5,8,9,15,16,18,19,20  "
      ]
     },
     "execution_count": 29,
     "metadata": {},
     "output_type": "execute_result"
    }
   ],
   "source": [
    "df.loc[top_10_most_similar, :]"
   ]
  },
  {
   "cell_type": "markdown",
   "metadata": {},
   "source": [
    "Top-10 most **dissimilar** customers to 1:"
   ]
  },
  {
   "cell_type": "code",
   "execution_count": 30,
   "metadata": {},
   "outputs": [],
   "source": [
    "# Sort by mean dissimilarity, descending, get top-10\n",
    "top_10_most_dissimilar = dissimilarity_matrix[:, 9].argsort()[::-1][0:10]"
   ]
  },
  {
   "cell_type": "code",
   "execution_count": 31,
   "metadata": {},
   "outputs": [
    {
     "data": {
      "text/html": [
       "<div>\n",
       "<style scoped>\n",
       "    .dataframe tbody tr th:only-of-type {\n",
       "        vertical-align: middle;\n",
       "    }\n",
       "\n",
       "    .dataframe tbody tr th {\n",
       "        vertical-align: top;\n",
       "    }\n",
       "\n",
       "    .dataframe thead th {\n",
       "        text-align: right;\n",
       "    }\n",
       "</style>\n",
       "<table border=\"1\" class=\"dataframe\">\n",
       "  <thead>\n",
       "    <tr style=\"text-align: right;\">\n",
       "      <th></th>\n",
       "      <th>age</th>\n",
       "      <th>job</th>\n",
       "      <th>marital</th>\n",
       "      <th>education</th>\n",
       "      <th>default</th>\n",
       "      <th>balance</th>\n",
       "      <th>housing</th>\n",
       "      <th>loan</th>\n",
       "      <th>products</th>\n",
       "    </tr>\n",
       "  </thead>\n",
       "  <tbody>\n",
       "    <tr>\n",
       "      <th>28487</th>\n",
       "      <td>59.0</td>\n",
       "      <td>management</td>\n",
       "      <td>divorced</td>\n",
       "      <td>tertiary</td>\n",
       "      <td>yes</td>\n",
       "      <td>0.0</td>\n",
       "      <td>no</td>\n",
       "      <td>no</td>\n",
       "      <td>2,18</td>\n",
       "    </tr>\n",
       "    <tr>\n",
       "      <th>11009</th>\n",
       "      <td>56.0</td>\n",
       "      <td>management</td>\n",
       "      <td>divorced</td>\n",
       "      <td>tertiary</td>\n",
       "      <td>yes</td>\n",
       "      <td>-1968.0</td>\n",
       "      <td>no</td>\n",
       "      <td>no</td>\n",
       "      <td>4,10,11,12,13,15,18,20</td>\n",
       "    </tr>\n",
       "    <tr>\n",
       "      <th>8707</th>\n",
       "      <td>56.0</td>\n",
       "      <td>housemaid</td>\n",
       "      <td>divorced</td>\n",
       "      <td>primary</td>\n",
       "      <td>yes</td>\n",
       "      <td>1238.0</td>\n",
       "      <td>no</td>\n",
       "      <td>no</td>\n",
       "      <td>15</td>\n",
       "    </tr>\n",
       "    <tr>\n",
       "      <th>14502</th>\n",
       "      <td>56.0</td>\n",
       "      <td>blue-collar</td>\n",
       "      <td>divorced</td>\n",
       "      <td>primary</td>\n",
       "      <td>yes</td>\n",
       "      <td>-1.0</td>\n",
       "      <td>no</td>\n",
       "      <td>no</td>\n",
       "      <td>5,7,8,10,15,16</td>\n",
       "    </tr>\n",
       "    <tr>\n",
       "      <th>38325</th>\n",
       "      <td>51.0</td>\n",
       "      <td>management</td>\n",
       "      <td>single</td>\n",
       "      <td>tertiary</td>\n",
       "      <td>no</td>\n",
       "      <td>102127.0</td>\n",
       "      <td>no</td>\n",
       "      <td>no</td>\n",
       "      <td>7,9,11</td>\n",
       "    </tr>\n",
       "    <tr>\n",
       "      <th>39224</th>\n",
       "      <td>45.0</td>\n",
       "      <td>unemployed</td>\n",
       "      <td>divorced</td>\n",
       "      <td>primary</td>\n",
       "      <td>yes</td>\n",
       "      <td>11.0</td>\n",
       "      <td>no</td>\n",
       "      <td>no</td>\n",
       "      <td>13</td>\n",
       "    </tr>\n",
       "    <tr>\n",
       "      <th>37764</th>\n",
       "      <td>59.0</td>\n",
       "      <td>management</td>\n",
       "      <td>divorced</td>\n",
       "      <td>tertiary</td>\n",
       "      <td>yes</td>\n",
       "      <td>0.0</td>\n",
       "      <td>no</td>\n",
       "      <td>no</td>\n",
       "      <td>5,6,8,10,11,12,16,17,18,19</td>\n",
       "    </tr>\n",
       "    <tr>\n",
       "      <th>15804</th>\n",
       "      <td>52.0</td>\n",
       "      <td>management</td>\n",
       "      <td>divorced</td>\n",
       "      <td>tertiary</td>\n",
       "      <td>yes</td>\n",
       "      <td>0.0</td>\n",
       "      <td>no</td>\n",
       "      <td>no</td>\n",
       "      <td>16,18</td>\n",
       "    </tr>\n",
       "    <tr>\n",
       "      <th>10440</th>\n",
       "      <td>37.0</td>\n",
       "      <td>management</td>\n",
       "      <td>single</td>\n",
       "      <td>tertiary</td>\n",
       "      <td>yes</td>\n",
       "      <td>-25.0</td>\n",
       "      <td>no</td>\n",
       "      <td>no</td>\n",
       "      <td>2,5,10</td>\n",
       "    </tr>\n",
       "    <tr>\n",
       "      <th>17296</th>\n",
       "      <td>30.0</td>\n",
       "      <td>management</td>\n",
       "      <td>single</td>\n",
       "      <td>tertiary</td>\n",
       "      <td>yes</td>\n",
       "      <td>35.0</td>\n",
       "      <td>no</td>\n",
       "      <td>no</td>\n",
       "      <td>2,5</td>\n",
       "    </tr>\n",
       "  </tbody>\n",
       "</table>\n",
       "</div>"
      ],
      "text/plain": [
       "        age          job   marital education default   balance housing loan  \\\n",
       "28487  59.0   management  divorced  tertiary     yes       0.0      no   no   \n",
       "11009  56.0   management  divorced  tertiary     yes   -1968.0      no   no   \n",
       "8707   56.0    housemaid  divorced   primary     yes    1238.0      no   no   \n",
       "14502  56.0  blue-collar  divorced   primary     yes      -1.0      no   no   \n",
       "38325  51.0   management    single  tertiary      no  102127.0      no   no   \n",
       "39224  45.0   unemployed  divorced   primary     yes      11.0      no   no   \n",
       "37764  59.0   management  divorced  tertiary     yes       0.0      no   no   \n",
       "15804  52.0   management  divorced  tertiary     yes       0.0      no   no   \n",
       "10440  37.0   management    single  tertiary     yes     -25.0      no   no   \n",
       "17296  30.0   management    single  tertiary     yes      35.0      no   no   \n",
       "\n",
       "                         products  \n",
       "28487                        2,18  \n",
       "11009      4,10,11,12,13,15,18,20  \n",
       "8707                           15  \n",
       "14502              5,7,8,10,15,16  \n",
       "38325                      7,9,11  \n",
       "39224                          13  \n",
       "37764  5,6,8,10,11,12,16,17,18,19  \n",
       "15804                       16,18  \n",
       "10440                      2,5,10  \n",
       "17296                         2,5  "
      ]
     },
     "execution_count": 31,
     "metadata": {},
     "output_type": "execute_result"
    }
   ],
   "source": [
    "df.loc[top_10_most_dissimilar, :]"
   ]
  },
  {
   "cell_type": "markdown",
   "metadata": {},
   "source": [
    "## Nearest Neighbor (NN) search"
   ]
  },
  {
   "cell_type": "markdown",
   "metadata": {},
   "source": [
    "### Question"
   ]
  },
  {
   "cell_type": "markdown",
   "metadata": {},
   "source": [
    "Using the dissimilarities computed as discussed in the previous step, you will calculate the 10-NN (most similar) customers for the customers with ids listed below (customer id=line number in the csv file starting from line 2):\n",
    "\n",
    "$1230, 5032, 10001, 24035, 28948, 35099, 37693, 39543, 40002, 42192$\n",
    "\n",
    "For this task your script must take as input the customer-id and return the list of her 10 nearest neighbors (excluding the given customer)"
   ]
  },
  {
   "cell_type": "markdown",
   "metadata": {},
   "source": [
    "### Answer"
   ]
  },
  {
   "cell_type": "markdown",
   "metadata": {},
   "source": [
    "Computation of top-10 most similar customers is performed in the following fashion: *MeasuresHelper.get_most_similar_customers()* is a wrapper function to accommodate the interface requirements of the assignment. The function computes the dissimilarity matrix by calling the *MeasuresHelper.all()* function, which returns the dissimilarity matrix for all variables. Subsequently, function *MeasuresHelper.nn()* is called, which preformes argsort on the mean dissimilarity of the matrix, per row, and returns the top-10 indices."
   ]
  },
  {
   "cell_type": "markdown",
   "metadata": {},
   "source": [
    "#### Customer #1230"
   ]
  },
  {
   "cell_type": "code",
   "execution_count": 32,
   "metadata": {},
   "outputs": [],
   "source": [
    "customer_id = 1230"
   ]
  },
  {
   "cell_type": "code",
   "execution_count": 33,
   "metadata": {},
   "outputs": [
    {
     "name": "stderr",
     "output_type": "stream",
     "text": [
      "DEBUG: computing all dissimilarity measures\n",
      "DEBUG: computing numeric dissimilarity for age\n",
      "DEBUG: computing nominal dissimilarity for job\n",
      "DEBUG: computing nominal dissimilarity for marital\n",
      "DEBUG: computing ordinal dissimilarity for education\n",
      "DEBUG: computing nominal dissimilarity for default\n",
      "DEBUG: computing numeric dissimilarity for balance\n",
      "DEBUG: computing nominal dissimilarity for housing\n",
      "DEBUG: computing nominal dissimilarity for loan\n",
      "DEBUG: computing set dissimilarity for products\n"
     ]
    }
   ],
   "source": [
    "top_10_most_similar_customers = measures_helper_dis.get_most_similar_customers(df = df_t, customer_id = customer_id)"
   ]
  },
  {
   "cell_type": "code",
   "execution_count": 34,
   "metadata": {},
   "outputs": [
    {
     "name": "stderr",
     "output_type": "stream",
     "text": [
      "INFO: Top-10 most similar customers to customer_id = 1230\n",
      "\n",
      "[34264, 36776, 6745, 1123, 4716, 4130, 34561, 31168, 28874, 11413]\n"
     ]
    }
   ],
   "source": [
    "util_helper.log.info(\"Top-10 most similar customers to customer_id = {}\\n\\n{}\".format(customer_id, top_10_most_similar_customers))"
   ]
  },
  {
   "cell_type": "markdown",
   "metadata": {},
   "source": [
    "#### Customer #5032"
   ]
  },
  {
   "cell_type": "code",
   "execution_count": 35,
   "metadata": {},
   "outputs": [],
   "source": [
    "customer_id = 5032"
   ]
  },
  {
   "cell_type": "code",
   "execution_count": 36,
   "metadata": {},
   "outputs": [
    {
     "name": "stderr",
     "output_type": "stream",
     "text": [
      "DEBUG: computing all dissimilarity measures\n",
      "DEBUG: computing numeric dissimilarity for age\n",
      "DEBUG: computing nominal dissimilarity for job\n",
      "DEBUG: computing nominal dissimilarity for marital\n",
      "DEBUG: computing ordinal dissimilarity for education\n",
      "DEBUG: computing nominal dissimilarity for default\n",
      "DEBUG: computing numeric dissimilarity for balance\n",
      "DEBUG: computing nominal dissimilarity for housing\n",
      "DEBUG: computing nominal dissimilarity for loan\n",
      "DEBUG: computing set dissimilarity for products\n"
     ]
    }
   ],
   "source": [
    "top_10_most_similar_customers = measures_helper_dis.get_most_similar_customers(df = df_t, customer_id = customer_id)"
   ]
  },
  {
   "cell_type": "code",
   "execution_count": 37,
   "metadata": {},
   "outputs": [
    {
     "name": "stderr",
     "output_type": "stream",
     "text": [
      "INFO: Top-10 most similar customers to customer_id = 5032\n",
      "\n",
      "[37099, 15219, 39790, 14081, 18977, 37519, 25665, 31639, 26179, 16556]\n"
     ]
    }
   ],
   "source": [
    "util_helper.log.info(\"Top-10 most similar customers to customer_id = {}\\n\\n{}\".format(customer_id, top_10_most_similar_customers))"
   ]
  },
  {
   "cell_type": "markdown",
   "metadata": {},
   "source": [
    "#### Customer #10001"
   ]
  },
  {
   "cell_type": "code",
   "execution_count": 38,
   "metadata": {},
   "outputs": [],
   "source": [
    "customer_id = 10001"
   ]
  },
  {
   "cell_type": "code",
   "execution_count": 39,
   "metadata": {},
   "outputs": [
    {
     "name": "stderr",
     "output_type": "stream",
     "text": [
      "DEBUG: computing all dissimilarity measures\n",
      "DEBUG: computing numeric dissimilarity for age\n",
      "DEBUG: computing nominal dissimilarity for job\n",
      "DEBUG: computing nominal dissimilarity for marital\n",
      "DEBUG: computing ordinal dissimilarity for education\n",
      "DEBUG: computing nominal dissimilarity for default\n",
      "DEBUG: computing numeric dissimilarity for balance\n",
      "DEBUG: computing nominal dissimilarity for housing\n",
      "DEBUG: computing nominal dissimilarity for loan\n",
      "DEBUG: computing set dissimilarity for products\n"
     ]
    }
   ],
   "source": [
    "top_10_most_similar_customers = measures_helper_dis.get_most_similar_customers(df = df_t, customer_id = customer_id)"
   ]
  },
  {
   "cell_type": "code",
   "execution_count": 40,
   "metadata": {},
   "outputs": [
    {
     "name": "stderr",
     "output_type": "stream",
     "text": [
      "INFO: Top-10 most similar customers to customer_id = 10001\n",
      "\n",
      "[37359, 2010, 9860, 1971, 1662, 34269, 2677, 4600, 2162, 42802]\n"
     ]
    }
   ],
   "source": [
    "util_helper.log.info(\"Top-10 most similar customers to customer_id = {}\\n\\n{}\".format(customer_id, top_10_most_similar_customers))"
   ]
  },
  {
   "cell_type": "markdown",
   "metadata": {},
   "source": [
    "#### Customer #24035"
   ]
  },
  {
   "cell_type": "code",
   "execution_count": 41,
   "metadata": {},
   "outputs": [],
   "source": [
    "customer_id = 24035"
   ]
  },
  {
   "cell_type": "code",
   "execution_count": 42,
   "metadata": {},
   "outputs": [
    {
     "name": "stderr",
     "output_type": "stream",
     "text": [
      "DEBUG: computing all dissimilarity measures\n",
      "DEBUG: computing numeric dissimilarity for age\n",
      "DEBUG: computing nominal dissimilarity for job\n",
      "DEBUG: computing nominal dissimilarity for marital\n",
      "DEBUG: computing ordinal dissimilarity for education\n",
      "DEBUG: computing nominal dissimilarity for default\n",
      "DEBUG: computing numeric dissimilarity for balance\n",
      "DEBUG: computing nominal dissimilarity for housing\n",
      "DEBUG: computing nominal dissimilarity for loan\n",
      "DEBUG: computing set dissimilarity for products\n"
     ]
    }
   ],
   "source": [
    "top_10_most_similar_customers = measures_helper_dis.get_most_similar_customers(df = df_t, customer_id = customer_id)"
   ]
  },
  {
   "cell_type": "code",
   "execution_count": 43,
   "metadata": {},
   "outputs": [
    {
     "name": "stderr",
     "output_type": "stream",
     "text": [
      "INFO: Top-10 most similar customers to customer_id = 24035\n",
      "\n",
      "[14036, 14034, 27941, 28537, 23013, 24981, 4345, 25197, 33503, 34276]\n"
     ]
    }
   ],
   "source": [
    "util_helper.log.info(\"Top-10 most similar customers to customer_id = {}\\n\\n{}\".format(customer_id, top_10_most_similar_customers))"
   ]
  },
  {
   "cell_type": "markdown",
   "metadata": {},
   "source": [
    "#### Customer #28948"
   ]
  },
  {
   "cell_type": "code",
   "execution_count": 44,
   "metadata": {},
   "outputs": [],
   "source": [
    "customer_id = 28948"
   ]
  },
  {
   "cell_type": "code",
   "execution_count": 45,
   "metadata": {},
   "outputs": [
    {
     "name": "stderr",
     "output_type": "stream",
     "text": [
      "DEBUG: computing all dissimilarity measures\n",
      "DEBUG: computing numeric dissimilarity for age\n",
      "DEBUG: computing nominal dissimilarity for job\n",
      "DEBUG: computing nominal dissimilarity for marital\n",
      "DEBUG: computing ordinal dissimilarity for education\n",
      "DEBUG: computing nominal dissimilarity for default\n",
      "DEBUG: computing numeric dissimilarity for balance\n",
      "DEBUG: computing nominal dissimilarity for housing\n",
      "DEBUG: computing nominal dissimilarity for loan\n",
      "DEBUG: computing set dissimilarity for products\n"
     ]
    }
   ],
   "source": [
    "top_10_most_similar_customers = measures_helper_dis.get_most_similar_customers(df = df_t, customer_id = customer_id)"
   ]
  },
  {
   "cell_type": "code",
   "execution_count": 46,
   "metadata": {},
   "outputs": [
    {
     "name": "stderr",
     "output_type": "stream",
     "text": [
      "INFO: Top-10 most similar customers to customer_id = 28948\n",
      "\n",
      "[25650, 31123, 2006, 32988, 352, 32927, 15652, 1816, 30763, 9165]\n"
     ]
    }
   ],
   "source": [
    "util_helper.log.info(\"Top-10 most similar customers to customer_id = {}\\n\\n{}\".format(customer_id, top_10_most_similar_customers))"
   ]
  },
  {
   "cell_type": "markdown",
   "metadata": {},
   "source": [
    "#### Customer #35099"
   ]
  },
  {
   "cell_type": "code",
   "execution_count": 47,
   "metadata": {},
   "outputs": [],
   "source": [
    "customer_id = 35099"
   ]
  },
  {
   "cell_type": "code",
   "execution_count": 48,
   "metadata": {},
   "outputs": [
    {
     "name": "stderr",
     "output_type": "stream",
     "text": [
      "DEBUG: computing all dissimilarity measures\n",
      "DEBUG: computing numeric dissimilarity for age\n",
      "DEBUG: computing nominal dissimilarity for job\n",
      "DEBUG: computing nominal dissimilarity for marital\n",
      "DEBUG: computing ordinal dissimilarity for education\n",
      "DEBUG: computing nominal dissimilarity for default\n",
      "DEBUG: computing numeric dissimilarity for balance\n",
      "DEBUG: computing nominal dissimilarity for housing\n",
      "DEBUG: computing nominal dissimilarity for loan\n",
      "DEBUG: computing set dissimilarity for products\n"
     ]
    }
   ],
   "source": [
    "top_10_most_similar_customers = measures_helper_dis.get_most_similar_customers(df = df_t, customer_id = customer_id)"
   ]
  },
  {
   "cell_type": "code",
   "execution_count": 49,
   "metadata": {},
   "outputs": [
    {
     "name": "stderr",
     "output_type": "stream",
     "text": [
      "INFO: Top-10 most similar customers to customer_id = 35099\n",
      "\n",
      "[6412, 10700, 39019, 2674, 8480, 1393, 25702, 40759, 28243, 1759]\n"
     ]
    }
   ],
   "source": [
    "util_helper.log.info(\"Top-10 most similar customers to customer_id = {}\\n\\n{}\".format(customer_id, top_10_most_similar_customers))"
   ]
  },
  {
   "cell_type": "markdown",
   "metadata": {},
   "source": [
    "#### Customer #37693"
   ]
  },
  {
   "cell_type": "code",
   "execution_count": 50,
   "metadata": {},
   "outputs": [],
   "source": [
    "customer_id = 37693"
   ]
  },
  {
   "cell_type": "code",
   "execution_count": 51,
   "metadata": {},
   "outputs": [
    {
     "name": "stderr",
     "output_type": "stream",
     "text": [
      "DEBUG: computing all dissimilarity measures\n",
      "DEBUG: computing numeric dissimilarity for age\n",
      "DEBUG: computing nominal dissimilarity for job\n",
      "DEBUG: computing nominal dissimilarity for marital\n",
      "DEBUG: computing ordinal dissimilarity for education\n",
      "DEBUG: computing nominal dissimilarity for default\n",
      "DEBUG: computing numeric dissimilarity for balance\n",
      "DEBUG: computing nominal dissimilarity for housing\n",
      "DEBUG: computing nominal dissimilarity for loan\n",
      "DEBUG: computing set dissimilarity for products\n"
     ]
    }
   ],
   "source": [
    "top_10_most_similar_customers = measures_helper_dis.get_most_similar_customers(df = df_t, customer_id = customer_id)"
   ]
  },
  {
   "cell_type": "code",
   "execution_count": 52,
   "metadata": {},
   "outputs": [
    {
     "name": "stderr",
     "output_type": "stream",
     "text": [
      "INFO: Top-10 most similar customers to customer_id = 37693\n",
      "\n",
      "[35682, 8660, 8, 29671, 31126, 42897, 37803, 3504, 39763, 35265]\n"
     ]
    }
   ],
   "source": [
    "util_helper.log.info(\"Top-10 most similar customers to customer_id = {}\\n\\n{}\".format(customer_id, top_10_most_similar_customers))"
   ]
  },
  {
   "cell_type": "markdown",
   "metadata": {},
   "source": [
    "#### Customer #39543"
   ]
  },
  {
   "cell_type": "code",
   "execution_count": 53,
   "metadata": {},
   "outputs": [],
   "source": [
    "customer_id = 39543"
   ]
  },
  {
   "cell_type": "code",
   "execution_count": 54,
   "metadata": {},
   "outputs": [
    {
     "name": "stderr",
     "output_type": "stream",
     "text": [
      "DEBUG: computing all dissimilarity measures\n",
      "DEBUG: computing numeric dissimilarity for age\n",
      "DEBUG: computing nominal dissimilarity for job\n",
      "DEBUG: computing nominal dissimilarity for marital\n",
      "DEBUG: computing ordinal dissimilarity for education\n",
      "DEBUG: computing nominal dissimilarity for default\n",
      "DEBUG: computing numeric dissimilarity for balance\n",
      "DEBUG: computing nominal dissimilarity for housing\n",
      "DEBUG: computing nominal dissimilarity for loan\n",
      "DEBUG: computing set dissimilarity for products\n"
     ]
    }
   ],
   "source": [
    "top_10_most_similar_customers = measures_helper_dis.get_most_similar_customers(df = df_t, customer_id = customer_id)"
   ]
  },
  {
   "cell_type": "code",
   "execution_count": 55,
   "metadata": {},
   "outputs": [
    {
     "name": "stderr",
     "output_type": "stream",
     "text": [
      "INFO: Top-10 most similar customers to customer_id = 39543\n",
      "\n",
      "[32254, 39701, 41965, 38697, 25513, 6615, 17637, 29873, 42116, 41193]\n"
     ]
    }
   ],
   "source": [
    "util_helper.log.info(\"Top-10 most similar customers to customer_id = {}\\n\\n{}\".format(customer_id, top_10_most_similar_customers))"
   ]
  },
  {
   "cell_type": "markdown",
   "metadata": {},
   "source": [
    "#### Customer #40002"
   ]
  },
  {
   "cell_type": "code",
   "execution_count": 56,
   "metadata": {},
   "outputs": [],
   "source": [
    "customer_id = 40002"
   ]
  },
  {
   "cell_type": "code",
   "execution_count": 57,
   "metadata": {},
   "outputs": [
    {
     "name": "stderr",
     "output_type": "stream",
     "text": [
      "DEBUG: computing all dissimilarity measures\n",
      "DEBUG: computing numeric dissimilarity for age\n",
      "DEBUG: computing nominal dissimilarity for job\n",
      "DEBUG: computing nominal dissimilarity for marital\n",
      "DEBUG: computing ordinal dissimilarity for education\n",
      "DEBUG: computing nominal dissimilarity for default\n",
      "DEBUG: computing numeric dissimilarity for balance\n",
      "DEBUG: computing nominal dissimilarity for housing\n",
      "DEBUG: computing nominal dissimilarity for loan\n",
      "DEBUG: computing set dissimilarity for products\n"
     ]
    }
   ],
   "source": [
    "top_10_most_similar_customers = measures_helper_dis.get_most_similar_customers(df = df_t, customer_id = customer_id)"
   ]
  },
  {
   "cell_type": "code",
   "execution_count": 58,
   "metadata": {},
   "outputs": [
    {
     "name": "stderr",
     "output_type": "stream",
     "text": [
      "INFO: Top-10 most similar customers to customer_id = 40002\n",
      "\n",
      "[43051, 29781, 30250, 361, 28938, 39841, 38985, 38978, 38690, 29722]\n"
     ]
    }
   ],
   "source": [
    "util_helper.log.info(\"Top-10 most similar customers to customer_id = {}\\n\\n{}\".format(customer_id, top_10_most_similar_customers))"
   ]
  },
  {
   "cell_type": "markdown",
   "metadata": {},
   "source": [
    "#### Customer #42192"
   ]
  },
  {
   "cell_type": "code",
   "execution_count": 59,
   "metadata": {},
   "outputs": [],
   "source": [
    "customer_id = 42192"
   ]
  },
  {
   "cell_type": "code",
   "execution_count": 60,
   "metadata": {},
   "outputs": [
    {
     "name": "stderr",
     "output_type": "stream",
     "text": [
      "DEBUG: computing all dissimilarity measures\n",
      "DEBUG: computing numeric dissimilarity for age\n",
      "DEBUG: computing nominal dissimilarity for job\n",
      "DEBUG: computing nominal dissimilarity for marital\n",
      "DEBUG: computing ordinal dissimilarity for education\n",
      "DEBUG: computing nominal dissimilarity for default\n",
      "DEBUG: computing numeric dissimilarity for balance\n",
      "DEBUG: computing nominal dissimilarity for housing\n",
      "DEBUG: computing nominal dissimilarity for loan\n",
      "DEBUG: computing set dissimilarity for products\n"
     ]
    }
   ],
   "source": [
    "top_10_most_similar_customers = measures_helper_dis.get_most_similar_customers(df = df_t, customer_id = customer_id)"
   ]
  },
  {
   "cell_type": "code",
   "execution_count": 61,
   "metadata": {},
   "outputs": [
    {
     "name": "stderr",
     "output_type": "stream",
     "text": [
      "INFO: Top-10 most similar customers to customer_id = 42192\n",
      "\n",
      "[12434, 39442, 28656, 16255, 15359, 14169, 27634, 10744, 27636, 42983]\n"
     ]
    }
   ],
   "source": [
    "util_helper.log.info(\"Top-10 most similar customers to customer_id = {}\\n\\n{}\".format(customer_id, top_10_most_similar_customers))"
   ]
  },
  {
   "cell_type": "markdown",
   "metadata": {},
   "source": [
    "## Assignment handout"
   ]
  },
  {
   "cell_type": "markdown",
   "metadata": {},
   "source": [
    "1) A report (pdf) describing in detail any processing and conversion you made to the original data and the reasons it was necessary. The report will also contain examples of how to use your script and its output to the list of customers provided at step 3. The first page of the report should clearly state the names and student ids of the members of the group.\n",
    "\n",
    "2) The program/script you implemented for calculating the dissimilarity matrix. Implementation can be done in any programming language and should be accompanied by the necessary comments and remarks.\n",
    "\n",
    "3) The pdf and the required programs/scripts should be uploaded to eclass until the assignment deadline. You should create a compressed (e.g. zip/tar) file containing the report, your code and any other files required for executing your script (you do not need to include the original dataset). The name of the compressed file should include the student ids of the members of the group."
   ]
  },
  {
   "cell_type": "markdown",
   "metadata": {},
   "source": [
    "---"
   ]
  }
 ],
 "metadata": {
  "kernelspec": {
   "display_name": "Python 3",
   "language": "python",
   "name": "python3"
  },
  "language_info": {
   "codemirror_mode": {
    "name": "ipython",
    "version": 3
   },
   "file_extension": ".py",
   "mimetype": "text/x-python",
   "name": "python",
   "nbconvert_exporter": "python",
   "pygments_lexer": "ipython3",
   "version": "3.6.10"
  },
  "toc": {
   "base_numbering": 1,
   "nav_menu": {},
   "number_sections": true,
   "sideBar": true,
   "skip_h1_title": true,
   "title_cell": "Table of Contents",
   "title_sidebar": "Contents",
   "toc_cell": false,
   "toc_position": {
    "height": "calc(100% - 180px)",
    "left": "10px",
    "top": "150px",
    "width": "376px"
   },
   "toc_section_display": true,
   "toc_window_display": true
  }
 },
 "nbformat": 4,
 "nbformat_minor": 4
}